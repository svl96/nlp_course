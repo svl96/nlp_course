{
 "cells": [
  {
   "cell_type": "markdown",
   "metadata": {},
   "source": [
    "# Large scale text analysis with deep learning (3 points)\n",
    "\n",
    "Today we're gonna apply the newly learned tools for the task of predicting job salary.\n",
    "\n",
    "<img src=\"https://kaggle2.blob.core.windows.net/competitions/kaggle/3342/media/salary%20prediction%20engine%20v2.png\" width=400px>\n",
    "\n",
    "_Special thanks to [Oleg Vasilev](https://github.com/Omrigan/) for the core assignment idea._"
   ]
  },
  {
   "cell_type": "code",
   "execution_count": 1,
   "metadata": {},
   "outputs": [],
   "source": [
    "import numpy as np\n",
    "import pandas as pd\n",
    "import matplotlib.pyplot as plt\n",
    "%matplotlib inline"
   ]
  },
  {
   "cell_type": "markdown",
   "metadata": {},
   "source": [
    "### About the challenge\n",
    "For starters, let's download and unpack the data from [here](https://www.dropbox.com/s/5msc5ix7ndyba10/Train_rev1.csv.tar.gz?dl=0). \n",
    "\n",
    "You can also get it from [yadisk url](https://yadi.sk/d/vVEOWPFY3NruT7) the competition [page](https://www.kaggle.com/c/job-salary-prediction/data) (pick `Train_rev1.*`)."
   ]
  },
  {
   "cell_type": "code",
   "execution_count": 2,
   "metadata": {},
   "outputs": [
    {
     "data": {
      "text/plain": [
       "(244768, 12)"
      ]
     },
     "execution_count": 2,
     "metadata": {},
     "output_type": "execute_result"
    }
   ],
   "source": [
    "# !curl -L https://www.dropbox.com/s/5msc5ix7ndyba10/Train_rev1.csv.tar.gz?dl=1 -o Train_rev1.csv.tar.gz\n",
    "# !tar -xvzf ./Train_rev1.csv.tar.gz\n",
    "data = pd.read_csv(\"./Train_rev1.csv\", index_col=None)\n",
    "data.shape"
   ]
  },
  {
   "cell_type": "markdown",
   "metadata": {},
   "source": [
    "One problem with salary prediction is that it's oddly distributed: there are many people who are paid standard salaries and a few that get tons o money. The distribution is fat-tailed on the right side, which is inconvenient for MSE minimization.\n",
    "\n",
    "There are several techniques to combat this: using a different loss function, predicting log-target instead of raw target or even replacing targets with their percentiles among all salaries in the training set. We gonna use logarithm for now.\n",
    "\n",
    "_You can read more [in the official description](https://www.kaggle.com/c/job-salary-prediction#description)._"
   ]
  },
  {
   "cell_type": "code",
   "execution_count": 3,
   "metadata": {},
   "outputs": [
    {
     "data": {
      "image/png": "[encoded data removed]",
      "text/plain": [
       "<Figure size 576x288 with 2 Axes>"
      ]
     },
     "metadata": {
      "needs_background": "light"
     },
     "output_type": "display_data"
    }
   ],
   "source": [
    "data['Log1pSalary'] = np.log1p(data['SalaryNormalized']).astype('float32')\n",
    "\n",
    "plt.figure(figsize=[8, 4])\n",
    "plt.subplot(1, 2, 1)\n",
    "plt.hist(data[\"SalaryNormalized\"], bins=20);\n",
    "\n",
    "plt.subplot(1, 2, 2)\n",
    "plt.hist(data['Log1pSalary'], bins=20);"
   ]
  },
  {
   "cell_type": "code",
   "execution_count": null,
   "metadata": {},
   "outputs": [],
   "source": []
  },
  {
   "cell_type": "markdown",
   "metadata": {},
   "source": [
    "Our task is to predict one number, __Log1pSalary__.\n",
    "\n",
    "To do so, our model can access a number of features:\n",
    "* Free text: __`Title`__ and  __`FullDescription`__\n",
    "* Categorical: __`Category`__, __`Company`__, __`LocationNormalized`__, __`ContractType`__, and __`ContractTime`__."
   ]
  },
  {
   "cell_type": "code",
   "execution_count": 4,
   "metadata": {},
   "outputs": [
    {
     "data": {
      "text/html": [
       "<div>\n",
       "<style scoped>\n",
       "    .dataframe tbody tr th:only-of-type {\n",
       "        vertical-align: middle;\n",
       "    }\n",
       "\n",
       "    .dataframe tbody tr th {\n",
       "        vertical-align: top;\n",
       "    }\n",
       "\n",
       "    .dataframe thead th {\n",
       "        text-align: right;\n",
       "    }\n",
       "</style>\n",
       "<table border=\"1\" class=\"dataframe\">\n",
       "  <thead>\n",
       "    <tr style=\"text-align: right;\">\n",
       "      <th></th>\n",
       "      <th>Id</th>\n",
       "      <th>Title</th>\n",
       "      <th>FullDescription</th>\n",
       "      <th>LocationRaw</th>\n",
       "      <th>LocationNormalized</th>\n",
       "      <th>ContractType</th>\n",
       "      <th>ContractTime</th>\n",
       "      <th>Company</th>\n",
       "      <th>Category</th>\n",
       "      <th>SalaryRaw</th>\n",
       "      <th>SalaryNormalized</th>\n",
       "      <th>SourceName</th>\n",
       "      <th>Log1pSalary</th>\n",
       "    </tr>\n",
       "  </thead>\n",
       "  <tbody>\n",
       "    <tr>\n",
       "      <th>46397</th>\n",
       "      <td>68564052</td>\n",
       "      <td>Adult Nurse  RGN  Nottinghamshire  West Bridgford</td>\n",
       "      <td>Job descriptionOur Adult nurse will be deliver...</td>\n",
       "      <td>Surrey - West Byfleet</td>\n",
       "      <td>Byfleet</td>\n",
       "      <td>full_time</td>\n",
       "      <td>permanent</td>\n",
       "      <td>London4Jobs</td>\n",
       "      <td>Healthcare &amp; Nursing Jobs</td>\n",
       "      <td>46464-59136</td>\n",
       "      <td>52800</td>\n",
       "      <td>london4jobs.co.uk</td>\n",
       "      <td>10.874286</td>\n",
       "    </tr>\n",
       "    <tr>\n",
       "      <th>120634</th>\n",
       "      <td>69929075</td>\n",
       "      <td>Offshore Heavy Lift Supervisor</td>\n",
       "      <td>I am currently recruiting for an Offshore Heav...</td>\n",
       "      <td>Conwy</td>\n",
       "      <td>Conwy</td>\n",
       "      <td>NaN</td>\n",
       "      <td>NaN</td>\n",
       "      <td>Huxley Associates</td>\n",
       "      <td>Energy, Oil &amp; Gas Jobs</td>\n",
       "      <td>300 - 500 per day</td>\n",
       "      <td>96000</td>\n",
       "      <td>MyUkJobs</td>\n",
       "      <td>11.472114</td>\n",
       "    </tr>\n",
       "    <tr>\n",
       "      <th>139100</th>\n",
       "      <td>70474393</td>\n",
       "      <td>Staff Nurse  Dialysis  Central London</td>\n",
       "      <td>Our client is a major provider of independent ...</td>\n",
       "      <td>Central London</td>\n",
       "      <td>Central London</td>\n",
       "      <td>full_time</td>\n",
       "      <td>NaN</td>\n",
       "      <td>Medic International</td>\n",
       "      <td>Healthcare &amp; Nursing Jobs</td>\n",
       "      <td>31,000 - 36,000/Year</td>\n",
       "      <td>33500</td>\n",
       "      <td>staffnurse.com</td>\n",
       "      <td>10.419331</td>\n",
       "    </tr>\n",
       "  </tbody>\n",
       "</table>\n",
       "</div>"
      ],
      "text/plain": [
       "              Id                                              Title  \\\n",
       "46397   68564052  Adult Nurse  RGN  Nottinghamshire  West Bridgford   \n",
       "120634  69929075                     Offshore Heavy Lift Supervisor   \n",
       "139100  70474393              Staff Nurse  Dialysis  Central London   \n",
       "\n",
       "                                          FullDescription  \\\n",
       "46397   Job descriptionOur Adult nurse will be deliver...   \n",
       "120634  I am currently recruiting for an Offshore Heav...   \n",
       "139100  Our client is a major provider of independent ...   \n",
       "\n",
       "                  LocationRaw LocationNormalized ContractType ContractTime  \\\n",
       "46397   Surrey - West Byfleet            Byfleet    full_time    permanent   \n",
       "120634                  Conwy              Conwy          NaN          NaN   \n",
       "139100         Central London     Central London    full_time          NaN   \n",
       "\n",
       "                    Company                   Category             SalaryRaw  \\\n",
       "46397           London4Jobs  Healthcare & Nursing Jobs           46464-59136   \n",
       "120634    Huxley Associates     Energy, Oil & Gas Jobs     300 - 500 per day   \n",
       "139100  Medic International  Healthcare & Nursing Jobs  31,000 - 36,000/Year   \n",
       "\n",
       "        SalaryNormalized         SourceName  Log1pSalary  \n",
       "46397              52800  london4jobs.co.uk    10.874286  \n",
       "120634             96000           MyUkJobs    11.472114  \n",
       "139100             33500     staffnurse.com    10.419331  "
      ]
     },
     "execution_count": 4,
     "metadata": {},
     "output_type": "execute_result"
    }
   ],
   "source": [
    "text_columns = [\"Title\", \"FullDescription\"]\n",
    "categorical_columns = [\"Category\", \"Company\", \"LocationNormalized\", \"ContractType\", \"ContractTime\"]\n",
    "target_column = \"Log1pSalary\"\n",
    "\n",
    "data[categorical_columns] = data[categorical_columns].fillna('NaN') # cast missing values to string \"NaN\"\n",
    "\n",
    "data.sample(3)"
   ]
  },
  {
   "cell_type": "markdown",
   "metadata": {},
   "source": [
    "### Preprocessing text data\n",
    "\n",
    "Just like last week, applying NLP to a problem begins from tokenization: splitting raw text into sequences of tokens (words, punctuation, etc).\n",
    "\n",
    "__Your task__ is to lowercase and tokenize all texts under `Title` and `FullDescription` columns. Store the tokenized data as a __space-separated__ string of tokens for performance reasons.\n",
    "\n",
    "It's okay to use nltk tokenizers. Assertions were designed for WordPunctTokenizer, slight deviations are okay."
   ]
  },
  {
   "cell_type": "code",
   "execution_count": 5,
   "metadata": {},
   "outputs": [
    {
     "name": "stdout",
     "output_type": "stream",
     "text": [
      "Raw text:\n",
      "2         Mathematical Modeller / Simulation Analyst / O...\n",
      "100002    A successful and high achieving specialist sch...\n",
      "200002    Web Designer  HTML, CSS, JavaScript, Photoshop...\n",
      "Name: FullDescription, dtype: object\n"
     ]
    }
   ],
   "source": [
    "print(\"Raw text:\")\n",
    "print(data[\"FullDescription\"][2::100000])"
   ]
  },
  {
   "cell_type": "code",
   "execution_count": 6,
   "metadata": {},
   "outputs": [],
   "source": [
    "import nltk\n",
    "tokenizer = nltk.tokenize.WordPunctTokenizer()"
   ]
  },
  {
   "cell_type": "code",
   "execution_count": 7,
   "metadata": {},
   "outputs": [],
   "source": [
    "data[\"FullDescription\"] = data['FullDescription'].apply(lambda s: ' '.join(tokenizer.tokenize(str(s).lower())))\n",
    "data[\"Title\"] = data['Title'].apply(lambda s: ' '.join(tokenizer.tokenize(str(s).lower())))"
   ]
  },
  {
   "cell_type": "code",
   "execution_count": null,
   "metadata": {},
   "outputs": [],
   "source": []
  },
  {
   "cell_type": "markdown",
   "metadata": {},
   "source": [
    "Now we can assume that our text is a space-separated list of tokens:"
   ]
  },
  {
   "cell_type": "code",
   "execution_count": 8,
   "metadata": {},
   "outputs": [
    {
     "name": "stdout",
     "output_type": "stream",
     "text": [
      "Tokenized:\n",
      "2         mathematical modeller / simulation analyst / o...\n",
      "100002    a successful and high achieving specialist sch...\n",
      "200002    web designer html , css , javascript , photosh...\n",
      "Name: FullDescription, dtype: object\n"
     ]
    }
   ],
   "source": [
    "print(\"Tokenized:\")\n",
    "print(data[\"FullDescription\"][2::100000])\n",
    "assert data[\"FullDescription\"][2][:50] == 'mathematical modeller / simulation analyst / opera'\n",
    "assert data[\"Title\"][54321] == 'international digital account manager ( german )'"
   ]
  },
  {
   "cell_type": "markdown",
   "metadata": {},
   "source": [
    "Not all words are equally useful. Some of them are typos or rare words that are only present a few times. \n",
    "\n",
    "Let's count how many times is each word present in the data so that we can build a \"white list\" of known words."
   ]
  },
  {
   "cell_type": "code",
   "execution_count": 9,
   "metadata": {},
   "outputs": [],
   "source": [
    "from collections import Counter"
   ]
  },
  {
   "cell_type": "code",
   "execution_count": 10,
   "metadata": {},
   "outputs": [],
   "source": [
    "# Count how many times does each token occur in both \"Title\" and \"FullDescription\" in total\n",
    "# build a dictionary { token -> it's count }\n",
    "def count_tokens(df, column, counter):\n",
    "    for text in df[column]:\n",
    "        for token in text.split(' '):\n",
    "            counter[token] += 1\n",
    "# hint: you may or may not want to use collections.Counter"
   ]
  },
  {
   "cell_type": "code",
   "execution_count": 11,
   "metadata": {},
   "outputs": [
    {
     "name": "stdout",
     "output_type": "stream",
     "text": [
      "Wall time: 426 ms\n"
     ]
    }
   ],
   "source": [
    "%%time\n",
    "token_counts = Counter()\n",
    "count_tokens(data, 'Title', token_counts)"
   ]
  },
  {
   "cell_type": "code",
   "execution_count": 12,
   "metadata": {},
   "outputs": [
    {
     "name": "stdout",
     "output_type": "stream",
     "text": [
      "Wall time: 20.5 s\n"
     ]
    }
   ],
   "source": [
    "%%time\n",
    "count_tokens(data, 'FullDescription', token_counts)"
   ]
  },
  {
   "cell_type": "code",
   "execution_count": 13,
   "metadata": {},
   "outputs": [
    {
     "name": "stdout",
     "output_type": "stream",
     "text": [
      "Total unique tokens : 202704\n",
      "('and', 2657388)\n",
      "('.', 2523216)\n",
      "(',', 2318606)\n",
      "('the', 2080994)\n",
      "('to', 2019884)\n",
      "...\n",
      "('stephanietraveltraderecruitmnt', 1)\n",
      "('ruabon', 1)\n",
      "('lowehays', 1)\n",
      "Correct!\n"
     ]
    }
   ],
   "source": [
    "print(\"Total unique tokens :\", len(token_counts))\n",
    "print('\\n'.join(map(str, token_counts.most_common(n=5))))\n",
    "print('...')\n",
    "print('\\n'.join(map(str, token_counts.most_common()[-3:])))\n",
    "\n",
    "assert token_counts.most_common(1)[0][1] in  range(2600000, 2700000)\n",
    "assert len(token_counts) in range(200000, 210000)\n",
    "print('Correct!')"
   ]
  },
  {
   "cell_type": "code",
   "execution_count": 14,
   "metadata": {},
   "outputs": [
    {
     "data": {
      "image/png": "[encoded data removed]",
      "text/plain": [
       "<Figure size 432x288 with 1 Axes>"
      ]
     },
     "metadata": {
      "needs_background": "light"
     },
     "output_type": "display_data"
    }
   ],
   "source": [
    "# Let's see how many words are there for each count\n",
    "plt.hist(list(token_counts.values()), range=[0, 10**4], bins=50, log=True)\n",
    "plt.xlabel(\"Word counts\");"
   ]
  },
  {
   "cell_type": "markdown",
   "metadata": {},
   "source": [
    "Now filter tokens a list of all tokens that occur at least 10 times."
   ]
  },
  {
   "cell_type": "code",
   "execution_count": 17,
   "metadata": {},
   "outputs": [],
   "source": [
    "min_count = 10\n",
    "# tokens from token_counts keys that had at least min_count occurrences throughout the dataset\n",
    "tokens = [token for token in token_counts if token_counts[token] >= min_count]"
   ]
  },
  {
   "cell_type": "code",
   "execution_count": 18,
   "metadata": {},
   "outputs": [
    {
     "name": "stdout",
     "output_type": "stream",
     "text": [
      "Vocabulary size: 34158\n",
      "Correct!\n"
     ]
    }
   ],
   "source": [
    "# Add a special tokens for unknown and empty words\n",
    "UNK, PAD = \"UNK\", \"PAD\"\n",
    "tokens = [UNK, PAD] + sorted(tokens)\n",
    "print(\"Vocabulary size:\", len(tokens))\n",
    "\n",
    "assert type(tokens) == list\n",
    "assert len(tokens) in range(30000, 40000)\n",
    "assert 'me' in tokens\n",
    "assert UNK in tokens\n",
    "print(\"Correct!\")"
   ]
  },
  {
   "cell_type": "markdown",
   "metadata": {},
   "source": [
    "Build an inverse token index: a dictionary from token(string) to it's index in `tokens` (int)"
   ]
  },
  {
   "cell_type": "code",
   "execution_count": 19,
   "metadata": {},
   "outputs": [],
   "source": [
    "token_to_id = {tokens[i]: i for i in range(len(tokens))}"
   ]
  },
  {
   "cell_type": "code",
   "execution_count": 20,
   "metadata": {},
   "outputs": [
    {
     "name": "stdout",
     "output_type": "stream",
     "text": [
      "Correct!\n"
     ]
    }
   ],
   "source": [
    "assert isinstance(token_to_id, dict)\n",
    "assert len(token_to_id) == len(tokens)\n",
    "for tok in tokens:\n",
    "    assert tokens[token_to_id[tok]] == tok\n",
    "\n",
    "print(\"Correct!\")"
   ]
  },
  {
   "cell_type": "markdown",
   "metadata": {},
   "source": [
    "And finally, let's use the vocabulary you've built to map text lines into neural network-digestible matrices."
   ]
  },
  {
   "cell_type": "code",
   "execution_count": 21,
   "metadata": {},
   "outputs": [],
   "source": [
    "UNK_IX, PAD_IX = map(token_to_id.get, [UNK, PAD])\n",
    "\n",
    "def as_matrix(sequences, max_len=None):\n",
    "    \"\"\" Convert a list of tokens into a matrix with padding \"\"\"\n",
    "    if isinstance(sequences[0], str):\n",
    "        sequences = list(map(str.split, sequences))\n",
    "        \n",
    "    max_len = min(max(map(len, sequences)), max_len or float('inf'))\n",
    "    matrix = np.full((len(sequences), max_len), np.int32(PAD_IX))\n",
    "    for i,seq in enumerate(sequences):\n",
    "        row_ix = [token_to_id.get(word, UNK_IX) for word in seq[:max_len]]\n",
    "        matrix[i, :len(row_ix)] = row_ix\n",
    "    \n",
    "    return matrix"
   ]
  },
  {
   "cell_type": "code",
   "execution_count": 22,
   "metadata": {},
   "outputs": [
    {
     "name": "stdout",
     "output_type": "stream",
     "text": [
      "Lines:\n",
      "engineering systems analyst\n",
      "hr assistant\n",
      "senior ec & i engineer\n",
      "\n",
      "Matrix:\n",
      "[[10807 30161  2166     1     1]\n",
      " [15020  2844     1     1     1]\n",
      " [27645 10201    16 15215 10804]]\n"
     ]
    }
   ],
   "source": [
    "print(\"Lines:\")\n",
    "print('\\n'.join(data[\"Title\"][::100000].values), end='\\n\\n')\n",
    "print(\"Matrix:\")\n",
    "print(as_matrix(data[\"Title\"][::100000]))"
   ]
  },
  {
   "cell_type": "markdown",
   "metadata": {},
   "source": [
    "Now let's  encode the categirical data we have.\n",
    "\n",
    "As usual, we shall use one-hot encoding for simplicity. Kudos if you implement more advanced encodings: tf-idf, pseudo-time-series, etc."
   ]
  },
  {
   "cell_type": "code",
   "execution_count": 23,
   "metadata": {},
   "outputs": [
    {
     "data": {
      "text/plain": [
       "DictVectorizer(dtype=<class 'numpy.float32'>, separator='=', sort=True,\n",
       "               sparse=False)"
      ]
     },
     "execution_count": 23,
     "metadata": {},
     "output_type": "execute_result"
    }
   ],
   "source": [
    "from sklearn.feature_extraction import DictVectorizer\n",
    "\n",
    "# we only consider top-1k most frequent companies to minimize memory usage\n",
    "top_companies, top_counts = zip(*Counter(data['Company']).most_common(1000))\n",
    "recognized_companies = set(top_companies)\n",
    "data[\"Company\"] = data[\"Company\"].apply(lambda comp: comp if comp in recognized_companies else \"Other\")\n",
    "\n",
    "categorical_vectorizer = DictVectorizer(dtype=np.float32, sparse=False)\n",
    "categorical_vectorizer.fit(data[categorical_columns].apply(dict, axis=1))"
   ]
  },
  {
   "cell_type": "markdown",
   "metadata": {},
   "source": [
    "### The deep learning part\n",
    "\n",
    "Once we've learned to tokenize the data, let's design a machine learning experiment.\n",
    "\n",
    "As before, we won't focus too much on validation, opting for a simple train-test split.\n",
    "\n",
    "__To be completely rigorous,__ we've comitted a small crime here: we used the whole data for tokenization and vocabulary building. A more strict way would be to do that part on training set only. You may want to do that and measure the magnitude of changes."
   ]
  },
  {
   "cell_type": "code",
   "execution_count": 24,
   "metadata": {},
   "outputs": [
    {
     "name": "stdout",
     "output_type": "stream",
     "text": [
      "Train size =  195814\n",
      "Validation size =  48954\n"
     ]
    }
   ],
   "source": [
    "from sklearn.model_selection import train_test_split\n",
    "\n",
    "data_train, data_val = train_test_split(data, test_size=0.2, random_state=42)\n",
    "data_train.index = range(len(data_train))\n",
    "data_val.index = range(len(data_val))\n",
    "\n",
    "print(\"Train size = \", len(data_train))\n",
    "print(\"Validation size = \", len(data_val))"
   ]
  },
  {
   "cell_type": "code",
   "execution_count": 25,
   "metadata": {},
   "outputs": [],
   "source": [
    "def make_batch(data, max_len=None, word_dropout=0):\n",
    "    \"\"\"\n",
    "    Creates a keras-friendly dict from the batch data.\n",
    "    :param word_dropout: replaces token index with UNK_IX with this probability\n",
    "    :returns: a dict with {'title' : int64[batch, title_max_len]\n",
    "    \"\"\"\n",
    "    batch = {}\n",
    "    batch[\"Title\"] = as_matrix(data[\"Title\"].values, max_len)\n",
    "    batch[\"FullDescription\"] = as_matrix(data[\"FullDescription\"].values, max_len)\n",
    "    batch['Categorical'] = categorical_vectorizer.transform(data[categorical_columns].apply(dict, axis=1))\n",
    "    \n",
    "    if word_dropout != 0:\n",
    "        batch[\"FullDescription\"] = apply_word_dropout(batch[\"FullDescription\"], 1. - word_dropout)\n",
    "    \n",
    "    if target_column in data.columns:\n",
    "        batch[target_column] = data[target_column].values\n",
    "    \n",
    "    return batch\n",
    "\n",
    "def apply_word_dropout(matrix, keep_prop, replace_with=UNK_IX, pad_ix=PAD_IX,):\n",
    "    dropout_mask = np.random.choice(2, np.shape(matrix), p=[keep_prop, 1 - keep_prop])\n",
    "    dropout_mask &= matrix != pad_ix\n",
    "    return np.choose(dropout_mask, [matrix, np.full_like(matrix, replace_with)])"
   ]
  },
  {
   "cell_type": "code",
   "execution_count": 26,
   "metadata": {},
   "outputs": [
    {
     "data": {
      "text/plain": [
       "{'Title': array([[27645, 29893, 33674,     1,     1,     1,     1],\n",
       "        [29239,   197, 19175, 20042, 15554, 23162,  4051],\n",
       "        [10609, 30412, 17746,    33,  8705, 29157,    65]]),\n",
       " 'FullDescription': array([[27645, 29893, 33674, 32939,   982, 27645, 29893, 33674, 16451,\n",
       "         32939],\n",
       "        [29239,   197, 19175, 20042, 15554, 23162,  4051, 25511,   907,\n",
       "            82],\n",
       "        [30746, 21956, 20601,  6409, 16451,  8165, 27493,   982, 30412,\n",
       "         17746]]),\n",
       " 'Categorical': array([[0., 0., 0., ..., 0., 0., 0.],\n",
       "        [0., 0., 0., ..., 0., 0., 0.],\n",
       "        [0., 0., 0., ..., 0., 0., 0.]], dtype=float32),\n",
       " 'Log1pSalary': array([ 9.71154 , 10.463132, 10.71444 ], dtype=float32)}"
      ]
     },
     "execution_count": 26,
     "metadata": {},
     "output_type": "execute_result"
    }
   ],
   "source": [
    "make_batch(data_train[:3], max_len=10)"
   ]
  },
  {
   "cell_type": "markdown",
   "metadata": {},
   "source": [
    "#### Architecture\n",
    "\n",
    "Our basic model consists of three branches:\n",
    "* Title encoder\n",
    "* Description encoder\n",
    "* Categorical features encoder\n",
    "\n",
    "We will then feed all 3 branches into one common network that predicts salary.\n",
    "\n",
    "<img src=\"https://github.com/yandexdataschool/nlp_course/raw/master/resources/w2_conv_arch.png\" width=600px>"
   ]
  },
  {
   "cell_type": "markdown",
   "metadata": {},
   "source": [
    "This clearly doesn't fit into keras' __Sequential__ interface. To build such a network, one will have to use __[Keras Functional API](https://keras.io/models/model/)__."
   ]
  },
  {
   "cell_type": "code",
   "execution_count": 27,
   "metadata": {},
   "outputs": [
    {
     "name": "stderr",
     "output_type": "stream",
     "text": [
      "Using TensorFlow backend.\n"
     ]
    }
   ],
   "source": [
    "import keras\n",
    "import keras.layers as L"
   ]
  },
  {
   "cell_type": "code",
   "execution_count": 157,
   "metadata": {},
   "outputs": [],
   "source": [
    "def build_model(n_tokens=len(tokens), n_cat_features=len(categorical_vectorizer.vocabulary_), hid_size=64):\n",
    "    \"\"\" Build a model that maps three data sources to a single linear output: predicted log1p(salary) \"\"\"\n",
    "    \n",
    "    l_title = L.Input(shape=[None], name=\"Title\")\n",
    "    l_descr = L.Input(shape=[None], name=\"FullDescription\")\n",
    "    l_categ = L.Input(shape=[n_cat_features], name=\"Categorical\")\n",
    "    \n",
    "    # Build your monster!\n",
    "    \n",
    "    # <YOUR CODE>\n",
    "    l_title_emb = L.Embedding(n_tokens, hid_size, name='Title_emb')(l_title)\n",
    "#     l_title_drop = L.Dropout(0.05, seed=42, name='Title_drop')(l_title_emb)\n",
    "    l_title_conv = L.Convolution1D(filters=64, kernel_size=(3,), name='Title_conv')(l_title_emb)\n",
    "#     l_title_conv2 = L.Convolution1D(filters=64, kernel_size=(3,), name='Title_conv2')(l_title_conv)\n",
    "\n",
    "    l_title_pool = L.GlobalMaxPool1D(name='Title_pool')(l_title_conv)\n",
    "    \n",
    "    l_descr_emb = L.Embedding(n_tokens, hid_size, name='Descr_emb')(l_descr)\n",
    "#     l_descr_drop = L.Dropout(0.05, seed=42, name='Descr_drop')(l_descr_emb)\n",
    "    l_descr_conv = L.Convolution1D(filters=64, kernel_size=(3,), name='Descr_conv')(l_descr_emb)\n",
    "#     l_descr_conv2 = L.Convolution1D(filters=64, kernel_size=(3,), name='Descr_conv2')(l_descr_conv)\n",
    "\n",
    "    l_descr_pool = L.GlobalMaxPool1D(name='Descr_pool')(l_descr_conv)\n",
    "\n",
    "    \n",
    "    l_cat_dense = L.Dense(hid_size, name='Categorical_dense')(l_categ)\n",
    "#     l_cat_drop = L.Dropout(0.05, seed=42, name='Categorical_drop')(l_cat_dense)\n",
    "#     l_cat_pool = L.GlobalMaxPool1D()(l_cat_emb)\n",
    "\n",
    "    \n",
    "    l_all = L.Concatenate()([l_title_pool, l_descr_pool, l_cat_dense])\n",
    "    output_layer = L.Dense(1, name='Output_dense')(l_all)\n",
    "    # end of your code\n",
    "    \n",
    "    model = keras.models.Model(inputs=[l_title, l_descr, l_categ], outputs=[output_layer])\n",
    "    model.compile('adam', 'mean_squared_error', metrics=['mean_absolute_error'])\n",
    "    return model\n",
    "    "
   ]
  },
  {
   "cell_type": "code",
   "execution_count": 158,
   "metadata": {},
   "outputs": [
    {
     "name": "stdout",
     "output_type": "stream",
     "text": [
      "__________________________________________________________________________________________________\n",
      "Layer (type)                    Output Shape         Param #     Connected to                     \n",
      "==================================================================================================\n",
      "Title (InputLayer)              (None, None)         0                                            \n",
      "__________________________________________________________________________________________________\n",
      "FullDescription (InputLayer)    (None, None)         0                                            \n",
      "__________________________________________________________________________________________________\n",
      "Title_emb (Embedding)           (None, None, 64)     2186112     Title[0][0]                      \n",
      "__________________________________________________________________________________________________\n",
      "Descr_emb (Embedding)           (None, None, 64)     2186112     FullDescription[0][0]            \n",
      "__________________________________________________________________________________________________\n",
      "Title_conv (Conv1D)             (None, None, 64)     12352       Title_emb[0][0]                  \n",
      "__________________________________________________________________________________________________\n",
      "Descr_conv (Conv1D)             (None, None, 64)     12352       Descr_emb[0][0]                  \n",
      "__________________________________________________________________________________________________\n",
      "Categorical (InputLayer)        (None, 3768)         0                                            \n",
      "__________________________________________________________________________________________________\n",
      "Title_pool (GlobalMaxPooling1D) (None, 64)           0           Title_conv[0][0]                 \n",
      "__________________________________________________________________________________________________\n",
      "Descr_pool (GlobalMaxPooling1D) (None, 64)           0           Descr_conv[0][0]                 \n",
      "__________________________________________________________________________________________________\n",
      "Categorical_dense (Dense)       (None, 64)           241216      Categorical[0][0]                \n",
      "__________________________________________________________________________________________________\n",
      "concatenate_29 (Concatenate)    (None, 192)          0           Title_pool[0][0]                 \n",
      "                                                                 Descr_pool[0][0]                 \n",
      "                                                                 Categorical_dense[0][0]          \n",
      "__________________________________________________________________________________________________\n",
      "Output_dense (Dense)            (None, 1)            193         concatenate_29[0][0]             \n",
      "==================================================================================================\n",
      "Total params: 4,638,337\n",
      "Trainable params: 4,638,337\n",
      "Non-trainable params: 0\n",
      "__________________________________________________________________________________________________\n"
     ]
    }
   ],
   "source": [
    "model = build_model()\n",
    "model.summary()\n",
    "\n",
    "dummy_pred = model.predict(make_batch(data_train[:100]))\n",
    "dummy_loss = model.train_on_batch(make_batch(data_train[:100]), data_train['Log1pSalary'][:100])[0]\n",
    "assert dummy_pred.shape == (100, 1)\n",
    "assert len(np.unique(dummy_pred)) > 20, \"model returns suspiciously few unique outputs. Check your initialization\"\n",
    "assert np.ndim(dummy_loss) == 0 and 0. <= dummy_loss <= 250., \"make sure you minimize MSE\""
   ]
  },
  {
   "cell_type": "markdown",
   "metadata": {},
   "source": [
    "#### Training and evaluation\n",
    "\n",
    "As usual, we gonna feed our monster with random minibatches of data. \n",
    "\n",
    "As we train, we want to monitor not only loss function, which is computed in log-space, but also the actual error measured in dollars."
   ]
  },
  {
   "cell_type": "code",
   "execution_count": 151,
   "metadata": {},
   "outputs": [],
   "source": [
    "def iterate_minibatches(data, batch_size=256, shuffle=True, cycle=False, **kwargs):\n",
    "    \"\"\" iterates minibatches of data in random order \"\"\"\n",
    "    while True:\n",
    "        indices = np.arange(len(data))\n",
    "        if shuffle:\n",
    "            indices = np.random.permutation(indices)\n",
    "\n",
    "        for start in range(0, len(indices), batch_size):\n",
    "            batch = make_batch(data.iloc[indices[start : start + batch_size]], **kwargs)\n",
    "            target = batch.pop(target_column)\n",
    "            yield batch, target\n",
    "        \n",
    "        if not cycle: break"
   ]
  },
  {
   "cell_type": "markdown",
   "metadata": {},
   "source": [
    "### Model training\n",
    "\n",
    "We can now fit our model the usual minibatch way. The interesting part is that we train on an infinite stream of minibatches, produced by `iterate_minibatches` function."
   ]
  },
  {
   "cell_type": "code",
   "execution_count": 159,
   "metadata": {},
   "outputs": [
    {
     "name": "stdout",
     "output_type": "stream",
     "text": [
      "Epoch 1/20\n",
      "765/765 [==============================] - 57s 74ms/step - loss: 3.4976 - mean_absolute_error: 0.7332 - val_loss: 0.1118 - val_mean_absolute_error: 0.2517\n",
      "Epoch 2/20\n",
      "765/765 [==============================] - 54s 70ms/step - loss: 0.0840 - mean_absolute_error: 0.2159 - val_loss: 0.0809 - val_mean_absolute_error: 0.2117\n",
      "Epoch 3/20\n",
      "765/765 [==============================] - 54s 70ms/step - loss: 0.0646 - mean_absolute_error: 0.1877 - val_loss: 0.0721 - val_mean_absolute_error: 0.1989n_absolute_error: 0.18\n",
      "Epoch 4/20\n",
      "765/765 [==============================] - 54s 70ms/step - loss: 0.0541 - mean_absolute_error: 0.1711 - val_loss: 0.0653 - val_mean_absolute_error: 0.1882: 0.0533 - mea - - ETA: 12s - loss: 0.0540 - ETA: 8s - loss: 0.0 - ETA: 2s - loss: 0.0540 - mean_ab - ETA: 1s - loss: 0.0541 - mean_absolute_error - ETA: 1s - loss: 0.0542 - mean_absolut\n",
      "Epoch 5/20\n",
      "765/765 [==============================] - 54s 70ms/step - loss: 0.0468 - mean_absolute_error: 0.1591 - val_loss: 0.0631 - val_mean_absolute_error: 0.1843 - loss: 0.0468 - mea\n",
      "Epoch 6/20\n",
      "765/765 [==============================] - 54s 70ms/step - loss: 0.0410 - mean_absolute_error: 0.1485 - val_loss: 0.0601 - val_mean_absolute_error: 0.1795n - ETA:  - ETA: 4s - loss: 0.0408 - mean_absolute_e - ETA: 3s - loss: 0.0408 - mean_absolute_error: - \n",
      "Epoch 7/20\n",
      "765/765 [==============================] - 54s 71ms/step - loss: 0.0364 - mean_absolute_error: 0.1401 - val_loss: 0.0574 - val_mean_absolute_error: 0.1744TA: 3s - loss:  - ETA: 1s - loss: 0.0363 - mean_absolute - ETA: 0s - loss: 0.0364 - mean_absolute_error: 0.1\n",
      "Epoch 8/20\n",
      "765/765 [==============================] - 54s 70ms/step - loss: 0.0321 - mean_absolute_error: 0.1317 - val_loss: 0.0578 - val_mean_absolute_error: 0.1737\n",
      "Epoch 9/20\n",
      "765/765 [==============================] - 54s 70ms/step - loss: 0.0287 - mean_absolute_error: 0.1253 - val_loss: 0.0569 - val_mean_absolute_error: 0.1722\n",
      "Epoch 10/20\n",
      "765/765 [==============================] - 54s 70ms/step - loss: 0.0255 - mean_absolute_error: 0.1185 - val_loss: 0.0565 - val_mean_absolute_error: 0.1718\n",
      "Epoch 11/20\n",
      "  2/765 [..............................] - ETA: 1:39 - loss: 0.0219 - mean_absolute_error: 0.1106"
     ]
    },
    {
     "name": "stderr",
     "output_type": "stream",
     "text": [
      "C:\\Users\\vlaser\\Anaconda3\\lib\\site-packages\\keras\\callbacks.py:122: UserWarning: Method on_batch_end() is slow compared to the batch update (0.115998). Check your callbacks.\n",
      "  % delta_t_median)\n"
     ]
    },
    {
     "name": "stdout",
     "output_type": "stream",
     "text": [
      "765/765 [==============================] - 54s 70ms/step - loss: 0.0229 - mean_absolute_error: 0.1125 - val_loss: 0.0559 - val_mean_absolute_error: 0.1702- ETA - ETA: 6s - loss: 0.0226 - mean_abso - ETA: 5s - loss: 0.0226 - mean_absolute -  - ETA: 0s - loss: 0.0229 - mean_absolute_error: 0.11\n",
      "Epoch 12/20\n",
      "765/765 [==============================] - 54s 70ms/step - loss: 0.0211 - mean_absolute_error: 0.1083 - val_loss: 0.0557 - val_mean_absolute_error: 0.170122s - loss: 0.0200 - mea - ETA: 19s - loss: 0.0201 - mean_ab - ETA: 7s - loss: 0.0207 - mean_a - ETA: 5s - loss: 0.0208 -  - ETA: 4s - loss: 0.0210 - mean_absolute_error:  - ETA: 3s  - ETA: 0s - loss: 0.0211 - mean_absolute_error - ETA: 0s - loss: 0.0211 - mean_absolute_error:\n",
      "Epoch 13/20\n",
      "765/765 [==============================] - 54s 70ms/step - loss: 0.0194 - mean_absolute_error: 0.1038 - val_loss: 0.0566 - val_mean_absolute_error: 0.1702\n",
      "Epoch 14/20\n",
      "765/765 [==============================] - 54s 70ms/step - loss: 0.0178 - mean_absolute_error: 0.0993 - val_loss: 0.0562 - val_mean_absolute_error: 0.1694\n",
      "Epoch 15/20\n",
      "765/765 [==============================] - 54s 70ms/step - loss: 0.0168 - mean_absolute_error: 0.0969 - val_loss: 0.0549 - val_mean_absolute_error: 0.1667te_err - ETA: 23s -  - ETA:  - ETA: 14s - loss: 0.0163 - mean_absolute_e - ETA:  - ETA: 10s - loss: 0.0165 - mean_absolute - ETA - E\n",
      "Epoch 16/20\n",
      "765/765 [==============================] - 54s 71ms/step - loss: 0.0157 - mean_absolute_error: 0.0938 - val_loss: 0.0543 - val_mean_absolute_error: 0.1656.0157 - mean_absolute_error: 0. - ETA: 1s - loss: 0.0157 - mean_\n",
      "Epoch 17/20\n",
      "765/765 [==============================] - 54s 70ms/step - loss: 0.0152 - mean_absolute_error: 0.0923 - val_loss: 0.0541 - val_mean_absolute_error: 0.1647oss: 0.0151 - mean_abs - ETA: 3s - loss: 0.0151 - mean_absolute_erro - ETA: 2s - loss: 0.0152 - mean_absolute_error:  - ETA: 2s - loss: 0.0\n",
      "Epoch 18/20\n",
      "765/765 [==============================] - 54s 70ms/step - loss: 0.0144 - mean_absolute_error: 0.0897 - val_loss: 0.0550 - val_mean_absolute_error: 0.1656:  - ET - ETA: 5s - loss: 0.0142 - mea - ETA: 4s - loss: 0. - ETA: 2s - loss: 0.0143 - mean_absolute_error: 0.08 - ETA: 2s - loss: 0.0144 -\n",
      "Epoch 19/20\n",
      "765/765 [==============================] - 54s 71ms/step - loss: 0.0138 - mean_absolute_error: 0.0878 - val_loss: 0.0592 - val_mean_absolute_error: 0.1755lute_error: 0. - ETA: 39s - loss: 0.0123 - mean_absolute_error:  - ETA: 38s - loss: 0.0123 - mean_absolute_error: 0. - E - E - ETA: 22s - loss - ETA: 21s - loss:  - ETA: 16s - loss:  - ETA: 11s - loss: 0.0133 - mean_absolute_error: 0 - ETA: 0s - loss: 0.0137 - mean_absolute_er\n",
      "Epoch 20/20\n",
      "765/765 [==============================] - 54s 70ms/step - loss: 0.0135 - mean_absolute_error: 0.0871 - val_loss: 0.0540 - val_mean_absolute_error: 0.1644\n"
     ]
    },
    {
     "data": {
      "text/plain": [
       "<keras.callbacks.History at 0x1b06b7b9dd8>"
      ]
     },
     "execution_count": 159,
     "metadata": {},
     "output_type": "execute_result"
    }
   ],
   "source": [
    "batch_size = 256\n",
    "epochs = 20            # definitely too small\n",
    "steps_per_epoch = (len(data_train) - 1) // batch_size + 1  # for full pass over data: (len(data_train) - 1) // batch_size + 1\n",
    "\n",
    "model = build_model()\n",
    "\n",
    "model.fit_generator(iterate_minibatches(data_train, batch_size, cycle=True, word_dropout=0.05), \n",
    "                    epochs=epochs, steps_per_epoch=steps_per_epoch,\n",
    "                    \n",
    "                    validation_data=iterate_minibatches(data_val, batch_size, cycle=True),\n",
    "                    validation_steps=data_val.shape[0] // batch_size\n",
    "                   )"
   ]
  },
  {
   "cell_type": "code",
   "execution_count": 160,
   "metadata": {},
   "outputs": [
    {
     "name": "stdout",
     "output_type": "stream",
     "text": [
      "Train results:\n",
      "Mean square error: 0.00862\n",
      "Mean absolute error: 0.06911\n",
      "Val results:\n",
      "Mean square error: 0.05419\n",
      "Mean absolute error: 0.16478\n"
     ]
    }
   ],
   "source": [
    "def print_metrics(model, data, batch_size=batch_size, name=\"\", **kw):\n",
    "    squared_error = abs_error = num_samples = 0.0\n",
    "    for batch_x, batch_y in iterate_minibatches(data, batch_size=batch_size, shuffle=False, **kw):\n",
    "        batch_pred = model.predict(batch_x)[:, 0]\n",
    "        squared_error += np.sum(np.square(batch_pred - batch_y))\n",
    "        abs_error += np.sum(np.abs(batch_pred - batch_y))\n",
    "        num_samples += len(batch_y)\n",
    "    print(\"%s results:\" % (name or \"\"))\n",
    "    print(\"Mean square error: %.5f\" % (squared_error / num_samples))\n",
    "    print(\"Mean absolute error: %.5f\" % (abs_error / num_samples))\n",
    "    return squared_error, abs_error\n",
    "    \n",
    "print_metrics(model, data_train, name='Train')\n",
    "print_metrics(model, data_val, name='Val');"
   ]
  },
  {
   "cell_type": "code",
   "execution_count": null,
   "metadata": {},
   "outputs": [],
   "source": []
  },
  {
   "cell_type": "markdown",
   "metadata": {},
   "source": [
    "### Bonus part: explaining model predictions\n",
    "\n",
    "It's usually a good idea to understand how your model works before you let it make actual decisions. It's simple for linear models: just see which words learned positive or negative weights. However, its much harder for neural networks that learn complex nonlinear dependencies.\n",
    "\n",
    "There are, however, some ways to look inside the black box:\n",
    "* Seeing how model responds to input perturbations\n",
    "* Finding inputs that maximize/minimize activation of some chosen neurons (_read more [on distill.pub](https://distill.pub/2018/building-blocks/)_)\n",
    "* Building local linear approximations to your neural network: [article](https://arxiv.org/abs/1602.04938), [eli5 library](https://github.com/TeamHG-Memex/eli5/tree/master/eli5/formatters)\n",
    "\n",
    "Today we gonna try the first method just because it's the simplest one."
   ]
  },
  {
   "cell_type": "code",
   "execution_count": 161,
   "metadata": {},
   "outputs": [],
   "source": [
    "def explain(model, sample, col_name='Title'):\n",
    "    \"\"\" Computes the effect each word had on model predictions \"\"\"\n",
    "    sample = dict(sample)\n",
    "    sample_col_tokens = [tokens[token_to_id.get(tok, 0)] for tok in sample[col_name].split()]\n",
    "    data_drop_one_token = pd.DataFrame([sample] * (len(sample_col_tokens) + 1))\n",
    "\n",
    "    for drop_i in range(len(sample_col_tokens)):\n",
    "        data_drop_one_token.loc[drop_i, col_name] = ' '.join(UNK if i == drop_i else tok\n",
    "                                                   for i, tok in enumerate(sample_col_tokens)) \n",
    "\n",
    "    *predictions_drop_one_token, baseline_pred = model.predict(make_batch(data_drop_one_token))[:, 0]\n",
    "    diffs = baseline_pred - predictions_drop_one_token\n",
    "    return list(zip(sample_col_tokens, diffs))"
   ]
  },
  {
   "cell_type": "code",
   "execution_count": 162,
   "metadata": {},
   "outputs": [],
   "source": [
    "from IPython.display import HTML, display_html\n",
    "\n",
    "def draw_html(tokens_and_weights, cmap=plt.get_cmap(\"bwr\"), display=True,\n",
    "              token_template=\"\"\"<span style=\"background-color: {color_hex}\">{token}</span>\"\"\",\n",
    "              font_style=\"font-size:14px;\"\n",
    "             ):\n",
    "    \n",
    "    def get_color_hex(weight):\n",
    "        rgba = cmap(1. / (1 + np.exp(weight)), bytes=True)\n",
    "        return '#%02X%02X%02X' % rgba[:3]\n",
    "    \n",
    "    tokens_html = [\n",
    "        token_template.format(token=token, color_hex=get_color_hex(weight))\n",
    "        for token, weight in tokens_and_weights\n",
    "    ]\n",
    "    \n",
    "    \n",
    "    raw_html = \"\"\"<p style=\"{}\">{}</p>\"\"\".format(font_style, ' '.join(tokens_html))\n",
    "    if display:\n",
    "        display_html(HTML(raw_html))\n",
    "        \n",
    "    return raw_html\n",
    "    "
   ]
  },
  {
   "cell_type": "code",
   "execution_count": 163,
   "metadata": {},
   "outputs": [
    {
     "data": {
      "text/html": [
       "<p style=\"font-size:20px;\"><span style=\"background-color: #FFF2F2\">sales</span> <span style=\"background-color: #FF9696\">specialist</span> <span style=\"background-color: #FF0000\">iv</span> <span style=\"background-color: #FF1919\">access</span> <span style=\"background-color: #4C4CFF\">and</span> <span style=\"background-color: #FF0000\">infusion</span></p>"
      ]
     },
     "metadata": {},
     "output_type": "display_data"
    },
    {
     "data": {
      "text/html": [
       "<p style=\"font-size:14px;\"><span style=\"background-color: #FFFEFE\">sales</span> <span style=\"background-color: #FFFEFE\">representative</span> <span style=\"background-color: #FFF4F4\">medical</span> <span style=\"background-color: #FFFEFE\">sales</span> <span style=\"background-color: #FFFEFE\">iv</span> <span style=\"background-color: #FFFEFE\">access</span> <span style=\"background-color: #FFFAFA\">and</span> <span style=\"background-color: #FFFEFE\">infusion</span> <span style=\"background-color: #FFFEFE\">an</span> <span style=\"background-color: #FFFEFE\">opportunity</span> <span style=\"background-color: #FFFEFE\">to</span> <span style=\"background-color: #FFFEFE\">work</span> <span style=\"background-color: #FFFEFE\">for</span> <span style=\"background-color: #FFFEFE\">the</span> <span style=\"background-color: #FFFAFA\">industry</span> <span style=\"background-color: #FFFCFC\">leading</span> <span style=\"background-color: #FFF8F8\">manufacturer</span> <span style=\"background-color: #FFFEFE\">of</span> <span style=\"background-color: #FFFEFE\">iv</span> <span style=\"background-color: #FFFEFE\">access</span> <span style=\"background-color: #FFFAFA\">and</span> <span style=\"background-color: #FFFEFE\">infusion</span> <span style=\"background-color: #FFFEFE\">solutions</span> <span style=\"background-color: #FFFEFE\">.</span> <span style=\"background-color: #FFEEEE\">formally</span> <span style=\"background-color: #D2D2FF\">recognised</span> <span style=\"background-color: #FFE2E2\">as</span> <span style=\"background-color: #FFFEFE\">the</span> <span style=\"background-color: #FFFEFE\">number</span> <span style=\"background-color: #FFFEFE\">****</span> <span style=\"background-color: #FFFEFE\">company</span> <span style=\"background-color: #FFFEFE\">in</span> <span style=\"background-color: #FFFEFE\">this</span> <span style=\"background-color: #F8F8FF\">market</span> <span style=\"background-color: #FCFCFF\">space</span> <span style=\"background-color: #FFFEFE\">,</span> <span style=\"background-color: #FFFEFE\">our</span> <span style=\"background-color: #FFFEFE\">client</span> <span style=\"background-color: #FFFCFC\">are</span> <span style=\"background-color: #FFFEFE\">an</span> <span style=\"background-color: #FFFEFE\">ethical</span> <span style=\"background-color: #FFFEFE\">and</span> <span style=\"background-color: #FFFEFE\">dynamic</span> <span style=\"background-color: #FFFEFE\">organisation</span> <span style=\"background-color: #FFFEFE\">absolutely</span> <span style=\"background-color: #FFFEFE\">committed</span> <span style=\"background-color: #FFFEFE\">to</span> <span style=\"background-color: #FFFEFE\">the</span> <span style=\"background-color: #ECECFF\">advancement</span> <span style=\"background-color: #ECECFF\">of</span> <span style=\"background-color: #F8F8FF\">innovative</span> <span style=\"background-color: #FFFEFE\">technologies</span> <span style=\"background-color: #FFFEFE\">.</span> <span style=\"background-color: #FFFEFE\">job</span> <span style=\"background-color: #FFFEFE\">title</span> <span style=\"background-color: #FFFEFE\">:</span> <span style=\"background-color: #FFFEFE\">sales</span> <span style=\"background-color: #FFFEFE\">specialist</span> <span style=\"background-color: #FFF2F2\">iv</span> <span style=\"background-color: #FFFEFE\">access</span> <span style=\"background-color: #FFFAFA\">and</span> <span style=\"background-color: #FFFEFE\">infusion</span> <span style=\"background-color: #FFFEFE\">selling</span> <span style=\"background-color: #F3F3FF\">:</span> <span style=\"background-color: #F2F2FF\">medication</span> <span style=\"background-color: #E8E8FF\">delivery</span> <span style=\"background-color: #FFFEFE\">solutions</span> <span style=\"background-color: #FFFEFE\">selling</span> <span style=\"background-color: #FFFEFE\">to</span> <span style=\"background-color: #FFFEFE\">:</span> <span style=\"background-color: #FFFEFE\">iv</span> <span style=\"background-color: #FFFEFE\">teams</span> <span style=\"background-color: #FEFEFF\">,</span> <span style=\"background-color: #FFFEFE\">infection</span> <span style=\"background-color: #F3F3FF\">control</span> <span style=\"background-color: #FFE8E8\">,</span> <span style=\"background-color: #F3F3FF\">lead</span> <span style=\"background-color: #FFFEFE\">intensive</span> <span style=\"background-color: #FFFAFA\">care</span> <span style=\"background-color: #FFFEFE\">nurse</span> <span style=\"background-color: #E6E6FF\">specialists</span> <span style=\"background-color: #FFFCFC\">,</span> <span style=\"background-color: #FFFEFE\">ward</span> <span style=\"background-color: #ECECFF\">managers</span> <span style=\"background-color: #FFF6F6\">territory</span> <span style=\"background-color: #FFF8F8\">:</span> <span style=\"background-color: #FFFEFE\">east</span> <span style=\"background-color: #FFFEFE\">midlands</span> <span style=\"background-color: #FFFEFE\">location</span> <span style=\"background-color: #FFFEFE\">:</span> <span style=\"background-color: #FFFEFE\">east</span> <span style=\"background-color: #FFFAFA\">midlands</span> <span style=\"background-color: #FFFEFE\">package</span> <span style=\"background-color: #FFF8F8\">:</span> <span style=\"background-color: #FFFCFC\">basic</span> <span style=\"background-color: #FFF6F6\">:</span> <span style=\"background-color: #FFFEFE\">****</span> <span style=\"background-color: #FFFEFE\">k</span> <span style=\"background-color: #FFFEFE\">****</span> <span style=\"background-color: #FFFEFE\">k</span> <span style=\"background-color: #FFFEFE\">,</span> <span style=\"background-color: #FFFEFE\">uncapped</span> <span style=\"background-color: #FFFEFE\">bonus</span> <span style=\"background-color: #FFFEFE\">in</span> <span style=\"background-color: #FFFEFE\">addition</span> <span style=\"background-color: #FFFEFE\">,</span> <span style=\"background-color: #FFFEFE\">full</span> <span style=\"background-color: #FFFEFE\">corporate</span> <span style=\"background-color: #FFFEFE\">benefits</span> <span style=\"background-color: #FFFEFE\">company</span> <span style=\"background-color: #FFFEFE\">information</span> <span style=\"background-color: #FFFEFE\">hugely</span> <span style=\"background-color: #FEFEFF\">ethical</span> <span style=\"background-color: #FEFEFF\">and</span> <span style=\"background-color: #FFF8F8\">professional</span> <span style=\"background-color: #FFFEFE\">global</span> <span style=\"background-color: #FFFEFE\">organisation</span> <span style=\"background-color: #FFFEFE\">extremely</span> <span style=\"background-color: #FFFEFE\">well</span> <span style=\"background-color: #FFFEFE\">established</span> <span style=\"background-color: #FFFEFE\">in</span> <span style=\"background-color: #FFFEFE\">the</span> <span style=\"background-color: #FFF8F8\">uk</span> <span style=\"background-color: #FAFAFF\">the</span> <span style=\"background-color: #F8F8FF\">market</span> <span style=\"background-color: #FEFEFF\">leader</span> <span style=\"background-color: #FFF4F4\">across</span> <span style=\"background-color: #FFFEFE\">all</span> <span style=\"background-color: #FFFEFE\">of</span> <span style=\"background-color: #FFFEFE\">their</span> <span style=\"background-color: #FFFEFE\">core</span> <span style=\"background-color: #FFFEFE\">business</span> <span style=\"background-color: #FFFEFE\">areas</span> <span style=\"background-color: #FFFCFC\">focus</span> <span style=\"background-color: #FFFEFE\">on</span> <span style=\"background-color: #FFFEFE\">providing</span> <span style=\"background-color: #FFFEFE\">cutting</span> <span style=\"background-color: #FFFEFE\">edge</span> <span style=\"background-color: #FCFCFF\">solutions</span> <span style=\"background-color: #FFEEEE\">along</span> <span style=\"background-color: #FAFAFF\">with</span> <span style=\"background-color: #FFFEFE\">outstanding</span> <span style=\"background-color: #FFFEFE\">service</span> <span style=\"background-color: #FCFCFF\">and</span> <span style=\"background-color: #FFFEFE\">support</span> <span style=\"background-color: #FFFEFE\">a</span> <span style=\"background-color: #FFFEFE\">business</span> <span style=\"background-color: #FFFEFE\">that</span> <span style=\"background-color: #FFFEFE\">retain</span> <span style=\"background-color: #FFFEFE\">talented</span> <span style=\"background-color: #FFFEFE\">personnel</span> <span style=\"background-color: #FFFEFE\">by</span> <span style=\"background-color: #FFFEFE\">offering</span> <span style=\"background-color: #FFFAFA\">a</span> <span style=\"background-color: #F8F8FF\">strong</span> <span style=\"background-color: #F2F2FF\">platform</span> <span style=\"background-color: #FFFEFE\">for</span> <span style=\"background-color: #FFFEFE\">career</span> <span style=\"background-color: #FFFEFE\">development</span> <span style=\"background-color: #FFFEFE\">sales</span> <span style=\"background-color: #FFFEFE\">specialist</span> <span style=\"background-color: #FFF2F2\">iv</span> <span style=\"background-color: #FFFEFE\">access</span> <span style=\"background-color: #FFFAFA\">and</span> <span style=\"background-color: #FFFEFE\">infusion</span> <span style=\"background-color: #FAFAFF\">you</span> <span style=\"background-color: #FAFAFF\">must</span> <span style=\"background-color: #FAFAFF\">have</span> <span style=\"background-color: #FFFEFE\">/</span> <span style=\"background-color: #FFFEFE\">be</span> <span style=\"background-color: #FFFEFE\">the</span> <span style=\"background-color: #FFFEFE\">following</span> <span style=\"background-color: #FFFEFE\">at</span> <span style=\"background-color: #E2E2FF\">least</span> <span style=\"background-color: #FCFCFF\">2</span> <span style=\"background-color: #DADAFF\">years</span> <span style=\"background-color: #FFFEFE\">medical</span> <span style=\"background-color: #FFFCFC\">device</span> <span style=\"background-color: #FFFCFC\">sales</span> <span style=\"background-color: #FFFEFE\">experience</span> <span style=\"background-color: #FFFEFE\">.</span> <span style=\"background-color: #FFFEFE\">candidates</span> <span style=\"background-color: #FFFEFE\">who</span> <span style=\"background-color: #FFFCFC\">have</span> <span style=\"background-color: #FAFAFF\">sold</span> <span style=\"background-color: #FF7474\">disposables</span> <span style=\"background-color: #FFF4F4\">/</span> <span style=\"background-color: #FFB0B0\">consumables</span> <span style=\"background-color: #FFF0F0\">or</span> <span style=\"background-color: #CCCCFF\">similar</span> <span style=\"background-color: #FFFEFE\">into</span> <span style=\"background-color: #FFFEFE\">hospitals</span> <span style=\"background-color: #FFFEFE\">would</span> <span style=\"background-color: #FFFEFE\">be</span> <span style=\"background-color: #FFFEFE\">of</span> <span style=\"background-color: #FFFEFE\">particular</span> <span style=\"background-color: #FFFEFE\">interest</span> <span style=\"background-color: #FFFEFE\">.</span> <span style=\"background-color: #FFFEFE\">candidates</span> <span style=\"background-color: #FFFEFE\">must</span> <span style=\"background-color: #FFFCFC\">have</span> <span style=\"background-color: #FFFEFE\">sold</span> <span style=\"background-color: #FFF8F8\">into</span> <span style=\"background-color: #B0B0FF\">hospitals</span> <span style=\"background-color: #A2A2FF\">demonstrable</span> <span style=\"background-color: #CCCCFF\">performance</span> <span style=\"background-color: #D8D8FF\">and</span> <span style=\"background-color: #FFFEFE\">achievements</span> <span style=\"background-color: #FFEAEA\">so</span> <span style=\"background-color: #FFE2E2\">far</span> <span style=\"background-color: #F3F3FF\">personable</span> <span style=\"background-color: #CCCCFF\">,</span> <span style=\"background-color: #FFF6F6\">adaptable</span> <span style=\"background-color: #FFDCDC\">and</span> <span style=\"background-color: #FFBABA\">willing</span> <span style=\"background-color: #E8E8FF\">to</span> <span style=\"background-color: #FFD0D0\">learn</span> <span style=\"background-color: #F6F6FF\">keen</span> <span style=\"background-color: #FFFAFA\">and</span> <span style=\"background-color: #FFFAFA\">eager</span> <span style=\"background-color: #FFFEFE\">to</span> <span style=\"background-color: #FFFEFE\">be</span> <span style=\"background-color: #FFFEFE\">a</span> <span style=\"background-color: #FFFEFE\">success</span> <span style=\"background-color: #FFFEFE\">candidates</span> <span style=\"background-color: #FFFEFE\">must</span> <span style=\"background-color: #FFFEFE\">have</span> <span style=\"background-color: #FFFEFE\">a</span> <span style=\"background-color: #FFFEFE\">degree</span> <span style=\"background-color: #FFFCFC\">or</span> <span style=\"background-color: #FFFEFE\">at</span> <span style=\"background-color: #FFFEFE\">least</span> <span style=\"background-color: #FFFEFE\">be</span> <span style=\"background-color: #FFFEFE\">able</span> <span style=\"background-color: #FFFEFE\">to</span> <span style=\"background-color: #FCFCFF\">show</span> <span style=\"background-color: #F6F6FF\">a</span> <span style=\"background-color: #F6F6FF\">strong</span> <span style=\"background-color: #FFFEFE\">ability</span> <span style=\"background-color: #FFEAEA\">to</span> <span style=\"background-color: #FFE6E6\">learn</span> <span style=\"background-color: #FFE6E6\">role</span> <span style=\"background-color: #FFFEFE\">information</span> <span style=\"background-color: #FFFEFE\">managing</span> <span style=\"background-color: #F6F6FF\">the</span> <span style=\"background-color: #F3F3FF\">east</span> <span style=\"background-color: #EAEAFF\">midlands</span> <span style=\"background-color: #E3E3FF\">region</span> <span style=\"background-color: #FCFCFF\">selling</span> <span style=\"background-color: #FFFEFE\">across</span> <span style=\"background-color: #FFFEFE\">the</span> <span style=\"background-color: #FFFEFE\">company</span> <span style=\"background-color: #FFFEFE\">'</span> <span style=\"background-color: #FFFEFE\">s</span> <span style=\"background-color: #FFFEFE\">range</span> <span style=\"background-color: #FFFEFE\">of</span> <span style=\"background-color: #FFFEFE\">iv</span> <span style=\"background-color: #FFFEFE\">and</span> <span style=\"background-color: #FFFCFC\">infusion</span> <span style=\"background-color: #F6F6FF\">solutions</span> <span style=\"background-color: #F2F2FF\">portfolio</span> <span style=\"background-color: #F2F2FF\">selling</span> <span style=\"background-color: #FFF8F8\">into</span> <span style=\"background-color: #FFFEFE\">lead</span> <span style=\"background-color: #FFFEFE\">intensive</span> <span style=\"background-color: #FFFAFA\">care</span> <span style=\"background-color: #FFFEFE\">nurse</span> <span style=\"background-color: #E6E6FF\">specialists</span> <span style=\"background-color: #FFFCFC\">,</span> <span style=\"background-color: #FFFEFE\">ward</span> <span style=\"background-color: #FFFEFE\">managers</span> <span style=\"background-color: #FFFEFE\">,</span> <span style=\"background-color: #FFF8F8\">iv</span> <span style=\"background-color: #FFFEFE\">teams</span> <span style=\"background-color: #FEFEFF\">,</span> <span style=\"background-color: #FEFEFF\">infection</span> <span style=\"background-color: #FFF8F8\">control</span> <span style=\"background-color: #E3E3FF\">teams</span> <span style=\"background-color: #F3F3FF\">,</span> <span style=\"background-color: #E6E6FF\">procurement</span> <span style=\"background-color: #FFFEFE\">sales</span> <span style=\"background-color: #FFFEFE\">specialist</span> <span style=\"background-color: #FFF2F2\">iv</span> <span style=\"background-color: #FFFEFE\">access</span> <span style=\"background-color: #FFFAFA\">and</span> <span style=\"background-color: #FFFEFE\">infusion</span> <span style=\"background-color: #FFFEFE\">candidates</span> <span style=\"background-color: #FFFEFE\">must</span> <span style=\"background-color: #FFFEFE\">be</span> <span style=\"background-color: #FFFEFE\">eligible</span> <span style=\"background-color: #FFFEFE\">to</span> <span style=\"background-color: #FFFEFE\">work</span> <span style=\"background-color: #FFFEFE\">and</span> <span style=\"background-color: #FFFEFE\">live</span> <span style=\"background-color: #FFFEFE\">in</span> <span style=\"background-color: #FFFEFE\">the</span> <span style=\"background-color: #FFFEFE\">uk</span> <span style=\"background-color: #FFFEFE\">.</span> <span style=\"background-color: #FFFEFE\">please</span> <span style=\"background-color: #FFFAFA\">contact</span> <span style=\"background-color: #FFE8E8\">allan</span> <span style=\"background-color: #FEFEFF\">waller</span> <span style=\"background-color: #E2E2FF\">on</span> <span style=\"background-color: #FEFEFF\">****</span> <span style=\"background-color: #FEFEFF\">****</span> <span style=\"background-color: #FFFEFE\">****</span> <span style=\"background-color: #FFFEFE\">or</span> <span style=\"background-color: #FFFEFE\">please</span> <span style=\"background-color: #FFFEFE\">hit</span> <span style=\"background-color: #FFFEFE\">the</span> <span style=\"background-color: #F6F6FF\">apply</span> <span style=\"background-color: #FFFAFA\">button</span> <span style=\"background-color: #F6F6FF\">.</span> <span style=\"background-color: #F0F0FF\">this</span> <span style=\"background-color: #F2F2FF\">job</span> <span style=\"background-color: #FFFEFE\">was</span> <span style=\"background-color: #FFDCDC\">originally</span> <span style=\"background-color: #E2E2FF\">posted</span> <span style=\"background-color: #FFFAFA\">as</span> <span style=\"background-color: #FFDEDE\">www</span> <span style=\"background-color: #FFFEFE\">.</span> <span style=\"background-color: #FFFEFE\">salestarget</span> <span style=\"background-color: #FFFEFE\">.</span> <span style=\"background-color: #FFFEFE\">co</span> <span style=\"background-color: #F8F8FF\">.</span> <span style=\"background-color: #ECECFF\">uk</span> <span style=\"background-color: #B0B0FF\">/</span> <span style=\"background-color: #A6A6FF\">jobseeking</span> <span style=\"background-color: #FCFCFF\">/</span> <span style=\"background-color: #FFFEFE\">UNK</span> <span style=\"background-color: #FCFCFF\">****</span></p>"
      ]
     },
     "metadata": {},
     "output_type": "display_data"
    }
   ],
   "source": [
    "i = 36605\n",
    "tokens_and_weights = explain(model, data.loc[i], \"Title\")\n",
    "draw_html([(tok, weight * 5) for tok, weight in tokens_and_weights], font_style='font-size:20px;');\n",
    "\n",
    "tokens_and_weights = explain(model, data.loc[i], \"FullDescription\")\n",
    "draw_html([(tok, weight * 10) for tok, weight in tokens_and_weights]);"
   ]
  },
  {
   "cell_type": "code",
   "execution_count": 173,
   "metadata": {},
   "outputs": [
    {
     "data": {
      "text/html": [
       "<p style=\"font-size:20px;\"><span style=\"background-color: #0000FF\">cleaning</span> <span style=\"background-color: #0000FF\">operative</span></p>"
      ]
     },
     "metadata": {},
     "output_type": "display_data"
    },
    {
     "data": {
      "text/html": [
       "<p style=\"font-size:14px;\"><span style=\"background-color: #0000FF\">12</span> <span style=\"background-color: #0000FF\">.</span> <span style=\"background-color: #0000FF\">5</span> <span style=\"background-color: #0000FF\">hours</span> <span style=\"background-color: #0000FF\">per</span> <span style=\"background-color: #0000FF\">week</span> <span style=\"background-color: #0000FF\">monday</span> <span style=\"background-color: #0000FF\">friday</span> <span style=\"background-color: #0000FF\">9am</span> <span style=\"background-color: #0000FF\">11</span> <span style=\"background-color: #0000FF\">.</span> <span style=\"background-color: #0000FF\">30am</span> <span style=\"background-color: #0000FF\">duties</span> <span style=\"background-color: #0000FF\">to</span> <span style=\"background-color: #0000FF\">include</span> <span style=\"background-color: #0000FF\">sweeping</span> <span style=\"background-color: #0000FF\">,</span> <span style=\"background-color: #0000FF\">mopping</span> <span style=\"background-color: #0000FF\">,</span> <span style=\"background-color: #0000FF\">vacuuming</span> <span style=\"background-color: #0000FF\">,</span> <span style=\"background-color: #0000FF\">buffing</span> <span style=\"background-color: #0000FF\">,</span> <span style=\"background-color: #0000FF\">cleaning</span> <span style=\"background-color: #0000FF\">staff</span> <span style=\"background-color: #0000FF\">toilets</span> <span style=\"background-color: #0000FF\">and</span> <span style=\"background-color: #0000FF\">rest</span> <span style=\"background-color: #0000FF\">room</span> <span style=\"background-color: #0000FF\">.</span> <span style=\"background-color: #0000FF\">must</span> <span style=\"background-color: #0000FF\">be</span> <span style=\"background-color: #0000FF\">able</span> <span style=\"background-color: #0000FF\">to</span> <span style=\"background-color: #0000FF\">read</span> <span style=\"background-color: #0000FF\">as</span> <span style=\"background-color: #0000FF\">they</span> <span style=\"background-color: #0000FF\">will</span> <span style=\"background-color: #0000FF\">be</span> <span style=\"background-color: #0000FF\">using</span> <span style=\"background-color: #0000FF\">UNK</span> <span style=\"background-color: #0000FF\">which</span> <span style=\"background-color: #0000FF\">need</span> <span style=\"background-color: #0000FF\">UNK</span> <span style=\"background-color: #0000FF\">as</span> <span style=\"background-color: #0000FF\">per</span> <span style=\"background-color: #0000FF\">instructions</span> <span style=\"background-color: #0000FF\">on</span> <span style=\"background-color: #0000FF\">the</span> <span style=\"background-color: #0000FF\">containers</span> <span style=\"background-color: #0000FF\">.</span> <span style=\"background-color: #0000FF\">sucessfull</span> <span style=\"background-color: #0000FF\">applicants</span> <span style=\"background-color: #0000FF\">will</span> <span style=\"background-color: #0000FF\">be</span> <span style=\"background-color: #0000FF\">trained</span> <span style=\"background-color: #0000FF\">on</span> <span style=\"background-color: #0000FF\">all</span> <span style=\"background-color: #0000FF\">electrical</span> <span style=\"background-color: #0000FF\">appliances</span> <span style=\"background-color: #0000FF\">and</span> <span style=\"background-color: #0000FF\">UNK</span> <span style=\"background-color: #0000FF\">of</span> <span style=\"background-color: #0000FF\">cleaning</span> <span style=\"background-color: #0000FF\">materials</span> <span style=\"background-color: #0000FF\">.</span></p>"
      ]
     },
     "metadata": {},
     "output_type": "display_data"
    }
   ],
   "source": [
    "i = 12077\n",
    "tokens_and_weights = explain(model, data.loc[i], \"Title\")\n",
    "draw_html([(tok, weight * 5) for tok, weight in tokens_and_weights], font_style='font-size:20px;');\n",
    "\n",
    "tokens_and_weights = explain(model, data.loc[i], \"FullDescription\")\n",
    "draw_html([(tok, weight * 10) for tok, weight in tokens_and_weights]);"
   ]
  },
  {
   "cell_type": "code",
   "execution_count": 174,
   "metadata": {},
   "outputs": [
    {
     "name": "stdout",
     "output_type": "stream",
     "text": [
      "Index: 143681\n",
      "Salary (gbp): 2262.4092\n"
     ]
    },
    {
     "data": {
      "text/html": [
       "<p style=\"font-size:20px;\"><span style=\"background-color: #FF9090\">metabolism</span> <span style=\"background-color: #FF0000\">busines</span> <span style=\"background-color: #FF0606\">development</span> <span style=\"background-color: #FF0C0C\">manager</span></p>"
      ]
     },
     "metadata": {},
     "output_type": "display_data"
    },
    {
     "data": {
      "text/html": [
       "<p style=\"font-size:14px;\"><span style=\"background-color: #FFFEFE\">business</span> <span style=\"background-color: #FFFEFE\">development</span> <span style=\"background-color: #FFFAFA\">manager</span> <span style=\"background-color: #FFFEFE\">this</span> <span style=\"background-color: #FFFEFE\">job</span> <span style=\"background-color: #FFFEFE\">has</span> <span style=\"background-color: #FFFEFE\">responsibility</span> <span style=\"background-color: #FFF8F8\">for</span> <span style=\"background-color: #FFFEFE\">the</span> <span style=\"background-color: #FFFEFE\">development</span> <span style=\"background-color: #FFFEFE\">of</span> <span style=\"background-color: #FFFEFE\">new</span> <span style=\"background-color: #FFFEFE\">relationships</span> <span style=\"background-color: #FFFEFE\">with</span> <span style=\"background-color: #FFFEFE\">potential</span> <span style=\"background-color: #EAEAFF\">clients</span> <span style=\"background-color: #FFFEFE\">,</span> <span style=\"background-color: #EAEAFF\">nurturing</span> <span style=\"background-color: #F2F2FF\">those</span> <span style=\"background-color: #F8F8FF\">with</span> <span style=\"background-color: #FFFEFE\">existing</span> <span style=\"background-color: #FFFEFE\">clients</span> <span style=\"background-color: #FFFEFE\">,</span> <span style=\"background-color: #FFFEFE\">understanding</span> <span style=\"background-color: #FFFEFE\">their</span> <span style=\"background-color: #FFFEFE\">requirements</span> <span style=\"background-color: #FFFEFE\">in</span> <span style=\"background-color: #DCDCFF\">relation</span> <span style=\"background-color: #DCDCFF\">to</span> <span style=\"background-color: #DCDCFF\">metabolism</span> <span style=\"background-color: #FFFEFE\">services</span> <span style=\"background-color: #FFFEFE\">and</span> <span style=\"background-color: #FFFEFE\">carrying</span> <span style=\"background-color: #FFFEFE\">out</span> <span style=\"background-color: #FFFEFE\">all</span> <span style=\"background-color: #FFFEFE\">activities</span> <span style=\"background-color: #FFFEFE\">required</span> <span style=\"background-color: #FFFEFE\">to</span> <span style=\"background-color: #FFFEFE\">ensure</span> <span style=\"background-color: #FFFEFE\">a</span> <span style=\"background-color: #FFFEFE\">pipeline</span> <span style=\"background-color: #DADAFF\">of</span> <span style=\"background-color: #D3D3FF\">orders</span> <span style=\"background-color: #FCFCFF\">and</span> <span style=\"background-color: #FFFCFC\">client</span> <span style=\"background-color: #FFFEFE\">base</span> <span style=\"background-color: #FFFEFE\">in</span> <span style=\"background-color: #FFFEFE\">line</span> <span style=\"background-color: #FFFEFE\">with</span> <span style=\"background-color: #FFFEFE\">agreed</span> <span style=\"background-color: #FFFEFE\">overall</span> <span style=\"background-color: #FFFEFE\">business</span> <span style=\"background-color: #FFFEFE\">and</span> <span style=\"background-color: #FFDCDC\">personal</span> <span style=\"background-color: #FFDADA\">targets</span> <span style=\"background-color: #FFDADA\">.</span> <span style=\"background-color: #FFFEFE\">the</span> <span style=\"background-color: #FFFEFE\">business</span> <span style=\"background-color: #FFFEFE\">development</span> <span style=\"background-color: #FFFEFE\">manager</span> <span style=\"background-color: #FFFEFE\">needs</span> <span style=\"background-color: #FFFEFE\">to</span> <span style=\"background-color: #FFFEFE\">demonstrate</span> <span style=\"background-color: #FAFAFF\">an</span> <span style=\"background-color: #F0F0FF\">in</span> <span style=\"background-color: #F0F0FF\">depth</span> <span style=\"background-color: #FFF2F2\">understanding</span> <span style=\"background-color: #FFFEFE\">of</span> <span style=\"background-color: #FFFEFE\">UNK</span> <span style=\"background-color: #FFFEFE\">metabolism</span> <span style=\"background-color: #FFFEFE\">studies</span> <span style=\"background-color: #FFFEFE\">,</span> <span style=\"background-color: #FFFEFE\">in</span> <span style=\"background-color: #FFFEFE\">particular</span> <span style=\"background-color: #FFFEFE\">in</span> <span style=\"background-color: #FFFEFE\">vitro</span> <span style=\"background-color: #FFFEFE\">services</span> <span style=\"background-color: #FFFEFE\">and</span> <span style=\"background-color: #FFFEFE\">the</span> <span style=\"background-color: #FFFEFE\">full</span> <span style=\"background-color: #FFFEFE\">range</span> <span style=\"background-color: #FFECEC\">of</span> <span style=\"background-color: #FFFEFE\">UNK</span> <span style=\"background-color: #DCDCFF\">interactions</span> <span style=\"background-color: #9C9CFF\">(</span> <span style=\"background-color: #FFFEFE\">UNK</span> <span style=\"background-color: #F6F6FF\">)</span> <span style=\"background-color: #FCFCFF\">including</span> <span style=\"background-color: #FCFCFF\">transporters</span> <span style=\"background-color: #F2F2FF\">enabling</span> <span style=\"background-color: #FFFEFE\">them</span> <span style=\"background-color: #FFFEFE\">to</span> <span style=\"background-color: #FFFEFE\">sell</span> <span style=\"background-color: #FFFEFE\">the</span> <span style=\"background-color: #FFFEFE\">services</span> <span style=\"background-color: #FFFEFE\">and</span> <span style=\"background-color: #FFFEFE\">prepare</span> <span style=\"background-color: #FFFEFE\">proposals</span> <span style=\"background-color: #FFFEFE\">with</span> <span style=\"background-color: #FFFEFE\">input</span> <span style=\"background-color: #FFFEFE\">from</span> <span style=\"background-color: #FFFEFE\">relevant</span> <span style=\"background-color: #FFFEFE\">operational</span> <span style=\"background-color: #FFFEFE\">colleagues</span> <span style=\"background-color: #FFFEFE\">.</span> <span style=\"background-color: #FFFEFE\">in</span> <span style=\"background-color: #FFFEFE\">addition</span> <span style=\"background-color: #FFFEFE\">,</span> <span style=\"background-color: #FFFEFE\">they</span> <span style=\"background-color: #FFFEFE\">should</span> <span style=\"background-color: #FFFEFE\">develop</span> <span style=\"background-color: #FFFEFE\">a</span> <span style=\"background-color: #FFFEFE\">good</span> <span style=\"background-color: #FFFEFE\">knowledge</span> <span style=\"background-color: #FFFEFE\">of</span> <span style=\"background-color: #FFFEFE\">services</span> <span style=\"background-color: #FFFEFE\">across</span> <span style=\"background-color: #FFFEFE\">clinical</span> <span style=\"background-color: #FFFEFE\">,</span> <span style=\"background-color: #FAFAFF\">and</span> <span style=\"background-color: #FCFCFF\">chemistry</span> <span style=\"background-color: #FAFAFF\">teams</span> <span style=\"background-color: #FFFEFE\">and</span> <span style=\"background-color: #FFFEFE\">seek</span> <span style=\"background-color: #FFFCFC\">opportunities</span> <span style=\"background-color: #FFFEFE\">to</span> <span style=\"background-color: #FFFEFE\">provide</span> <span style=\"background-color: #FFFEFE\">integrated</span> <span style=\"background-color: #FCFCFF\">solutions</span> <span style=\"background-color: #FCFCFF\">to</span> <span style=\"background-color: #FCFCFF\">meet</span> <span style=\"background-color: #FFFEFE\">clients</span> <span style=\"background-color: #FFFEFE\">needs</span> <span style=\"background-color: #FFFEFE\">.</span> <span style=\"background-color: #FFFEFE\">the</span> <span style=\"background-color: #FFFEFE\">business</span> <span style=\"background-color: #FFFEFE\">development</span> <span style=\"background-color: #FFFEFE\">manager</span> <span style=\"background-color: #FFFEFE\">is</span> <span style=\"background-color: #FFFEFE\">expected</span> <span style=\"background-color: #FFFEFE\">to</span> <span style=\"background-color: #FFFEFE\">be</span> <span style=\"background-color: #FFFEFE\">proficient</span> <span style=\"background-color: #FFFEFE\">in</span> <span style=\"background-color: #FFFEFE\">all</span> <span style=\"background-color: #FFFEFE\">aspects</span> <span style=\"background-color: #FFFEFE\">of</span> <span style=\"background-color: #FFFEFE\">the</span> <span style=\"background-color: #FFFEFE\">business</span> <span style=\"background-color: #FFFEFE\">development</span> <span style=\"background-color: #E6E6FF\">process</span> <span style=\"background-color: #FFF6F6\">and</span> <span style=\"background-color: #E6E6FF\">deal</span> <span style=\"background-color: #FFFEFE\">with</span> <span style=\"background-color: #FFFEFE\">all</span> <span style=\"background-color: #FFFEFE\">queries</span> <span style=\"background-color: #FFFEFE\">quickly</span> <span style=\"background-color: #FFFEFE\">,</span> <span style=\"background-color: #FFFEFE\">efficiently</span> <span style=\"background-color: #FFF8F8\">and</span> <span style=\"background-color: #FFE2E2\">accurately</span> <span style=\"background-color: #FFFAFA\">.</span> <span style=\"background-color: #FFFEFE\">general</span> <span style=\"background-color: #FFFEFE\">:</span> <span style=\"background-color: #FFFEFE\">the</span> <span style=\"background-color: #FFFEFE\">seniority</span> <span style=\"background-color: #FFFCFC\">and</span> <span style=\"background-color: #FFFEFE\">purpose</span> <span style=\"background-color: #FFFEFE\">of</span> <span style=\"background-color: #FFFEFE\">this</span> <span style=\"background-color: #FFFEFE\">role</span> <span style=\"background-color: #FFFEFE\">means</span> <span style=\"background-color: #FFFEFE\">that</span> <span style=\"background-color: #FFFEFE\">the</span> <span style=\"background-color: #FFFEFE\">job</span> <span style=\"background-color: #FFFEFE\">holder</span> <span style=\"background-color: #FEFEFF\">has</span> <span style=\"background-color: #F8F8FF\">a</span> <span style=\"background-color: #EAEAFF\">special</span> <span style=\"background-color: #F3F3FF\">privilege</span> <span style=\"background-color: #FFE2E2\">and</span> <span style=\"background-color: #FEFEFF\">responsibility</span> <span style=\"background-color: #FFFEFE\">to</span> <span style=\"background-color: #FFF4F4\">act</span> <span style=\"background-color: #FFFEFE\">as</span> <span style=\"background-color: #FFFEFE\">an</span> <span style=\"background-color: #FFE2E2\">ambassador</span> <span style=\"background-color: #FFE2E2\">for</span> <span style=\"background-color: #FCFCFF\">the</span> <span style=\"background-color: #FFFAFA\">metabolism</span> <span style=\"background-color: #FFFEFE\">divison</span> <span style=\"background-color: #FFFEFE\">and</span> <span style=\"background-color: #FFFEFE\">the</span> <span style=\"background-color: #FFFEFE\">broader</span> <span style=\"background-color: #FFFAFA\">organisation</span> <span style=\"background-color: #FAFAFF\">.</span> <span style=\"background-color: #FAFAFF\">a</span> <span style=\"background-color: #FAFAFF\">relationship</span> <span style=\"background-color: #FFFEFE\">builder</span> <span style=\"background-color: #FFF8F8\">with</span> <span style=\"background-color: #FFFEFE\">strong</span> <span style=\"background-color: #FFFEFE\">interpersonal</span> <span style=\"background-color: #FFFEFE\">skills</span> <span style=\"background-color: #FFFEFE\">and</span> <span style=\"background-color: #D3D3FF\">cultural</span> <span style=\"background-color: #D6D6FF\">awareness</span> <span style=\"background-color: #E8E8FF\">able</span> <span style=\"background-color: #FFFEFE\">to</span> <span style=\"background-color: #F0F0FF\">relate</span> <span style=\"background-color: #F0F0FF\">to</span> <span style=\"background-color: #FFF8F8\">all</span> <span style=\"background-color: #FFFEFE\">people</span> <span style=\"background-color: #FFFEFE\">at</span> <span style=\"background-color: #FFFCFC\">all</span> <span style=\"background-color: #FFFEFE\">levels</span> <span style=\"background-color: #FFFEFE\">(</span> <span style=\"background-color: #FFFEFE\">colleagues</span> <span style=\"background-color: #FFFEFE\">,</span> <span style=\"background-color: #FFFEFE\">peers</span> <span style=\"background-color: #FFF0F0\">,</span> <span style=\"background-color: #FFFEFE\">superiors</span> <span style=\"background-color: #FFFEFE\">and</span> <span style=\"background-color: #FFFEFE\">people</span> <span style=\"background-color: #FFFEFE\">of</span> <span style=\"background-color: #FFFEFE\">all</span> <span style=\"background-color: #FFFEFE\">levels</span> <span style=\"background-color: #FFFEFE\">of</span> <span style=\"background-color: #FFFEFE\">seniority</span> <span style=\"background-color: #FFFEFE\">within</span> <span style=\"background-color: #FFFEFE\">external</span> <span style=\"background-color: #FFFEFE\">organisations</span> <span style=\"background-color: #FFFEFE\">).</span> <span style=\"background-color: #FFFEFE\">measures</span> <span style=\"background-color: #FFFEFE\">of</span> <span style=\"background-color: #FFFEFE\">success</span> <span style=\"background-color: #FFFEFE\">:</span> <span style=\"background-color: #FFFEFE\">service</span> <span style=\"background-color: #FFFEFE\">area</span> <span style=\"background-color: #FFFEFE\">specialist</span> <span style=\"background-color: #FFF8F8\">?</span> <span style=\"background-color: #FFFEFE\">in</span> <span style=\"background-color: #FFFEFE\">vitro</span> <span style=\"background-color: #FFFCFC\">services</span> <span style=\"background-color: #FFFEFE\">:</span> <span style=\"background-color: #FFFEFE\">work</span> <span style=\"background-color: #FFFEFE\">closely</span> <span style=\"background-color: #FFFEFE\">with</span> <span style=\"background-color: #FFFEFE\">key</span> <span style=\"background-color: #FFFEFE\">operational</span> <span style=\"background-color: #FFFEFE\">and</span> <span style=\"background-color: #FFFEFE\">other</span> <span style=\"background-color: #FFFEFE\">business</span> <span style=\"background-color: #FFFEFE\">development</span> <span style=\"background-color: #FFDCDC\">colleagues</span> <span style=\"background-color: #FFDCDC\">to</span> <span style=\"background-color: #FFE0E0\">develop</span> <span style=\"background-color: #FFFEFE\">and</span> <span style=\"background-color: #FFF8F8\">implement</span> <span style=\"background-color: #F6F6FF\">appropriate</span> <span style=\"background-color: #F6F6FF\">operational</span> <span style=\"background-color: #FFFEFE\">,</span> <span style=\"background-color: #FFFEFE\">marketing</span> <span style=\"background-color: #FFFCFC\">and</span> <span style=\"background-color: #FFFEFE\">sales</span> <span style=\"background-color: #FFFEFE\">strategies</span> <span style=\"background-color: #FFF6F6\">that</span> <span style=\"background-color: #FFFEFE\">maximise</span> <span style=\"background-color: #FFFEFE\">our</span> <span style=\"background-color: #FFE0E0\">competitive</span> <span style=\"background-color: #FFFEFE\">positioning</span> <span style=\"background-color: #FFFEFE\">and</span> <span style=\"background-color: #FFFEFE\">ability</span> <span style=\"background-color: #FFFEFE\">to</span> <span style=\"background-color: #F2F2FF\">grow</span> <span style=\"background-color: #BABAFF\">profitable</span> <span style=\"background-color: #E2E2FF\">business</span> <span style=\"background-color: #FFFEFE\">.</span> <span style=\"background-color: #FFF8F8\">in</span> <span style=\"background-color: #FFFEFE\">particular</span> <span style=\"background-color: #FFFEFE\">:</span> <span style=\"background-color: #FFFEFE\">carry</span> <span style=\"background-color: #FFFEFE\">out</span> <span style=\"background-color: #FFFAFA\">all</span> <span style=\"background-color: #FFFEFE\">required</span> <span style=\"background-color: #FFFEFE\">market</span> <span style=\"background-color: #FFFAFA\">research</span> <span style=\"background-color: #FFFEFE\">activities</span> <span style=\"background-color: #FFFEFE\">to</span> <span style=\"background-color: #FFF6F6\">develop</span> <span style=\"background-color: #FFFAFA\">a</span> <span style=\"background-color: #FCFCFF\">strong</span> <span style=\"background-color: #FEFEFF\">understanding</span> <span style=\"background-color: #FEFEFF\">of</span> <span style=\"background-color: #FFFEFE\">the</span> <span style=\"background-color: #FFFEFE\">market</span> <span style=\"background-color: #FFFEFE\">for</span> <span style=\"background-color: #FFFEFE\">the</span> <span style=\"background-color: #FFFEFE\">service</span> <span style=\"background-color: #FFFEFE\">area</span> <span style=\"background-color: #FFFEFE\">and</span> <span style=\"background-color: #FFFEFE\">business</span> <span style=\"background-color: #FFFEFE\">development</span> <span style=\"background-color: #FFFEFE\">opportunities</span> <span style=\"background-color: #FFFEFE\">keep</span> <span style=\"background-color: #E6E6FF\">upto</span> <span style=\"background-color: #FFEEEE\">date</span> <span style=\"background-color: #F0F0FF\">with</span> <span style=\"background-color: #FAFAFF\">the</span> <span style=\"background-color: #D6D6FF\">fda</span> <span style=\"background-color: #FFF8F8\">and</span> <span style=\"background-color: #EEEEFF\">ema</span> <span style=\"background-color: #FFFEFE\">regulatory</span> <span style=\"background-color: #FFFEFE\">guidelines</span> <span style=\"background-color: #FFFEFE\">for</span> <span style=\"background-color: #FFFEFE\">in</span> <span style=\"background-color: #FFFEFE\">vitro</span> <span style=\"background-color: #FFF2F2\">services</span> <span style=\"background-color: #FFFEFE\">foster</span> <span style=\"background-color: #FFFEFE\">strong</span> <span style=\"background-color: #F8F8FF\">bond</span> <span style=\"background-color: #FFE0E0\">with</span> <span style=\"background-color: #F6F6FF\">operational</span> <span style=\"background-color: #FFFEFE\">colleagues</span> <span style=\"background-color: #FFFEFE\">in</span> <span style=\"background-color: #FFFEFE\">this</span> <span style=\"background-color: #FFFEFE\">service</span> <span style=\"background-color: #FFFEFE\">area</span> <span style=\"background-color: #FFFEFE\">to</span> <span style=\"background-color: #FFFEFE\">ensure</span> <span style=\"background-color: #D2D2FF\">mutual</span> <span style=\"background-color: #D2D2FF\">involvement</span> <span style=\"background-color: #FFF4F4\">in</span> <span style=\"background-color: #FFFEFE\">new</span> <span style=\"background-color: #FFFEFE\">business</span> <span style=\"background-color: #FFFEFE\">development</span> <span style=\"background-color: #FFFEFE\">activities</span> <span style=\"background-color: #FFFAFA\">,</span> <span style=\"background-color: #FFFEFE\">meeting</span> <span style=\"background-color: #EAEAFF\">regularly</span> <span style=\"background-color: #F8F8FF\">to</span> <span style=\"background-color: #EAEAFF\">agree</span> <span style=\"background-color: #FFFEFE\">and</span> <span style=\"background-color: #FFFEFE\">monitor</span> <span style=\"background-color: #FFFEFE\">progress</span> <span style=\"background-color: #FFFEFE\">on</span> <span style=\"background-color: #FFFEFE\">service</span> <span style=\"background-color: #FFFCFC\">area</span> <span style=\"background-color: #FFFEFE\">objectives</span> <span style=\"background-color: #FFFEFE\">contribute</span> <span style=\"background-color: #FFEAEA\">to</span> <span style=\"background-color: #FFEAEA\">service</span> <span style=\"background-color: #FFFCFC\">area</span> <span style=\"background-color: #FFFEFE\">review</span> <span style=\"background-color: #FFFEFE\">meetings</span> <span style=\"background-color: #FFFEFE\">,</span> <span style=\"background-color: #FFFEFE\">developing</span> <span style=\"background-color: #FFFEFE\">and</span> <span style=\"background-color: #FFFEFE\">delivering</span> <span style=\"background-color: #FFFEFE\">presentations</span> <span style=\"background-color: #F3F3FF\">that</span> <span style=\"background-color: #FCFCFF\">meet</span> <span style=\"background-color: #F6F6FF\">agenda</span> <span style=\"background-color: #FFF2F2\">and</span> <span style=\"background-color: #FFFEFE\">objectives</span> <span style=\"background-color: #FFFEFE\">ensure</span> <span style=\"background-color: #FFFEFE\">that</span> <span style=\"background-color: #FFFEFE\">target</span> <span style=\"background-color: #FFFEFE\">client</span> <span style=\"background-color: #FFF6F6\">lists</span> <span style=\"background-color: #FFFEFE\">are</span> <span style=\"background-color: #FFFEFE\">established</span> <span style=\"background-color: #ECECFF\">,</span> <span style=\"background-color: #FFEAEA\">accurate</span> <span style=\"background-color: #FFF2F2\">and</span> <span style=\"background-color: #FFFEFE\">regularly</span> <span style=\"background-color: #F3F3FF\">updated</span> <span style=\"background-color: #FFFEFE\">;</span> <span style=\"background-color: #FFFAFA\">and</span> <span style=\"background-color: #FFFEFE\">recorded</span> <span style=\"background-color: #FEFEFF\">in</span> <span style=\"background-color: #FFEEEE\">bd</span> <span style=\"background-color: #FFF0F0\">files</span> <span style=\"background-color: #FFFEFE\">and</span> <span style=\"background-color: #FFFEFE\">crm</span> <span style=\"background-color: #EAEAFF\">as</span> <span style=\"background-color: #EEEEFF\">appropriate</span> <span style=\"background-color: #EAEAFF\">plan</span> <span style=\"background-color: #FFFEFE\">and</span> <span style=\"background-color: #FFFEFE\">implement</span> <span style=\"background-color: #FFFEFE\">appropriate</span> <span style=\"background-color: #FFFEFE\">marketing</span> <span style=\"background-color: #FFFAFA\">and</span> <span style=\"background-color: #FFFEFE\">business</span> <span style=\"background-color: #FFFEFE\">development</span> <span style=\"background-color: #FFFEFE\">activities</span> <span style=\"background-color: #FFFEFE\">for</span> <span style=\"background-color: #FFFEFE\">the</span> <span style=\"background-color: #FFFEFE\">service</span> <span style=\"background-color: #FFDEDE\">area</span> <span style=\"background-color: #FEFEFF\">such</span> <span style=\"background-color: #FFCECE\">as</span> <span style=\"background-color: #FFFEFE\">website</span> <span style=\"background-color: #FFFEFE\">and</span> <span style=\"background-color: #FFFEFE\">literature</span> <span style=\"background-color: #FFFAFA\">,</span> <span style=\"background-color: #FFFEFE\">direct</span> <span style=\"background-color: #E0E0FF\">emailing</span> <span style=\"background-color: #FFF6F6\">/</span> <span style=\"background-color: #FFDCDC\">mailing</span> <span style=\"background-color: #FFFEFE\">,</span> <span style=\"background-color: #FAFAFF\">conferences</span> <span style=\"background-color: #FFFEFE\">and</span> <span style=\"background-color: #FFFEFE\">events</span> <span style=\"background-color: #FFFEFE\">ensure</span> <span style=\"background-color: #FFFEFE\">that</span> <span style=\"background-color: #FFFEFE\">all</span> <span style=\"background-color: #FFFEFE\">members</span> <span style=\"background-color: #EAEAFF\">of</span> <span style=\"background-color: #ECECFF\">the</span> <span style=\"background-color: #EAEAFF\">bd</span> <span style=\"background-color: #FFFEFE\">team</span> <span style=\"background-color: #FFFEFE\">are</span> <span style=\"background-color: #FFFEFE\">well</span> <span style=\"background-color: #FFFEFE\">prepared</span> <span style=\"background-color: #FFFEFE\">to</span> <span style=\"background-color: #FFA2A2\">handle</span> <span style=\"background-color: #E6E6FF\">new</span> <span style=\"background-color: #FF8888\">enquiries</span> <span style=\"background-color: #FFFEFE\">and</span> <span style=\"background-color: #FFFEFE\">maximize</span> <span style=\"background-color: #FFFEFE\">opportunities</span> <span style=\"background-color: #FFFEFE\">in</span> <span style=\"background-color: #FFFEFE\">this</span> <span style=\"background-color: #FFFEFE\">service</span> <span style=\"background-color: #FFFEFE\">area</span> <span style=\"background-color: #FAFAFF\">(</span> <span style=\"background-color: #FFF0F0\">organising</span> <span style=\"background-color: #F6F6FF\">training</span> <span style=\"background-color: #FFF6F6\">where</span> <span style=\"background-color: #FFFEFE\">required</span> <span style=\"background-color: #FCFCFF\">)</span> <span style=\"background-color: #FFF2F2\">kay</span> <span style=\"background-color: #FFF2F2\">words</span> <span style=\"background-color: #FFFEFE\">:</span> <span style=\"background-color: #FFFEFE\">UNK</span> <span style=\"background-color: #FFFEFE\">science</span> <span style=\"background-color: #FFFEFE\">,</span> <span style=\"background-color: #FFFEFE\">bioanalytical</span> <span style=\"background-color: #FFFEFE\">science</span> <span style=\"background-color: #FFFEFE\">in</span> <span style=\"background-color: #FFF8F8\">vitro</span> <span style=\"background-color: #FFEAEA\">,</span> <span style=\"background-color: #FFFEFE\">discovery</span> <span style=\"background-color: #FFFEFE\">,</span> <span style=\"background-color: #FFFEFE\">regulatory</span> <span style=\"background-color: #FFFEFE\">dmpk</span> <span style=\"background-color: #FFFEFE\">,</span> <span style=\"background-color: #FFFEFE\">glp</span> <span style=\"background-color: #FFFEFE\">,</span> <span style=\"background-color: #FFFEFE\">UNK</span> <span style=\"background-color: #FFF8F8\">vitro</span> <span style=\"background-color: #FFEAEA\">,</span> <span style=\"background-color: #FFFEFE\">discovery</span> <span style=\"background-color: #FFFEFE\">,</span> <span style=\"background-color: #FFFEFE\">regulatory</span> <span style=\"background-color: #FFFEFE\">dmpk</span> <span style=\"background-color: #FFFEFE\">,</span> <span style=\"background-color: #FFFEFE\">glp</span> <span style=\"background-color: #FFFEFE\">,</span> <span style=\"background-color: #FFFEFE\">UNK</span> <span style=\"background-color: #FFF8F8\">vitro</span> <span style=\"background-color: #FFEAEA\">,</span> <span style=\"background-color: #FFFEFE\">discovery</span> <span style=\"background-color: #FFFEFE\">,</span> <span style=\"background-color: #FFFEFE\">regulatory</span> <span style=\"background-color: #FFFEFE\">dmpk</span> <span style=\"background-color: #FFFEFE\">,</span> <span style=\"background-color: #FFFEFE\">glp</span> <span style=\"background-color: #FFFEFE\">,</span> <span style=\"background-color: #FFFEFE\">gcp</span> <span style=\"background-color: #FFFEFE\">,</span> <span style=\"background-color: #FFFEFE\">in</span> <span style=\"background-color: #FFF8F8\">vitro</span> <span style=\"background-color: #FFEAEA\">,</span> <span style=\"background-color: #FFFEFE\">discovery</span> <span style=\"background-color: #FFFEFE\">,</span> <span style=\"background-color: #FFFEFE\">regulatory</span> <span style=\"background-color: #FFFEFE\">dmpk</span> <span style=\"background-color: #FFFEFE\">,</span> <span style=\"background-color: #FFFEFE\">glp</span> <span style=\"background-color: #FFFEFE\">,</span> <span style=\"background-color: #FFFEFE\">gcp</span> <span style=\"background-color: #FFFEFE\">,</span> <span style=\"background-color: #FFFEFE\">in</span> <span style=\"background-color: #FFF8F8\">vitro</span> <span style=\"background-color: #FFEAEA\">,</span> <span style=\"background-color: #FFFEFE\">discovery</span> <span style=\"background-color: #FFFEFE\">,</span> <span style=\"background-color: #FFFEFE\">regulatory</span> <span style=\"background-color: #FFFEFE\">dmpk</span> <span style=\"background-color: #FFFEFE\">,</span> <span style=\"background-color: #FFFEFE\">glp</span> <span style=\"background-color: #FFFEFE\">,</span> <span style=\"background-color: #FFFEFE\">gcp</span> <span style=\"background-color: #FFFEFE\">,</span> <span style=\"background-color: #FFFEFE\">in</span> <span style=\"background-color: #FFF8F8\">vitro</span> <span style=\"background-color: #FFEAEA\">,</span> <span style=\"background-color: #FFFEFE\">discovery</span> <span style=\"background-color: #FFFEFE\">,</span> <span style=\"background-color: #FFFEFE\">regulatory</span> <span style=\"background-color: #FFFEFE\">dmpk</span> <span style=\"background-color: #FFFEFE\">,</span> <span style=\"background-color: #FFFEFE\">glp</span> <span style=\"background-color: #FFFEFE\">,</span> <span style=\"background-color: #FFFEFE\">gcp</span> <span style=\"background-color: #FFFEFE\">,</span> <span style=\"background-color: #FFFEFE\">sales</span> <span style=\"background-color: #FFFEFE\">,</span> <span style=\"background-color: #FFFEFE\">sales</span> <span style=\"background-color: #FFFEFE\">,</span> <span style=\"background-color: #FFFEFE\">business</span> <span style=\"background-color: #FFFEFE\">development</span> <span style=\"background-color: #FFFAFA\">,</span> <span style=\"background-color: #FFFEFE\">business</span> <span style=\"background-color: #FFFEFE\">development</span> <span style=\"background-color: #FFFEFE\">this</span> <span style=\"background-color: #FFFEFE\">job</span> <span style=\"background-color: #FFFEFE\">was</span> <span style=\"background-color: #FFD2D2\">originally</span> <span style=\"background-color: #FFF4F4\">posted</span> <span style=\"background-color: #E0E0FF\">as</span> <span style=\"background-color: #F8F8FF\">www</span> <span style=\"background-color: #FFFEFE\">.</span> <span style=\"background-color: #FFFEFE\">totaljobs</span> <span style=\"background-color: #FFFAFA\">.</span> <span style=\"background-color: #D2D2FF\">com</span> <span style=\"background-color: #B8B8FF\">/</span> <span style=\"background-color: #AAAAFF\">jobseeking</span> <span style=\"background-color: #EEEEFF\">/</span> <span style=\"background-color: #FFFEFE\">UNK</span> <span style=\"background-color: #F8F8FF\">****</span></p>"
      ]
     },
     "metadata": {},
     "output_type": "display_data"
    }
   ],
   "source": [
    "i = np.random.randint(len(data))\n",
    "print(\"Index:\", i)\n",
    "print(\"Salary (gbp):\", np.expm1(model.predict(make_batch(data.iloc[i: i+1]))[0, 0]))\n",
    "\n",
    "tokens_and_weights = explain(model, data.loc[i], \"Title\")\n",
    "draw_html([(tok, weight * 5) for tok, weight in tokens_and_weights], font_style='font-size:20px;');\n",
    "\n",
    "tokens_and_weights = explain(model, data.loc[i], \"FullDescription\")\n",
    "draw_html([(tok, weight * 10) for tok, weight in tokens_and_weights]);"
   ]
  },
  {
   "cell_type": "markdown",
   "metadata": {},
   "source": [
    "__Terrible start-up idea #1962:__ make a tool that automaticaly rephrases your job description (or CV) to meet salary expectations :)"
   ]
  },
  {
   "cell_type": "code",
   "execution_count": 138,
   "metadata": {},
   "outputs": [],
   "source": [
    "model.save('one_conv.h5')"
   ]
  },
  {
   "cell_type": "code",
   "execution_count": 68,
   "metadata": {},
   "outputs": [
    {
     "ename": "AttributeError",
     "evalue": "module 'keras.backend' has no attribute 'get_config'",
     "output_type": "error",
     "traceback": [
      "\u001b[1;31m---------------------------------------------------------------------------\u001b[0m",
      "\u001b[1;31mAttributeError\u001b[0m                            Traceback (most recent call last)",
      "\u001b[1;32m<ipython-input-68-070a2efee61f>\u001b[0m in \u001b[0;36m<module>\u001b[1;34m\u001b[0m\n\u001b[1;32m----> 1\u001b[1;33m \u001b[0mK\u001b[0m\u001b[1;33m.\u001b[0m\u001b[0mget_config\u001b[0m\u001b[1;33m(\u001b[0m\u001b[1;33m)\u001b[0m\u001b[1;33m\u001b[0m\u001b[1;33m\u001b[0m\u001b[0m\n\u001b[0m",
      "\u001b[1;31mAttributeError\u001b[0m: module 'keras.backend' has no attribute 'get_config'"
     ]
    }
   ],
   "source": []
  }
 ],
 "metadata": {
  "kernelspec": {
   "display_name": "Python 3",
   "language": "python",
   "name": "python3"
  },
  "language_info": {
   "codemirror_mode": {
    "name": "ipython",
    "version": 3
   },
   "file_extension": ".py",
   "mimetype": "text/x-python",
   "name": "python",
   "nbconvert_exporter": "python",
   "pygments_lexer": "ipython3",
   "version": "3.7.3"
  }
 },
 "nbformat": 4,
 "nbformat_minor": 4
}
