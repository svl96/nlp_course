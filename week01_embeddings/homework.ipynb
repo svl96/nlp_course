{
 "cells": [
  {
   "cell_type": "markdown",
   "metadata": {},
   "source": [
    "## Homework: Multilingual Embedding-based Machine Translation (7 points)"
   ]
  },
  {
   "cell_type": "markdown",
   "metadata": {},
   "source": [
    "**In this homework** **<font color='red'>YOU</font>** will make machine translation system without using parallel corpora, alignment, attention, 100500 depth super-cool recurrent neural network and all that kind superstuff.\n",
    "\n",
    "But even without parallel corpora this system can be good enough (hopefully). \n",
    "\n",
    "For our system we choose two kindred Slavic languages: Ukrainian and Russian. "
   ]
  },
  {
   "cell_type": "markdown",
   "metadata": {},
   "source": [
    "### Feel the difference!\n",
    "\n",
    "(_синій кіт_ vs. _синій кит_)"
   ]
  },
  {
   "cell_type": "markdown",
   "metadata": {},
   "source": [
    "![blue_cat_blue_whale.png](https://github.com/yandexdataschool/nlp_course/raw/master/resources/blue_cat_blue_whale.png)"
   ]
  },
  {
   "cell_type": "markdown",
   "metadata": {},
   "source": [
    "### Frament of the Swadesh list for some slavic languages\n",
    "\n",
    "The Swadesh list is a lexicostatistical stuff. It's named after American linguist Morris Swadesh and contains basic lexis. This list are used to define subgroupings of languages, its relatedness.\n",
    "\n",
    "So we can see some kind of word invariance for different Slavic languages.\n",
    "\n",
    "\n",
    "| Russian         | Belorussian              | Ukrainian               | Polish             | Czech                         | Bulgarian            |\n",
    "|-----------------|--------------------------|-------------------------|--------------------|-------------------------------|-----------------------|\n",
    "| женщина         | жанчына, кабета, баба    | жінка                   | kobieta            | žena                          | жена                  |\n",
    "| мужчина         | мужчына                  | чоловік, мужчина        | mężczyzna          | muž                           | мъж                   |\n",
    "| человек         | чалавек                  | людина, чоловік         | człowiek           | člověk                        | човек                 |\n",
    "| ребёнок, дитя   | дзіця, дзіцёнак, немаўля | дитина, дитя            | dziecko            | dítě                          | дете                  |\n",
    "| жена            | жонка                    | дружина, жінка          | żona               | žena, manželka, choť          | съпруга, жена         |\n",
    "| муж             | муж, гаспадар            | чоловiк, муж            | mąż                | muž, manžel, choť             | съпруг, мъж           |\n",
    "| мать, мама      | маці, матка              | мати, матір, неня, мама | matka              | matka, máma, 'стар.' mateř    | майка                 |\n",
    "| отец, тятя      | бацька, тата             | батько, тато, татусь    | ojciec             | otec                          | баща, татко           |\n",
    "| много           | шмат, багата             | багато                  | wiele              | mnoho, hodně                  | много                 |\n",
    "| несколько       | некалькі, колькі         | декілька, кілька        | kilka              | několik, pár, trocha          | няколко               |\n",
    "| другой, иной    | іншы                     | інший                   | inny               | druhý, jiný                   | друг                  |\n",
    "| зверь, животное | жывёла, звер, істота     | тварина, звір           | zwierzę            | zvíře                         | животно               |\n",
    "| рыба            | рыба                     | риба                    | ryba               | ryba                          | риба                  |\n",
    "| птица           | птушка                   | птах, птиця             | ptak               | pták                          | птица                 |\n",
    "| собака, пёс     | сабака                   | собака, пес             | pies               | pes                           | куче, пес             |\n",
    "| вошь            | вош                      | воша                    | wesz               | veš                           | въшка                 |\n",
    "| змея, гад       | змяя                     | змія, гад               | wąż                | had                           | змия                  |\n",
    "| червь, червяк   | чарвяк                   | хробак, черв'як         | robak              | červ                          | червей                |\n",
    "| дерево          | дрэва                    | дерево                  | drzewo             | strom, dřevo                  | дърво                 |\n",
    "| лес             | лес                      | ліс                     | las                | les                           | гора, лес             |\n",
    "| палка           | кій, палка               | палиця                  | patyk, pręt, pałka | hůl, klacek, prut, kůl, pálka | палка, пръчка, бастун |"
   ]
  },
  {
   "cell_type": "markdown",
   "metadata": {},
   "source": [
    "But the context distribution of these languages demonstrates even more invariance. And we can use this fact for our for our purposes."
   ]
  },
  {
   "cell_type": "markdown",
   "metadata": {},
   "source": [
    "## Data"
   ]
  },
  {
   "cell_type": "code",
   "execution_count": 1,
   "metadata": {},
   "outputs": [
    {
     "name": "stderr",
     "output_type": "stream",
     "text": [
      "C:\\Users\\vlaser\\Anaconda3\\lib\\site-packages\\gensim\\utils.py:1197: UserWarning: detected Windows; aliasing chunkize to chunkize_serial\n",
      "  warnings.warn(\"detected Windows; aliasing chunkize to chunkize_serial\")\n"
     ]
    }
   ],
   "source": [
    "import gensim\n",
    "import numpy as np\n",
    "from gensim.models import KeyedVectors"
   ]
  },
  {
   "cell_type": "markdown",
   "metadata": {},
   "source": [
    "Download embeddings here:\n",
    "* [cc.uk.300.vec.zip](https://yadi.sk/d/9CAeNsJiInoyUA)\n",
    "* [cc.ru.300.vec.zip](https://yadi.sk/d/3yG0-M4M8fypeQ)"
   ]
  },
  {
   "cell_type": "markdown",
   "metadata": {},
   "source": [
    "Load embeddings for ukrainian and russian."
   ]
  },
  {
   "cell_type": "code",
   "execution_count": 2,
   "metadata": {},
   "outputs": [
    {
     "name": "stderr",
     "output_type": "stream",
     "text": [
      "C:\\Users\\vlaser\\Anaconda3\\lib\\site-packages\\smart_open\\smart_open_lib.py:398: UserWarning: This function is deprecated, use smart_open.open instead. See the migration notes for details: https://github.com/RaRe-Technologies/smart_open/blob/master/README.rst#migrating-to-the-new-open-function\n",
      "  'See the migration notes for details: %s' % _MIGRATION_NOTES_URL\n"
     ]
    }
   ],
   "source": [
    "uk_emb = KeyedVectors.load_word2vec_format(\"cc.uk.300.vec\")"
   ]
  },
  {
   "cell_type": "code",
   "execution_count": 3,
   "metadata": {},
   "outputs": [],
   "source": [
    "ru_emb = KeyedVectors.load_word2vec_format(\"cc.ru.300.vec\")"
   ]
  },
  {
   "cell_type": "code",
   "execution_count": 4,
   "metadata": {},
   "outputs": [
    {
     "data": {
      "text/plain": [
       "[('август', 1.0),\n",
       " ('июль', 0.9383152723312378),\n",
       " ('сентябрь', 0.9240028262138367),\n",
       " ('июнь', 0.9222576022148132),\n",
       " ('октябрь', 0.9095539450645447),\n",
       " ('ноябрь', 0.893003523349762),\n",
       " ('апрель', 0.8729087710380554),\n",
       " ('декабрь', 0.8652558326721191),\n",
       " ('март', 0.8545796871185303),\n",
       " ('февраль', 0.8401416540145874)]"
      ]
     },
     "execution_count": 4,
     "metadata": {},
     "output_type": "execute_result"
    }
   ],
   "source": [
    "ru_emb.most_similar([ru_emb[\"август\"]], topn=10)"
   ]
  },
  {
   "cell_type": "code",
   "execution_count": 5,
   "metadata": {},
   "outputs": [
    {
     "data": {
      "text/plain": [
       "[('серпень', 0.9999999403953552),\n",
       " ('липень', 0.9096439480781555),\n",
       " ('вересень', 0.901697039604187),\n",
       " ('червень', 0.8992520570755005),\n",
       " ('жовтень', 0.8810408115386963),\n",
       " ('листопад', 0.8787633776664734),\n",
       " ('квітень', 0.8592805862426758),\n",
       " ('грудень', 0.8586863279342651),\n",
       " ('травень', 0.840811014175415),\n",
       " ('лютий', 0.8256430625915527)]"
      ]
     },
     "execution_count": 5,
     "metadata": {},
     "output_type": "execute_result"
    }
   ],
   "source": [
    "uk_emb.most_similar([uk_emb[\"серпень\"]])"
   ]
  },
  {
   "cell_type": "code",
   "execution_count": 6,
   "metadata": {},
   "outputs": [
    {
     "data": {
      "text/plain": [
       "[('Недопустимость', 0.2443528175354004),\n",
       " ('конструктивность', 0.23293080925941467),\n",
       " ('офор', 0.23256801068782806),\n",
       " ('deteydlya', 0.2303171455860138),\n",
       " ('пресечении', 0.22632378339767456),\n",
       " ('одностороннего', 0.22608889639377594),\n",
       " ('подход', 0.22305874526500702),\n",
       " ('иболее', 0.22003725171089172),\n",
       " ('2015Александр', 0.21872764825820923),\n",
       " ('конструктивен', 0.21796566247940063)]"
      ]
     },
     "execution_count": 6,
     "metadata": {},
     "output_type": "execute_result"
    }
   ],
   "source": [
    "ru_emb.most_similar([uk_emb[\"серпень\"]])"
   ]
  },
  {
   "cell_type": "markdown",
   "metadata": {},
   "source": [
    "Load small dictionaries for correspoinding words pairs as trainset and testset."
   ]
  },
  {
   "cell_type": "code",
   "execution_count": 11,
   "metadata": {},
   "outputs": [],
   "source": [
    "def load_word_pairs(filename):\n",
    "    uk_ru_pairs = []\n",
    "    uk_vectors = []\n",
    "    ru_vectors = []\n",
    "    with open(filename, \"r\", encoding=\"utf8\") as inpf:\n",
    "        for line in inpf:\n",
    "            uk, ru = line.rstrip().split(\"\\t\")\n",
    "            if uk not in uk_emb or ru not in ru_emb:\n",
    "                continue\n",
    "            uk_ru_pairs.append((uk, ru))\n",
    "            uk_vectors.append(uk_emb[uk])\n",
    "            ru_vectors.append(ru_emb[ru])\n",
    "    return uk_ru_pairs, np.array(uk_vectors), np.array(ru_vectors)"
   ]
  },
  {
   "cell_type": "code",
   "execution_count": 12,
   "metadata": {},
   "outputs": [],
   "source": [
    "uk_ru_train, X_train, Y_train = load_word_pairs(\"ukr_rus.train.txt\")"
   ]
  },
  {
   "cell_type": "code",
   "execution_count": null,
   "metadata": {},
   "outputs": [],
   "source": []
  },
  {
   "cell_type": "code",
   "execution_count": 13,
   "metadata": {},
   "outputs": [],
   "source": [
    "uk_ru_test, X_test, Y_test = load_word_pairs(\"ukr_rus.test.txt\")"
   ]
  },
  {
   "cell_type": "code",
   "execution_count": 18,
   "metadata": {},
   "outputs": [
    {
     "data": {
      "text/plain": [
       "array([[-0.0138, -0.0218, -0.0034, ..., -0.0052,  0.0157, -0.0186],\n",
       "       [-0.0124, -0.0632,  0.0116, ...,  0.0112,  0.058 , -0.0469],\n",
       "       [ 0.0069, -0.1661,  0.0196, ..., -0.0125, -0.0673, -0.0716],\n",
       "       ...,\n",
       "       [ 0.0626,  0.0079,  0.0121, ...,  0.0295,  0.0339, -0.0395],\n",
       "       [ 0.3072, -0.2212, -0.4329, ..., -0.0355,  0.0592, -0.0176],\n",
       "       [ 0.0449,  0.0201, -0.0507, ...,  0.038 , -0.0139, -0.021 ]],\n",
       "      dtype=float32)"
      ]
     },
     "execution_count": 18,
     "metadata": {},
     "output_type": "execute_result"
    }
   ],
   "source": []
  },
  {
   "cell_type": "markdown",
   "metadata": {},
   "source": [
    "## Embedding space mapping"
   ]
  },
  {
   "cell_type": "markdown",
   "metadata": {},
   "source": [
    "Let $x_i \\in \\mathrm{R}^d$ be the distributed representation of word $i$ in the source language, and $y_i \\in \\mathrm{R}^d$ is the vector representation of its translation. Our purpose is to learn such linear transform $W$ that minimizes euclidian distance between $Wx_i$ and $y_i$ for some subset of word embeddings. Thus we can formulate so-called Procrustes problem:\n",
    "\n",
    "$$W^*= \\arg\\min_W \\sum_{i=1}^n||Wx_i - y_i||_2$$\n",
    "or\n",
    "$$W^*= \\arg\\min_W ||WX - Y||_F$$\n",
    "\n",
    "where $||*||_F$ - Frobenius norm.\n",
    "\n",
    "In Greek mythology, Procrustes or \"the stretcher\" was a rogue smith and bandit from Attica who attacked people by stretching them or cutting off their legs, so as to force them to fit the size of an iron bed. We make same bad things with source embedding space. Our Procrustean bed is target embedding space."
   ]
  },
  {
   "cell_type": "markdown",
   "metadata": {},
   "source": [
    "![embedding_mapping.png](https://github.com/yandexdataschool/nlp_course/raw/master/resources/embedding_mapping.png)"
   ]
  },
  {
   "cell_type": "markdown",
   "metadata": {},
   "source": [
    "![procrustes.png](https://github.com/yandexdataschool/nlp_course/raw/master/resources/procrustes.png)"
   ]
  },
  {
   "cell_type": "markdown",
   "metadata": {},
   "source": [
    "But wait...$W^*= \\arg\\min_W \\sum_{i=1}^n||Wx_i - y_i||_2$ looks like simple multiple linear regression (without intercept fit). So let's code."
   ]
  },
  {
   "cell_type": "code",
   "execution_count": 14,
   "metadata": {},
   "outputs": [],
   "source": [
    "from sklearn.linear_model import LinearRegression"
   ]
  },
  {
   "cell_type": "code",
   "execution_count": 21,
   "metadata": {},
   "outputs": [
    {
     "data": {
      "text/plain": [
       "LinearRegression(copy_X=True, fit_intercept=False, n_jobs=None, normalize=False)"
      ]
     },
     "execution_count": 21,
     "metadata": {},
     "output_type": "execute_result"
    }
   ],
   "source": [
    "mapping = LinearRegression(fit_intercept=False)\n",
    "mapping.fit(X_train, Y_train)"
   ]
  },
  {
   "cell_type": "markdown",
   "metadata": {},
   "source": [
    "Let's take a look at neigbours of the vector of word _\"серпень\"_ (_\"август\"_ in Russian) after linear transform."
   ]
  },
  {
   "cell_type": "code",
   "execution_count": 22,
   "metadata": {},
   "outputs": [
    {
     "data": {
      "text/plain": [
       "[('апрель', 0.8541284799575806),\n",
       " ('июнь', 0.8411201238632202),\n",
       " ('март', 0.8396992683410645),\n",
       " ('сентябрь', 0.8359866142272949),\n",
       " ('февраль', 0.8329296708106995),\n",
       " ('октябрь', 0.831184446811676),\n",
       " ('ноябрь', 0.8278922438621521),\n",
       " ('июль', 0.8234527111053467),\n",
       " ('август', 0.8120499849319458),\n",
       " ('декабрь', 0.8039001226425171)]"
      ]
     },
     "execution_count": 22,
     "metadata": {},
     "output_type": "execute_result"
    }
   ],
   "source": [
    "august = mapping.predict(uk_emb[\"серпень\"].reshape(1, -1))\n",
    "ru_emb.most_similar(august)"
   ]
  },
  {
   "cell_type": "markdown",
   "metadata": {},
   "source": [
    "We can see that neighbourhood of this embedding cosists of different months, but right variant is on the ninth place."
   ]
  },
  {
   "cell_type": "markdown",
   "metadata": {},
   "source": [
    "As quality measure we will use precision top-1, top-5 and top-10 (for each transformed Ukrainian embedding we count how many right target pairs are found in top N nearest neighbours in Russian embedding space)."
   ]
  },
  {
   "cell_type": "code",
   "execution_count": 85,
   "metadata": {},
   "outputs": [],
   "source": [
    "def precision(pairs, mapped_vectors, topn=1):\n",
    "    \"\"\"\n",
    "    :args:\n",
    "        pairs = list of right word pairs [(uk_word_0, ru_word_0), ...]\n",
    "        mapped_vectors = list of embeddings after mapping from source embedding space to destination embedding space\n",
    "        topn = the number of nearest neighbours in destination embedding space to choose from\n",
    "    :returns:\n",
    "        precision_val, float number, total number of words for those we can find right translation at top K.\n",
    "    \"\"\"\n",
    "    assert len(pairs) == len(mapped_vectors)\n",
    "    num_matches = 0\n",
    "    for i, (_, ru) in enumerate(pairs):\n",
    "        # YOUR CODE HERE\n",
    "        for mapped, _ in ru_emb.most_similar([mapped_vectors[i]], topn=topn):\n",
    "            if ru == mapped:\n",
    "                num_matches += 1\n",
    "                break\n",
    "                \n",
    "    precision_val = num_matches / len(pairs)\n",
    "    return precision_val\n"
   ]
  },
  {
   "cell_type": "code",
   "execution_count": 50,
   "metadata": {},
   "outputs": [
    {
     "name": "stdout",
     "output_type": "stream",
     "text": [
      "август апрель\n",
      "август июнь\n",
      "август март\n",
      "август сентябрь\n",
      "август февраль\n",
      "август октябрь\n",
      "август ноябрь\n",
      "август июль\n",
      "август август\n"
     ]
    },
    {
     "data": {
      "text/plain": [
       "1.0"
      ]
     },
     "execution_count": 50,
     "metadata": {},
     "output_type": "execute_result"
    }
   ],
   "source": []
  },
  {
   "cell_type": "code",
   "execution_count": 86,
   "metadata": {},
   "outputs": [],
   "source": [
    "assert precision([(\"серпень\", \"август\")], august, topn=5) == 0.0\n",
    "assert precision([(\"серпень\", \"август\")], august, topn=9) == 1.0\n",
    "assert precision([(\"серпень\", \"август\")], august, topn=10) == 1.0"
   ]
  },
  {
   "cell_type": "code",
   "execution_count": 89,
   "metadata": {},
   "outputs": [
    {
     "name": "stdout",
     "output_type": "stream",
     "text": [
      "Wall time: 2.63 s\n"
     ]
    },
    {
     "data": {
      "text/plain": [
       "1.0"
      ]
     },
     "execution_count": 89,
     "metadata": {},
     "output_type": "execute_result"
    }
   ],
   "source": [
    "%%time\n",
    "precision(uk_ru_test[:40], Y_test[:40])"
   ]
  },
  {
   "cell_type": "code",
   "execution_count": 82,
   "metadata": {},
   "outputs": [
    {
     "name": "stdout",
     "output_type": "stream",
     "text": [
      "Wall time: 24.9 s\n"
     ]
    }
   ],
   "source": [
    "%%time\n",
    "a = [ ru_emb.most_similar([x], topn=1) for x in Y_test]"
   ]
  },
  {
   "cell_type": "code",
   "execution_count": 90,
   "metadata": {},
   "outputs": [],
   "source": [
    "assert precision(uk_ru_test, X_test) == 0.0\n",
    "assert precision(uk_ru_test, Y_test) == 1.0"
   ]
  },
  {
   "cell_type": "code",
   "execution_count": 91,
   "metadata": {},
   "outputs": [],
   "source": [
    "precision_top1 = precision(uk_ru_test, mapping.predict(X_test), 1)\n",
    "precision_top5 = precision(uk_ru_test, mapping.predict(X_test), 5)\n",
    "\n",
    "assert precision_top1 >= 0.635\n",
    "assert precision_top5 >= 0.813"
   ]
  },
  {
   "cell_type": "markdown",
   "metadata": {},
   "source": [
    "## Making it better (orthogonal Procrustean problem)"
   ]
  },
  {
   "cell_type": "markdown",
   "metadata": {},
   "source": [
    "It can be shown (see original paper) that a self-consistent linear mapping between semantic spaces should be orthogonal. \n",
    "We can restrict transform $W$ to be orthogonal. Then we will solve next problem:\n",
    "\n",
    "$$W^*= \\arg\\min_W ||WX - Y||_F \\text{, where: } W^TW = I$$\n",
    "\n",
    "$$I \\text{- identity matrix}$$\n",
    "\n",
    "Instead of making yet another regression problem we can find optimal orthogonal transformation using singular value decomposition. It turns out that optimal transformation $W^*$ can be expressed via SVD components:\n",
    "$$X^TY=U\\Sigma V^T\\text{, singular value decompostion}$$\n",
    "$$W^*=UV^T$$"
   ]
  },
  {
   "cell_type": "code",
   "execution_count": 99,
   "metadata": {},
   "outputs": [],
   "source": [
    "def learn_transform(X_train, Y_train):\n",
    "    \"\"\" \n",
    "    :returns: W* : float matrix[emb_dim x emb_dim] as defined in formulae above\n",
    "    \"\"\"\n",
    "    # YOU CODE HERE\n",
    "    u, s, vh = np.linalg.svd((X_train.T).dot(Y_train), full_matrices=True)\n",
    "    return u.dot(vh)         "
   ]
  },
  {
   "cell_type": "code",
   "execution_count": 100,
   "metadata": {},
   "outputs": [],
   "source": [
    "W = learn_transform(X_train, Y_train)"
   ]
  },
  {
   "cell_type": "code",
   "execution_count": 101,
   "metadata": {},
   "outputs": [
    {
     "data": {
      "text/plain": [
       "[('апрель', 0.8237907886505127),\n",
       " ('сентябрь', 0.8049710392951965),\n",
       " ('март', 0.802565336227417),\n",
       " ('июнь', 0.8021841645240784),\n",
       " ('октябрь', 0.8001735210418701),\n",
       " ('ноябрь', 0.7934483289718628),\n",
       " ('февраль', 0.7914121150970459),\n",
       " ('июль', 0.7908108234405518),\n",
       " ('август', 0.7891014218330383),\n",
       " ('декабрь', 0.7686372399330139)]"
      ]
     },
     "execution_count": 101,
     "metadata": {},
     "output_type": "execute_result"
    }
   ],
   "source": [
    "ru_emb.most_similar([np.matmul(uk_emb[\"серпень\"], W)])"
   ]
  },
  {
   "cell_type": "code",
   "execution_count": 102,
   "metadata": {},
   "outputs": [],
   "source": [
    "assert precision(uk_ru_test, np.matmul(X_test, W)) >= 0.653\n",
    "assert precision(uk_ru_test, np.matmul(X_test, W), 5) >= 0.824"
   ]
  },
  {
   "cell_type": "markdown",
   "metadata": {},
   "source": [
    "## UK-RU Translator"
   ]
  },
  {
   "cell_type": "markdown",
   "metadata": {},
   "source": [
    "Now we are ready to make simple word-based translator: for earch word in source language in shared embedding space we find the nearest in target language.\n"
   ]
  },
  {
   "cell_type": "code",
   "execution_count": 104,
   "metadata": {},
   "outputs": [],
   "source": [
    "with open(\"fairy_tale.txt\", \"r\", encoding='utf8') as inpf:\n",
    "    uk_sentences = [line.rstrip().lower() for line in inpf]"
   ]
  },
  {
   "cell_type": "code",
   "execution_count": 160,
   "metadata": {},
   "outputs": [],
   "source": [
    "from nltk.tokenize import WordPunctTokenizer\n",
    "import string\n",
    "tokenizer = WordPunctTokenizer()"
   ]
  },
  {
   "cell_type": "code",
   "execution_count": 161,
   "metadata": {},
   "outputs": [],
   "source": [
    "def translate(sentence):\n",
    "    \"\"\"\n",
    "    :args:\n",
    "        sentence - sentence in Ukrainian (str)\n",
    "    :returns:\n",
    "        translation - sentence in Russian (str)\n",
    "\n",
    "    * find ukrainian embedding for each word in sentence\n",
    "    * transform ukrainian embedding vector\n",
    "    * find nearest russian word and replace\n",
    "    \"\"\"\n",
    "    # YOUR CODE HERE\n",
    "    ru_res = []\n",
    "    for word in tokenizer.tokenize(sentence):\n",
    "        if word in string.punctuation or word.isdigit():\n",
    "            ru_res.append(word)\n",
    "        else:\n",
    "            if word not in uk_emb.vocab:\n",
    "                ru_res.append(word)\n",
    "                continue\n",
    "            ru_pred = mapping.predict(uk_emb[word].reshape(1, -1))\n",
    "            ru_res.append(ru_emb.most_similar(ru_pred, topn=1)[0][0]) \n",
    "    return ' '.join(ru_res)\n",
    "    "
   ]
  },
  {
   "cell_type": "code",
   "execution_count": 162,
   "metadata": {},
   "outputs": [
    {
     "data": {
      "text/plain": [
       "False"
      ]
     },
     "execution_count": 162,
     "metadata": {},
     "output_type": "execute_result"
    }
   ],
   "source": [
    "translate(\"кіт зловив мишу\") == \"кот поймал мышку\""
   ]
  },
  {
   "cell_type": "code",
   "execution_count": 168,
   "metadata": {},
   "outputs": [
    {
     "ename": "KeyError",
     "evalue": "\"word 'од'їхали' not in vocabulary\"",
     "output_type": "error",
     "traceback": [
      "\u001b[1;31m---------------------------------------------------------------------------\u001b[0m",
      "\u001b[1;31mKeyError\u001b[0m                                  Traceback (most recent call last)",
      "\u001b[1;32m<ipython-input-168-b752097150d1>\u001b[0m in \u001b[0;36m<module>\u001b[1;34m\u001b[0m\n\u001b[1;32m----> 1\u001b[1;33m \u001b[0muk_emb\u001b[0m\u001b[1;33m[\u001b[0m\u001b[1;34m'од\\'їхали'\u001b[0m\u001b[1;33m]\u001b[0m\u001b[1;33m\u001b[0m\u001b[1;33m\u001b[0m\u001b[0m\n\u001b[0m",
      "\u001b[1;32m~\\Anaconda3\\lib\\site-packages\\gensim\\models\\keyedvectors.py\u001b[0m in \u001b[0;36m__getitem__\u001b[1;34m(self, entities)\u001b[0m\n\u001b[0;32m    167\u001b[0m         \u001b[1;32mif\u001b[0m \u001b[0misinstance\u001b[0m\u001b[1;33m(\u001b[0m\u001b[0mentities\u001b[0m\u001b[1;33m,\u001b[0m \u001b[0mstring_types\u001b[0m\u001b[1;33m)\u001b[0m\u001b[1;33m:\u001b[0m\u001b[1;33m\u001b[0m\u001b[1;33m\u001b[0m\u001b[0m\n\u001b[0;32m    168\u001b[0m             \u001b[1;31m# allow calls like trained_model['office'], as a shorthand for trained_model[['office']]\u001b[0m\u001b[1;33m\u001b[0m\u001b[1;33m\u001b[0m\u001b[1;33m\u001b[0m\u001b[0m\n\u001b[1;32m--> 169\u001b[1;33m             \u001b[1;32mreturn\u001b[0m \u001b[0mself\u001b[0m\u001b[1;33m.\u001b[0m\u001b[0mget_vector\u001b[0m\u001b[1;33m(\u001b[0m\u001b[0mentities\u001b[0m\u001b[1;33m)\u001b[0m\u001b[1;33m\u001b[0m\u001b[1;33m\u001b[0m\u001b[0m\n\u001b[0m\u001b[0;32m    170\u001b[0m \u001b[1;33m\u001b[0m\u001b[0m\n\u001b[0;32m    171\u001b[0m         \u001b[1;32mreturn\u001b[0m \u001b[0mvstack\u001b[0m\u001b[1;33m(\u001b[0m\u001b[1;33m[\u001b[0m\u001b[0mself\u001b[0m\u001b[1;33m.\u001b[0m\u001b[0mget_vector\u001b[0m\u001b[1;33m(\u001b[0m\u001b[0mentity\u001b[0m\u001b[1;33m)\u001b[0m \u001b[1;32mfor\u001b[0m \u001b[0mentity\u001b[0m \u001b[1;32min\u001b[0m \u001b[0mentities\u001b[0m\u001b[1;33m]\u001b[0m\u001b[1;33m)\u001b[0m\u001b[1;33m\u001b[0m\u001b[1;33m\u001b[0m\u001b[0m\n",
      "\u001b[1;32m~\\Anaconda3\\lib\\site-packages\\gensim\\models\\keyedvectors.py\u001b[0m in \u001b[0;36mget_vector\u001b[1;34m(self, word)\u001b[0m\n\u001b[0;32m    275\u001b[0m \u001b[1;33m\u001b[0m\u001b[0m\n\u001b[0;32m    276\u001b[0m     \u001b[1;32mdef\u001b[0m \u001b[0mget_vector\u001b[0m\u001b[1;33m(\u001b[0m\u001b[0mself\u001b[0m\u001b[1;33m,\u001b[0m \u001b[0mword\u001b[0m\u001b[1;33m)\u001b[0m\u001b[1;33m:\u001b[0m\u001b[1;33m\u001b[0m\u001b[1;33m\u001b[0m\u001b[0m\n\u001b[1;32m--> 277\u001b[1;33m         \u001b[1;32mreturn\u001b[0m \u001b[0mself\u001b[0m\u001b[1;33m.\u001b[0m\u001b[0mword_vec\u001b[0m\u001b[1;33m(\u001b[0m\u001b[0mword\u001b[0m\u001b[1;33m)\u001b[0m\u001b[1;33m\u001b[0m\u001b[1;33m\u001b[0m\u001b[0m\n\u001b[0m\u001b[0;32m    278\u001b[0m \u001b[1;33m\u001b[0m\u001b[0m\n\u001b[0;32m    279\u001b[0m     \u001b[1;32mdef\u001b[0m \u001b[0mwords_closer_than\u001b[0m\u001b[1;33m(\u001b[0m\u001b[0mself\u001b[0m\u001b[1;33m,\u001b[0m \u001b[0mw1\u001b[0m\u001b[1;33m,\u001b[0m \u001b[0mw2\u001b[0m\u001b[1;33m)\u001b[0m\u001b[1;33m:\u001b[0m\u001b[1;33m\u001b[0m\u001b[1;33m\u001b[0m\u001b[0m\n",
      "\u001b[1;32m~\\Anaconda3\\lib\\site-packages\\gensim\\models\\keyedvectors.py\u001b[0m in \u001b[0;36mword_vec\u001b[1;34m(self, word, use_norm)\u001b[0m\n\u001b[0;32m    272\u001b[0m             \u001b[1;32mreturn\u001b[0m \u001b[0mresult\u001b[0m\u001b[1;33m\u001b[0m\u001b[1;33m\u001b[0m\u001b[0m\n\u001b[0;32m    273\u001b[0m         \u001b[1;32melse\u001b[0m\u001b[1;33m:\u001b[0m\u001b[1;33m\u001b[0m\u001b[1;33m\u001b[0m\u001b[0m\n\u001b[1;32m--> 274\u001b[1;33m             \u001b[1;32mraise\u001b[0m \u001b[0mKeyError\u001b[0m\u001b[1;33m(\u001b[0m\u001b[1;34m\"word '%s' not in vocabulary\"\u001b[0m \u001b[1;33m%\u001b[0m \u001b[0mword\u001b[0m\u001b[1;33m)\u001b[0m\u001b[1;33m\u001b[0m\u001b[1;33m\u001b[0m\u001b[0m\n\u001b[0m\u001b[0;32m    275\u001b[0m \u001b[1;33m\u001b[0m\u001b[0m\n\u001b[0;32m    276\u001b[0m     \u001b[1;32mdef\u001b[0m \u001b[0mget_vector\u001b[0m\u001b[1;33m(\u001b[0m\u001b[0mself\u001b[0m\u001b[1;33m,\u001b[0m \u001b[0mword\u001b[0m\u001b[1;33m)\u001b[0m\u001b[1;33m:\u001b[0m\u001b[1;33m\u001b[0m\u001b[1;33m\u001b[0m\u001b[0m\n",
      "\u001b[1;31mKeyError\u001b[0m: \"word 'од'їхали' not in vocabulary\""
     ]
    }
   ],
   "source": [
    "uk_emb['од\\'їхали']"
   ]
  },
  {
   "cell_type": "code",
   "execution_count": 163,
   "metadata": {},
   "outputs": [],
   "source": [
    "assert translate(\".\") == \".\"\n",
    "assert translate(\"1 , 3\") == \"1 , 3\"\n",
    "assert translate(\"кіт зловив мишу\") == \"кот поймал мышь\""
   ]
  },
  {
   "cell_type": "code",
   "execution_count": 164,
   "metadata": {},
   "outputs": [
    {
     "name": "stdout",
     "output_type": "stream",
     "text": [
      "src: лисичка - сестричка і вовк - панібрат\n",
      "dst: лисичка - девочка и волк - панібрат\n",
      "\n",
      "src: як була собі лисичка , да й пішла раз до однії баби добувать огню ; ввійшла у хату да й каже : \" добрий день тобі , бабусю !\n",
      "dst: как была себе лисичка , ой и пошла раз от однії бабы добувать огнь ; лечь во избу ой и говорит : \" хороший день тебе , бабуля !\n",
      "\n",
      "src: дай мені огня \" .\n",
      "dst: дай мне из \" .\n",
      "\n",
      "src: а баба тільки що вийняла із печі пирожок із маком , солодкий , да й положила , щоб він прохолов ; а лисичка се і підгледала , да тілько що баба нахилилась у піч , щоб достать огня , то лисичка зараз ухватила пирожок да і драла з хати , да , біжучи , весь мак із його виїла , а туда сміття наклала .\n",
      "dst: а баба только что вынуть со печи пирожок со маком , сладкий , ой и легла , чтобы он прохолов ; а лисичка коль и підгледала , ой притом что баба наклониться во печь , чтобы достать из , то лисичка сейчас ухватила пирожок ой и сожрать со избы , ой , бежать , весь мак со его виїла , а туда мусор наложила .\n",
      "\n",
      "src: прибігла на поле , аж там пасуть хлопці бичків .\n",
      "dst: прибежала по поле , до там пасут парни бычков .\n",
      "\n",
      "src: вона і каже їм : \" ей , хлопці !\n",
      "dst: она и говорит им : \" усыновленным , парни !\n",
      "\n",
      "src: проміняйте мені бичка - третячка за маковий пирожок \" .\n",
      "dst: проміняйте мне бычок - третячка за маковый пирожок \" .\n",
      "\n",
      "src: тії согласились ; так вона їм говорить : \" смотріть же , ви не їжте зараз сього пирожка , а тоді уже розломите , як я заведу бичка за могилку ; а то ви його ні за що не розломите \" .\n",
      "dst: ужи подписать ; да она им говорит : \" смотріть же , мы не ешьте сейчас ибо пирожка , а тогда уже розломите , как мной заведу бычок за могила ; а то мы его ни за что не розломите \" .\n",
      "\n",
      "src: бачите вже - лисичка таки собі була розумна , що хоть кого да обманить .\n",
      "dst: видишь уже - лисичка все-таки себе была умная , что -бы кого ой обманить .\n",
      "\n",
      "src: тії хлопці так і зробили , а лисичка як зайшла за могилу , да зараз у ліс і повернула , щоб на дорозі не догнали ; прийшла у ліс да і зробила собі санки да й їде .\n",
      "dst: ужи парни да и сделали , а лисичка как зашла за могилу , ой сейчас во лес и вернула , чтобы по дороге не погнали ; пришла во лес ой и сделала себе санки ой и едет .\n",
      "\n",
      "src: коли йде вовчик : \" здорова була , лисичко - сестричко ! \"\n",
      "dst: когда идет вовчик : \" здоровая была , лисичко - сестрица ! \"\n",
      "\n",
      "src: - \" здоров , вовчику - братику ! \"\n",
      "dst: - \" здоровье , вовчику - сынок ! \"\n",
      "\n",
      "src: - \" де се ти узяла собі і бичка і санки ? \"\n",
      "dst: - \" куда коль какой взяла себе и бычок и санки ? \"\n",
      "\n",
      "src: - \" е !\n",
      "dst: - \" й !\n",
      "\n",
      "src: зробила \" .\n",
      "dst: сделала \" .\n",
      "\n",
      "src: - \" підвези ж і мене \" .\n",
      "dst: - \" підвези же и меня \" .\n",
      "\n",
      "src: - \" е , вовчику !\n",
      "dst: - \" й , вовчику !\n",
      "\n",
      "src: не можна \" .\n",
      "dst: не можно \" .\n",
      "\n",
      "src: - \" мені хоть одну ніжку \" .\n",
      "dst: - \" мне -бы одну ножку \" .\n",
      "\n",
      "src: - \" одну можна \" .\n",
      "dst: - \" одну можно \" .\n",
      "\n",
      "src: він і положив , да од'їхавши немного і просить , щоби іще одну положить .\n",
      "dst: он и положил , ой от ' проехав немножко и просит , чтобы еще одну толкать .\n",
      "\n",
      "src: \" не можна , братику !\n",
      "dst: \" не можно , сынок !\n",
      "\n",
      "src: боюсь , щоб ти саней не зламав \" .\n",
      "dst: боюсь , чтобы какой саней не сломал \" .\n",
      "\n",
      "src: - \" ні , сестричко , не бійся ! \"\n",
      "dst: - \" ни , сестрица , не бойся ! \"\n",
      "\n",
      "src: - да і положив другую ніжку .\n",
      "dst: - ой и положил одну ножку .\n",
      "\n",
      "src: тілько що од'їхали , як щось і тріснуло .\n",
      "dst: притом что от ' поехали , как что-то и треснуло .\n",
      "\n",
      "src: \" бачиш , вовчику , уже і ламаєш санки \" .\n",
      "dst: \" видишь , вовчику , уже и ламаєш санки \" .\n",
      "\n",
      "src: - \" ні , лисичко !\n",
      "dst: - \" ни , лисичко !\n",
      "\n",
      "src: се у мене був орішок , так я розкусив \" .\n",
      "dst: коль во меня был орішок , да мной розкусив \" .\n",
      "\n",
      "src: да просить оп'ять , щоб і третю ногу положить ; лисичка і ту пустила , да тілько що оп'ять од'їхали , аж щось уже дужче тріснуло .\n",
      "dst: ой просит й ' пять , чтобы и третью ногу толкать ; лисичка и ту пустила , ой притом что й ' пять от ' поехали , до что-то уже сильнее треснуло .\n",
      "\n",
      "src: лисичка закричала : \" ох , лишечко !\n",
      "dst: лисичка закричала : \" ой , лишечко !\n",
      "\n",
      "src: ти ж мені , братику , зовсім зламаєш санки \" .\n",
      "dst: какой же мне , сынок , совсем зламаєш санки \" .\n",
      "\n",
      "src: - \" ні , лисичко , се я орішок розкусив \" .\n",
      "dst: - \" ни , лисичко , коль мной орішок розкусив \" .\n",
      "\n",
      "src: - \" дай же і мені , бачиш який , що сам їж , а мені і не даєш \" .\n",
      "dst: - \" дай же и мне , видишь он , что сам ёж , а мне и не Дашь \" .\n",
      "\n",
      "src: - \" нема уже більше , а я б дав \" .\n",
      "dst: - \" нету уже больше , а мной бы дал \" .\n",
      "\n",
      "src: да і просить оп'ять , щоб пустила положить і послідню ногу .\n",
      "dst: ой и просит й ' пять , чтобы пустила толкать и послідню ногу .\n",
      "\n",
      "src: лисичка і согласилась .\n",
      "dst: лисичка и согласилась .\n",
      "\n",
      "src: так він тілько що положив ногу , як санки зовсім розламались .\n",
      "dst: да он притом что положил ногу , как санки совсем розламались .\n",
      "\n",
      "src: тоді вже лисичка так на його розсердилась , що і сама не знала щоб робила !\n",
      "dst: тогда уже лисичка да по его розсердилась , что и одна не знала чтобы делала !\n",
      "\n",
      "src: а як отошло серце , вона і каже : \" іди ж , ледащо !\n",
      "dst: а как отошло сердце , она и говорит : \" яд же , лодырь !\n",
      "\n",
      "src: да нарубай дерева , щоб нам оп'ять ізробить санки ; тільки рубавши кажи так : \" рубайся ж , дерево , і криве і пряме \" .\n",
      "dst: ой нарубай деревья , чтобы нам й ' пять ізробить санки ; только рубавши говори да : \" рубайся же , дерево , и кривое и прямое \" .\n",
      "\n",
      "src: він і пішов да й каже усе : \" рубайся ж , дерево , усе пряме да пряме ! \"\n",
      "dst: он и ушел ой и говорит всё : \" рубайся же , дерево , всё прямое ой прямое ! \"\n",
      "\n",
      "src: нарубавши і приносить ; лисичка увидала , що дерево не таке , як їй нужно , оп'ять розсердилась .\n",
      "dst: нарубавши и приносит ; лисичка увидала , что дерево не такое , как ей всемерно , й ' пять розсердилась .\n",
      "\n",
      "src: \" ти , - говорить , - не казав , видно , так , як я тобі веліла ! \"\n",
      "dst: \" какой , - говорит , - не говорил , видно , да , как мной тебе велела ! \"\n",
      "\n",
      "src: - \" ні , я усе теє казав , що ти мені казала \" .\n",
      "dst: - \" ни , мной всё ёж говорил , что какой мне говорила \" .\n",
      "\n",
      "src: - \" да чомусь не таке рубалось ?\n",
      "dst: - \" ой почему-то не такое рубалось ?\n",
      "\n",
      "src: ну , сиди ж ти тут , а я сама піду нарубаю \" , - да і пішла у ліс .\n",
      "dst: ну , сидеть же какой здесь , а мной одна пойду нарубаю \" , - ой и пошла во лес .\n",
      "\n",
      "src: а вовк дивиться , що він сам остався ; узяв да проїв у бичка дірку да виїв усе в середині , а напускав туда горобців да ще соломою заткнув , поставив бичка , а сам і втік .\n",
      "dst: а волк смотрит , что он сам остался ; взял ой проїв во бычок дыра ой виїв всё во середине , а напускав туда воробьёв ой ещe соломой сунуть , поставил бычок , а сам и сбежал .\n",
      "\n",
      "src: аж лисичка приходить , зробила санки да й сіла і стала поганять : \" гей , бичок - третячок ! \"\n",
      "dst: до лисичка приходит , сделала санки ой и сесть и стала поганять : \" гей , бычок - третячок ! \"\n",
      "\n",
      "src: тілько він не везе .\n",
      "dst: притом он не везти .\n",
      "\n",
      "src: от вона встала , щоб поправить : може , що не так запряжено ; да , не хотячи , одоткнула солому , а оттуда так і сипнули горобці летіти .\n",
      "dst: из она встать , чтобы поправить : может , что не да запряжено ; ой , не вздумал , одоткнула солому , а ту да и сипнули воробьи лететь .\n",
      "\n",
      "src: вона уже тоді побачила , що бичок неживий ; покинула його да й пішла .\n",
      "dst: она уже тогда увидела , что бычок неодушевленный ; покинула его ой и пошла .\n",
      "\n",
      "src: легла на дорозі , аж дивиться - їде мужик з рибою ; вона і притворилась , що здохла .\n",
      "dst: легла по дороге , до смотрит - едет мужик со рыбой ; она и притворилась , что скотина .\n",
      "\n",
      "src: от мужик і говорить : \" возьму я оцю лисицю , обдеру да хоть шапку собі зошью \" .\n",
      "dst: из мужик и говорит : \" возьму мной ту лиса , обдеру ой -бы шапка себе зошью \" .\n",
      "\n",
      "src: узяв да і положив ззаді у воза .\n",
      "dst: взял ой и положил сзади во телега .\n",
      "\n",
      "src: вона замітила , що мужик не смотрить , стала ногами викидувать рибу з воза , а когда побачила , що навикидала уже багато , тоди потихесеньку і сама злізла ; сіла біля риби да і їсть собі , - коли біжить оп'ять той самий вовчик .\n",
      "dst: она обнаружила , что мужик не смотрить , стала ногами викидувать рыба со телега , а подпирать увидела , что навикидала уже много , способы потихесеньку и одна слезть ; сесть возле рыбы ой и ест себе , - когда бежит й ' пять тот самый вовчик .\n",
      "\n",
      "src: побачивши , що вона їсть рибу , прибіг до їй да й каже : \" здорово була , лисичко - сестричко !\n",
      "dst: увидев , что она ест рыба , прибежал от ей ой и говорит : \" здорово была , лисичко - сестрица !\n",
      "\n",
      "src: де се ти набрала стільки риби ? \"\n",
      "dst: куда коль какой набрала столько рыбы ? \"\n",
      "\n",
      "src: вона каже : \" наловила , вовчику - братику ! \"\n",
      "dst: она говорит : \" наловила , вовчику - сынок ! \"\n",
      "\n",
      "src: а собі на думці : \" подожди , і я зроблю з тобою таку штуку , як і ти зо мною \" .\n",
      "dst: а себе по мнении : \" подожди , и мной сделаю со тобой такую штуку , как и какой десять мной \" .\n",
      "\n",
      "src: - \" як же ти ловила ? \"\n",
      "dst: - \" как же какой ловила ? \"\n",
      "\n",
      "src: - \" так , вовчику , уложила хвостик в ополонку , вожу тихенько да й кажу ; ловися , рибка , мала і велика !\n",
      "dst: - \" да , вовчику , уложила хвостик во прорубь , вожу тихонько ой и говорю ; ловися , рыбка , имела и большая !\n",
      "\n",
      "src: коли хочеш , то і ти піди , налови собі \" .\n",
      "dst: когда хочешь , то и какой пойди , налови себе \" .\n",
      "\n",
      "src: він побіг да зробив так , як казала лисичка .\n",
      "dst: он побежал ой сделал да , как говорила лисичка .\n",
      "\n",
      "src: а лисичка стала за деревом да й дивиться ; коли у вовчика зовсім хвостик примерз , вона тоді побігла в село да й кричить : \" ідіть , люди , вбивайте вовка ! \"\n",
      "dst: а лисичка стала за деревом ой и смотрит ; когда во вовчика совсем хвостик примерз , она тогда побежала во селение ой и кричит : \" идите , люди , убивать волк ! \"\n",
      "\n",
      "src: люди набігли з кольями да і убили його .\n",
      "dst: люди набежали со кольями ой и убили его .\n",
      "\n",
      "src: \n",
      "dst: \n",
      "\n"
     ]
    }
   ],
   "source": [
    "for sentence in uk_sentences:\n",
    "    print(\"src: {}\\ndst: {}\\n\".format(sentence, translate(sentence)))"
   ]
  },
  {
   "cell_type": "markdown",
   "metadata": {},
   "source": [
    "Not so bad, right? We can easily improve translation using language model and not one but several nearest neighbours in shared embedding space. But next time."
   ]
  },
  {
   "cell_type": "markdown",
   "metadata": {},
   "source": [
    "## Would you like to learn more?\n",
    "\n",
    "### Articles:\n",
    "* [Exploiting Similarities among Languages for Machine Translation](https://arxiv.org/pdf/1309.4168)  - entry point for multilingual embedding studies by Tomas Mikolov (the author of W2V)\n",
    "* [Offline bilingual word vectors, orthogonal transformations and the inverted softmax](https://arxiv.org/pdf/1702.03859) - orthogonal transform for unsupervised MT\n",
    "* [Word Translation Without Parallel Data](https://arxiv.org/pdf/1710.04087)\n",
    "* [Loss in Translation: Learning Bilingual Word Mapping with a Retrieval Criterion](https://arxiv.org/pdf/1804.07745)\n",
    "* [Unsupervised Alignment of Embeddings with Wasserstein Procrustes](https://arxiv.org/pdf/1805.11222)\n",
    "\n",
    "### Repos (with ready-to-use multilingual embeddings):\n",
    "* https://github.com/facebookresearch/MUSE\n",
    "\n",
    "* https://github.com/Babylonpartners/fastText_multilingual -"
   ]
  }
 ],
 "metadata": {
  "kernelspec": {
   "display_name": "Python 3",
   "language": "python",
   "name": "python3"
  },
  "language_info": {
   "codemirror_mode": {
    "name": "ipython",
    "version": 3
   },
   "file_extension": ".py",
   "mimetype": "text/x-python",
   "name": "python",
   "nbconvert_exporter": "python",
   "pygments_lexer": "ipython3",
   "version": "3.7.3"
  }
 },
 "nbformat": 4,
 "nbformat_minor": 4
}
