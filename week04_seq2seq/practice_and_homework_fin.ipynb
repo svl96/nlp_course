{
 "cells": [
  {
   "cell_type": "markdown",
   "metadata": {
    "colab_type": "text",
    "id": "HmsFABwClrsS"
   },
   "source": [
    "## Seminar and homework (10 points total)\n",
    "\n",
    "Today we shall compose encoder-decoder neural networks and apply them to the task of machine translation.\n",
    "\n",
    "![img](https://esciencegroup.files.wordpress.com/2016/03/seq2seq.jpg)\n",
    "_(img: esciencegroup.files.wordpress.com)_\n",
    "\n",
    "\n",
    "Encoder-decoder architectures are about converting anything to anything, including\n",
    " * Machine translation and spoken dialogue systems\n",
    " * [Image captioning](http://mscoco.org/dataset/#captions-challenge2015) and [image2latex](https://openai.com/requests-for-research/#im2latex) (convolutional encoder, recurrent decoder)\n",
    " * Generating [images by captions](https://arxiv.org/abs/1511.02793) (recurrent encoder, convolutional decoder)\n",
    " * Grapheme2phoneme - convert words to transcripts"
   ]
  },
  {
   "cell_type": "markdown",
   "metadata": {
    "colab_type": "text",
    "id": "R4N9AD2dlrsU"
   },
   "source": [
    "## Our task: machine translation\n",
    "\n",
    "We gonna try our encoder-decoder models on russian to english machine translation problem. More specifically, we'll translate hotel and hostel descriptions. This task shows the scale of machine translation while not requiring you to train your model for weeks if you don't use GPU.\n",
    "\n",
    "Before we get to the architecture, there's some preprocessing to be done. ~~Go tokenize~~ Alright, this time we've done preprocessing for you. As usual, the data will be tokenized with WordPunctTokenizer.\n",
    "\n",
    "However, there's one more thing to do. Our data lines contain unique rare words. If we operate on a word level, we will have to deal with large vocabulary size. If instead we use character-level models, it would take lots of iterations to process a sequence. This time we're gonna pick something inbetween.\n",
    "\n",
    "One popular approach is called [Byte Pair Encoding](https://github.com/rsennrich/subword-nmt) aka __BPE__. The algorithm starts with a character-level tokenization and then iteratively merges most frequent pairs for N iterations. This results in frequent words being merged into a single token and rare words split into syllables or even characters.\n",
    "\n"
   ]
  },
  {
   "cell_type": "code",
   "execution_count": 1,
   "metadata": {},
   "outputs": [],
   "source": [
    "# !pip3 install tensorflow-gpu==2.0.0\n",
    "# !pip3 install subword-nmt\n",
    "# !wget https://www.dropbox.com/s/yy2zqh34dyhv07i/data.txt?dl=1 -O data.txt\n",
    "# !wget https://www.dropbox.com/s/fj9w01embfxvtw1/dummy_checkpoint.npz?dl=1 -O dummy_checkpoint.npz\n",
    "# !wget https://raw.githubusercontent.com/yandexdataschool/nlp_course/2019/week04_seq2seq/utils.py -O utils.py\n",
    "# thanks to tilda and deephack teams for the data, Dmitry Emelyanenko for the code :)"
   ]
  },
  {
   "cell_type": "code",
   "execution_count": 2,
   "metadata": {},
   "outputs": [
    {
     "data": {
      "text/plain": [
       "('2.0.0', '1.16.4')"
      ]
     },
     "execution_count": 2,
     "metadata": {},
     "output_type": "execute_result"
    }
   ],
   "source": [
    "import tensorflow as tf\n",
    "import numpy as np\n",
    "tf.__version__, np.__version__"
   ]
  },
  {
   "cell_type": "code",
   "execution_count": 3,
   "metadata": {},
   "outputs": [],
   "source": [
    "from nltk.tokenize import WordPunctTokenizer\n",
    "from subword_nmt.learn_bpe import learn_bpe\n",
    "from subword_nmt.apply_bpe import BPE\n",
    "\n",
    "tokenizer = WordPunctTokenizer()\n",
    "def tokenize(x):\n",
    "    return ' '.join(tokenizer.tokenize(x.lower()))\n"
   ]
  },
  {
   "cell_type": "code",
   "execution_count": 4,
   "metadata": {
    "colab": {},
    "colab_type": "code",
    "id": "g9kP0SdxlrsY"
   },
   "outputs": [],
   "source": [
    "\n",
    "# split and tokenize the data\n",
    "with open('train.en', 'w', encoding='utf8') as f_src,  open('train.ru', 'w', encoding='utf8') as f_dst:\n",
    "    for line in open('data.txt', encoding='utf8'):\n",
    "        src_line, dst_line = line.strip().split('\\t')\n",
    "        f_src.write(tokenize(src_line) + '\\n')\n",
    "        f_dst.write(tokenize(dst_line) + '\\n')\n",
    "\n",
    "# build and apply bpe vocs\n",
    "bpe = {}\n",
    "for lang in ['en', 'ru']:\n",
    "    learn_bpe(open('./train.' + lang, encoding='utf8'), open('bpe_rules.' + lang, 'w', encoding='utf8'), num_symbols=8000)\n",
    "    bpe[lang] = BPE(open('./bpe_rules.' + lang, encoding='utf8'))\n",
    "    \n",
    "    with open('train.bpe.' + lang, 'w', encoding='utf8') as f_out:\n",
    "        for line in open('train.' + lang, encoding='utf8'):\n",
    "            f_out.write(bpe[lang].process_line(line.strip()) + '\\n')"
   ]
  },
  {
   "cell_type": "markdown",
   "metadata": {
    "colab_type": "text",
    "id": "0UPW3sV8lrsb"
   },
   "source": [
    "### Building vocabularies\n",
    "\n",
    "We now need to build vocabularies that map strings to token ids and vice versa. We're gonna need these fellas when we feed training data into model or convert output matrices into words."
   ]
  },
  {
   "cell_type": "code",
   "execution_count": 5,
   "metadata": {},
   "outputs": [],
   "source": [
    "import numpy as np\n",
    "import matplotlib.pyplot as plt\n",
    "%matplotlib inline"
   ]
  },
  {
   "cell_type": "code",
   "execution_count": 6,
   "metadata": {},
   "outputs": [
    {
     "name": "stdout",
     "output_type": "stream",
     "text": [
      "inp: на территории обустроена бесплатная частная парковка .\n",
      "out: free private parking is available on site .\n",
      "\n",
      "inp: кроме того , в 5 минутах ходьбы работают многочисленные бары и рестораны .\n",
      "out: guests can find many bars and restaurants within a 5 - minute walk .\n",
      "\n",
      "inp: отель san mi@@ gu@@ el расположен в центре мор@@ ели@@ и , в 750 метрах от главной площади города и кафедрального собора .\n",
      "out: hotel san miguel is located in central more@@ lia , 750 metres from the city ’ s main square and cathedral .\n",
      "\n"
     ]
    }
   ],
   "source": [
    "data_inp = np.array(open('./train.bpe.ru', encoding='utf8').read().split('\\n'))\n",
    "data_out = np.array(open('./train.bpe.en', encoding='utf8').read().split('\\n'))\n",
    "\n",
    "from sklearn.model_selection import train_test_split\n",
    "train_inp, dev_inp, train_out, dev_out = train_test_split(data_inp, data_out, test_size=3000,\n",
    "                                                          random_state=42)\n",
    "for i in range(3):\n",
    "    print('inp:', train_inp[i])\n",
    "    print('out:', train_out[i], end='\\n\\n')"
   ]
  },
  {
   "cell_type": "code",
   "execution_count": 7,
   "metadata": {},
   "outputs": [],
   "source": [
    "from utils import Vocab\n",
    "inp_voc = Vocab.from_lines(train_inp)\n",
    "out_voc = Vocab.from_lines(train_out)"
   ]
  },
  {
   "cell_type": "code",
   "execution_count": 8,
   "metadata": {},
   "outputs": [
    {
     "name": "stdout",
     "output_type": "stream",
     "text": [
      "lines\n",
      "['гостевой дом r .', 'до афин — 20 км .', 'работает боулинг .', 'оборудован балкон .', 'подключен wi - fi .']\n",
      "\n",
      "words to ids (0 = bos, 1 = eos):\n",
      "[[   0 2688 2943 1108   29    1    1    1]\n",
      " [   0 2922 1834 8035   59 3800   29    1]\n",
      " [   0 6030 2083   29    1    1    1    1]\n",
      " [   0 4927 1870   29    1    1    1    1]\n",
      " [   0 5549 1453   27  592   29    1    1]]\n",
      "\n",
      "back to words\n",
      "['гостевой дом r .', 'до афин — 20 км .', 'работает боулинг .', 'оборудован балкон .', 'подключен wi - fi .']\n"
     ]
    }
   ],
   "source": [
    "# Here's how you cast lines into ids and backwards.\n",
    "batch_lines = sorted(train_inp, key=len)[5:10]\n",
    "batch_ids = inp_voc.to_matrix(batch_lines)\n",
    "batch_lines_restored = inp_voc.to_lines(batch_ids)\n",
    "\n",
    "print(\"lines\")\n",
    "print(batch_lines)\n",
    "print(\"\\nwords to ids (0 = bos, 1 = eos):\")\n",
    "print(batch_ids)\n",
    "print(\"\\nback to words\")\n",
    "print(batch_lines_restored)"
   ]
  },
  {
   "cell_type": "markdown",
   "metadata": {
    "colab_type": "text",
    "id": "gSYu-MkElrsk"
   },
   "source": [
    "Draw source and translation length distributions to estimate the scope of the task."
   ]
  },
  {
   "cell_type": "code",
   "execution_count": 9,
   "metadata": {},
   "outputs": [
    {
     "data": {
      "image/png": "[encoded data removed]",
      "text/plain": [
       "<Figure size 576x288 with 2 Axes>"
      ]
     },
     "metadata": {
      "needs_background": "light"
     },
     "output_type": "display_data"
    }
   ],
   "source": [
    "plt.figure(figsize=[8, 4])\n",
    "plt.subplot(1, 2, 1)\n",
    "plt.title(\"source length\")\n",
    "plt.hist(list(map(len, map(str.split, train_inp))), bins=20);\n",
    "\n",
    "plt.subplot(1, 2, 2)\n",
    "plt.title(\"translation length\")\n",
    "plt.hist(list(map(len, map(str.split, train_out))), bins=20);"
   ]
  },
  {
   "cell_type": "markdown",
   "metadata": {
    "colab_type": "text",
    "id": "BHWgx34flrsn"
   },
   "source": [
    "### Encoder-decoder model\n",
    "\n",
    "The code below contas a template for a simple encoder-decoder model: single GRU encoder/decoder, no attention or anything. This model is implemented for you as a reference and a baseline for your homework assignment."
   ]
  },
  {
   "cell_type": "code",
   "execution_count": 10,
   "metadata": {},
   "outputs": [],
   "source": [
    "import tensorflow as tf\n",
    "assert tf.__version__.startswith('2'), \"Current tf version: {}; required: 2.0.*\".format(tf.__version__)\n",
    "L = tf.keras.layers\n",
    "keras = tf.keras\n",
    "from utils import infer_length, infer_mask"
   ]
  },
  {
   "cell_type": "code",
   "execution_count": 11,
   "metadata": {},
   "outputs": [],
   "source": [
    "class BasicModel(L.Layer):\n",
    "    def __init__(self, inp_voc, out_voc, emb_size=64, hid_size=128):\n",
    "        \"\"\"\n",
    "        A simple encoder-decoder model\n",
    "        \"\"\"\n",
    "        super().__init__() # initialize base class to track sub-layers, trainable variables, etc.\n",
    "\n",
    "        self.inp_voc, self.out_voc = inp_voc, out_voc # Vocab classes\n",
    "        self.hid_size = hid_size # size of hidden layer\n",
    "\n",
    "        self.emb_inp = L.Embedding(len(inp_voc), emb_size) # embedding for encoder\n",
    "        self.emb_out = L.Embedding(len(out_voc), emb_size) # embeding for decoder\n",
    "        self.enc0 = L.GRUCell(hid_size) # RNN for encoder\n",
    "\n",
    "        self.dec_start = L.Dense(hid_size) # Create decoder start state\n",
    "        self.dec0 = L.GRUCell(hid_size) # RNN for decoder\n",
    "        self.logits = L.Dense(len(out_voc)) # decoder logit result\n",
    "\n",
    "    @tf.function\n",
    "    def encode_step(self, prev_state, embs, mask, **flags):\n",
    "        \"\"\"\n",
    "        :prev_state: list of previous encoder states (save only last state) last state at position [0]\n",
    "        :embs: input token embedding with shape [batch_size, emb_size]\n",
    "        :mask: mask for entire time [batch_size, 1]\n",
    "        \"\"\"\n",
    "        output, next_state = self.enc0(embs, prev_state) # [batch, hid_size], list([batch, hid_size]) \n",
    "        new_state = [\n",
    "                    tf.where(\n",
    "                        tf.tile(mask, [1,next_tensor.shape[1]]),\n",
    "                        next_tensor, tensor\n",
    "                    ) for tensor, next_tensor in zip(prev_state, next_state)\n",
    "        ]\n",
    "        return new_state\n",
    "\n",
    "    def encode(self, inp, **flags):\n",
    "        \"\"\"\n",
    "        Takes symbolic input sequence, computes initial state\n",
    "        :param inp: matrix of input tokens [batch, time]\n",
    "        :returns: initial decoder state tensors, one or many\n",
    "        \"\"\"\n",
    "        inp_emb = self.emb_inp(inp) # [batch, time(n_input), emb_size]\n",
    "        batch_size = inp.shape[0]\n",
    "        \n",
    "        mask = infer_mask(inp, self.inp_voc.eos_ix, dtype=tf.bool) # [batch, time] mask for each time\n",
    "        state = [tf.zeros((batch_size, self.hid_size), tf.float32)] # list([batch, hid_size])\n",
    "        for i in tf.range(inp_emb.shape[1]): # for token in time\n",
    "            state = self.encode_step(state, inp_emb[:, i], mask[:, i, None]) # list([batch, hid_size])\n",
    "        \n",
    "        dec_start = self.dec_start(state[0]) # [batch, hid_size]\n",
    "        return [dec_start]\n",
    "\n",
    "    @tf.function\n",
    "    def decode_step(self, prev_state, prev_tokens, **flags):\n",
    "        \"\"\"\n",
    "        Takes previous decoder state and tokens, returns new state and logits for next tokens\n",
    "        :param prev_state: a list of previous decoder state tensors\n",
    "        :param prev_tokens: previous output tokens, an int vector of [batch_size]\n",
    "        :return: a list of next decoder state tensors, a tensor of logits [batch, n_tokens]\n",
    "        \"\"\"\n",
    "        \n",
    "        out_emb = self.emb_out(prev_tokens) # [batch, emb_size]\n",
    "        output, new_dec_state = self.dec0(out_emb, prev_state) # [batch, hid_size], list([batch, hid_size])\n",
    "        output_logits = self.logits(output) # [batch, voc_size]\n",
    "        \n",
    "        return new_dec_state, output_logits\n",
    "\n",
    "    def decode(self, initial_state, out_tokens, **flags):\n",
    "        \"\"\" Run decoder on reference tokens (out_tokens) \"\"\"\n",
    "        state = initial_state # list([batch, hid_size])\n",
    "        batch_size = out_tokens.shape[0]\n",
    "\n",
    "        # initial logits: always predict BOS\n",
    "        first_logits = tf.math.log(\n",
    "            tf.one_hot(tf.fill([batch_size], self.out_voc.bos_ix), len(self.out_voc)) + 1e-30)\n",
    "        outputs = [first_logits]\n",
    "\n",
    "        for i in tf.range(out_tokens.shape[1] - 1):\n",
    "            state, logits = self.decode_step(state, out_tokens[:, i])\n",
    "            outputs.append(logits)\n",
    "\n",
    "        return tf.stack(outputs, axis=1)\n",
    "\n",
    "    def call(self, inp, out):\n",
    "        \"\"\" Apply model in training mode \"\"\"\n",
    "        initial_state = self.encode(inp) # run encoder to crete decoder init state\n",
    "        return self.decode(initial_state, out) # run decoder\n",
    "\n",
    "    def decode_inference(self, initial_state, max_len=100, **flags):\n",
    "        \"\"\" Generate translations from model (greedy version) \"\"\"\n",
    "        state = initial_state # list([batch_size, hid_size])\n",
    "        outputs = [tf.ones(initial_state[0].shape[0], tf.int32) * self.out_voc.bos_ix]\n",
    "        all_states = [initial_state] # list of lists\n",
    "\n",
    "        for i in tf.range(max_len):\n",
    "            state, logits = self.decode_step(state, outputs[-1])\n",
    "            outputs.append(tf.argmax(logits, axis=-1, output_type=tf.int32))\n",
    "            all_states.append(state)\n",
    "        \n",
    "        return tf.stack(outputs, axis=1), all_states\n",
    "\n",
    "    def translate_lines(self, inp_lines):\n",
    "        inp = tf.convert_to_tensor(inp_voc.to_matrix(inp_lines)) # [batch, times]\n",
    "\n",
    "        initial_state = self.encode(inp) # list([batch, hid_size])\n",
    "        out_ids, states = self.decode_inference(initial_state)\n",
    "        return out_voc.to_lines(out_ids.numpy()), states\n"
   ]
  },
  {
   "cell_type": "code",
   "execution_count": 12,
   "metadata": {},
   "outputs": [],
   "source": [
    "model = BasicModel(inp_voc, out_voc)"
   ]
  },
  {
   "cell_type": "code",
   "execution_count": 13,
   "metadata": {},
   "outputs": [],
   "source": [
    "dummy_inp = tf.convert_to_tensor(inp_voc.to_matrix(train_inp[:3]))\n",
    "dummy_out = tf.convert_to_tensor(out_voc.to_matrix(train_out[:3]))\n",
    "dummy_logits = model(dummy_inp, dummy_out)\n",
    "ref_shape = (dummy_out.shape[0], dummy_out.shape[1], len(out_voc))\n",
    "assert dummy_logits.shape == ref_shape, \"Your logits shape should be {} but got {}\".format(dummy_logits.shape, ref_shape)\n",
    "assert all(dummy_logits[:, 0].numpy().argmax(-1) == out_voc.bos_ix), \"first step must always be BOS\""
   ]
  },
  {
   "cell_type": "markdown",
   "metadata": {
    "colab_type": "text",
    "id": "_wuv1-aVlrs0"
   },
   "source": [
    "### Training loss (2 points)\n",
    "\n",
    "Our training objetive is almost the same as it was for neural language models:\n",
    "$$ L = {\\frac1{|D|}} \\sum_{X, Y \\in D} \\sum_{y_t \\in Y} - \\log p(y_t \\mid y_1, \\dots, y_{t-1}, X, \\theta) $$\n",
    "\n",
    "where $|D|$ is the __total length of all sequences__, including BOS and first EOS, but excluding PAD."
   ]
  },
  {
   "cell_type": "code",
   "execution_count": 14,
   "metadata": {},
   "outputs": [],
   "source": [
    "def compute_loss(model, inp, out, **flags):\n",
    "    \"\"\"\n",
    "    Compute loss (float32 scalar) as in the formula above\n",
    "    :param inp: input tokens matrix, int32[batch, time]\n",
    "    :param out: reference tokens matrix, int32[batch, time]\n",
    "    \n",
    "    In order to pass the tests, your function should\n",
    "    * include loss at first EOS but not the subsequent ones\n",
    "    * divide sum of losses by a sum of input lengths (use infer_length or infer_mask)\n",
    "    \"\"\"\n",
    "    inp, out = map(tf.convert_to_tensor, [inp, out])\n",
    "    targets_1hot = tf.one_hot(out, len(model.out_voc), dtype=tf.float32)\n",
    "    mask = infer_mask(out, out_voc.eos_ix) # [batch_size, out_len]\n",
    "\n",
    "    # outputs of the model, [batch_size, out_len, num_tokens]\n",
    "    logits_seq = model(inp, out) # [batch, time, n_tokens]\n",
    "\n",
    "    # log-probabilities of all tokens at all steps, [batch_size, out_len, num_tokens]\n",
    "    logprobs_seq = tf.nn.log_softmax(logits_seq, axis=-1)\n",
    "   \n",
    "    # log-probabilities of correct outputs, [batch_size, out_len]\n",
    "    logp_out = tf.reduce_sum(logprobs_seq * targets_1hot, axis=-1)\n",
    "\n",
    "    # mean cross-entropy over tokens where mask == 1\n",
    "    return -tf.reduce_sum(logp_out * mask) / tf.reduce_sum(mask)"
   ]
  },
  {
   "cell_type": "code",
   "execution_count": 15,
   "metadata": {},
   "outputs": [
    {
     "name": "stdout",
     "output_type": "stream",
     "text": [
      "Loss: tf.Tensor(8.424146, shape=(), dtype=float32)\n"
     ]
    }
   ],
   "source": [
    "# tf.debugging.set_log_device_placement(True)\n",
    "dummy_loss = compute_loss(model, dummy_inp, dummy_out)\n",
    "print(\"Loss:\", dummy_loss)\n",
    "assert np.allclose(dummy_loss, 8.425, rtol=0.1, atol=0.1), \"We're sorry for your loss\""
   ]
  },
  {
   "cell_type": "markdown",
   "metadata": {
    "colab_type": "text",
    "id": "HpbaBpW7lrs-"
   },
   "source": [
    "### Evaluation: BLEU\n",
    "\n",
    "Machine translation is commonly evaluated with [BLEU](https://en.wikipedia.org/wiki/BLEU) score. This metric simply computes which fraction of predicted n-grams is actually present in the reference translation. It does so for n=1,2,3 and 4 and computes the geometric average with penalty if translation is shorter than reference.\n",
    "\n",
    "While BLEU [has many drawbacks](http://www.cs.jhu.edu/~ccb/publications/re-evaluating-the-role-of-bleu-in-mt-research.pdf), it still remains the most commonly used metric and one of the simplest to compute."
   ]
  },
  {
   "cell_type": "code",
   "execution_count": 16,
   "metadata": {},
   "outputs": [],
   "source": [
    "from nltk.translate.bleu_score import corpus_bleu\n",
    "def compute_bleu(model, inp_lines, out_lines, bpe_sep='@@ ', **flags):\n",
    "    \"\"\"\n",
    "    Estimates corpora-level BLEU score of model's translations given inp and reference out\n",
    "    Note: if you're serious about reporting your results, use https://pypi.org/project/sacrebleu\n",
    "    \"\"\"\n",
    "    translations, _ = model.translate_lines(inp_lines, **flags)\n",
    "    translations = [line.replace(bpe_sep, '') for line in translations] \n",
    "    return corpus_bleu(\n",
    "        [[ref.split()] for ref in out_lines],\n",
    "        [trans.split() for trans in translations],\n",
    "        smoothing_function=lambda precisions, **kw: [p + 1.0 / p.denominator for p in precisions]\n",
    "        ) * 100"
   ]
  },
  {
   "cell_type": "code",
   "execution_count": 17,
   "metadata": {},
   "outputs": [
    {
     "name": "stdout",
     "output_type": "stream",
     "text": [
      "Wall time: 4.02 s\n"
     ]
    },
    {
     "data": {
      "text/plain": [
       "0.0019421609059371906"
      ]
     },
     "execution_count": 17,
     "metadata": {},
     "output_type": "execute_result"
    }
   ],
   "source": [
    "%%time\n",
    "compute_bleu(model, dev_inp, dev_out)"
   ]
  },
  {
   "cell_type": "markdown",
   "metadata": {
    "colab_type": "text",
    "id": "nQDhGwg4lrtC"
   },
   "source": [
    "### Training loop\n",
    "\n",
    "Training encoder-decoder models isn't that different from any other models: sample batches, compute loss, backprop and update"
   ]
  },
  {
   "cell_type": "code",
   "execution_count": 18,
   "metadata": {},
   "outputs": [],
   "source": [
    "from IPython.display import clear_output\n",
    "from tqdm import tqdm, trange\n",
    "opt = keras.optimizers.Adam(1e-3)"
   ]
  },
  {
   "cell_type": "code",
   "execution_count": 19,
   "metadata": {},
   "outputs": [],
   "source": [
    "metrics = {'train_loss': [], 'dev_bleu': [] }\n",
    "batch_size = 100\n",
    "iterations = 10000 "
   ]
  },
  {
   "cell_type": "code",
   "execution_count": 20,
   "metadata": {},
   "outputs": [],
   "source": [
    "def train_loop(model, batch_size, iterations, metrics, opt):\n",
    "    for _ in trange(iterations):\n",
    "        step = len(metrics['train_loss']) + 1\n",
    "        batch_ix = np.random.randint(len(train_inp), size=batch_size)\n",
    "        batch_inp = inp_voc.to_matrix(train_inp[batch_ix])\n",
    "        batch_out = out_voc.to_matrix(train_out[batch_ix])\n",
    "\n",
    "        with tf.GradientTape() as tape:\n",
    "             loss_t = compute_loss(model, batch_inp, batch_out)\n",
    "\n",
    "        grads = tape.gradient(loss_t, model.trainable_variables)\n",
    "        opt.apply_gradients(zip(grads, model.trainable_variables))\n",
    "\n",
    "\n",
    "        metrics['train_loss'].append((step, loss_t.numpy()))\n",
    "\n",
    "        if step % 100 == 0:\n",
    "            metrics['dev_bleu'].append((step, compute_bleu(model, dev_inp, dev_out)))\n",
    "\n",
    "            clear_output(True)\n",
    "            plt.figure(figsize=(12,4))\n",
    "            for i, (name, history) in enumerate(sorted(metrics.items())):\n",
    "                plt.subplot(1, len(metrics), i + 1)\n",
    "                plt.title(name)\n",
    "                plt.plot(*zip(*history))\n",
    "                plt.grid()\n",
    "            plt.show()\n",
    "            print(\"Mean loss=%.3f\" % np.mean(metrics['train_loss'][-10:], axis=0)[1], flush=True)\n",
    "    #     clear_output(True)\n",
    "        \n",
    "# Note: it's okay if bleu oscillates up and down as long as it gets better on average over long term (e.g. 5k batches)"
   ]
  },
  {
   "cell_type": "code",
   "execution_count": 19,
   "metadata": {},
   "outputs": [
    {
     "data": {
      "image/png": "[encoded data removed]",
      "text/plain": [
       "<Figure size 864x288 with 2 Axes>"
      ]
     },
     "metadata": {
      "needs_background": "light"
     },
     "output_type": "display_data"
    },
    {
     "name": "stdout",
     "output_type": "stream",
     "text": [
      "Mean loss=1.964\n"
     ]
    },
    {
     "name": "stderr",
     "output_type": "stream",
     "text": [
      "100%|██████████| 10000/10000 [1:18:35<00:00,  1.47s/it]\n"
     ]
    }
   ],
   "source": [
    "train_loop(model, batch_size, iterations, metrics, opt)"
   ]
  },
  {
   "cell_type": "code",
   "execution_count": 20,
   "metadata": {
    "colab": {},
    "colab_type": "code",
    "id": "2ahuhKVhlrtP"
   },
   "outputs": [],
   "source": [
    "assert np.mean(metrics['dev_bleu'][-10:], axis=0)[1] > 15, \"We kind of need a higher bleu BLEU from you. Kind of right now.\""
   ]
  },
  {
   "cell_type": "code",
   "execution_count": 21,
   "metadata": {
    "colab": {},
    "colab_type": "code",
    "id": "KyaHOpealrtS"
   },
   "outputs": [
    {
     "name": "stdout",
     "output_type": "stream",
     "text": [
      "в распоряжении гостей общая кухня и общая гостиная .\n",
      "there is a shared kitchen , and a shared kitchen at the property .\n",
      "\n",
      "кроме того , предоставляется прокат велосипедов , услуги трансфера и бесплатная парковка .\n",
      "car hire is available at the property and free parking is available on site .\n",
      "\n",
      "расстояние до города ки@@ сси@@ м@@ ми составляет 26 км .\n",
      "corri@@ entes town centre is 40 km from the property .\n",
      "\n",
      "апартаменты в пент@@ хаусе с общим открытым бассейном , садом , кондиционером и террасой для загара расположены в 5 минутах ходьбы от пляжа на курорте ка@@ бо - рой .\n",
      "located in the centre of alghero , just a 15 - minute walk from the beach , the property offers a garden with a sun terrace and a sun terrace .\n",
      "\n",
      "апартаменты mo@@ s@@ co@@ w point - loft red square находятся в москве , в 200 метрах от большого театра .\n",
      "apartment in saint - emil@@ skaya - style apartments offers accommodation in tallinn , 1 . 5 km from the centre of the savior on spilled blood .\n",
      "\n",
      "в вашем распоряжении собственная ванная комната с душем и полотенцами .\n",
      "featuring a shower , private bathrooms also come with a hairdryer .\n",
      "\n"
     ]
    }
   ],
   "source": [
    "for inp_line, trans_line in zip(dev_inp[::500], model.translate_lines(dev_inp[::500])[0]):\n",
    "    print(inp_line)\n",
    "    print(trans_line)\n",
    "    print()"
   ]
  },
  {
   "cell_type": "code",
   "execution_count": 22,
   "metadata": {},
   "outputs": [],
   "source": [
    "import pickle"
   ]
  },
  {
   "cell_type": "code",
   "execution_count": 23,
   "metadata": {},
   "outputs": [],
   "source": [
    "with open('simple_weights.pkl', 'wb') as f:\n",
    "    pickle.dump(model.get_weights(), f)"
   ]
  },
  {
   "cell_type": "code",
   "execution_count": 25,
   "metadata": {},
   "outputs": [],
   "source": [
    "with open('simple_history.pkl', 'wb') as f:\n",
    "    pickle.dump(metrics, f)"
   ]
  },
  {
   "cell_type": "markdown",
   "metadata": {
    "colab_type": "text",
    "id": "Tv0s8qxOXp5y"
   },
   "source": [
    "# Homework code templates will appear here soon!"
   ]
  },
  {
   "cell_type": "markdown",
   "metadata": {
    "colab_type": "text",
    "id": "edk_oVg0lrtW"
   },
   "source": [
    "### Your Attention Required\n",
    "\n",
    "In this section we want you to improve over the basic model by implementing a simple attention mechanism.\n",
    "\n",
    "This is gonna be a two-parter: building the __attention layer__ and using it for an __attentive seq2seq model__."
   ]
  },
  {
   "cell_type": "markdown",
   "metadata": {
    "colab_type": "text",
    "id": "Qz9aROAIlrtX"
   },
   "source": [
    "### Attention layer (3 points)\n",
    "\n",
    "Here you will have to implement a layer that computes a simple additive attention:\n",
    "\n",
    "Given encoder sequence $ h^e_0, h^e_1, h^e_2, ..., h^e_T$ and a single decoder state $h^d$,\n",
    "\n",
    "* Compute logits with a 2-layer neural network\n",
    "$$a_t = linear_{out}(tanh(linear_{e}(h^e_t) + linear_{d}(h_d)))$$\n",
    "* Get probabilities from logits, \n",
    "$$ p_t = {{e ^ {a_t}} \\over { \\sum_\\tau e^{a_\\tau} }} $$\n",
    "\n",
    "* Add up encoder states with probabilities to get __attention response__\n",
    "$$ attn = \\sum_t p_t \\cdot h^e_t $$\n",
    "\n",
    "You can learn more about attention layers in the leture slides or [from this post](https://distill.pub/2016/augmented-rnns/)."
   ]
  },
  {
   "cell_type": "code",
   "execution_count": 21,
   "metadata": {},
   "outputs": [],
   "source": [
    "class AttentionLayer(L.Layer):\n",
    "    def __init__(self, name, enc_size, dec_size, hid_size, activ=tf.tanh):\n",
    "        \"\"\" A layer that computes additive attention response and weights \"\"\"\n",
    "        super().__init__()\n",
    "        #         self.name = name\n",
    "        self.enc_size = enc_size # num units in encoder state\n",
    "        self.dec_size = dec_size # num units in decoder state\n",
    "        self.hid_size = hid_size # attention layer hidden units\n",
    "        self.activ = activ       # attention layer hidden nonlinearity\n",
    "\n",
    "    def build(self, input_shape):\n",
    "        # create layer variables\n",
    "\n",
    "        self.linear_enc = L.Dense(self.enc_size) # linaer for encoder states\n",
    "        self.linear_dec = L.Dense(self.dec_size) # linear for decoder state\n",
    "        self.linear_out = L.Dense(1) # linaer for tanh of enc + dec states\n",
    "        self.hidden = L.Dense(self.hid_size)\n",
    "            \n",
    "        # Hint: you can find an example of custom layer here:\n",
    "        # https://www.tensorflow.org/tutorials/customization/custom_layers\n",
    "        super().build(input_shape)\n",
    "\n",
    "    def call(self, enc, dec, inp_mask):\n",
    "        \"\"\"\n",
    "        Computes attention response and weights\n",
    "        :param enc: encoder activation sequence, float32[batch_size, ninp, enc_size]\n",
    "        :param dec: single decoder state used as \"query\", float32[batch_size, dec_size]\n",
    "        :param inp_mask: mask on enc activatons (0 after first eos), float32 [batch_size, ninp]\n",
    "        :returns: attn[batch_size, enc_size], probs[batch_size, ninp]\n",
    "            - attn - attention response vector (weighted sum of enc)\n",
    "            - probs - attention weights after softmax\n",
    "        \"\"\"\n",
    "        # Compute logits\n",
    "        dedd = self.linear_dec(dec[0])\n",
    "        lin_enc = self.linear_enc(enc) # [batch, ninp, enc_size]\n",
    "        lin_dec = tf.expand_dims(dedd, axis=-2) # [batch, 1, enc_size]\n",
    "        scores = tf.reshape(self.linear_out(self.activ(lin_enc + lin_dec)), inp_mask.shape) # [batch, ninp, 1] or [batch, ninp]\n",
    "        # Apply mask - if mask is 0, logits should be -inf or -1e9\n",
    "        # You may need tf.where\n",
    "        masked = tf.where(inp_mask, scores, tf.zeros(inp_mask.shape) + 1e-9) # [batch, ninp]\n",
    "\n",
    "        # Compute attention probabilities (softmax)\n",
    "        probs = tf.nn.softmax(masked, axis=-1) # [batch, ninp]\n",
    "        # Compute attention response using enc and probs\n",
    "        exp = tf.expand_dims(probs, axis=-2)\n",
    "        attn = tf.reshape(tf.matmul(exp, enc), (-1, enc.shape[-1])) # [batch, enc_size]\n",
    "\n",
    "        return attn, probs"
   ]
  },
  {
   "cell_type": "markdown",
   "metadata": {
    "colab_type": "text",
    "id": "IalfpdAelrtb"
   },
   "source": [
    "### Seq2seq model with attention (2 points)\n",
    "\n",
    "You can now use the attention layer to build a network. The simplest way to implement attention is to use it in decoder phase:\n",
    "![img](https://i.imgur.com/6fKHlHb.png)\n",
    "_image from distill.pub [article](https://distill.pub/2016/augmented-rnns/)_\n",
    "\n",
    "On every step, use __previous__ decoder state to obtain attention response. Then feed concat this response to the inputs of next attetion layer.\n",
    "\n",
    "The key implementation detail here is __model state__. Put simply, you can add any tensor into the list of `encode` outputs. You will then have access to them at each `decode` step. This may include:\n",
    "* Last RNN hidden states (as in basic model)\n",
    "* The whole sequence of encoder outputs (to attend to) and mask\n",
    "* Attention probabilities (to visualize)\n",
    "\n",
    "_There are, of course, alternative ways to wire attention into your network and different kinds of attention. Take a look at [this](https://arxiv.org/abs/1609.08144), [this](https://arxiv.org/abs/1706.03762) and [this](https://arxiv.org/abs/1808.03867) for ideas. And for image captioning/im2latex there's [visual attention](https://arxiv.org/abs/1502.03044)_"
   ]
  },
  {
   "cell_type": "code",
   "execution_count": 51,
   "metadata": {
    "colab": {},
    "colab_type": "code",
    "id": "NCKPB5JmcE6j"
   },
   "outputs": [],
   "source": [
    "class AttentiveModel(BasicModel):\n",
    "    def __init__(self, name, inp_voc, out_voc,\n",
    "                 emb_size=64, hid_size=128, attn_size=128):\n",
    "        \"\"\" Translation model that uses attention. See instructions above. \"\"\"\n",
    "        L.Layer.__init__(self) # initialize base class to track sub-layers, trainable variables, etc.\n",
    "\n",
    "        self.inp_voc, self.out_voc = inp_voc, out_voc # Vocab class\n",
    "        self.hid_size = hid_size # hid_size of rnn\n",
    "        \n",
    "        self.emb_inp = L.Embedding(len(self.inp_voc), emb_size) # embedding for encoder\n",
    "        self.emb_out = L.Embedding(len(self.out_voc), emb_size) # embedding fot decoder\n",
    "        self.enc0 = L.GRUCell(hid_size) # rnn cell for encoder\n",
    "        self.dec_start = L.Dense(hid_size) # dense for initial state of decoder\n",
    "        \n",
    "        self.attn = AttentionLayer('attn_layer', hid_size, hid_size, attn_size)\n",
    "        self.dec0 = L.GRUCell(hid_size) # rnn cell for decoder\n",
    "        self.concat = L.Concatenate() # concate context_cell (attn) and decoder rnn output\n",
    "        self.logits = L.Dense(len(out_voc)) # logit for decoder result\n",
    "            \n",
    "    @tf.function\n",
    "    def encode_step(self, prev_state, embs, mask, **flags):\n",
    "        \"\"\" Same as BasicModel -- can delete from here \"\"\"\n",
    "        output, next_state = self.enc0(embs, prev_state)\n",
    "        new_state = [\n",
    "                    tf.where(\n",
    "                        tf.tile(mask, [1,next_tensor.shape[1]]),\n",
    "                        next_tensor, tensor\n",
    "                    ) for tensor, next_tensor in zip(prev_state, next_state)\n",
    "        ]\n",
    "        return new_state\n",
    "\n",
    "    def encode(self, inp, **flags):\n",
    "        \"\"\"\n",
    "        Takes symbolic input sequence, computes initial state\n",
    "        :param inp: matrix of input tokens [batch, time]\n",
    "        :return: a list of initial decoder state tensors\n",
    "        \"\"\"\n",
    "        \n",
    "        # encode input sequence, create initial decoder states\n",
    "        inp_emb = self.emb_inp(inp) # [batch, time, emb_size]\n",
    "        batch_size = inp.shape[0]\n",
    "        mask = infer_mask(inp, self.inp_voc.eos_ix, dtype=tf.bool) # [batch, time]\n",
    "        states = [tf.zeros((batch_size, self.hid_size), tf.float32)]\n",
    "        for i in tf.range(inp_emb.shape[1]):\n",
    "            state = self.encode_step([states[-1]], inp_emb[:, i], mask[:, i, None])\n",
    "            states.append(state[0])\n",
    "        states = states[1:] # remove init state for rnn\n",
    "        dec_start = self.dec_start(states[-1]) # [batch, hid_size]\n",
    "        \n",
    "        # apply attention layer from initial decoder hidden state\n",
    "        states_stacked = tf.stack(states, axis=1)\n",
    "        first_attn_probas = self.attn(states_stacked, [dec_start], mask)[1] # [batch, attn_size]\n",
    "        \n",
    "        # Build first state: include\n",
    "        # * initial states for decoder recurrent layers\n",
    "        # * encoder sequence and encoder attn mask (for attention)\n",
    "        # * make sure that last state item is attention probabilities tensor\n",
    "        \n",
    "        first_state = [[dec_start], states_stacked, mask, first_attn_probas]\n",
    "        return first_state\n",
    "    \n",
    "    @tf.function\n",
    "    def decode_step(self, prev_state, prev_tokens, **flags):\n",
    "        \"\"\"\n",
    "        Takes previous decoder state and tokens, returns new state and logits for next tokens\n",
    "        :param prev_state: a list of previous decoder state tensors\n",
    "        :param prev_tokens: previous output tokens, an int vector of [batch_size]\n",
    "        :return: a list of next decoder state tensors, a tensor of logits [batch, n_tokens]\n",
    "        \"\"\"\n",
    "        dec_state, emb_states, emb_mask, prev_probs = prev_state\n",
    "        out_emb = self.emb_out(prev_tokens) # [batch, emb_size]\n",
    "        output, new_dec_state = self.dec0(out_emb, dec_state) # [batch, hid_size], list([batch, hid_size])\n",
    "        attn, probs = self.attn(emb_states, new_dec_state, emb_mask) # [batch, hid_size], [batch, attn_size]\n",
    "        \n",
    "        \n",
    "        concat = self.concat([output, attn]) # [batch, 2*hid_size]\n",
    "        output_logits = self.logits(concat) # [batch, voc_size]\n",
    "        new_dec_state = [new_dec_state, emb_states, emb_mask, probs]\n",
    "        return new_dec_state, output_logits\n",
    "    \n",
    "    def decode(self, initial_state, out_tokens):\n",
    "        state = initial_state # some state\n",
    "        batch_size = out_tokens.shape[0]\n",
    "        \n",
    "        # initial logits: always predict BOS\n",
    "        first_logits = tf.math.log(\n",
    "            tf.one_hot(tf.fill([batch_size], self.out_voc.bos_ix), len(self.out_voc)) + 1e-30)\n",
    "        outputs = [first_logits]\n",
    "        \n",
    "        for i in tf.range(out_tokens.shape[1] - 1):\n",
    "            state, logits = self.decode_step(state, out_tokens[:, i])\n",
    "            outputs.append(logits)\n",
    "        \n",
    "        return tf.stack(outputs, axis=1)\n",
    "    \n",
    "    def decode_inference(self, initial_state, max_len=100, **flags):\n",
    "        \"\"\" Generate translations from model (greedy version) \"\"\"\n",
    "        state = initial_state # list([batch_size, hid_size])\n",
    "        outputs = [tf.ones(initial_state[0][0].shape[0], tf.int32) * self.out_voc.bos_ix]\n",
    "        all_states = [initial_state[0]] # list of lists\n",
    "\n",
    "        for i in tf.range(max_len):\n",
    "            state, logits = self.decode_step(state, outputs[-1])\n",
    "            outputs.append(tf.argmax(logits, axis=-1, output_type=tf.int32))\n",
    "            all_states.append(state)\n",
    "        \n",
    "        return tf.stack(outputs, axis=1), all_states\n",
    "\n",
    "    def translate_lines(self, inp_lines):\n",
    "        inp = tf.convert_to_tensor(inp_voc.to_matrix(inp_lines)) # [batch, times]\n",
    "\n",
    "        initial_state = self.encode(inp) # list([batch, hid_size])\n",
    "        out_ids, states = self.decode_inference(initial_state)\n",
    "        return out_voc.to_lines(out_ids.numpy()), states"
   ]
  },
  {
   "cell_type": "markdown",
   "metadata": {
    "colab_type": "text",
    "id": "ryZCOTEslrtf"
   },
   "source": [
    "### Training attentive model\n",
    "\n",
    "Please reuse the infrastructure you've built for the regular model. I hope you didn't hard-code anything :)"
   ]
  },
  {
   "cell_type": "code",
   "execution_count": 52,
   "metadata": {
    "colab": {},
    "colab_type": "code",
    "id": "-YMHPgZxcFaQ"
   },
   "outputs": [],
   "source": [
    "model_attn = AttentiveModel(\"attn_model\", inp_voc, out_voc)"
   ]
  },
  {
   "cell_type": "code",
   "execution_count": 53,
   "metadata": {},
   "outputs": [],
   "source": [
    "dummy_inp = tf.convert_to_tensor(inp_voc.to_matrix(train_inp[:3]))\n",
    "dummy_out = tf.convert_to_tensor(out_voc.to_matrix(train_out[:3]))\n",
    "dummy_logits = model_attn(dummy_inp, dummy_out)\n",
    "ref_shape = (dummy_out.shape[0], dummy_out.shape[1], len(out_voc))\n",
    "assert dummy_logits.shape == ref_shape, \"Your logits shape should be {} but got {}\".format(dummy_logits.shape, ref_shape)\n",
    "assert all(dummy_logits[:, 0].numpy().argmax(-1) == out_voc.bos_ix), \"first step must always be BOS\""
   ]
  },
  {
   "cell_type": "code",
   "execution_count": 54,
   "metadata": {},
   "outputs": [
    {
     "name": "stdout",
     "output_type": "stream",
     "text": [
      "Loss: tf.Tensor(8.424237, shape=(), dtype=float32)\n"
     ]
    }
   ],
   "source": [
    "dummy_loss = compute_loss(model_attn, dummy_inp, dummy_out)\n",
    "print(\"Loss:\", dummy_loss)"
   ]
  },
  {
   "cell_type": "code",
   "execution_count": 26,
   "metadata": {},
   "outputs": [
    {
     "name": "stdout",
     "output_type": "stream",
     "text": [
      "Wall time: 5.46 s\n"
     ]
    },
    {
     "data": {
      "text/plain": [
       "0.0015987764875790903"
      ]
     },
     "execution_count": 26,
     "metadata": {},
     "output_type": "execute_result"
    }
   ],
   "source": [
    "%%time\n",
    "compute_bleu(model_attn, dev_inp, dev_out)"
   ]
  },
  {
   "cell_type": "code",
   "execution_count": 32,
   "metadata": {},
   "outputs": [],
   "source": [
    "from IPython.display import clear_output\n",
    "from tqdm import tqdm, trange\n",
    "opt = keras.optimizers.Adam(1e-3)"
   ]
  },
  {
   "cell_type": "code",
   "execution_count": 34,
   "metadata": {},
   "outputs": [],
   "source": [
    "metrics_attn = {'train_loss': [], 'dev_bleu': [] }\n",
    "batch_size_attn = 64\n",
    "iterations_attn = 10000 "
   ]
  },
  {
   "cell_type": "code",
   "execution_count": 35,
   "metadata": {},
   "outputs": [
    {
     "data": {
      "image/png": "[encoded data removed]",
      "text/plain": [
       "<Figure size 864x288 with 2 Axes>"
      ]
     },
     "metadata": {
      "needs_background": "light"
     },
     "output_type": "display_data"
    },
    {
     "name": "stdout",
     "output_type": "stream",
     "text": [
      "Mean loss=1.400\n"
     ]
    },
    {
     "name": "stderr",
     "output_type": "stream",
     "text": [
      "100%|██████████| 10000/10000 [1:23:32<00:00,  2.01s/it]\n"
     ]
    }
   ],
   "source": [
    "train_loop(model_attn, batch_size_attn, iterations_attn, metrics_attn, opt)"
   ]
  },
  {
   "cell_type": "code",
   "execution_count": 36,
   "metadata": {},
   "outputs": [
    {
     "data": {
      "text/plain": [
       "24.208194590905485"
      ]
     },
     "execution_count": 36,
     "metadata": {},
     "output_type": "execute_result"
    }
   ],
   "source": [
    "np.mean(metrics_attn['dev_bleu'][-10:], axis=0)[1]"
   ]
  },
  {
   "cell_type": "code",
   "execution_count": 37,
   "metadata": {},
   "outputs": [],
   "source": [
    "with open('attn_weights.pkl', 'wb') as f:\n",
    "    pickle.dump(model_attn.get_weights(), f)"
   ]
  },
  {
   "cell_type": "code",
   "execution_count": 41,
   "metadata": {},
   "outputs": [],
   "source": [
    "with open('attn_model.pkl', 'wb') as f:\n",
    "    pickle.dump(metrics_attn, f)"
   ]
  },
  {
   "cell_type": "code",
   "execution_count": 55,
   "metadata": {},
   "outputs": [],
   "source": [
    "with open('attn_weights.pkl', 'rb') as f:\n",
    "    model_attn.set_weights(pickle.load(f))"
   ]
  },
  {
   "cell_type": "code",
   "execution_count": 56,
   "metadata": {},
   "outputs": [
    {
     "name": "stdout",
     "output_type": "stream",
     "text": [
      "в распоряжении гостей общая кухня и общая гостиная .\n",
      "there is a shared kitchen and a shared lounge .\n",
      "\n",
      "кроме того , предоставляется прокат велосипедов , услуги трансфера и бесплатная парковка .\n",
      "the property also offers bike hire , airport shuttle and free parking .\n",
      "\n",
      "расстояние до города ки@@ сси@@ м@@ ми составляет 26 км .\n",
      "inver@@ mere is 26 km away .\n",
      "\n",
      "апартаменты в пент@@ хаусе с общим открытым бассейном , садом , кондиционером и террасой для загара расположены в 5 минутах ходьбы от пляжа на курорте ка@@ бо - рой .\n",
      "located in the cu@@ i@@ ro , the apartment features a shared outdoor pool , a sun terrace and a sun terrace with a sun terrace .\n",
      "\n",
      "апартаменты mo@@ s@@ co@@ w point - loft red square находятся в москве , в 200 метрах от большого театра .\n",
      "the apartment is 200 metres from the large theatre of the savior on spilled blood .\n",
      "\n",
      "в вашем распоряжении собственная ванная комната с душем и полотенцами .\n",
      "featuring a shower , private bathrooms also come with towels .\n",
      "\n"
     ]
    }
   ],
   "source": [
    "for inp_line, trans_line in zip(dev_inp[::500], model_attn.translate_lines(dev_inp[::500])[0]):\n",
    "    print(inp_line)\n",
    "    print(trans_line)\n",
    "    print()"
   ]
  },
  {
   "cell_type": "code",
   "execution_count": null,
   "metadata": {},
   "outputs": [],
   "source": []
  },
  {
   "cell_type": "markdown",
   "metadata": {},
   "source": [
    "### Visualizing model attention (1 point)\n",
    "\n",
    "After training the attentive translation model, you can check it's sanity by visualizing its attention weights.\n",
    "\n",
    "We provided you with a function that draws attention maps using [`Bokeh`](https://bokeh.pydata.org/en/latest/index.html). Once you managed to produce something better than random noise, please save at least 3 attention maps and __submit them to anytask__ alongside this notebook to get the max grade. Saving bokeh figures as __cell outputs is not enough!__ (TAs can't see saved bokeh figures in anytask). You can save bokeh images as screenshots or using this button:\n",
    "\n",
    "![bokeh_panel](https://github.com/yandexdataschool/nlp_course/raw/2019/resources/bokeh_panel.png)\n",
    "\n",
    "__Note:__ you're not locked into using bokeh. If you prefer a different visualization method, feel free to use that instead of bokeh."
   ]
  },
  {
   "cell_type": "code",
   "execution_count": 44,
   "metadata": {},
   "outputs": [
    {
     "data": {
      "text/html": [
       "\n",
       "    <div class=\"bk-root\">\n",
       "        <a href=\"https://bokeh.pydata.org\" target=\"_blank\" class=\"bk-logo bk-logo-small bk-logo-notebook\"></a>\n",
       "        <span id=\"1001\">Loading BokehJS ...</span>\n",
       "    </div>"
      ]
     },
     "metadata": {},
     "output_type": "display_data"
    },
    {
     "data": {
      "application/javascript": [
       "\n",
       "(function(root) {\n",
       "  function now() {\n",
       "    return new Date();\n",
       "  }\n",
       "\n",
       "  var force = true;\n",
       "\n",
       "  if (typeof root._bokeh_onload_callbacks === \"undefined\" || force === true) {\n",
       "    root._bokeh_onload_callbacks = [];\n",
       "    root._bokeh_is_loading = undefined;\n",
       "  }\n",
       "\n",
       "  var JS_MIME_TYPE = 'application/javascript';\n",
       "  var HTML_MIME_TYPE = 'text/html';\n",
       "  var EXEC_MIME_TYPE = 'application/vnd.bokehjs_exec.v0+json';\n",
       "  var CLASS_NAME = 'output_bokeh rendered_html';\n",
       "\n",
       "  /**\n",
       "   * Render data to the DOM node\n",
       "   */\n",
       "  function render(props, node) {\n",
       "    var script = document.createElement(\"script\");\n",
       "    node.appendChild(script);\n",
       "  }\n",
       "\n",
       "  /**\n",
       "   * Handle when an output is cleared or removed\n",
       "   */\n",
       "  function handleClearOutput(event, handle) {\n",
       "    var cell = handle.cell;\n",
       "\n",
       "    var id = cell.output_area._bokeh_element_id;\n",
       "    var server_id = cell.output_area._bokeh_server_id;\n",
       "    // Clean up Bokeh references\n",
       "    if (id != null && id in Bokeh.index) {\n",
       "      Bokeh.index[id].model.document.clear();\n",
       "      delete Bokeh.index[id];\n",
       "    }\n",
       "\n",
       "    if (server_id !== undefined) {\n",
       "      // Clean up Bokeh references\n",
       "      var cmd = \"from bokeh.io.state import curstate; print(curstate().uuid_to_server['\" + server_id + \"'].get_sessions()[0].document.roots[0]._id)\";\n",
       "      cell.notebook.kernel.execute(cmd, {\n",
       "        iopub: {\n",
       "          output: function(msg) {\n",
       "            var id = msg.content.text.trim();\n",
       "            if (id in Bokeh.index) {\n",
       "              Bokeh.index[id].model.document.clear();\n",
       "              delete Bokeh.index[id];\n",
       "            }\n",
       "          }\n",
       "        }\n",
       "      });\n",
       "      // Destroy server and session\n",
       "      var cmd = \"import bokeh.io.notebook as ion; ion.destroy_server('\" + server_id + \"')\";\n",
       "      cell.notebook.kernel.execute(cmd);\n",
       "    }\n",
       "  }\n",
       "\n",
       "  /**\n",
       "   * Handle when a new output is added\n",
       "   */\n",
       "  function handleAddOutput(event, handle) {\n",
       "    var output_area = handle.output_area;\n",
       "    var output = handle.output;\n",
       "\n",
       "    // limit handleAddOutput to display_data with EXEC_MIME_TYPE content only\n",
       "    if ((output.output_type != \"display_data\") || (!output.data.hasOwnProperty(EXEC_MIME_TYPE))) {\n",
       "      return\n",
       "    }\n",
       "\n",
       "    var toinsert = output_area.element.find(\".\" + CLASS_NAME.split(' ')[0]);\n",
       "\n",
       "    if (output.metadata[EXEC_MIME_TYPE][\"id\"] !== undefined) {\n",
       "      toinsert[toinsert.length - 1].firstChild.textContent = output.data[JS_MIME_TYPE];\n",
       "      // store reference to embed id on output_area\n",
       "      output_area._bokeh_element_id = output.metadata[EXEC_MIME_TYPE][\"id\"];\n",
       "    }\n",
       "    if (output.metadata[EXEC_MIME_TYPE][\"server_id\"] !== undefined) {\n",
       "      var bk_div = document.createElement(\"div\");\n",
       "      bk_div.innerHTML = output.data[HTML_MIME_TYPE];\n",
       "      var script_attrs = bk_div.children[0].attributes;\n",
       "      for (var i = 0; i < script_attrs.length; i++) {\n",
       "        toinsert[toinsert.length - 1].firstChild.setAttribute(script_attrs[i].name, script_attrs[i].value);\n",
       "      }\n",
       "      // store reference to server id on output_area\n",
       "      output_area._bokeh_server_id = output.metadata[EXEC_MIME_TYPE][\"server_id\"];\n",
       "    }\n",
       "  }\n",
       "\n",
       "  function register_renderer(events, OutputArea) {\n",
       "\n",
       "    function append_mime(data, metadata, element) {\n",
       "      // create a DOM node to render to\n",
       "      var toinsert = this.create_output_subarea(\n",
       "        metadata,\n",
       "        CLASS_NAME,\n",
       "        EXEC_MIME_TYPE\n",
       "      );\n",
       "      this.keyboard_manager.register_events(toinsert);\n",
       "      // Render to node\n",
       "      var props = {data: data, metadata: metadata[EXEC_MIME_TYPE]};\n",
       "      render(props, toinsert[toinsert.length - 1]);\n",
       "      element.append(toinsert);\n",
       "      return toinsert\n",
       "    }\n",
       "\n",
       "    /* Handle when an output is cleared or removed */\n",
       "    events.on('clear_output.CodeCell', handleClearOutput);\n",
       "    events.on('delete.Cell', handleClearOutput);\n",
       "\n",
       "    /* Handle when a new output is added */\n",
       "    events.on('output_added.OutputArea', handleAddOutput);\n",
       "\n",
       "    /**\n",
       "     * Register the mime type and append_mime function with output_area\n",
       "     */\n",
       "    OutputArea.prototype.register_mime_type(EXEC_MIME_TYPE, append_mime, {\n",
       "      /* Is output safe? */\n",
       "      safe: true,\n",
       "      /* Index of renderer in `output_area.display_order` */\n",
       "      index: 0\n",
       "    });\n",
       "  }\n",
       "\n",
       "  // register the mime type if in Jupyter Notebook environment and previously unregistered\n",
       "  if (root.Jupyter !== undefined) {\n",
       "    var events = require('base/js/events');\n",
       "    var OutputArea = require('notebook/js/outputarea').OutputArea;\n",
       "\n",
       "    if (OutputArea.prototype.mime_types().indexOf(EXEC_MIME_TYPE) == -1) {\n",
       "      register_renderer(events, OutputArea);\n",
       "    }\n",
       "  }\n",
       "\n",
       "  \n",
       "  if (typeof (root._bokeh_timeout) === \"undefined\" || force === true) {\n",
       "    root._bokeh_timeout = Date.now() + 5000;\n",
       "    root._bokeh_failed_load = false;\n",
       "  }\n",
       "\n",
       "  var NB_LOAD_WARNING = {'data': {'text/html':\n",
       "     \"<div style='background-color: #fdd'>\\n\"+\n",
       "     \"<p>\\n\"+\n",
       "     \"BokehJS does not appear to have successfully loaded. If loading BokehJS from CDN, this \\n\"+\n",
       "     \"may be due to a slow or bad network connection. Possible fixes:\\n\"+\n",
       "     \"</p>\\n\"+\n",
       "     \"<ul>\\n\"+\n",
       "     \"<li>re-rerun `output_notebook()` to attempt to load from CDN again, or</li>\\n\"+\n",
       "     \"<li>use INLINE resources instead, as so:</li>\\n\"+\n",
       "     \"</ul>\\n\"+\n",
       "     \"<code>\\n\"+\n",
       "     \"from bokeh.resources import INLINE\\n\"+\n",
       "     \"output_notebook(resources=INLINE)\\n\"+\n",
       "     \"</code>\\n\"+\n",
       "     \"</div>\"}};\n",
       "\n",
       "  function display_loaded() {\n",
       "    var el = document.getElementById(\"1001\");\n",
       "    if (el != null) {\n",
       "      el.textContent = \"BokehJS is loading...\";\n",
       "    }\n",
       "    if (root.Bokeh !== undefined) {\n",
       "      if (el != null) {\n",
       "        el.textContent = \"BokehJS \" + root.Bokeh.version + \" successfully loaded.\";\n",
       "      }\n",
       "    } else if (Date.now() < root._bokeh_timeout) {\n",
       "      setTimeout(display_loaded, 100)\n",
       "    }\n",
       "  }\n",
       "\n",
       "\n",
       "  function run_callbacks() {\n",
       "    try {\n",
       "      root._bokeh_onload_callbacks.forEach(function(callback) {\n",
       "        if (callback != null)\n",
       "          callback();\n",
       "      });\n",
       "    } finally {\n",
       "      delete root._bokeh_onload_callbacks\n",
       "    }\n",
       "    console.debug(\"Bokeh: all callbacks have finished\");\n",
       "  }\n",
       "\n",
       "  function load_libs(css_urls, js_urls, callback) {\n",
       "    if (css_urls == null) css_urls = [];\n",
       "    if (js_urls == null) js_urls = [];\n",
       "\n",
       "    root._bokeh_onload_callbacks.push(callback);\n",
       "    if (root._bokeh_is_loading > 0) {\n",
       "      console.debug(\"Bokeh: BokehJS is being loaded, scheduling callback at\", now());\n",
       "      return null;\n",
       "    }\n",
       "    if (js_urls == null || js_urls.length === 0) {\n",
       "      run_callbacks();\n",
       "      return null;\n",
       "    }\n",
       "    console.debug(\"Bokeh: BokehJS not loaded, scheduling load and callback at\", now());\n",
       "    root._bokeh_is_loading = css_urls.length + js_urls.length;\n",
       "\n",
       "    function on_load() {\n",
       "      root._bokeh_is_loading--;\n",
       "      if (root._bokeh_is_loading === 0) {\n",
       "        console.debug(\"Bokeh: all BokehJS libraries/stylesheets loaded\");\n",
       "        run_callbacks()\n",
       "      }\n",
       "    }\n",
       "\n",
       "    function on_error() {\n",
       "      console.error(\"failed to load \" + url);\n",
       "    }\n",
       "\n",
       "    for (var i = 0; i < css_urls.length; i++) {\n",
       "      var url = css_urls[i];\n",
       "      const element = document.createElement(\"link\");\n",
       "      element.onload = on_load;\n",
       "      element.onerror = on_error;\n",
       "      element.rel = \"stylesheet\";\n",
       "      element.type = \"text/css\";\n",
       "      element.href = url;\n",
       "      console.debug(\"Bokeh: injecting link tag for BokehJS stylesheet: \", url);\n",
       "      document.body.appendChild(element);\n",
       "    }\n",
       "\n",
       "    for (var i = 0; i < js_urls.length; i++) {\n",
       "      var url = js_urls[i];\n",
       "      var element = document.createElement('script');\n",
       "      element.onload = on_load;\n",
       "      element.onerror = on_error;\n",
       "      element.async = false;\n",
       "      element.src = url;\n",
       "      console.debug(\"Bokeh: injecting script tag for BokehJS library: \", url);\n",
       "      document.head.appendChild(element);\n",
       "    }\n",
       "  };var element = document.getElementById(\"1001\");\n",
       "  if (element == null) {\n",
       "    console.error(\"Bokeh: ERROR: autoload.js configured with elementid '1001' but no matching script tag was found. \")\n",
       "    return false;\n",
       "  }\n",
       "\n",
       "  function inject_raw_css(css) {\n",
       "    const element = document.createElement(\"style\");\n",
       "    element.appendChild(document.createTextNode(css));\n",
       "    document.body.appendChild(element);\n",
       "  }\n",
       "\n",
       "  var js_urls = [\"https://cdn.pydata.org/bokeh/release/bokeh-1.2.0.min.js\", \"https://cdn.pydata.org/bokeh/release/bokeh-widgets-1.2.0.min.js\", \"https://cdn.pydata.org/bokeh/release/bokeh-tables-1.2.0.min.js\", \"https://cdn.pydata.org/bokeh/release/bokeh-gl-1.2.0.min.js\"];\n",
       "  var css_urls = [\"https://cdn.pydata.org/bokeh/release/bokeh-1.2.0.min.css\", \"https://cdn.pydata.org/bokeh/release/bokeh-widgets-1.2.0.min.css\", \"https://cdn.pydata.org/bokeh/release/bokeh-tables-1.2.0.min.css\"];\n",
       "\n",
       "  var inline_js = [\n",
       "    function(Bokeh) {\n",
       "      Bokeh.set_log_level(\"info\");\n",
       "    },\n",
       "    \n",
       "    function(Bokeh) {\n",
       "      \n",
       "    },\n",
       "    function(Bokeh) {} // ensure no trailing comma for IE\n",
       "  ];\n",
       "\n",
       "  function run_inline_js() {\n",
       "    \n",
       "    if ((root.Bokeh !== undefined) || (force === true)) {\n",
       "      for (var i = 0; i < inline_js.length; i++) {\n",
       "        inline_js[i].call(root, root.Bokeh);\n",
       "      }if (force === true) {\n",
       "        display_loaded();\n",
       "      }} else if (Date.now() < root._bokeh_timeout) {\n",
       "      setTimeout(run_inline_js, 100);\n",
       "    } else if (!root._bokeh_failed_load) {\n",
       "      console.log(\"Bokeh: BokehJS failed to load within specified timeout.\");\n",
       "      root._bokeh_failed_load = true;\n",
       "    } else if (force !== true) {\n",
       "      var cell = $(document.getElementById(\"1001\")).parents('.cell').data().cell;\n",
       "      cell.output_area.append_execute_result(NB_LOAD_WARNING)\n",
       "    }\n",
       "\n",
       "  }\n",
       "\n",
       "  if (root._bokeh_is_loading === 0) {\n",
       "    console.debug(\"Bokeh: BokehJS loaded, going straight to plotting\");\n",
       "    run_inline_js();\n",
       "  } else {\n",
       "    load_libs(css_urls, js_urls, function() {\n",
       "      console.debug(\"Bokeh: BokehJS plotting callback run at\", now());\n",
       "      run_inline_js();\n",
       "    });\n",
       "  }\n",
       "}(window));"
      ],
      "application/vnd.bokehjs_load.v0+json": "\n(function(root) {\n  function now() {\n    return new Date();\n  }\n\n  var force = true;\n\n  if (typeof root._bokeh_onload_callbacks === \"undefined\" || force === true) {\n    root._bokeh_onload_callbacks = [];\n    root._bokeh_is_loading = undefined;\n  }\n\n  \n\n  \n  if (typeof (root._bokeh_timeout) === \"undefined\" || force === true) {\n    root._bokeh_timeout = Date.now() + 5000;\n    root._bokeh_failed_load = false;\n  }\n\n  var NB_LOAD_WARNING = {'data': {'text/html':\n     \"<div style='background-color: #fdd'>\\n\"+\n     \"<p>\\n\"+\n     \"BokehJS does not appear to have successfully loaded. If loading BokehJS from CDN, this \\n\"+\n     \"may be due to a slow or bad network connection. Possible fixes:\\n\"+\n     \"</p>\\n\"+\n     \"<ul>\\n\"+\n     \"<li>re-rerun `output_notebook()` to attempt to load from CDN again, or</li>\\n\"+\n     \"<li>use INLINE resources instead, as so:</li>\\n\"+\n     \"</ul>\\n\"+\n     \"<code>\\n\"+\n     \"from bokeh.resources import INLINE\\n\"+\n     \"output_notebook(resources=INLINE)\\n\"+\n     \"</code>\\n\"+\n     \"</div>\"}};\n\n  function display_loaded() {\n    var el = document.getElementById(\"1001\");\n    if (el != null) {\n      el.textContent = \"BokehJS is loading...\";\n    }\n    if (root.Bokeh !== undefined) {\n      if (el != null) {\n        el.textContent = \"BokehJS \" + root.Bokeh.version + \" successfully loaded.\";\n      }\n    } else if (Date.now() < root._bokeh_timeout) {\n      setTimeout(display_loaded, 100)\n    }\n  }\n\n\n  function run_callbacks() {\n    try {\n      root._bokeh_onload_callbacks.forEach(function(callback) {\n        if (callback != null)\n          callback();\n      });\n    } finally {\n      delete root._bokeh_onload_callbacks\n    }\n    console.debug(\"Bokeh: all callbacks have finished\");\n  }\n\n  function load_libs(css_urls, js_urls, callback) {\n    if (css_urls == null) css_urls = [];\n    if (js_urls == null) js_urls = [];\n\n    root._bokeh_onload_callbacks.push(callback);\n    if (root._bokeh_is_loading > 0) {\n      console.debug(\"Bokeh: BokehJS is being loaded, scheduling callback at\", now());\n      return null;\n    }\n    if (js_urls == null || js_urls.length === 0) {\n      run_callbacks();\n      return null;\n    }\n    console.debug(\"Bokeh: BokehJS not loaded, scheduling load and callback at\", now());\n    root._bokeh_is_loading = css_urls.length + js_urls.length;\n\n    function on_load() {\n      root._bokeh_is_loading--;\n      if (root._bokeh_is_loading === 0) {\n        console.debug(\"Bokeh: all BokehJS libraries/stylesheets loaded\");\n        run_callbacks()\n      }\n    }\n\n    function on_error() {\n      console.error(\"failed to load \" + url);\n    }\n\n    for (var i = 0; i < css_urls.length; i++) {\n      var url = css_urls[i];\n      const element = document.createElement(\"link\");\n      element.onload = on_load;\n      element.onerror = on_error;\n      element.rel = \"stylesheet\";\n      element.type = \"text/css\";\n      element.href = url;\n      console.debug(\"Bokeh: injecting link tag for BokehJS stylesheet: \", url);\n      document.body.appendChild(element);\n    }\n\n    for (var i = 0; i < js_urls.length; i++) {\n      var url = js_urls[i];\n      var element = document.createElement('script');\n      element.onload = on_load;\n      element.onerror = on_error;\n      element.async = false;\n      element.src = url;\n      console.debug(\"Bokeh: injecting script tag for BokehJS library: \", url);\n      document.head.appendChild(element);\n    }\n  };var element = document.getElementById(\"1001\");\n  if (element == null) {\n    console.error(\"Bokeh: ERROR: autoload.js configured with elementid '1001' but no matching script tag was found. \")\n    return false;\n  }\n\n  function inject_raw_css(css) {\n    const element = document.createElement(\"style\");\n    element.appendChild(document.createTextNode(css));\n    document.body.appendChild(element);\n  }\n\n  var js_urls = [\"https://cdn.pydata.org/bokeh/release/bokeh-1.2.0.min.js\", \"https://cdn.pydata.org/bokeh/release/bokeh-widgets-1.2.0.min.js\", \"https://cdn.pydata.org/bokeh/release/bokeh-tables-1.2.0.min.js\", \"https://cdn.pydata.org/bokeh/release/bokeh-gl-1.2.0.min.js\"];\n  var css_urls = [\"https://cdn.pydata.org/bokeh/release/bokeh-1.2.0.min.css\", \"https://cdn.pydata.org/bokeh/release/bokeh-widgets-1.2.0.min.css\", \"https://cdn.pydata.org/bokeh/release/bokeh-tables-1.2.0.min.css\"];\n\n  var inline_js = [\n    function(Bokeh) {\n      Bokeh.set_log_level(\"info\");\n    },\n    \n    function(Bokeh) {\n      \n    },\n    function(Bokeh) {} // ensure no trailing comma for IE\n  ];\n\n  function run_inline_js() {\n    \n    if ((root.Bokeh !== undefined) || (force === true)) {\n      for (var i = 0; i < inline_js.length; i++) {\n        inline_js[i].call(root, root.Bokeh);\n      }if (force === true) {\n        display_loaded();\n      }} else if (Date.now() < root._bokeh_timeout) {\n      setTimeout(run_inline_js, 100);\n    } else if (!root._bokeh_failed_load) {\n      console.log(\"Bokeh: BokehJS failed to load within specified timeout.\");\n      root._bokeh_failed_load = true;\n    } else if (force !== true) {\n      var cell = $(document.getElementById(\"1001\")).parents('.cell').data().cell;\n      cell.output_area.append_execute_result(NB_LOAD_WARNING)\n    }\n\n  }\n\n  if (root._bokeh_is_loading === 0) {\n    console.debug(\"Bokeh: BokehJS loaded, going straight to plotting\");\n    run_inline_js();\n  } else {\n    load_libs(css_urls, js_urls, function() {\n      console.debug(\"Bokeh: BokehJS plotting callback run at\", now());\n      run_inline_js();\n    });\n  }\n}(window));"
     },
     "metadata": {},
     "output_type": "display_data"
    }
   ],
   "source": [
    "import bokeh.plotting as pl\n",
    "import bokeh.models as bm\n",
    "from bokeh.io import output_notebook, show\n",
    "output_notebook()\n",
    "\n",
    "def draw_attention(inp_line, translation, probs):\n",
    "    \"\"\" An intentionally ambiguous function to visualize attention weights \"\"\"\n",
    "    inp_tokens = inp_voc.tokenize(inp_line)\n",
    "    trans_tokens = out_voc.tokenize(translation)\n",
    "    probs = probs[:len(trans_tokens), :len(inp_tokens)]\n",
    "    \n",
    "    fig = pl.figure(x_range=(0, len(inp_tokens)), y_range=(0, len(trans_tokens)),\n",
    "                    x_axis_type=None, y_axis_type=None, tools=[])\n",
    "    fig.image([probs[::-1]], 0, 0, len(inp_tokens), len(trans_tokens))\n",
    "\n",
    "    fig.add_layout(bm.LinearAxis(axis_label='source tokens'), 'above')\n",
    "    fig.xaxis.ticker = np.arange(len(inp_tokens)) + 0.5\n",
    "    fig.xaxis.major_label_overrides = dict(zip(np.arange(len(inp_tokens)) + 0.5, inp_tokens))\n",
    "    fig.xaxis.major_label_orientation = 45\n",
    "\n",
    "    fig.add_layout(bm.LinearAxis(axis_label='translation tokens'), 'left')\n",
    "    fig.yaxis.ticker = np.arange(len(trans_tokens)) + 0.5\n",
    "    fig.yaxis.major_label_overrides = dict(zip(np.arange(len(trans_tokens)) + 0.5, trans_tokens[::-1]))\n",
    "\n",
    "    show(fig)"
   ]
  },
  {
   "cell_type": "code",
   "execution_count": 79,
   "metadata": {},
   "outputs": [],
   "source": [
    "inp = dev_inp[::100]\n",
    "trans, states = model_attn.translate_lines(inp)\n",
    "# select attention probs from model state (you may need to change this for your custom model)\n",
    "# attention_probs below must have shape [batch_size, translation_length, input_length], extracted from states\n",
    "# e.g. if attention probs are at the end of each state, use np.stack([state[-1] for state in states], axis=1)\n"
   ]
  },
  {
   "cell_type": "code",
   "execution_count": null,
   "metadata": {},
   "outputs": [],
   "source": []
  },
  {
   "cell_type": "code",
   "execution_count": 80,
   "metadata": {},
   "outputs": [],
   "source": [
    "stacked = np.stack([state[-1] for state in states[1:]], axis=1)"
   ]
  },
  {
   "cell_type": "code",
   "execution_count": 81,
   "metadata": {},
   "outputs": [],
   "source": [
    "attention_probs = np.stack([state[-1] for state in states[1:]], axis=1)"
   ]
  },
  {
   "cell_type": "code",
   "execution_count": 82,
   "metadata": {},
   "outputs": [
    {
     "data": {
      "text/html": [
       "\n",
       "\n",
       "\n",
       "\n",
       "\n",
       "\n",
       "  <div class=\"bk-root\" id=\"ffe90466-3d9e-43c1-9876-c489e6a046ce\" data-root-id=\"4427\"></div>\n"
      ]
     },
     "metadata": {},
     "output_type": "display_data"
    },
    {
     "data": {
      "application/javascript": [
       "(function(root) {\n",
       "  function embed_document(root) {\n",
       "    \n",
       "  var docs_json = {\"2e3546e8-4a91-4dd9-9dd0-9e68822beab5\":{\"roots\":{\"references\":[{\"attributes\":{\"above\":[{\"id\":\"4444\",\"type\":\"LinearAxis\"}],\"left\":[{\"id\":\"4447\",\"type\":\"LinearAxis\"}],\"renderers\":[{\"id\":\"4442\",\"type\":\"GlyphRenderer\"}],\"title\":{\"id\":\"4600\",\"type\":\"Title\"},\"toolbar\":{\"id\":\"4436\",\"type\":\"Toolbar\"},\"x_range\":{\"id\":\"4428\",\"type\":\"Range1d\"},\"x_scale\":{\"id\":\"4432\",\"type\":\"LinearScale\"},\"y_range\":{\"id\":\"4430\",\"type\":\"Range1d\"},\"y_scale\":{\"id\":\"4434\",\"type\":\"LinearScale\"}},\"id\":\"4427\",\"subtype\":\"Figure\",\"type\":\"Plot\"},{\"attributes\":{},\"id\":\"4432\",\"type\":\"LinearScale\"},{\"attributes\":{\"axis_label\":\"translation tokens\",\"formatter\":{\"id\":\"4602\",\"type\":\"BasicTickFormatter\"},\"major_label_overrides\":{\"0.5\":\"_EOS_\",\"1.5\":\".\",\"10.5\":\"there\",\"11.5\":\"_BOS_\",\"2.5\":\"lounge\",\"3.5\":\"shared\",\"4.5\":\"a\",\"5.5\":\"and\",\"6.5\":\"kitchen\",\"7.5\":\"shared\",\"8.5\":\"a\",\"9.5\":\"is\"},\"ticker\":{\"id\":\"4448\",\"type\":\"FixedTicker\"}},\"id\":\"4447\",\"type\":\"LinearAxis\"},{\"attributes\":{\"ticks\":[0.5,1.5,2.5,3.5,4.5,5.5,6.5,7.5,8.5,9.5,10.5,11.5]},\"id\":\"4448\",\"type\":\"FixedTicker\"},{\"attributes\":{\"color_mapper\":{\"id\":\"4441\",\"type\":\"LinearColorMapper\"},\"dh\":{\"units\":\"data\",\"value\":12},\"dw\":{\"units\":\"data\",\"value\":11},\"image\":{\"field\":\"image\"},\"x\":{\"value\":0},\"y\":{\"value\":0}},\"id\":\"4440\",\"type\":\"Image\"},{\"attributes\":{\"callback\":null,\"data\":{\"image\":[{\"__ndarray__\":\"NH7yPiP2WD9XQmw/dIZ9P6Ojfj8ZKn8/Lex+Pwsxfj9BjmA/uht6Pxlxbj8j/38/Nv9/P8zyfz88/n8/SPx/P9vBfT+IUH4/p3h6P9ziHT+dZWk/JKE6Pzn6fz/k+38/Rfl/P4n/fz8J9n8/FNJ/P/YoUj/wi38/G3BYP4hbGD+Nj0Y//P9/P/n/fz/+/38///9/P8T/fz9mRVQ/Bcx/P7fhfj+oQDQ+Z/5/P5f+fz8Yhn8/Efx/P1JXfz8b738/P7V9PyrNcj+uSns/zqI2P1oVvj7A1n8/F+Z/PynYcz/HkH4/ZuB6P/25fj9/MX4/vBZuPzoteT9APg8/VpIfP2Lhfz9B1X8/5/5/P376fz9L9X8/2fJ/P4MEfz9GWno/iE0VPs6Lfj/9Ang/AoVyPzuXeD/3/38/9P9/P+j/fz/d/38/Dp5/P0BO0zwb8n8/fv1/P8rYeT+u/38/v/9/P43+fz92/n8/Q+J/P5nPfz8MkGI/cFoVPp/nfz+Fzn8/b7Z4Pxf+fz/P/38/3ZV+P+6xfj88lHo/06F+PzySWz8UJaM+tdd9PzeHcD8KV24/Zr9/PwXofz8Nu3M/iFd+P4+Pfj/bGX8/n214P1yqbD+ixOo+COZ5P6qrfD8VKlo/koluP1p4fj+mi2k/+c5qP0T7dz9U4BA/psM/P4C4fz9ubnQ/0nhwP+D4fz8p9X8/\",\"dtype\":\"float32\",\"shape\":[12,11]}]},\"selected\":{\"id\":\"4604\",\"type\":\"Selection\"},\"selection_policy\":{\"id\":\"4605\",\"type\":\"UnionRenderers\"}},\"id\":\"4437\",\"type\":\"ColumnDataSource\"},{\"attributes\":{\"data_source\":{\"id\":\"4437\",\"type\":\"ColumnDataSource\"},\"glyph\":{\"id\":\"4438\",\"type\":\"Image\"},\"hover_glyph\":null,\"muted_glyph\":null,\"nonselection_glyph\":{\"id\":\"4440\",\"type\":\"Image\"},\"selection_glyph\":null,\"view\":{\"id\":\"4443\",\"type\":\"CDSView\"}},\"id\":\"4442\",\"type\":\"GlyphRenderer\"},{\"attributes\":{},\"id\":\"4434\",\"type\":\"LinearScale\"},{\"attributes\":{\"axis_label\":\"source tokens\",\"formatter\":{\"id\":\"4603\",\"type\":\"BasicTickFormatter\"},\"major_label_orientation\":45,\"major_label_overrides\":{\"0.5\":\"_BOS_\",\"1.5\":\"\\u0432\",\"10.5\":\"_EOS_\",\"2.5\":\"\\u0440\\u0430\\u0441\\u043f\\u043e\\u0440\\u044f\\u0436\\u0435\\u043d\\u0438\\u0438\",\"3.5\":\"\\u0433\\u043e\\u0441\\u0442\\u0435\\u0439\",\"4.5\":\"\\u043e\\u0431\\u0449\\u0430\\u044f\",\"5.5\":\"\\u043a\\u0443\\u0445\\u043d\\u044f\",\"6.5\":\"\\u0438\",\"7.5\":\"\\u043e\\u0431\\u0449\\u0430\\u044f\",\"8.5\":\"\\u0433\\u043e\\u0441\\u0442\\u0438\\u043d\\u0430\\u044f\",\"9.5\":\".\"},\"ticker\":{\"id\":\"4445\",\"type\":\"FixedTicker\"}},\"id\":\"4444\",\"type\":\"LinearAxis\"},{\"attributes\":{},\"id\":\"4603\",\"type\":\"BasicTickFormatter\"},{\"attributes\":{\"text\":\"\"},\"id\":\"4600\",\"type\":\"Title\"},{\"attributes\":{\"source\":{\"id\":\"4437\",\"type\":\"ColumnDataSource\"}},\"id\":\"4443\",\"type\":\"CDSView\"},{\"attributes\":{\"callback\":null,\"end\":12},\"id\":\"4430\",\"type\":\"Range1d\"},{\"attributes\":{},\"id\":\"4602\",\"type\":\"BasicTickFormatter\"},{\"attributes\":{\"color_mapper\":{\"id\":\"4439\",\"type\":\"LinearColorMapper\"},\"dh\":{\"units\":\"data\",\"value\":12},\"dw\":{\"units\":\"data\",\"value\":11},\"image\":{\"field\":\"image\"},\"x\":{\"value\":0},\"y\":{\"value\":0}},\"id\":\"4438\",\"type\":\"Image\"},{\"attributes\":{\"callback\":null,\"end\":11},\"id\":\"4428\",\"type\":\"Range1d\"},{\"attributes\":{\"ticks\":[0.5,1.5,2.5,3.5,4.5,5.5,6.5,7.5,8.5,9.5,10.5]},\"id\":\"4445\",\"type\":\"FixedTicker\"},{\"attributes\":{},\"id\":\"4604\",\"type\":\"Selection\"},{\"attributes\":{},\"id\":\"4605\",\"type\":\"UnionRenderers\"},{\"attributes\":{\"palette\":[\"#000000\",\"#252525\",\"#525252\",\"#737373\",\"#969696\",\"#bdbdbd\",\"#d9d9d9\",\"#f0f0f0\",\"#ffffff\"]},\"id\":\"4439\",\"type\":\"LinearColorMapper\"},{\"attributes\":{\"active_drag\":\"auto\",\"active_inspect\":\"auto\",\"active_multi\":null,\"active_scroll\":\"auto\",\"active_tap\":\"auto\"},\"id\":\"4436\",\"type\":\"Toolbar\"},{\"attributes\":{\"palette\":[\"#000000\",\"#252525\",\"#525252\",\"#737373\",\"#969696\",\"#bdbdbd\",\"#d9d9d9\",\"#f0f0f0\",\"#ffffff\"]},\"id\":\"4441\",\"type\":\"LinearColorMapper\"}],\"root_ids\":[\"4427\"]},\"title\":\"Bokeh Application\",\"version\":\"1.2.0\"}};\n",
       "  var render_items = [{\"docid\":\"2e3546e8-4a91-4dd9-9dd0-9e68822beab5\",\"roots\":{\"4427\":\"ffe90466-3d9e-43c1-9876-c489e6a046ce\"}}];\n",
       "  root.Bokeh.embed.embed_items_notebook(docs_json, render_items);\n",
       "\n",
       "  }\n",
       "  if (root.Bokeh !== undefined) {\n",
       "    embed_document(root);\n",
       "  } else {\n",
       "    var attempts = 0;\n",
       "    var timer = setInterval(function(root) {\n",
       "      if (root.Bokeh !== undefined) {\n",
       "        embed_document(root);\n",
       "        clearInterval(timer);\n",
       "      }\n",
       "      attempts++;\n",
       "      if (attempts > 100) {\n",
       "        console.log(\"Bokeh: ERROR: Unable to run BokehJS code because BokehJS library is missing\");\n",
       "        clearInterval(timer);\n",
       "      }\n",
       "    }, 10, root)\n",
       "  }\n",
       "})(window);"
      ],
      "application/vnd.bokehjs_exec.v0+json": ""
     },
     "metadata": {
      "application/vnd.bokehjs_exec.v0+json": {
       "id": "4427"
      }
     },
     "output_type": "display_data"
    },
    {
     "data": {
      "text/html": [
       "\n",
       "\n",
       "\n",
       "\n",
       "\n",
       "\n",
       "  <div class=\"bk-root\" id=\"64996259-6aea-4742-883b-f1c1d0b53832\" data-root-id=\"4642\"></div>\n"
      ]
     },
     "metadata": {},
     "output_type": "display_data"
    },
    {
     "data": {
      "application/javascript": [
       "(function(root) {\n",
       "  function embed_document(root) {\n",
       "    \n",
       "  var docs_json = {\"ba946c40-43a9-486e-aa77-00d10ab16e90\":{\"roots\":{\"references\":[{\"attributes\":{\"above\":[{\"id\":\"4659\",\"type\":\"LinearAxis\"}],\"left\":[{\"id\":\"4662\",\"type\":\"LinearAxis\"}],\"renderers\":[{\"id\":\"4657\",\"type\":\"GlyphRenderer\"}],\"title\":{\"id\":\"4821\",\"type\":\"Title\"},\"toolbar\":{\"id\":\"4651\",\"type\":\"Toolbar\"},\"x_range\":{\"id\":\"4643\",\"type\":\"Range1d\"},\"x_scale\":{\"id\":\"4647\",\"type\":\"LinearScale\"},\"y_range\":{\"id\":\"4645\",\"type\":\"Range1d\"},\"y_scale\":{\"id\":\"4649\",\"type\":\"LinearScale\"}},\"id\":\"4642\",\"subtype\":\"Figure\",\"type\":\"Plot\"},{\"attributes\":{},\"id\":\"4824\",\"type\":\"BasicTickFormatter\"},{\"attributes\":{\"palette\":[\"#000000\",\"#252525\",\"#525252\",\"#737373\",\"#969696\",\"#bdbdbd\",\"#d9d9d9\",\"#f0f0f0\",\"#ffffff\"]},\"id\":\"4654\",\"type\":\"LinearColorMapper\"},{\"attributes\":{\"color_mapper\":{\"id\":\"4654\",\"type\":\"LinearColorMapper\"},\"dh\":{\"units\":\"data\",\"value\":12},\"dw\":{\"units\":\"data\",\"value\":9},\"image\":{\"field\":\"image\"},\"x\":{\"value\":0},\"y\":{\"value\":0}},\"id\":\"4653\",\"type\":\"Image\"},{\"attributes\":{},\"id\":\"4823\",\"type\":\"BasicTickFormatter\"},{\"attributes\":{\"active_drag\":\"auto\",\"active_inspect\":\"auto\",\"active_multi\":null,\"active_scroll\":\"auto\",\"active_tap\":\"auto\"},\"id\":\"4651\",\"type\":\"Toolbar\"},{\"attributes\":{},\"id\":\"4825\",\"type\":\"Selection\"},{\"attributes\":{},\"id\":\"4649\",\"type\":\"LinearScale\"},{\"attributes\":{\"ticks\":[0.5,1.5,2.5,3.5,4.5,5.5,6.5,7.5,8.5,9.5,10.5,11.5]},\"id\":\"4663\",\"type\":\"FixedTicker\"},{\"attributes\":{},\"id\":\"4647\",\"type\":\"LinearScale\"},{\"attributes\":{},\"id\":\"4826\",\"type\":\"UnionRenderers\"},{\"attributes\":{\"text\":\"\"},\"id\":\"4821\",\"type\":\"Title\"},{\"attributes\":{\"palette\":[\"#000000\",\"#252525\",\"#525252\",\"#737373\",\"#969696\",\"#bdbdbd\",\"#d9d9d9\",\"#f0f0f0\",\"#ffffff\"]},\"id\":\"4656\",\"type\":\"LinearColorMapper\"},{\"attributes\":{\"callback\":null,\"end\":12},\"id\":\"4645\",\"type\":\"Range1d\"},{\"attributes\":{\"ticks\":[0.5,1.5,2.5,3.5,4.5,5.5,6.5,7.5,8.5]},\"id\":\"4660\",\"type\":\"FixedTicker\"},{\"attributes\":{\"callback\":null,\"end\":9},\"id\":\"4643\",\"type\":\"Range1d\"},{\"attributes\":{\"callback\":null,\"data\":{\"image\":[{\"__ndarray__\":\"9dFzP5JtbD9ejmA/kc9uP6ycZz9Wp0s/3tlkP338TT9SZGo/3XB/PyuTfz8j4H8/1Ol9P7nRfj+kr34/8H52P6ofTD9ojkI/8v9/P/7/fz/Y/38/J/t/P8mWfz9Nhno/jJYWP5rjJj8iA0w/9vB/P+v/fz/z/38/Ovp/P6A8dT/ZsUU/zI6KPsbffz9N/38/eP9/P///fz/5/38/+fF/PyshJz/xtGM/WpHtPpCPfj8/4H8/vIJ7P0jsfz9LwH8/Qkh/P+LFMD/qJnc/eqckPxiRWj9lY14/jP9/P5j/fz8S+38/TYx4PzUUbz+7HTA/3AHUPnjnfj85X38/4f9/P///fz/7/38/DXt/P+D1Dz1eVX0/gTF6Px3/fz+8/38/fP9/P73/fz9k/X8/Py08P9DHAj+18lk/R2NoP/wvfz9eiH8/Zut/P7Wofj+2X2g/dJ/GPqENST95nW4/h5p+Pxzofz/Gjn8/yP9/P0b6fz/FUn8/gFq8PCM1fj+z438/wNR/P4IZfz+q0H0/D8t/Px2Zfz9QV18/gL36PmfiSz9bS3w/iixcP07Ffz8rxn8/\",\"dtype\":\"float32\",\"shape\":[12,9]}]},\"selected\":{\"id\":\"4825\",\"type\":\"Selection\"},\"selection_policy\":{\"id\":\"4826\",\"type\":\"UnionRenderers\"}},\"id\":\"4652\",\"type\":\"ColumnDataSource\"},{\"attributes\":{\"axis_label\":\"translation tokens\",\"formatter\":{\"id\":\"4823\",\"type\":\"BasicTickFormatter\"},\"major_label_overrides\":{\"0.5\":\"_EOS_\",\"1.5\":\".\",\"10.5\":\"guests\",\"11.5\":\"_BOS_\",\"2.5\":\"pool\",\"3.5\":\"outdoor\",\"4.5\":\"the\",\"5.5\":\"in\",\"6.5\":\"swim\",\"7.5\":\"a\",\"8.5\":\"enjoy\",\"9.5\":\"can\"},\"ticker\":{\"id\":\"4663\",\"type\":\"FixedTicker\"}},\"id\":\"4662\",\"type\":\"LinearAxis\"},{\"attributes\":{\"source\":{\"id\":\"4652\",\"type\":\"ColumnDataSource\"}},\"id\":\"4658\",\"type\":\"CDSView\"},{\"attributes\":{\"color_mapper\":{\"id\":\"4656\",\"type\":\"LinearColorMapper\"},\"dh\":{\"units\":\"data\",\"value\":12},\"dw\":{\"units\":\"data\",\"value\":9},\"image\":{\"field\":\"image\"},\"x\":{\"value\":0},\"y\":{\"value\":0}},\"id\":\"4655\",\"type\":\"Image\"},{\"attributes\":{\"data_source\":{\"id\":\"4652\",\"type\":\"ColumnDataSource\"},\"glyph\":{\"id\":\"4653\",\"type\":\"Image\"},\"hover_glyph\":null,\"muted_glyph\":null,\"nonselection_glyph\":{\"id\":\"4655\",\"type\":\"Image\"},\"selection_glyph\":null,\"view\":{\"id\":\"4658\",\"type\":\"CDSView\"}},\"id\":\"4657\",\"type\":\"GlyphRenderer\"},{\"attributes\":{\"axis_label\":\"source tokens\",\"formatter\":{\"id\":\"4824\",\"type\":\"BasicTickFormatter\"},\"major_label_orientation\":45,\"major_label_overrides\":{\"0.5\":\"_BOS_\",\"1.5\":\"\\u0433\\u043e\\u0441\\u0442\\u0438\",\"2.5\":\"\\u043c\\u043e\\u0433\\u0443\\u0442\",\"3.5\":\"\\u043f\\u043e\\u0441\\u0435\\u0449\\u0430\\u0442\\u044c\",\"4.5\":\"\\u0441\\u0435\\u0437\\u043e\\u043d\\u043d\\u044b\\u0439\",\"5.5\":\"\\u043e\\u0442\\u043a\\u0440\\u044b\\u0442\\u044b\\u0439\",\"6.5\":\"\\u0431\\u0430\\u0441\\u0441\\u0435\\u0439\\u043d\",\"7.5\":\".\",\"8.5\":\"_EOS_\"},\"ticker\":{\"id\":\"4660\",\"type\":\"FixedTicker\"}},\"id\":\"4659\",\"type\":\"LinearAxis\"}],\"root_ids\":[\"4642\"]},\"title\":\"Bokeh Application\",\"version\":\"1.2.0\"}};\n",
       "  var render_items = [{\"docid\":\"ba946c40-43a9-486e-aa77-00d10ab16e90\",\"roots\":{\"4642\":\"64996259-6aea-4742-883b-f1c1d0b53832\"}}];\n",
       "  root.Bokeh.embed.embed_items_notebook(docs_json, render_items);\n",
       "\n",
       "  }\n",
       "  if (root.Bokeh !== undefined) {\n",
       "    embed_document(root);\n",
       "  } else {\n",
       "    var attempts = 0;\n",
       "    var timer = setInterval(function(root) {\n",
       "      if (root.Bokeh !== undefined) {\n",
       "        embed_document(root);\n",
       "        clearInterval(timer);\n",
       "      }\n",
       "      attempts++;\n",
       "      if (attempts > 100) {\n",
       "        console.log(\"Bokeh: ERROR: Unable to run BokehJS code because BokehJS library is missing\");\n",
       "        clearInterval(timer);\n",
       "      }\n",
       "    }, 10, root)\n",
       "  }\n",
       "})(window);"
      ],
      "application/vnd.bokehjs_exec.v0+json": ""
     },
     "metadata": {
      "application/vnd.bokehjs_exec.v0+json": {
       "id": "4642"
      }
     },
     "output_type": "display_data"
    },
    {
     "data": {
      "text/html": [
       "\n",
       "\n",
       "\n",
       "\n",
       "\n",
       "\n",
       "  <div class=\"bk-root\" id=\"b7e94c3d-1797-4533-bc67-0202061556c6\" data-root-id=\"4863\"></div>\n"
      ]
     },
     "metadata": {},
     "output_type": "display_data"
    },
    {
     "data": {
      "application/javascript": [
       "(function(root) {\n",
       "  function embed_document(root) {\n",
       "    \n",
       "  var docs_json = {\"07bf2c01-0152-43a0-90f5-247b244ad3c2\":{\"roots\":{\"references\":[{\"attributes\":{\"above\":[{\"id\":\"4880\",\"type\":\"LinearAxis\"}],\"left\":[{\"id\":\"4883\",\"type\":\"LinearAxis\"}],\"renderers\":[{\"id\":\"4878\",\"type\":\"GlyphRenderer\"}],\"title\":{\"id\":\"5048\",\"type\":\"Title\"},\"toolbar\":{\"id\":\"4872\",\"type\":\"Toolbar\"},\"x_range\":{\"id\":\"4864\",\"type\":\"Range1d\"},\"x_scale\":{\"id\":\"4868\",\"type\":\"LinearScale\"},\"y_range\":{\"id\":\"4866\",\"type\":\"Range1d\"},\"y_scale\":{\"id\":\"4870\",\"type\":\"LinearScale\"}},\"id\":\"4863\",\"subtype\":\"Figure\",\"type\":\"Plot\"},{\"attributes\":{},\"id\":\"4868\",\"type\":\"LinearScale\"},{\"attributes\":{},\"id\":\"5051\",\"type\":\"BasicTickFormatter\"},{\"attributes\":{\"active_drag\":\"auto\",\"active_inspect\":\"auto\",\"active_multi\":null,\"active_scroll\":\"auto\",\"active_tap\":\"auto\"},\"id\":\"4872\",\"type\":\"Toolbar\"},{\"attributes\":{\"color_mapper\":{\"id\":\"4875\",\"type\":\"LinearColorMapper\"},\"dh\":{\"units\":\"data\",\"value\":12},\"dw\":{\"units\":\"data\",\"value\":8},\"image\":{\"field\":\"image\"},\"x\":{\"value\":0},\"y\":{\"value\":0}},\"id\":\"4874\",\"type\":\"Image\"},{\"attributes\":{\"axis_label\":\"translation tokens\",\"formatter\":{\"id\":\"5050\",\"type\":\"BasicTickFormatter\"},\"major_label_overrides\":{\"0.5\":\"_EOS_\",\"1.5\":\".\",\"10.5\":\"free\",\"11.5\":\"_BOS_\",\"2.5\":\"provided\",\"3.5\":\"is\",\"4.5\":\"parking\",\"5.5\":\"free\",\"6.5\":\"and\",\"7.5\":\"provided\",\"8.5\":\"is\",\"9.5\":\"wifi\"},\"ticker\":{\"id\":\"4884\",\"type\":\"FixedTicker\"}},\"id\":\"4883\",\"type\":\"LinearAxis\"},{\"attributes\":{\"axis_label\":\"source tokens\",\"formatter\":{\"id\":\"5051\",\"type\":\"BasicTickFormatter\"},\"major_label_orientation\":45,\"major_label_overrides\":{\"0.5\":\"_BOS_\",\"1.5\":\"wifi\",\"2.5\":\"\\u0438\",\"3.5\":\"\\u043f\\u0430\\u0440\\u043a\\u043e\\u0432\\u043a\\u0430\",\"4.5\":\"\\u043f\\u0440\\u0435\\u0434\\u043e\\u0441\\u0442\\u0430\\u0432\\u043b\\u044f\\u044e\\u0442\\u0441\\u044f\",\"5.5\":\"\\u0431\\u0435\\u0441\\u043f\\u043b\\u0430\\u0442\\u043d\\u043e\",\"6.5\":\".\",\"7.5\":\"_EOS_\"},\"ticker\":{\"id\":\"4881\",\"type\":\"FixedTicker\"}},\"id\":\"4880\",\"type\":\"LinearAxis\"},{\"attributes\":{\"callback\":null,\"data\":{\"image\":[{\"__ndarray__\":\"ytl7P5hflT7EiHk/CdprPxg7fj9HIXg/AkN4P+AIaD/w/38/ppd/P45nfz/iyn0/jqh7P0PDeT+Gn3k/lo95P9X9fz94zn8/Qch/PyIxfj+b03w/aZFPP1oTMj86iGY/VABzP9DVEz7wB38/jXl6Px5Wfz/y83M/tGR8P4Pdfj+33n8/vJZ/P+LpdT8LxXs/es50PwfZYT+PWlM/+oUFP+z/fz8neGk/moV7P6oCLD8v0GM/WV9mP1o7PD8+4Gg/D21/P0y4kz75+Ho/zpFpP4CieD/IO2o/kBJ2PzE7eT8h+38/2mt9P25Qbj9oAUo/msVsP4H8Ij+yVVc/aBtkP6qPID/qoSg/pw9sPw6BWT8NH30/i2Z4P7WWfD9oIX8/2JJ/P7IlfT+MIFI/p61vPyzYXT99/TA/hC1ZPxyQWz/g/38/iMoEPs8KfD+oCGo/gJt9P/3FfD/Uh34/utB/P4j+fz8AGRI8HJd/P4l4fj/F9H8/fcp/P8Dtfz9v/H8/\",\"dtype\":\"float32\",\"shape\":[12,8]}]},\"selected\":{\"id\":\"5052\",\"type\":\"Selection\"},\"selection_policy\":{\"id\":\"5053\",\"type\":\"UnionRenderers\"}},\"id\":\"4873\",\"type\":\"ColumnDataSource\"},{\"attributes\":{\"data_source\":{\"id\":\"4873\",\"type\":\"ColumnDataSource\"},\"glyph\":{\"id\":\"4874\",\"type\":\"Image\"},\"hover_glyph\":null,\"muted_glyph\":null,\"nonselection_glyph\":{\"id\":\"4876\",\"type\":\"Image\"},\"selection_glyph\":null,\"view\":{\"id\":\"4879\",\"type\":\"CDSView\"}},\"id\":\"4878\",\"type\":\"GlyphRenderer\"},{\"attributes\":{},\"id\":\"5053\",\"type\":\"UnionRenderers\"},{\"attributes\":{\"text\":\"\"},\"id\":\"5048\",\"type\":\"Title\"},{\"attributes\":{\"source\":{\"id\":\"4873\",\"type\":\"ColumnDataSource\"}},\"id\":\"4879\",\"type\":\"CDSView\"},{\"attributes\":{\"palette\":[\"#000000\",\"#252525\",\"#525252\",\"#737373\",\"#969696\",\"#bdbdbd\",\"#d9d9d9\",\"#f0f0f0\",\"#ffffff\"]},\"id\":\"4877\",\"type\":\"LinearColorMapper\"},{\"attributes\":{\"palette\":[\"#000000\",\"#252525\",\"#525252\",\"#737373\",\"#969696\",\"#bdbdbd\",\"#d9d9d9\",\"#f0f0f0\",\"#ffffff\"]},\"id\":\"4875\",\"type\":\"LinearColorMapper\"},{\"attributes\":{},\"id\":\"4870\",\"type\":\"LinearScale\"},{\"attributes\":{\"ticks\":[0.5,1.5,2.5,3.5,4.5,5.5,6.5,7.5]},\"id\":\"4881\",\"type\":\"FixedTicker\"},{\"attributes\":{\"ticks\":[0.5,1.5,2.5,3.5,4.5,5.5,6.5,7.5,8.5,9.5,10.5,11.5]},\"id\":\"4884\",\"type\":\"FixedTicker\"},{\"attributes\":{\"callback\":null,\"end\":12},\"id\":\"4866\",\"type\":\"Range1d\"},{\"attributes\":{},\"id\":\"5050\",\"type\":\"BasicTickFormatter\"},{\"attributes\":{\"color_mapper\":{\"id\":\"4877\",\"type\":\"LinearColorMapper\"},\"dh\":{\"units\":\"data\",\"value\":12},\"dw\":{\"units\":\"data\",\"value\":8},\"image\":{\"field\":\"image\"},\"x\":{\"value\":0},\"y\":{\"value\":0}},\"id\":\"4876\",\"type\":\"Image\"},{\"attributes\":{},\"id\":\"5052\",\"type\":\"Selection\"},{\"attributes\":{\"callback\":null,\"end\":8},\"id\":\"4864\",\"type\":\"Range1d\"}],\"root_ids\":[\"4863\"]},\"title\":\"Bokeh Application\",\"version\":\"1.2.0\"}};\n",
       "  var render_items = [{\"docid\":\"07bf2c01-0152-43a0-90f5-247b244ad3c2\",\"roots\":{\"4863\":\"b7e94c3d-1797-4533-bc67-0202061556c6\"}}];\n",
       "  root.Bokeh.embed.embed_items_notebook(docs_json, render_items);\n",
       "\n",
       "  }\n",
       "  if (root.Bokeh !== undefined) {\n",
       "    embed_document(root);\n",
       "  } else {\n",
       "    var attempts = 0;\n",
       "    var timer = setInterval(function(root) {\n",
       "      if (root.Bokeh !== undefined) {\n",
       "        embed_document(root);\n",
       "        clearInterval(timer);\n",
       "      }\n",
       "      attempts++;\n",
       "      if (attempts > 100) {\n",
       "        console.log(\"Bokeh: ERROR: Unable to run BokehJS code because BokehJS library is missing\");\n",
       "        clearInterval(timer);\n",
       "      }\n",
       "    }, 10, root)\n",
       "  }\n",
       "})(window);"
      ],
      "application/vnd.bokehjs_exec.v0+json": ""
     },
     "metadata": {
      "application/vnd.bokehjs_exec.v0+json": {
       "id": "4863"
      }
     },
     "output_type": "display_data"
    },
    {
     "data": {
      "text/html": [
       "\n",
       "\n",
       "\n",
       "\n",
       "\n",
       "\n",
       "  <div class=\"bk-root\" id=\"d257dbcb-6314-4581-a064-da316e1175dd\" data-root-id=\"5090\"></div>\n"
      ]
     },
     "metadata": {},
     "output_type": "display_data"
    },
    {
     "data": {
      "application/javascript": [
       "(function(root) {\n",
       "  function embed_document(root) {\n",
       "    \n",
       "  var docs_json = {\"f342f740-a0cc-4243-8f0d-96f86f46a15e\":{\"roots\":{\"references\":[{\"attributes\":{\"above\":[{\"id\":\"5107\",\"type\":\"LinearAxis\"}],\"left\":[{\"id\":\"5110\",\"type\":\"LinearAxis\"}],\"renderers\":[{\"id\":\"5105\",\"type\":\"GlyphRenderer\"}],\"title\":{\"id\":\"5281\",\"type\":\"Title\"},\"toolbar\":{\"id\":\"5099\",\"type\":\"Toolbar\"},\"x_range\":{\"id\":\"5091\",\"type\":\"Range1d\"},\"x_scale\":{\"id\":\"5095\",\"type\":\"LinearScale\"},\"y_range\":{\"id\":\"5093\",\"type\":\"Range1d\"},\"y_scale\":{\"id\":\"5097\",\"type\":\"LinearScale\"}},\"id\":\"5090\",\"subtype\":\"Figure\",\"type\":\"Plot\"},{\"attributes\":{\"callback\":null,\"data\":{\"image\":[{\"__ndarray__\":\"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\",\"dtype\":\"float32\",\"shape\":[23,20]}]},\"selected\":{\"id\":\"5285\",\"type\":\"Selection\"},\"selection_policy\":{\"id\":\"5286\",\"type\":\"UnionRenderers\"}},\"id\":\"5100\",\"type\":\"ColumnDataSource\"},{\"attributes\":{\"palette\":[\"#000000\",\"#252525\",\"#525252\",\"#737373\",\"#969696\",\"#bdbdbd\",\"#d9d9d9\",\"#f0f0f0\",\"#ffffff\"]},\"id\":\"5104\",\"type\":\"LinearColorMapper\"},{\"attributes\":{},\"id\":\"5284\",\"type\":\"BasicTickFormatter\"},{\"attributes\":{\"source\":{\"id\":\"5100\",\"type\":\"ColumnDataSource\"}},\"id\":\"5106\",\"type\":\"CDSView\"},{\"attributes\":{\"axis_label\":\"source tokens\",\"formatter\":{\"id\":\"5284\",\"type\":\"BasicTickFormatter\"},\"major_label_orientation\":45,\"major_label_overrides\":{\"0.5\":\"_BOS_\",\"1.5\":\"\\u0432\",\"10.5\":\",\",\"11.5\":\"\\u0432\\u043a\\u043b\\u044e\\u0447\\u0430\\u044f\",\"12.5\":\"\\u043f\\u0435\\u0448\\u0438\\u0435\",\"13.5\":\"\\u043f\\u0440\\u043e\\u0433\\u0443\\u043b\\u043a\\u0438\",\"14.5\":\",\",\"15.5\":\"\\u0432\\u0435\\u043b\\u043e\\u0441\\u043f\\u043e\\u0440\\u0442\",\"16.5\":\"\\u0438\",\"17.5\":\"\\u043f\\u043e\\u0445\\u043e\\u0434\\u044b\",\"18.5\":\".\",\"19.5\":\"_EOS_\",\"2.5\":\"\\u043e\\u043a\\u0440\\u0435\\u0441\\u0442\\u043d\\u043e\\u0441\\u0442\\u044f\\u0445\",\"3.5\":\"\\u043c\\u043e\\u0436\\u043d\\u043e\",\"4.5\":\"\\u0437\\u0430\\u043d\\u044f\\u0442\\u044c\\u0441\\u044f\",\"5.5\":\"\\u0440\\u0430\\u0437\\u043b\\u0438\\u0447\\u043d\\u044b\\u043c\\u0438\",\"6.5\":\"\\u0432\\u0438\\u0434\\u0430\\u043c\\u0438\",\"7.5\":\"\\u0434\\u0435\\u044f@@\",\"8.5\":\"\\u0442\\u0435\\u043b\\u044c@@\",\"9.5\":\"\\u043d\\u043e\\u0441\\u0442\\u0438\"},\"ticker\":{\"id\":\"5108\",\"type\":\"FixedTicker\"}},\"id\":\"5107\",\"type\":\"LinearAxis\"},{\"attributes\":{\"data_source\":{\"id\":\"5100\",\"type\":\"ColumnDataSource\"},\"glyph\":{\"id\":\"5101\",\"type\":\"Image\"},\"hover_glyph\":null,\"muted_glyph\":null,\"nonselection_glyph\":{\"id\":\"5103\",\"type\":\"Image\"},\"selection_glyph\":null,\"view\":{\"id\":\"5106\",\"type\":\"CDSView\"}},\"id\":\"5105\",\"type\":\"GlyphRenderer\"},{\"attributes\":{\"color_mapper\":{\"id\":\"5102\",\"type\":\"LinearColorMapper\"},\"dh\":{\"units\":\"data\",\"value\":23},\"dw\":{\"units\":\"data\",\"value\":20},\"image\":{\"field\":\"image\"},\"x\":{\"value\":0},\"y\":{\"value\":0}},\"id\":\"5101\",\"type\":\"Image\"},{\"attributes\":{\"callback\":null,\"end\":20},\"id\":\"5091\",\"type\":\"Range1d\"},{\"attributes\":{},\"id\":\"5286\",\"type\":\"UnionRenderers\"},{\"attributes\":{},\"id\":\"5097\",\"type\":\"LinearScale\"},{\"attributes\":{\"color_mapper\":{\"id\":\"5104\",\"type\":\"LinearColorMapper\"},\"dh\":{\"units\":\"data\",\"value\":23},\"dw\":{\"units\":\"data\",\"value\":20},\"image\":{\"field\":\"image\"},\"x\":{\"value\":0},\"y\":{\"value\":0}},\"id\":\"5103\",\"type\":\"Image\"},{\"attributes\":{},\"id\":\"5095\",\"type\":\"LinearScale\"},{\"attributes\":{\"callback\":null,\"end\":23},\"id\":\"5093\",\"type\":\"Range1d\"},{\"attributes\":{\"text\":\"\"},\"id\":\"5281\",\"type\":\"Title\"},{\"attributes\":{\"palette\":[\"#000000\",\"#252525\",\"#525252\",\"#737373\",\"#969696\",\"#bdbdbd\",\"#d9d9d9\",\"#f0f0f0\",\"#ffffff\"]},\"id\":\"5102\",\"type\":\"LinearColorMapper\"},{\"attributes\":{\"ticks\":[0.5,1.5,2.5,3.5,4.5,5.5,6.5,7.5,8.5,9.5,10.5,11.5,12.5,13.5,14.5,15.5,16.5,17.5,18.5,19.5,20.5,21.5,22.5]},\"id\":\"5111\",\"type\":\"FixedTicker\"},{\"attributes\":{},\"id\":\"5283\",\"type\":\"BasicTickFormatter\"},{\"attributes\":{},\"id\":\"5285\",\"type\":\"Selection\"},{\"attributes\":{\"ticks\":[0.5,1.5,2.5,3.5,4.5,5.5,6.5,7.5,8.5,9.5,10.5,11.5,12.5,13.5,14.5,15.5,16.5,17.5,18.5,19.5]},\"id\":\"5108\",\"type\":\"FixedTicker\"},{\"attributes\":{\"active_drag\":\"auto\",\"active_inspect\":\"auto\",\"active_multi\":null,\"active_scroll\":\"auto\",\"active_tap\":\"auto\"},\"id\":\"5099\",\"type\":\"Toolbar\"},{\"attributes\":{\"axis_label\":\"translation tokens\",\"formatter\":{\"id\":\"5283\",\"type\":\"BasicTickFormatter\"},\"major_label_overrides\":{\"0.5\":\"_EOS_\",\"1.5\":\".\",\"10.5\":\"the\",\"11.5\":\"in\",\"12.5\":\"or\",\"13.5\":\"site\",\"14.5\":\"on\",\"15.5\":\"enjoyed\",\"16.5\":\"be\",\"17.5\":\"can\",\"18.5\":\"activities\",\"19.5\":\"of\",\"2.5\":\"hiking\",\"20.5\":\"array\",\"21.5\":\"an\",\"22.5\":\"_BOS_\",\"3.5\":\"and\",\"4.5\":\"fishing\",\"5.5\":\",\",\"6.5\":\"cycling\",\"7.5\":\"including\",\"8.5\":\",\",\"9.5\":\"surroundings\"},\"ticker\":{\"id\":\"5111\",\"type\":\"FixedTicker\"}},\"id\":\"5110\",\"type\":\"LinearAxis\"}],\"root_ids\":[\"5090\"]},\"title\":\"Bokeh Application\",\"version\":\"1.2.0\"}};\n",
       "  var render_items = [{\"docid\":\"f342f740-a0cc-4243-8f0d-96f86f46a15e\",\"roots\":{\"5090\":\"d257dbcb-6314-4581-a064-da316e1175dd\"}}];\n",
       "  root.Bokeh.embed.embed_items_notebook(docs_json, render_items);\n",
       "\n",
       "  }\n",
       "  if (root.Bokeh !== undefined) {\n",
       "    embed_document(root);\n",
       "  } else {\n",
       "    var attempts = 0;\n",
       "    var timer = setInterval(function(root) {\n",
       "      if (root.Bokeh !== undefined) {\n",
       "        embed_document(root);\n",
       "        clearInterval(timer);\n",
       "      }\n",
       "      attempts++;\n",
       "      if (attempts > 100) {\n",
       "        console.log(\"Bokeh: ERROR: Unable to run BokehJS code because BokehJS library is missing\");\n",
       "        clearInterval(timer);\n",
       "      }\n",
       "    }, 10, root)\n",
       "  }\n",
       "})(window);"
      ],
      "application/vnd.bokehjs_exec.v0+json": ""
     },
     "metadata": {
      "application/vnd.bokehjs_exec.v0+json": {
       "id": "5090"
      }
     },
     "output_type": "display_data"
    },
    {
     "data": {
      "text/html": [
       "\n",
       "\n",
       "\n",
       "\n",
       "\n",
       "\n",
       "  <div class=\"bk-root\" id=\"89fc5380-39ef-4783-ba2a-87fc55ce89f2\" data-root-id=\"5323\"></div>\n"
      ]
     },
     "metadata": {},
     "output_type": "display_data"
    },
    {
     "data": {
      "application/javascript": [
       "(function(root) {\n",
       "  function embed_document(root) {\n",
       "    \n",
       "  var docs_json = {\"f66aa15b-e024-4c5a-ade5-386c324c9362\":{\"roots\":{\"references\":[{\"attributes\":{\"above\":[{\"id\":\"5340\",\"type\":\"LinearAxis\"}],\"left\":[{\"id\":\"5343\",\"type\":\"LinearAxis\"}],\"renderers\":[{\"id\":\"5338\",\"type\":\"GlyphRenderer\"}],\"title\":{\"id\":\"5520\",\"type\":\"Title\"},\"toolbar\":{\"id\":\"5332\",\"type\":\"Toolbar\"},\"x_range\":{\"id\":\"5324\",\"type\":\"Range1d\"},\"x_scale\":{\"id\":\"5328\",\"type\":\"LinearScale\"},\"y_range\":{\"id\":\"5326\",\"type\":\"Range1d\"},\"y_scale\":{\"id\":\"5330\",\"type\":\"LinearScale\"}},\"id\":\"5323\",\"subtype\":\"Figure\",\"type\":\"Plot\"},{\"attributes\":{\"palette\":[\"#000000\",\"#252525\",\"#525252\",\"#737373\",\"#969696\",\"#bdbdbd\",\"#d9d9d9\",\"#f0f0f0\",\"#ffffff\"]},\"id\":\"5337\",\"type\":\"LinearColorMapper\"},{\"attributes\":{\"color_mapper\":{\"id\":\"5337\",\"type\":\"LinearColorMapper\"},\"dh\":{\"units\":\"data\",\"value\":14},\"dw\":{\"units\":\"data\",\"value\":14},\"image\":{\"field\":\"image\"},\"x\":{\"value\":0},\"y\":{\"value\":0}},\"id\":\"5336\",\"type\":\"Image\"},{\"attributes\":{\"text\":\"\"},\"id\":\"5520\",\"type\":\"Title\"},{\"attributes\":{\"ticks\":[0.5,1.5,2.5,3.5,4.5,5.5,6.5,7.5,8.5,9.5,10.5,11.5,12.5,13.5]},\"id\":\"5341\",\"type\":\"FixedTicker\"},{\"attributes\":{},\"id\":\"5523\",\"type\":\"BasicTickFormatter\"},{\"attributes\":{\"callback\":null,\"data\":{\"image\":[{\"__ndarray__\":\"reFwP9nYdD/mkX4/3McdPhgtfD8GtH4/aOd/P0ztfz9yxX8/bGh/P784fz9oc38/gYZ9Pzstfj/t/38/bv9/P7r8fz+Zy38/oI1/P/3lfz9B/H8/MPR/P8T2fz9LN34/BT19P8Neaz9I4ng//NRxP8SNfz9o+38/IvN/P4D8fz9T3X0/LpB0P5uifz8G8n4/sht/P4xcfj8Xe38/ZFlwPyLw5z5QHzA/B/1/PxH/fz/w/X8/Yv1/P2p5fz8k/X8/5v9/P27/fz9s/38/M0B/P4DMmjw4oXw/SvF/PzDqfz+b/n8/mP1/P7f+fz8u/H8/aDt/P43/fz+t/n8/AP5/P8r9fz8M2GM/iAj1Pf55fj+p6n8/ufV/PzkRZD+br34/EdN/P4X+fT9t830/XaN/P9Hffz9CXn8/aDF/P5qNGT/ydw4/wGp8P1Fefz+6mH8/w/J/PxL6fz886n8/gOF+P5wGfz/ATHk/Q6B+P/lwdj9wElU+1ah+P9c6fz+g7X4/CGFqP+jLdz+X/3w/8L9/P3XVfz+SOV8/5mPfPp16fj/kf3k/2E5xP2mBcz9MXXo/+JlfP7oOfz/iSX8/HWV/P67tfz8//38/Kv5/P0Djfz/6RHE/Gtt7PzT7fD/h+C4/2ko/PyR6fj9lnn4/LAV/PxD0Qz/4wWc/7f5/P/r8fz/G/38/C09/P+HAfj84k2g/O8J0P+t8Ij9tRzc/D9ZdP8UgfD+4K30/Igt3P9qufD99/H8/0f9/Pyn6fz8TrH8/kIrLPQHyfz9dq34/rYJ/P0D0fz+OHX0/wc9rP7Dsfz/G/n8/E/9/P/X8fj/t+38/HPt/P7GYfT9o328+A9Z9P0f+XT8v/G4/JJ9/PyVTfz9Oxn0/Tfh/P338fz+c/X8/DLt/P84Bdz+4vH8/9SwVP05NHD/k0mY/56F9PwCzfD+sfXo/XuF8P23qfz8q8H8/Xr9/P2nrfz+WK38/xYl2P+ZCVD9s3/c+QARDP65Cfj8zGn8/eK1/P+v5fz9/xnw/+XZ9P6vUfz8m/n8/PP9/Pw==\",\"dtype\":\"float32\",\"shape\":[14,14]}]},\"selected\":{\"id\":\"5524\",\"type\":\"Selection\"},\"selection_policy\":{\"id\":\"5525\",\"type\":\"UnionRenderers\"}},\"id\":\"5333\",\"type\":\"ColumnDataSource\"},{\"attributes\":{},\"id\":\"5522\",\"type\":\"BasicTickFormatter\"},{\"attributes\":{},\"id\":\"5525\",\"type\":\"UnionRenderers\"},{\"attributes\":{\"palette\":[\"#000000\",\"#252525\",\"#525252\",\"#737373\",\"#969696\",\"#bdbdbd\",\"#d9d9d9\",\"#f0f0f0\",\"#ffffff\"]},\"id\":\"5335\",\"type\":\"LinearColorMapper\"},{\"attributes\":{\"color_mapper\":{\"id\":\"5335\",\"type\":\"LinearColorMapper\"},\"dh\":{\"units\":\"data\",\"value\":14},\"dw\":{\"units\":\"data\",\"value\":14},\"image\":{\"field\":\"image\"},\"x\":{\"value\":0},\"y\":{\"value\":0}},\"id\":\"5334\",\"type\":\"Image\"},{\"attributes\":{\"callback\":null,\"end\":14},\"id\":\"5326\",\"type\":\"Range1d\"},{\"attributes\":{\"ticks\":[0.5,1.5,2.5,3.5,4.5,5.5,6.5,7.5,8.5,9.5,10.5,11.5,12.5,13.5]},\"id\":\"5344\",\"type\":\"FixedTicker\"},{\"attributes\":{\"data_source\":{\"id\":\"5333\",\"type\":\"ColumnDataSource\"},\"glyph\":{\"id\":\"5334\",\"type\":\"Image\"},\"hover_glyph\":null,\"muted_glyph\":null,\"nonselection_glyph\":{\"id\":\"5336\",\"type\":\"Image\"},\"selection_glyph\":null,\"view\":{\"id\":\"5339\",\"type\":\"CDSView\"}},\"id\":\"5338\",\"type\":\"GlyphRenderer\"},{\"attributes\":{\"axis_label\":\"source tokens\",\"formatter\":{\"id\":\"5523\",\"type\":\"BasicTickFormatter\"},\"major_label_orientation\":45,\"major_label_overrides\":{\"0.5\":\"_BOS_\",\"1.5\":\"\\u0432\",\"10.5\":\"\\u0432\\u0430\\u043d\\u043d\\u0430\\u044f\",\"11.5\":\"\\u043a\\u043e\\u043c\\u043d\\u0430\\u0442\\u0430\",\"12.5\":\".\",\"13.5\":\"_EOS_\",\"2.5\":\"\\u043d\\u043e\\u043c\\u0435\\u0440\\u0430\\u0445\",\"3.5\":\"\\u0438\\u043c\\u0435\\u0435\\u0442\\u0441\\u044f\",\"4.5\":\"\\u0442\\u0435\\u043b\\u0435\\u0432\\u0438\\u0437\\u043e\\u0440\",\"5.5\":\"\\u0441\",\"6.5\":\"\\u043f\\u043b\\u043e\\u0441\\u043a\\u0438\\u043c\",\"7.5\":\"\\u044d\\u043a\\u0440\\u0430\\u043d\\u043e\\u043c\",\"8.5\":\"\\u0438\",\"9.5\":\"\\u0441\\u043e\\u0431\\u0441\\u0442\\u0432\\u0435\\u043d\\u043d\\u0430\\u044f\"},\"ticker\":{\"id\":\"5341\",\"type\":\"FixedTicker\"}},\"id\":\"5340\",\"type\":\"LinearAxis\"},{\"attributes\":{\"axis_label\":\"translation tokens\",\"formatter\":{\"id\":\"5522\",\"type\":\"BasicTickFormatter\"},\"major_label_overrides\":{\"0.5\":\"_EOS_\",\"1.5\":\".\",\"10.5\":\"a\",\"11.5\":\"include\",\"12.5\":\"rooms\",\"13.5\":\"_BOS_\",\"2.5\":\"bathroom\",\"3.5\":\"private\",\"4.5\":\"a\",\"5.5\":\"and\",\"6.5\":\"tv\",\"7.5\":\"screen\",\"8.5\":\"-\",\"9.5\":\"flat\"},\"ticker\":{\"id\":\"5344\",\"type\":\"FixedTicker\"}},\"id\":\"5343\",\"type\":\"LinearAxis\"},{\"attributes\":{\"source\":{\"id\":\"5333\",\"type\":\"ColumnDataSource\"}},\"id\":\"5339\",\"type\":\"CDSView\"},{\"attributes\":{},\"id\":\"5328\",\"type\":\"LinearScale\"},{\"attributes\":{},\"id\":\"5524\",\"type\":\"Selection\"},{\"attributes\":{\"active_drag\":\"auto\",\"active_inspect\":\"auto\",\"active_multi\":null,\"active_scroll\":\"auto\",\"active_tap\":\"auto\"},\"id\":\"5332\",\"type\":\"Toolbar\"},{\"attributes\":{\"callback\":null,\"end\":14},\"id\":\"5324\",\"type\":\"Range1d\"},{\"attributes\":{},\"id\":\"5330\",\"type\":\"LinearScale\"}],\"root_ids\":[\"5323\"]},\"title\":\"Bokeh Application\",\"version\":\"1.2.0\"}};\n",
       "  var render_items = [{\"docid\":\"f66aa15b-e024-4c5a-ade5-386c324c9362\",\"roots\":{\"5323\":\"89fc5380-39ef-4783-ba2a-87fc55ce89f2\"}}];\n",
       "  root.Bokeh.embed.embed_items_notebook(docs_json, render_items);\n",
       "\n",
       "  }\n",
       "  if (root.Bokeh !== undefined) {\n",
       "    embed_document(root);\n",
       "  } else {\n",
       "    var attempts = 0;\n",
       "    var timer = setInterval(function(root) {\n",
       "      if (root.Bokeh !== undefined) {\n",
       "        embed_document(root);\n",
       "        clearInterval(timer);\n",
       "      }\n",
       "      attempts++;\n",
       "      if (attempts > 100) {\n",
       "        console.log(\"Bokeh: ERROR: Unable to run BokehJS code because BokehJS library is missing\");\n",
       "        clearInterval(timer);\n",
       "      }\n",
       "    }, 10, root)\n",
       "  }\n",
       "})(window);"
      ],
      "application/vnd.bokehjs_exec.v0+json": ""
     },
     "metadata": {
      "application/vnd.bokehjs_exec.v0+json": {
       "id": "5323"
      }
     },
     "output_type": "display_data"
    }
   ],
   "source": [
    "for i in range(5):\n",
    "    draw_attention(inp[i], trans[i], 1- attention_probs[i])\n",
    "    \n",
    "# Does it look fine already? don't forget to save images for anytask!"
   ]
  },
  {
   "cell_type": "markdown",
   "metadata": {},
   "source": [
    "## РЕЗУЛЬТАТ В ОТДЕЛЬНОМ ФАЙЛЕ"
   ]
  },
  {
   "cell_type": "markdown",
   "metadata": {
    "colab_type": "text",
    "id": "pbIIngNVlrtt"
   },
   "source": [
    "## Grand Finale (2+ points each)\n",
    "\n",
    "We want you to find the best model for the task. Use everything you know.\n",
    "\n",
    "* different recurrent units: rnn/gru/lstm; deeper architectures\n",
    "* bidirectional encoder, different attention methods for decoder\n",
    "* word dropout, training schedules, anything you can imagine\n",
    "\n",
    "For a full grade we want you to conduct at least one experiment from one of the bullet-points or your alternative ideas. Extra work will be rewarded with bonus points :)\n",
    "\n",
    "As usual, we want you to describe what you tried and what results you obtained."
   ]
  },
  {
   "cell_type": "code",
   "execution_count": 27,
   "metadata": {},
   "outputs": [],
   "source": [
    "class AttentiveLSTModel(AttentiveModel):\n",
    "    def __init__(self, name, inp_voc, out_voc,\n",
    "                 emb_size=64, hid_size=128, attn_size=128):\n",
    "        L.Layer.__init__(self)\n",
    "        \n",
    "        self.inp_voc, self.out_voc = inp_voc, out_voc # Vocab class\n",
    "        self.hid_size = hid_size # hid_size of rnn\n",
    "        \n",
    "        self.emb_inp = L.Embedding(len(self.inp_voc), emb_size) # embedding for encoder\n",
    "        self.emb_out = L.Embedding(len(self.out_voc), emb_size) # embedding fot decoder\n",
    "        self.enc0 = L.LSTMCell(hid_size) # rnn cell for encoder\n",
    "        self.dec_start = L.Dense(hid_size) # dense for initial state of decoder\n",
    "        \n",
    "        self.attn = AttentionLayer('attn_layer', hid_size, hid_size, attn_size)\n",
    "        self.dec0 = L.LSTMCell(hid_size) # rnn cell for decoder\n",
    "        self.concat = L.Concatenate() # concate context_cell (attn) and decoder rnn output\n",
    "        self.logits = L.Dense(len(out_voc)) # logit for decoder result\n",
    "    \n",
    "    def encode(self, inp, **flags):\n",
    "        \"\"\"\n",
    "        Takes symbolic input sequence, computes initial state\n",
    "        :param inp: matrix of input tokens [batch, time]\n",
    "        :return: a list of initial decoder state tensors\n",
    "        \"\"\"\n",
    "        \n",
    "        # encode input sequence, create initial decoder states\n",
    "        inp_emb = self.emb_inp(inp) # [batch, time, emb_size]\n",
    "        batch_size = inp.shape[0]\n",
    "        mask = infer_mask(inp, self.inp_voc.eos_ix, dtype=tf.bool) # [batch, time]\n",
    "        outputs = []\n",
    "        states = [[tf.zeros((batch_size, self.hid_size), tf.float32),\n",
    "                   tf.zeros((batch_size, self.hid_size), tf.float32)]] # [output, carry_state]\n",
    "        for i in tf.range(inp_emb.shape[1]):\n",
    "            next_state = self.encode_step(states[-1], inp_emb[:, i], mask[:, i, None])\n",
    "            states.append(next_state)\n",
    "            outputs.append(next_state[0])\n",
    "        states = states[1:] # remove init state for rnn\n",
    "        dec_start = self.dec_start(states[-1][0]) # [batch, hid_size]\n",
    "        \n",
    "        # apply attention layer from initial decoder hidden state\n",
    "        outputs_stacked = tf.stack(outputs, axis=1)\n",
    "        first_attn_probas = self.attn(outputs_stacked, [dec_start], mask)[1] # [batch, attn_size]\n",
    "        \n",
    "        # Build first state: include\n",
    "        # * initial states for decoder recurrent layers\n",
    "        # * encoder sequence and encoder attn mask (for attention)\n",
    "        # * make sure that last state item is attention probabilities tensor\n",
    "        \n",
    "        first_state = [[dec_start, states[-1][1]], outputs_stacked, mask, first_attn_probas]\n",
    "        return first_state\n",
    "    \n",
    "    @tf.function\n",
    "    def decode_step(self, prev_state, prev_tokens, **flags):\n",
    "        \"\"\"\n",
    "        Takes previous decoder state and tokens, returns new state and logits for next tokens\n",
    "        :param prev_state: a list of previous decoder state tensors\n",
    "        :param prev_tokens: previous output tokens, an int vector of [batch_size]\n",
    "        :return: a list of next decoder state tensors, a tensor of logits [batch, n_tokens]\n",
    "        \"\"\"\n",
    "        dec_state, emb_states, emb_mask, prev_probs = prev_state\n",
    "        out_emb = self.emb_out(prev_tokens) # [batch, emb_size]\n",
    "        output, new_dec_state = self.dec0(out_emb, dec_state) # [batch, hid_size], list([batch, hid_size], [batch, hid_size])\n",
    "        attn, probs = self.attn(emb_states, [output], emb_mask) # [batch, hid_size], [batch, attn_size]\n",
    "        \n",
    "        \n",
    "        concat = self.concat([output, attn]) # [batch, 2*hid_size]\n",
    "        output_logits = self.logits(concat) # [batch, voc_size]\n",
    "        new_dec_state = [new_dec_state, emb_states, emb_mask, probs]\n",
    "        return new_dec_state, output_logits\n",
    "    "
   ]
  },
  {
   "cell_type": "code",
   "execution_count": 28,
   "metadata": {},
   "outputs": [],
   "source": [
    "model_attn_lstm = AttentiveLSTModel(\"attn_model\", inp_voc, out_voc)"
   ]
  },
  {
   "cell_type": "code",
   "execution_count": 29,
   "metadata": {},
   "outputs": [],
   "source": [
    "dummy_inp = tf.convert_to_tensor(inp_voc.to_matrix(train_inp[:3]))\n",
    "dummy_out = tf.convert_to_tensor(out_voc.to_matrix(train_out[:3]))\n",
    "dummy_logits = model_attn_lstm(dummy_inp, dummy_out)\n",
    "ref_shape = (dummy_out.shape[0], dummy_out.shape[1], len(out_voc))\n",
    "assert dummy_logits.shape == ref_shape, \"Your logits shape should be {} but got {}\".format(dummy_logits.shape, ref_shape)\n",
    "assert all(dummy_logits[:, 0].numpy().argmax(-1) == out_voc.bos_ix), \"first step must always be BOS\""
   ]
  },
  {
   "cell_type": "code",
   "execution_count": 30,
   "metadata": {},
   "outputs": [
    {
     "name": "stdout",
     "output_type": "stream",
     "text": [
      "Loss: tf.Tensor(8.424146, shape=(), dtype=float32)\n"
     ]
    }
   ],
   "source": [
    "dummy_loss = compute_loss(model_attn_lstm, dummy_inp, dummy_out)\n",
    "print(\"Loss:\", dummy_loss)"
   ]
  },
  {
   "cell_type": "code",
   "execution_count": 31,
   "metadata": {},
   "outputs": [
    {
     "name": "stdout",
     "output_type": "stream",
     "text": [
      "Wall time: 5.51 s\n"
     ]
    },
    {
     "data": {
      "text/plain": [
       "0.0019655872158770905"
      ]
     },
     "execution_count": 31,
     "metadata": {},
     "output_type": "execute_result"
    }
   ],
   "source": [
    "%%time\n",
    "compute_bleu(model_attn_lstm, dev_inp, dev_out)"
   ]
  },
  {
   "cell_type": "code",
   "execution_count": 32,
   "metadata": {},
   "outputs": [],
   "source": [
    "from IPython.display import clear_output\n",
    "from tqdm import tqdm, trange\n",
    "opt = keras.optimizers.Adam(1e-3)"
   ]
  },
  {
   "cell_type": "code",
   "execution_count": 33,
   "metadata": {},
   "outputs": [],
   "source": [
    "metrics_attn_lstm = {'train_loss': [], 'dev_bleu': [] }\n",
    "batch_size_attn_lstm = 64\n",
    "iterations_attn_lstm = 10000 "
   ]
  },
  {
   "cell_type": "code",
   "execution_count": 34,
   "metadata": {},
   "outputs": [
    {
     "data": {
      "image/png": "[encoded data removed]",
      "text/plain": [
       "<Figure size 864x288 with 2 Axes>"
      ]
     },
     "metadata": {
      "needs_background": "light"
     },
     "output_type": "display_data"
    },
    {
     "name": "stdout",
     "output_type": "stream",
     "text": [
      "Mean loss=1.616\n"
     ]
    },
    {
     "name": "stderr",
     "output_type": "stream",
     "text": [
      "100%|██████████| 10000/10000 [1:16:16<00:00,  1.98s/it]\n"
     ]
    }
   ],
   "source": [
    "train_loop(model_attn_lstm, batch_size_attn_lstm, iterations_attn_lstm, metrics_attn_lstm, opt)"
   ]
  },
  {
   "cell_type": "code",
   "execution_count": 35,
   "metadata": {},
   "outputs": [
    {
     "data": {
      "text/plain": [
       "23.650406557250125"
      ]
     },
     "execution_count": 35,
     "metadata": {},
     "output_type": "execute_result"
    }
   ],
   "source": [
    "np.mean(metrics_attn_lstm['dev_bleu'][-10:], axis=0)[1]"
   ]
  },
  {
   "cell_type": "code",
   "execution_count": 37,
   "metadata": {},
   "outputs": [],
   "source": [
    "import pickle\n",
    "with open('attn_weights_lstm.pkl', 'wb') as f:\n",
    "    pickle.dump(model_attn_lstm.get_weights(), f)"
   ]
  },
  {
   "cell_type": "code",
   "execution_count": 38,
   "metadata": {},
   "outputs": [],
   "source": [
    "with open('attn_model_lstm.pkl', 'wb') as f:\n",
    "    pickle.dump(metrics_attn_lstm, f)"
   ]
  },
  {
   "cell_type": "code",
   "execution_count": 41,
   "metadata": {},
   "outputs": [
    {
     "name": "stdout",
     "output_type": "stream",
     "text": [
      "в распоряжении гостей общая кухня и общая гостиная .\n",
      "there is a shared kitchen and a common lounge are available .\n",
      "\n",
      "кроме того , предоставляется прокат велосипедов , услуги трансфера и бесплатная парковка .\n",
      "the property also offers bike rental and free parking .\n",
      "\n",
      "расстояние до города ки@@ сси@@ м@@ ми составляет 26 км .\n",
      "k@@ av@@ ske is 26 km away .\n",
      "\n",
      "апартаменты в пент@@ хаусе с общим открытым бассейном , садом , кондиционером и террасой для загара расположены в 5 минутах ходьбы от пляжа на курорте ка@@ бо - рой .\n",
      "located in playa de janeiro ’ s beach , the apartments in playa del sol is a 5 - minute walk from the beach and a 5 - minute walk from the beach .\n",
      "\n",
      "апартаменты mo@@ s@@ co@@ w point - loft red square находятся в москве , в 200 метрах от большого театра .\n",
      "located 200 metres from the theatre of the savior on the apartment to the city of the apartment , the apartment is located in the apartment , 200 metres from the theatre of the theatre .\n",
      "\n",
      "в вашем распоряжении собственная ванная комната с душем и полотенцами .\n",
      "the private bathroom comes with a shower and towels .\n",
      "\n"
     ]
    }
   ],
   "source": [
    "for inp_line, trans_line in zip(dev_inp[::500], model_attn_lstm.translate_lines(dev_inp[::500])[0]):\n",
    "    print(inp_line)\n",
    "    print(trans_line)\n",
    "    print()"
   ]
  },
  {
   "cell_type": "code",
   "execution_count": 83,
   "metadata": {},
   "outputs": [],
   "source": [
    "inp = dev_inp[::100]\n",
    "trans, states = model_attn_lstm.translate_lines(inp)"
   ]
  },
  {
   "cell_type": "code",
   "execution_count": 84,
   "metadata": {},
   "outputs": [],
   "source": [
    "stacked = np.stack([state[-1] for state in states[1:]], axis=1)"
   ]
  },
  {
   "cell_type": "code",
   "execution_count": 85,
   "metadata": {},
   "outputs": [],
   "source": [
    "attention_probs = np.stack([state[-1] for state in states[1:]], axis=1)"
   ]
  },
  {
   "cell_type": "code",
   "execution_count": 86,
   "metadata": {},
   "outputs": [
    {
     "data": {
      "text/html": [
       "\n",
       "\n",
       "\n",
       "\n",
       "\n",
       "\n",
       "  <div class=\"bk-root\" id=\"9221a0a6-96bd-462e-bfec-1f5873b1834e\" data-root-id=\"5562\"></div>\n"
      ]
     },
     "metadata": {},
     "output_type": "display_data"
    },
    {
     "data": {
      "application/javascript": [
       "(function(root) {\n",
       "  function embed_document(root) {\n",
       "    \n",
       "  var docs_json = {\"2b1cfde7-c7c6-4db5-a3e9-188ae19d623a\":{\"roots\":{\"references\":[{\"attributes\":{\"above\":[{\"id\":\"5579\",\"type\":\"LinearAxis\"}],\"left\":[{\"id\":\"5582\",\"type\":\"LinearAxis\"}],\"renderers\":[{\"id\":\"5577\",\"type\":\"GlyphRenderer\"}],\"title\":{\"id\":\"5765\",\"type\":\"Title\"},\"toolbar\":{\"id\":\"5571\",\"type\":\"Toolbar\"},\"x_range\":{\"id\":\"5563\",\"type\":\"Range1d\"},\"x_scale\":{\"id\":\"5567\",\"type\":\"LinearScale\"},\"y_range\":{\"id\":\"5565\",\"type\":\"Range1d\"},\"y_scale\":{\"id\":\"5569\",\"type\":\"LinearScale\"}},\"id\":\"5562\",\"subtype\":\"Figure\",\"type\":\"Plot\"},{\"attributes\":{\"callback\":null,\"end\":11},\"id\":\"5563\",\"type\":\"Range1d\"},{\"attributes\":{},\"id\":\"5769\",\"type\":\"Selection\"},{\"attributes\":{},\"id\":\"5567\",\"type\":\"LinearScale\"},{\"attributes\":{},\"id\":\"5770\",\"type\":\"UnionRenderers\"},{\"attributes\":{},\"id\":\"5569\",\"type\":\"LinearScale\"},{\"attributes\":{},\"id\":\"5767\",\"type\":\"BasicTickFormatter\"},{\"attributes\":{\"active_drag\":\"auto\",\"active_inspect\":\"auto\",\"active_multi\":null,\"active_scroll\":\"auto\",\"active_tap\":\"auto\"},\"id\":\"5571\",\"type\":\"Toolbar\"},{\"attributes\":{\"color_mapper\":{\"id\":\"5574\",\"type\":\"LinearColorMapper\"},\"dh\":{\"units\":\"data\",\"value\":14},\"dw\":{\"units\":\"data\",\"value\":11},\"image\":{\"field\":\"image\"},\"x\":{\"value\":0},\"y\":{\"value\":0}},\"id\":\"5573\",\"type\":\"Image\"},{\"attributes\":{\"axis_label\":\"translation tokens\",\"formatter\":{\"id\":\"5767\",\"type\":\"BasicTickFormatter\"},\"major_label_overrides\":{\"0.5\":\"_EOS_\",\"1.5\":\".\",\"10.5\":\"a\",\"11.5\":\"is\",\"12.5\":\"there\",\"13.5\":\"_BOS_\",\"2.5\":\"available\",\"3.5\":\"are\",\"4.5\":\"lounge\",\"5.5\":\"common\",\"6.5\":\"a\",\"7.5\":\"and\",\"8.5\":\"kitchen\",\"9.5\":\"shared\"},\"ticker\":{\"id\":\"5583\",\"type\":\"FixedTicker\"}},\"id\":\"5582\",\"type\":\"LinearAxis\"},{\"attributes\":{\"palette\":[\"#000000\",\"#252525\",\"#525252\",\"#737373\",\"#969696\",\"#bdbdbd\",\"#d9d9d9\",\"#f0f0f0\",\"#ffffff\"]},\"id\":\"5574\",\"type\":\"LinearColorMapper\"},{\"attributes\":{\"color_mapper\":{\"id\":\"5576\",\"type\":\"LinearColorMapper\"},\"dh\":{\"units\":\"data\",\"value\":14},\"dw\":{\"units\":\"data\",\"value\":11},\"image\":{\"field\":\"image\"},\"x\":{\"value\":0},\"y\":{\"value\":0}},\"id\":\"5575\",\"type\":\"Image\"},{\"attributes\":{\"palette\":[\"#000000\",\"#252525\",\"#525252\",\"#737373\",\"#969696\",\"#bdbdbd\",\"#d9d9d9\",\"#f0f0f0\",\"#ffffff\"]},\"id\":\"5576\",\"type\":\"LinearColorMapper\"},{\"attributes\":{\"data_source\":{\"id\":\"5572\",\"type\":\"ColumnDataSource\"},\"glyph\":{\"id\":\"5573\",\"type\":\"Image\"},\"hover_glyph\":null,\"muted_glyph\":null,\"nonselection_glyph\":{\"id\":\"5575\",\"type\":\"Image\"},\"selection_glyph\":null,\"view\":{\"id\":\"5578\",\"type\":\"CDSView\"}},\"id\":\"5577\",\"type\":\"GlyphRenderer\"},{\"attributes\":{\"source\":{\"id\":\"5572\",\"type\":\"ColumnDataSource\"}},\"id\":\"5578\",\"type\":\"CDSView\"},{\"attributes\":{\"text\":\"\"},\"id\":\"5765\",\"type\":\"Title\"},{\"attributes\":{\"axis_label\":\"source tokens\",\"formatter\":{\"id\":\"5768\",\"type\":\"BasicTickFormatter\"},\"major_label_orientation\":45,\"major_label_overrides\":{\"0.5\":\"_BOS_\",\"1.5\":\"\\u0432\",\"10.5\":\"_EOS_\",\"2.5\":\"\\u0440\\u0430\\u0441\\u043f\\u043e\\u0440\\u044f\\u0436\\u0435\\u043d\\u0438\\u0438\",\"3.5\":\"\\u0433\\u043e\\u0441\\u0442\\u0435\\u0439\",\"4.5\":\"\\u043e\\u0431\\u0449\\u0430\\u044f\",\"5.5\":\"\\u043a\\u0443\\u0445\\u043d\\u044f\",\"6.5\":\"\\u0438\",\"7.5\":\"\\u043e\\u0431\\u0449\\u0430\\u044f\",\"8.5\":\"\\u0433\\u043e\\u0441\\u0442\\u0438\\u043d\\u0430\\u044f\",\"9.5\":\".\"},\"ticker\":{\"id\":\"5580\",\"type\":\"FixedTicker\"}},\"id\":\"5579\",\"type\":\"LinearAxis\"},{\"attributes\":{\"callback\":null,\"end\":14},\"id\":\"5565\",\"type\":\"Range1d\"},{\"attributes\":{\"ticks\":[0.5,1.5,2.5,3.5,4.5,5.5,6.5,7.5,8.5,9.5,10.5]},\"id\":\"5580\",\"type\":\"FixedTicker\"},{\"attributes\":{},\"id\":\"5768\",\"type\":\"BasicTickFormatter\"},{\"attributes\":{\"ticks\":[0.5,1.5,2.5,3.5,4.5,5.5,6.5,7.5,8.5,9.5,10.5,11.5,12.5,13.5]},\"id\":\"5583\",\"type\":\"FixedTicker\"},{\"attributes\":{\"callback\":null,\"data\":{\"image\":[{\"__ndarray__\":\"d2V/P4n2fz/jeX8/e0x/P0T4XT++zig/V49tPy+Ydj91+1c/eyxZP/4/Zj9j1EE/3i9bP/N7Qj/ybkM/gBJ8PzmgdT90jXg/0gh+P0l7fD8iIno/cCp+P80xez/dD38/UTx9P7lZeD+Kj2g/721zP9vNej/2rW4/CDJfP97vIT9FjUk/Of1/P2H+fz+e4X8/PuB/PzatMD+TvGI/3T9/P6BCPD+UET4/RIxzP264fz8egXE/0zJ8P2iEYz/0tVA/ZF18PzEYeD8TKH4/JCgnP28BbD869mU/ulRyPwAAgD8AAIA/AACAPwAAgD8AAIA/6f1/PyrWfj+YAH4/NApoP3jCTT5Dsmc/AACAPwAAgD8AAIA/AACAPwAAgD8W+38/vOl/PzWMfj/Mxm4+tjVIP3upfT8AAIA/AACAP/3/fz/9/38/cvt/P3Bbfz/L034/qHgmPyxuBz9/GFo/UNp5PzyOfj9RBX8/WU19P9NmfD9KCmY/6vpcP2Sl7T4kwGo/EIhqP0RUej/rQ38/AACAPwAAgD8AAIA/AACAPwAAgD+sSX4/UJccPbmyfz9oyHs/Gq18P1HIfz8AAIA/AACAPwAAgD8AAIA/df9/P5gNPz6UllE/OcV/P0cufz/Jun8/WPh/PwAAgD8AAIA///9/P///fz94938/jZhwPzhkwz38Pnw/4zV8P3TQfj8+vn8/pU1/P5nefz9XPn4/EUN+P24+Wz+2NFU/cuhdPyoMcj9QkR0/RwtrPz5Pez/2/38/9f9/P93/fz/Y/38/fEt/P1TsyT4Owl0/6G1lP4rWWT+eE38/hqt/Pw==\",\"dtype\":\"float32\",\"shape\":[14,11]}]},\"selected\":{\"id\":\"5769\",\"type\":\"Selection\"},\"selection_policy\":{\"id\":\"5770\",\"type\":\"UnionRenderers\"}},\"id\":\"5572\",\"type\":\"ColumnDataSource\"}],\"root_ids\":[\"5562\"]},\"title\":\"Bokeh Application\",\"version\":\"1.2.0\"}};\n",
       "  var render_items = [{\"docid\":\"2b1cfde7-c7c6-4db5-a3e9-188ae19d623a\",\"roots\":{\"5562\":\"9221a0a6-96bd-462e-bfec-1f5873b1834e\"}}];\n",
       "  root.Bokeh.embed.embed_items_notebook(docs_json, render_items);\n",
       "\n",
       "  }\n",
       "  if (root.Bokeh !== undefined) {\n",
       "    embed_document(root);\n",
       "  } else {\n",
       "    var attempts = 0;\n",
       "    var timer = setInterval(function(root) {\n",
       "      if (root.Bokeh !== undefined) {\n",
       "        embed_document(root);\n",
       "        clearInterval(timer);\n",
       "      }\n",
       "      attempts++;\n",
       "      if (attempts > 100) {\n",
       "        console.log(\"Bokeh: ERROR: Unable to run BokehJS code because BokehJS library is missing\");\n",
       "        clearInterval(timer);\n",
       "      }\n",
       "    }, 10, root)\n",
       "  }\n",
       "})(window);"
      ],
      "application/vnd.bokehjs_exec.v0+json": ""
     },
     "metadata": {
      "application/vnd.bokehjs_exec.v0+json": {
       "id": "5562"
      }
     },
     "output_type": "display_data"
    },
    {
     "data": {
      "text/html": [
       "\n",
       "\n",
       "\n",
       "\n",
       "\n",
       "\n",
       "  <div class=\"bk-root\" id=\"8f85b255-fb18-4914-8537-e9b80f0ef1bc\" data-root-id=\"5807\"></div>\n"
      ]
     },
     "metadata": {},
     "output_type": "display_data"
    },
    {
     "data": {
      "application/javascript": [
       "(function(root) {\n",
       "  function embed_document(root) {\n",
       "    \n",
       "  var docs_json = {\"6be901b3-79d7-4c4d-945a-c69b4c2bae1f\":{\"roots\":{\"references\":[{\"attributes\":{\"above\":[{\"id\":\"5824\",\"type\":\"LinearAxis\"}],\"left\":[{\"id\":\"5827\",\"type\":\"LinearAxis\"}],\"renderers\":[{\"id\":\"5822\",\"type\":\"GlyphRenderer\"}],\"title\":{\"id\":\"6016\",\"type\":\"Title\"},\"toolbar\":{\"id\":\"5816\",\"type\":\"Toolbar\"},\"x_range\":{\"id\":\"5808\",\"type\":\"Range1d\"},\"x_scale\":{\"id\":\"5812\",\"type\":\"LinearScale\"},\"y_range\":{\"id\":\"5810\",\"type\":\"Range1d\"},\"y_scale\":{\"id\":\"5814\",\"type\":\"LinearScale\"}},\"id\":\"5807\",\"subtype\":\"Figure\",\"type\":\"Plot\"},{\"attributes\":{\"color_mapper\":{\"id\":\"5821\",\"type\":\"LinearColorMapper\"},\"dh\":{\"units\":\"data\",\"value\":13},\"dw\":{\"units\":\"data\",\"value\":9},\"image\":{\"field\":\"image\"},\"x\":{\"value\":0},\"y\":{\"value\":0}},\"id\":\"5820\",\"type\":\"Image\"},{\"attributes\":{\"callback\":null,\"end\":13},\"id\":\"5810\",\"type\":\"Range1d\"},{\"attributes\":{\"ticks\":[0.5,1.5,2.5,3.5,4.5,5.5,6.5,7.5,8.5]},\"id\":\"5825\",\"type\":\"FixedTicker\"},{\"attributes\":{},\"id\":\"5814\",\"type\":\"LinearScale\"},{\"attributes\":{\"palette\":[\"#000000\",\"#252525\",\"#525252\",\"#737373\",\"#969696\",\"#bdbdbd\",\"#d9d9d9\",\"#f0f0f0\",\"#ffffff\"]},\"id\":\"5819\",\"type\":\"LinearColorMapper\"},{\"attributes\":{\"axis_label\":\"translation tokens\",\"formatter\":{\"id\":\"6018\",\"type\":\"BasicTickFormatter\"},\"major_label_overrides\":{\"0.5\":\"_EOS_\",\"1.5\":\".\",\"10.5\":\"can\",\"11.5\":\"guests\",\"12.5\":\"_BOS_\",\"2.5\":\"property\",\"3.5\":\"the\",\"4.5\":\"at\",\"5.5\":\"pool\",\"6.5\":\"outdoor\",\"7.5\":\"seasonal\",\"8.5\":\"a\",\"9.5\":\"enjoy\"},\"ticker\":{\"id\":\"5828\",\"type\":\"FixedTicker\"}},\"id\":\"5827\",\"type\":\"LinearAxis\"},{\"attributes\":{\"axis_label\":\"source tokens\",\"formatter\":{\"id\":\"6019\",\"type\":\"BasicTickFormatter\"},\"major_label_orientation\":45,\"major_label_overrides\":{\"0.5\":\"_BOS_\",\"1.5\":\"\\u0433\\u043e\\u0441\\u0442\\u0438\",\"2.5\":\"\\u043c\\u043e\\u0433\\u0443\\u0442\",\"3.5\":\"\\u043f\\u043e\\u0441\\u0435\\u0449\\u0430\\u0442\\u044c\",\"4.5\":\"\\u0441\\u0435\\u0437\\u043e\\u043d\\u043d\\u044b\\u0439\",\"5.5\":\"\\u043e\\u0442\\u043a\\u0440\\u044b\\u0442\\u044b\\u0439\",\"6.5\":\"\\u0431\\u0430\\u0441\\u0441\\u0435\\u0439\\u043d\",\"7.5\":\".\",\"8.5\":\"_EOS_\"},\"ticker\":{\"id\":\"5825\",\"type\":\"FixedTicker\"}},\"id\":\"5824\",\"type\":\"LinearAxis\"},{\"attributes\":{},\"id\":\"5812\",\"type\":\"LinearScale\"},{\"attributes\":{\"color_mapper\":{\"id\":\"5819\",\"type\":\"LinearColorMapper\"},\"dh\":{\"units\":\"data\",\"value\":13},\"dw\":{\"units\":\"data\",\"value\":9},\"image\":{\"field\":\"image\"},\"x\":{\"value\":0},\"y\":{\"value\":0}},\"id\":\"5818\",\"type\":\"Image\"},{\"attributes\":{},\"id\":\"6021\",\"type\":\"UnionRenderers\"},{\"attributes\":{},\"id\":\"6018\",\"type\":\"BasicTickFormatter\"},{\"attributes\":{\"ticks\":[0.5,1.5,2.5,3.5,4.5,5.5,6.5,7.5,8.5,9.5,10.5,11.5,12.5]},\"id\":\"5828\",\"type\":\"FixedTicker\"},{\"attributes\":{},\"id\":\"6019\",\"type\":\"BasicTickFormatter\"},{\"attributes\":{\"active_drag\":\"auto\",\"active_inspect\":\"auto\",\"active_multi\":null,\"active_scroll\":\"auto\",\"active_tap\":\"auto\"},\"id\":\"5816\",\"type\":\"Toolbar\"},{\"attributes\":{\"callback\":null,\"data\":{\"image\":[{\"__ndarray__\":\"8/V/P2P+fz9i5H8/gLyoPOivez+Tvn8/0s5/PznZfz8Fy38/fDj3Pk32TT+QRGc/6/t4P6GdaT/Gs3E/AEJ9P/5Ufj+URH8/9dtvPzAeej/I+34/ZI1hPyR0lT5gdng/xKh2Pz3zez87sH8/AACAP///fz/0/38/5Ex/P8PHTD8Hw2s/ipIgP7ddMz/r2HQ/v/9/P8b/fz/n/38/YNtHPx4ckD6o9Xk/Bwt6P+n1fD8pIn8/cOZ/P9jwfz+uYH8/E9kZP94IZD8VJ3M/PIxiP8aeOz8WlHE/AACAPwAAgD8AAIA/4v9/P0/5fz8PNX8/GO48P5js4j4xkVI/AACAPwAAgD8AAIA/AACAP6T2fz9IHWA/ZkTiPn0OOT8Qx3U/AACAPwAAgD8AAIA/2v9/P7T6Jj9AsQ4/3bRfP684bj+8anw/AACAPwAAgD8AAIA///9/P2yNxz4Dzyg/asF2P+OefT9jCn8/AACAPwAAgD8AAIA/ivt/PymNRT/+Kbg+V6piP2I2fD8Ugn8/q/p/Pwr3fz+rYH8/MKYbPi0lWj8lqn8/Kfd/Pz7+fz9d/38//P9/P/P/fz/M/38/0V59P8DXBT7GyWY/UPp6PzGWfz+D0X8/\",\"dtype\":\"float32\",\"shape\":[13,9]}]},\"selected\":{\"id\":\"6020\",\"type\":\"Selection\"},\"selection_policy\":{\"id\":\"6021\",\"type\":\"UnionRenderers\"}},\"id\":\"5817\",\"type\":\"ColumnDataSource\"},{\"attributes\":{\"palette\":[\"#000000\",\"#252525\",\"#525252\",\"#737373\",\"#969696\",\"#bdbdbd\",\"#d9d9d9\",\"#f0f0f0\",\"#ffffff\"]},\"id\":\"5821\",\"type\":\"LinearColorMapper\"},{\"attributes\":{\"source\":{\"id\":\"5817\",\"type\":\"ColumnDataSource\"}},\"id\":\"5823\",\"type\":\"CDSView\"},{\"attributes\":{},\"id\":\"6020\",\"type\":\"Selection\"},{\"attributes\":{\"callback\":null,\"end\":9},\"id\":\"5808\",\"type\":\"Range1d\"},{\"attributes\":{\"data_source\":{\"id\":\"5817\",\"type\":\"ColumnDataSource\"},\"glyph\":{\"id\":\"5818\",\"type\":\"Image\"},\"hover_glyph\":null,\"muted_glyph\":null,\"nonselection_glyph\":{\"id\":\"5820\",\"type\":\"Image\"},\"selection_glyph\":null,\"view\":{\"id\":\"5823\",\"type\":\"CDSView\"}},\"id\":\"5822\",\"type\":\"GlyphRenderer\"},{\"attributes\":{\"text\":\"\"},\"id\":\"6016\",\"type\":\"Title\"}],\"root_ids\":[\"5807\"]},\"title\":\"Bokeh Application\",\"version\":\"1.2.0\"}};\n",
       "  var render_items = [{\"docid\":\"6be901b3-79d7-4c4d-945a-c69b4c2bae1f\",\"roots\":{\"5807\":\"8f85b255-fb18-4914-8537-e9b80f0ef1bc\"}}];\n",
       "  root.Bokeh.embed.embed_items_notebook(docs_json, render_items);\n",
       "\n",
       "  }\n",
       "  if (root.Bokeh !== undefined) {\n",
       "    embed_document(root);\n",
       "  } else {\n",
       "    var attempts = 0;\n",
       "    var timer = setInterval(function(root) {\n",
       "      if (root.Bokeh !== undefined) {\n",
       "        embed_document(root);\n",
       "        clearInterval(timer);\n",
       "      }\n",
       "      attempts++;\n",
       "      if (attempts > 100) {\n",
       "        console.log(\"Bokeh: ERROR: Unable to run BokehJS code because BokehJS library is missing\");\n",
       "        clearInterval(timer);\n",
       "      }\n",
       "    }, 10, root)\n",
       "  }\n",
       "})(window);"
      ],
      "application/vnd.bokehjs_exec.v0+json": ""
     },
     "metadata": {
      "application/vnd.bokehjs_exec.v0+json": {
       "id": "5807"
      }
     },
     "output_type": "display_data"
    },
    {
     "data": {
      "text/html": [
       "\n",
       "\n",
       "\n",
       "\n",
       "\n",
       "\n",
       "  <div class=\"bk-root\" id=\"74898cc5-d140-4445-8094-f3d70565fa75\" data-root-id=\"6058\"></div>\n"
      ]
     },
     "metadata": {},
     "output_type": "display_data"
    },
    {
     "data": {
      "application/javascript": [
       "(function(root) {\n",
       "  function embed_document(root) {\n",
       "    \n",
       "  var docs_json = {\"f59148b7-e569-4281-b3dd-bab62a989c06\":{\"roots\":{\"references\":[{\"attributes\":{\"above\":[{\"id\":\"6075\",\"type\":\"LinearAxis\"}],\"left\":[{\"id\":\"6078\",\"type\":\"LinearAxis\"}],\"renderers\":[{\"id\":\"6073\",\"type\":\"GlyphRenderer\"}],\"title\":{\"id\":\"6273\",\"type\":\"Title\"},\"toolbar\":{\"id\":\"6067\",\"type\":\"Toolbar\"},\"x_range\":{\"id\":\"6059\",\"type\":\"Range1d\"},\"x_scale\":{\"id\":\"6063\",\"type\":\"LinearScale\"},\"y_range\":{\"id\":\"6061\",\"type\":\"Range1d\"},\"y_scale\":{\"id\":\"6065\",\"type\":\"LinearScale\"}},\"id\":\"6058\",\"subtype\":\"Figure\",\"type\":\"Plot\"},{\"attributes\":{\"callback\":null,\"end\":8},\"id\":\"6059\",\"type\":\"Range1d\"},{\"attributes\":{\"active_drag\":\"auto\",\"active_inspect\":\"auto\",\"active_multi\":null,\"active_scroll\":\"auto\",\"active_tap\":\"auto\"},\"id\":\"6067\",\"type\":\"Toolbar\"},{\"attributes\":{},\"id\":\"6275\",\"type\":\"BasicTickFormatter\"},{\"attributes\":{\"palette\":[\"#000000\",\"#252525\",\"#525252\",\"#737373\",\"#969696\",\"#bdbdbd\",\"#d9d9d9\",\"#f0f0f0\",\"#ffffff\"]},\"id\":\"6070\",\"type\":\"LinearColorMapper\"},{\"attributes\":{\"axis_label\":\"source tokens\",\"formatter\":{\"id\":\"6276\",\"type\":\"BasicTickFormatter\"},\"major_label_orientation\":45,\"major_label_overrides\":{\"0.5\":\"_BOS_\",\"1.5\":\"wifi\",\"2.5\":\"\\u0438\",\"3.5\":\"\\u043f\\u0430\\u0440\\u043a\\u043e\\u0432\\u043a\\u0430\",\"4.5\":\"\\u043f\\u0440\\u0435\\u0434\\u043e\\u0441\\u0442\\u0430\\u0432\\u043b\\u044f\\u044e\\u0442\\u0441\\u044f\",\"5.5\":\"\\u0431\\u0435\\u0441\\u043f\\u043b\\u0430\\u0442\\u043d\\u043e\",\"6.5\":\".\",\"7.5\":\"_EOS_\"},\"ticker\":{\"id\":\"6076\",\"type\":\"FixedTicker\"}},\"id\":\"6075\",\"type\":\"LinearAxis\"},{\"attributes\":{\"callback\":null,\"data\":{\"image\":[{\"__ndarray__\":\"Y25/PzLUFj+0/Bc/RMZzP/I2cj94Lng/Wt92P7y1fD9+3gw/exdPPwf5dD8+/XU/g810P1FVdj+LbFk/Y4R0P0pXfj/KhHM/sC5xP/0ceD9DJnc/s+5vP6LlIz9y3hk/Tul/P1S8ZT9iflI/KL1XP5S4Yj8vbmw/V7w0P8M7bD/F/38/pO5/P2xDfz9JJX0/FO1hP0A/Xz/woes+57tMPwAAgD8AAIA/AACAP/n/fz8qcn8/P3x+P7Bi3j5tRTI/AACAP9L/fz8G/H8/zPZ/P6Z2dj8+e3Y/KT1CPzxN/D5Z/38/Mg5+P/67dD+5lE4/zkImP5cjZz/6NVg/2wVZPwAAgD8AAIA/5/9/P635fz+MFX4/Ds18PxQNgT6KzEQ/AACAP//5fz8nJGA/ZCF6PxQXYT869QQ/owxCP2K2fT8=\",\"dtype\":\"float32\",\"shape\":[10,8]}]},\"selected\":{\"id\":\"6277\",\"type\":\"Selection\"},\"selection_policy\":{\"id\":\"6278\",\"type\":\"UnionRenderers\"}},\"id\":\"6068\",\"type\":\"ColumnDataSource\"},{\"attributes\":{\"palette\":[\"#000000\",\"#252525\",\"#525252\",\"#737373\",\"#969696\",\"#bdbdbd\",\"#d9d9d9\",\"#f0f0f0\",\"#ffffff\"]},\"id\":\"6072\",\"type\":\"LinearColorMapper\"},{\"attributes\":{\"source\":{\"id\":\"6068\",\"type\":\"ColumnDataSource\"}},\"id\":\"6074\",\"type\":\"CDSView\"},{\"attributes\":{\"data_source\":{\"id\":\"6068\",\"type\":\"ColumnDataSource\"},\"glyph\":{\"id\":\"6069\",\"type\":\"Image\"},\"hover_glyph\":null,\"muted_glyph\":null,\"nonselection_glyph\":{\"id\":\"6071\",\"type\":\"Image\"},\"selection_glyph\":null,\"view\":{\"id\":\"6074\",\"type\":\"CDSView\"}},\"id\":\"6073\",\"type\":\"GlyphRenderer\"},{\"attributes\":{\"axis_label\":\"translation tokens\",\"formatter\":{\"id\":\"6275\",\"type\":\"BasicTickFormatter\"},\"major_label_overrides\":{\"0.5\":\"_EOS_\",\"1.5\":\".\",\"2.5\":\"available\",\"3.5\":\"are\",\"4.5\":\"parking\",\"5.5\":\"free\",\"6.5\":\"and\",\"7.5\":\"parking\",\"8.5\":\"free\",\"9.5\":\"_BOS_\"},\"ticker\":{\"id\":\"6079\",\"type\":\"FixedTicker\"}},\"id\":\"6078\",\"type\":\"LinearAxis\"},{\"attributes\":{},\"id\":\"6065\",\"type\":\"LinearScale\"},{\"attributes\":{\"color_mapper\":{\"id\":\"6072\",\"type\":\"LinearColorMapper\"},\"dh\":{\"units\":\"data\",\"value\":10},\"dw\":{\"units\":\"data\",\"value\":8},\"image\":{\"field\":\"image\"},\"x\":{\"value\":0},\"y\":{\"value\":0}},\"id\":\"6071\",\"type\":\"Image\"},{\"attributes\":{},\"id\":\"6276\",\"type\":\"BasicTickFormatter\"},{\"attributes\":{},\"id\":\"6063\",\"type\":\"LinearScale\"},{\"attributes\":{\"color_mapper\":{\"id\":\"6070\",\"type\":\"LinearColorMapper\"},\"dh\":{\"units\":\"data\",\"value\":10},\"dw\":{\"units\":\"data\",\"value\":8},\"image\":{\"field\":\"image\"},\"x\":{\"value\":0},\"y\":{\"value\":0}},\"id\":\"6069\",\"type\":\"Image\"},{\"attributes\":{\"ticks\":[0.5,1.5,2.5,3.5,4.5,5.5,6.5,7.5]},\"id\":\"6076\",\"type\":\"FixedTicker\"},{\"attributes\":{\"callback\":null,\"end\":10},\"id\":\"6061\",\"type\":\"Range1d\"},{\"attributes\":{\"text\":\"\"},\"id\":\"6273\",\"type\":\"Title\"},{\"attributes\":{\"ticks\":[0.5,1.5,2.5,3.5,4.5,5.5,6.5,7.5,8.5,9.5]},\"id\":\"6079\",\"type\":\"FixedTicker\"},{\"attributes\":{},\"id\":\"6277\",\"type\":\"Selection\"},{\"attributes\":{},\"id\":\"6278\",\"type\":\"UnionRenderers\"}],\"root_ids\":[\"6058\"]},\"title\":\"Bokeh Application\",\"version\":\"1.2.0\"}};\n",
       "  var render_items = [{\"docid\":\"f59148b7-e569-4281-b3dd-bab62a989c06\",\"roots\":{\"6058\":\"74898cc5-d140-4445-8094-f3d70565fa75\"}}];\n",
       "  root.Bokeh.embed.embed_items_notebook(docs_json, render_items);\n",
       "\n",
       "  }\n",
       "  if (root.Bokeh !== undefined) {\n",
       "    embed_document(root);\n",
       "  } else {\n",
       "    var attempts = 0;\n",
       "    var timer = setInterval(function(root) {\n",
       "      if (root.Bokeh !== undefined) {\n",
       "        embed_document(root);\n",
       "        clearInterval(timer);\n",
       "      }\n",
       "      attempts++;\n",
       "      if (attempts > 100) {\n",
       "        console.log(\"Bokeh: ERROR: Unable to run BokehJS code because BokehJS library is missing\");\n",
       "        clearInterval(timer);\n",
       "      }\n",
       "    }, 10, root)\n",
       "  }\n",
       "})(window);"
      ],
      "application/vnd.bokehjs_exec.v0+json": ""
     },
     "metadata": {
      "application/vnd.bokehjs_exec.v0+json": {
       "id": "6058"
      }
     },
     "output_type": "display_data"
    },
    {
     "data": {
      "text/html": [
       "\n",
       "\n",
       "\n",
       "\n",
       "\n",
       "\n",
       "  <div class=\"bk-root\" id=\"47a0c4ca-5ecc-4388-a23f-918c7c0670c1\" data-root-id=\"6315\"></div>\n"
      ]
     },
     "metadata": {},
     "output_type": "display_data"
    },
    {
     "data": {
      "application/javascript": [
       "(function(root) {\n",
       "  function embed_document(root) {\n",
       "    \n",
       "  var docs_json = {\"64dbec03-5399-4505-8bad-e1a2f5cd4ba7\":{\"roots\":{\"references\":[{\"attributes\":{\"above\":[{\"id\":\"6332\",\"type\":\"LinearAxis\"}],\"left\":[{\"id\":\"6335\",\"type\":\"LinearAxis\"}],\"renderers\":[{\"id\":\"6330\",\"type\":\"GlyphRenderer\"}],\"title\":{\"id\":\"6536\",\"type\":\"Title\"},\"toolbar\":{\"id\":\"6324\",\"type\":\"Toolbar\"},\"x_range\":{\"id\":\"6316\",\"type\":\"Range1d\"},\"x_scale\":{\"id\":\"6320\",\"type\":\"LinearScale\"},\"y_range\":{\"id\":\"6318\",\"type\":\"Range1d\"},\"y_scale\":{\"id\":\"6322\",\"type\":\"LinearScale\"}},\"id\":\"6315\",\"subtype\":\"Figure\",\"type\":\"Plot\"},{\"attributes\":{\"axis_label\":\"source tokens\",\"formatter\":{\"id\":\"6539\",\"type\":\"BasicTickFormatter\"},\"major_label_orientation\":45,\"major_label_overrides\":{\"0.5\":\"_BOS_\",\"1.5\":\"\\u0432\",\"10.5\":\",\",\"11.5\":\"\\u0432\\u043a\\u043b\\u044e\\u0447\\u0430\\u044f\",\"12.5\":\"\\u043f\\u0435\\u0448\\u0438\\u0435\",\"13.5\":\"\\u043f\\u0440\\u043e\\u0433\\u0443\\u043b\\u043a\\u0438\",\"14.5\":\",\",\"15.5\":\"\\u0432\\u0435\\u043b\\u043e\\u0441\\u043f\\u043e\\u0440\\u0442\",\"16.5\":\"\\u0438\",\"17.5\":\"\\u043f\\u043e\\u0445\\u043e\\u0434\\u044b\",\"18.5\":\".\",\"19.5\":\"_EOS_\",\"2.5\":\"\\u043e\\u043a\\u0440\\u0435\\u0441\\u0442\\u043d\\u043e\\u0441\\u0442\\u044f\\u0445\",\"3.5\":\"\\u043c\\u043e\\u0436\\u043d\\u043e\",\"4.5\":\"\\u0437\\u0430\\u043d\\u044f\\u0442\\u044c\\u0441\\u044f\",\"5.5\":\"\\u0440\\u0430\\u0437\\u043b\\u0438\\u0447\\u043d\\u044b\\u043c\\u0438\",\"6.5\":\"\\u0432\\u0438\\u0434\\u0430\\u043c\\u0438\",\"7.5\":\"\\u0434\\u0435\\u044f@@\",\"8.5\":\"\\u0442\\u0435\\u043b\\u044c@@\",\"9.5\":\"\\u043d\\u043e\\u0441\\u0442\\u0438\"},\"ticker\":{\"id\":\"6333\",\"type\":\"FixedTicker\"}},\"id\":\"6332\",\"type\":\"LinearAxis\"},{\"attributes\":{},\"id\":\"6541\",\"type\":\"UnionRenderers\"},{\"attributes\":{},\"id\":\"6540\",\"type\":\"Selection\"},{\"attributes\":{\"palette\":[\"#000000\",\"#252525\",\"#525252\",\"#737373\",\"#969696\",\"#bdbdbd\",\"#d9d9d9\",\"#f0f0f0\",\"#ffffff\"]},\"id\":\"6327\",\"type\":\"LinearColorMapper\"},{\"attributes\":{\"callback\":null,\"end\":23},\"id\":\"6318\",\"type\":\"Range1d\"},{\"attributes\":{},\"id\":\"6539\",\"type\":\"BasicTickFormatter\"},{\"attributes\":{\"data_source\":{\"id\":\"6325\",\"type\":\"ColumnDataSource\"},\"glyph\":{\"id\":\"6326\",\"type\":\"Image\"},\"hover_glyph\":null,\"muted_glyph\":null,\"nonselection_glyph\":{\"id\":\"6328\",\"type\":\"Image\"},\"selection_glyph\":null,\"view\":{\"id\":\"6331\",\"type\":\"CDSView\"}},\"id\":\"6330\",\"type\":\"GlyphRenderer\"},{\"attributes\":{},\"id\":\"6320\",\"type\":\"LinearScale\"},{\"attributes\":{\"color_mapper\":{\"id\":\"6329\",\"type\":\"LinearColorMapper\"},\"dh\":{\"units\":\"data\",\"value\":23},\"dw\":{\"units\":\"data\",\"value\":20},\"image\":{\"field\":\"image\"},\"x\":{\"value\":0},\"y\":{\"value\":0}},\"id\":\"6328\",\"type\":\"Image\"},{\"attributes\":{},\"id\":\"6322\",\"type\":\"LinearScale\"},{\"attributes\":{\"palette\":[\"#000000\",\"#252525\",\"#525252\",\"#737373\",\"#969696\",\"#bdbdbd\",\"#d9d9d9\",\"#f0f0f0\",\"#ffffff\"]},\"id\":\"6329\",\"type\":\"LinearColorMapper\"},{\"attributes\":{\"ticks\":[0.5,1.5,2.5,3.5,4.5,5.5,6.5,7.5,8.5,9.5,10.5,11.5,12.5,13.5,14.5,15.5,16.5,17.5,18.5,19.5]},\"id\":\"6333\",\"type\":\"FixedTicker\"},{\"attributes\":{\"callback\":null,\"end\":20},\"id\":\"6316\",\"type\":\"Range1d\"},{\"attributes\":{\"callback\":null,\"data\":{\"image\":[{\"__ndarray__\":\"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\",\"dtype\":\"float32\",\"shape\":[23,20]}]},\"selected\":{\"id\":\"6540\",\"type\":\"Selection\"},\"selection_policy\":{\"id\":\"6541\",\"type\":\"UnionRenderers\"}},\"id\":\"6325\",\"type\":\"ColumnDataSource\"},{\"attributes\":{\"color_mapper\":{\"id\":\"6327\",\"type\":\"LinearColorMapper\"},\"dh\":{\"units\":\"data\",\"value\":23},\"dw\":{\"units\":\"data\",\"value\":20},\"image\":{\"field\":\"image\"},\"x\":{\"value\":0},\"y\":{\"value\":0}},\"id\":\"6326\",\"type\":\"Image\"},{\"attributes\":{\"axis_label\":\"translation tokens\",\"formatter\":{\"id\":\"6538\",\"type\":\"BasicTickFormatter\"},\"major_label_overrides\":{\"0.5\":\"_EOS_\",\"1.5\":\".\",\"10.5\":\"the\",\"11.5\":\"in\",\"12.5\":\"or\",\"13.5\":\"site\",\"14.5\":\"on\",\"15.5\":\"enjoyed\",\"16.5\":\"be\",\"17.5\":\"can\",\"18.5\":\"activities\",\"19.5\":\"of\",\"2.5\":\"hiking\",\"20.5\":\"array\",\"21.5\":\"an\",\"22.5\":\"_BOS_\",\"3.5\":\"and\",\"4.5\":\"cycling\",\"5.5\":\",\",\"6.5\":\"cycling\",\"7.5\":\"including\",\"8.5\":\",\",\"9.5\":\"surroundings\"},\"ticker\":{\"id\":\"6336\",\"type\":\"FixedTicker\"}},\"id\":\"6335\",\"type\":\"LinearAxis\"},{\"attributes\":{\"active_drag\":\"auto\",\"active_inspect\":\"auto\",\"active_multi\":null,\"active_scroll\":\"auto\",\"active_tap\":\"auto\"},\"id\":\"6324\",\"type\":\"Toolbar\"},{\"attributes\":{},\"id\":\"6538\",\"type\":\"BasicTickFormatter\"},{\"attributes\":{\"source\":{\"id\":\"6325\",\"type\":\"ColumnDataSource\"}},\"id\":\"6331\",\"type\":\"CDSView\"},{\"attributes\":{\"ticks\":[0.5,1.5,2.5,3.5,4.5,5.5,6.5,7.5,8.5,9.5,10.5,11.5,12.5,13.5,14.5,15.5,16.5,17.5,18.5,19.5,20.5,21.5,22.5]},\"id\":\"6336\",\"type\":\"FixedTicker\"},{\"attributes\":{\"text\":\"\"},\"id\":\"6536\",\"type\":\"Title\"}],\"root_ids\":[\"6315\"]},\"title\":\"Bokeh Application\",\"version\":\"1.2.0\"}};\n",
       "  var render_items = [{\"docid\":\"64dbec03-5399-4505-8bad-e1a2f5cd4ba7\",\"roots\":{\"6315\":\"47a0c4ca-5ecc-4388-a23f-918c7c0670c1\"}}];\n",
       "  root.Bokeh.embed.embed_items_notebook(docs_json, render_items);\n",
       "\n",
       "  }\n",
       "  if (root.Bokeh !== undefined) {\n",
       "    embed_document(root);\n",
       "  } else {\n",
       "    var attempts = 0;\n",
       "    var timer = setInterval(function(root) {\n",
       "      if (root.Bokeh !== undefined) {\n",
       "        embed_document(root);\n",
       "        clearInterval(timer);\n",
       "      }\n",
       "      attempts++;\n",
       "      if (attempts > 100) {\n",
       "        console.log(\"Bokeh: ERROR: Unable to run BokehJS code because BokehJS library is missing\");\n",
       "        clearInterval(timer);\n",
       "      }\n",
       "    }, 10, root)\n",
       "  }\n",
       "})(window);"
      ],
      "application/vnd.bokehjs_exec.v0+json": ""
     },
     "metadata": {
      "application/vnd.bokehjs_exec.v0+json": {
       "id": "6315"
      }
     },
     "output_type": "display_data"
    },
    {
     "data": {
      "text/html": [
       "\n",
       "\n",
       "\n",
       "\n",
       "\n",
       "\n",
       "  <div class=\"bk-root\" id=\"444a6d4f-649f-4bdc-aca3-c65cdd745238\" data-root-id=\"6578\"></div>\n"
      ]
     },
     "metadata": {},
     "output_type": "display_data"
    },
    {
     "data": {
      "application/javascript": [
       "(function(root) {\n",
       "  function embed_document(root) {\n",
       "    \n",
       "  var docs_json = {\"25dedfcc-6803-4a09-a5bd-fda498f98b4f\":{\"roots\":{\"references\":[{\"attributes\":{\"above\":[{\"id\":\"6595\",\"type\":\"LinearAxis\"}],\"left\":[{\"id\":\"6598\",\"type\":\"LinearAxis\"}],\"renderers\":[{\"id\":\"6593\",\"type\":\"GlyphRenderer\"}],\"title\":{\"id\":\"6805\",\"type\":\"Title\"},\"toolbar\":{\"id\":\"6587\",\"type\":\"Toolbar\"},\"x_range\":{\"id\":\"6579\",\"type\":\"Range1d\"},\"x_scale\":{\"id\":\"6583\",\"type\":\"LinearScale\"},\"y_range\":{\"id\":\"6581\",\"type\":\"Range1d\"},\"y_scale\":{\"id\":\"6585\",\"type\":\"LinearScale\"}},\"id\":\"6578\",\"subtype\":\"Figure\",\"type\":\"Plot\"},{\"attributes\":{\"palette\":[\"#000000\",\"#252525\",\"#525252\",\"#737373\",\"#969696\",\"#bdbdbd\",\"#d9d9d9\",\"#f0f0f0\",\"#ffffff\"]},\"id\":\"6590\",\"type\":\"LinearColorMapper\"},{\"attributes\":{\"data_source\":{\"id\":\"6588\",\"type\":\"ColumnDataSource\"},\"glyph\":{\"id\":\"6589\",\"type\":\"Image\"},\"hover_glyph\":null,\"muted_glyph\":null,\"nonselection_glyph\":{\"id\":\"6591\",\"type\":\"Image\"},\"selection_glyph\":null,\"view\":{\"id\":\"6594\",\"type\":\"CDSView\"}},\"id\":\"6593\",\"type\":\"GlyphRenderer\"},{\"attributes\":{\"color_mapper\":{\"id\":\"6590\",\"type\":\"LinearColorMapper\"},\"dh\":{\"units\":\"data\",\"value\":16},\"dw\":{\"units\":\"data\",\"value\":14},\"image\":{\"field\":\"image\"},\"x\":{\"value\":0},\"y\":{\"value\":0}},\"id\":\"6589\",\"type\":\"Image\"},{\"attributes\":{},\"id\":\"6585\",\"type\":\"LinearScale\"},{\"attributes\":{\"palette\":[\"#000000\",\"#252525\",\"#525252\",\"#737373\",\"#969696\",\"#bdbdbd\",\"#d9d9d9\",\"#f0f0f0\",\"#ffffff\"]},\"id\":\"6592\",\"type\":\"LinearColorMapper\"},{\"attributes\":{\"active_drag\":\"auto\",\"active_inspect\":\"auto\",\"active_multi\":null,\"active_scroll\":\"auto\",\"active_tap\":\"auto\"},\"id\":\"6587\",\"type\":\"Toolbar\"},{\"attributes\":{\"axis_label\":\"source tokens\",\"formatter\":{\"id\":\"6808\",\"type\":\"BasicTickFormatter\"},\"major_label_orientation\":45,\"major_label_overrides\":{\"0.5\":\"_BOS_\",\"1.5\":\"\\u0432\",\"10.5\":\"\\u0432\\u0430\\u043d\\u043d\\u0430\\u044f\",\"11.5\":\"\\u043a\\u043e\\u043c\\u043d\\u0430\\u0442\\u0430\",\"12.5\":\".\",\"13.5\":\"_EOS_\",\"2.5\":\"\\u043d\\u043e\\u043c\\u0435\\u0440\\u0430\\u0445\",\"3.5\":\"\\u0438\\u043c\\u0435\\u0435\\u0442\\u0441\\u044f\",\"4.5\":\"\\u0442\\u0435\\u043b\\u0435\\u0432\\u0438\\u0437\\u043e\\u0440\",\"5.5\":\"\\u0441\",\"6.5\":\"\\u043f\\u043b\\u043e\\u0441\\u043a\\u0438\\u043c\",\"7.5\":\"\\u044d\\u043a\\u0440\\u0430\\u043d\\u043e\\u043c\",\"8.5\":\"\\u0438\",\"9.5\":\"\\u0441\\u043e\\u0431\\u0441\\u0442\\u0432\\u0435\\u043d\\u043d\\u0430\\u044f\"},\"ticker\":{\"id\":\"6596\",\"type\":\"FixedTicker\"}},\"id\":\"6595\",\"type\":\"LinearAxis\"},{\"attributes\":{},\"id\":\"6809\",\"type\":\"Selection\"},{\"attributes\":{\"callback\":null,\"data\":{\"image\":[{\"__ndarray__\":\"C/9/P97/fz+7+n8/hV5/PxSKTj4coW4/gfZ8Pzmkfj9u3H4/TFx3PyvZcz8baXo/VvB+PyNmfz9Tblw/Cu9cP40nSz/kDEg/nRNnPyIBfD8N330/COZ9PxsYfj9ZvXk/dHlxP6GOcD+fR3s/N29/PzL9fz9M/38/wZB/P0tkfz+1MW4/JP1YP258fj9EbH8/sN1+P5LWej/q0n0//iwwP1igKT+eomo/AACAPwAAgD8AAIA/AACAP/7/fz9d938/gPV/P9Twfz/MRn8/IuZ+P4DLfz+gSGE/YjeKPvrMWz8AAIA/AACAPwAAgD/9/38/vv5/P2Hdfz9++X8/ye9/P8ZYfz/dqHQ/OoB9P0yiUj+im4I+Est6PwAAgD8AAIA/AACAP+n/fz+VL38/yrF/P4HWfz9Ky38/Mg99P94eoD60R3Q/V0NvP/swVT+auns/t/9/P+//fz8T/38/Zft/PwvAfz/KkH0/1l9/P2XtfD8w29k9Sl5/P4aRfj+w5ns/VmZ4P9v1eD8AAIA/AACAPwAAgD8AAIA//P9/P4abfz/+NH8/IQF4P6SRtj46938/Bfx/P+pLfz+a52o/yrV6PwAAgD8AAIA/AACAPwAAgD/d/n8/LIF/Px8Efj9Fc2o/eOILPvj+fz/I+38/q5l/PzFReT8VlXw/1/9/P/3/fz/a/38/W/1/P3bOez94eHg/vg58P0rocD/kaXY+n+h8P1FweT/5v3M/I4N5P/vpfT8AAIA/AACAPwAAgD8AAIA/0/9/P4macT8wbF4/0kaJPgiWbT8M+X8/Rfl/P6J5fz8tjH4//cd/PwAAgD8AAIA/AACAPwAAgD9MzX8/JXtlP3LRVD8gw8Q+AidnPznyfz8G5H8/Zdt+PxsQfj9Jnn8/t25RPyKWFD/g3zM/iMltP2PAfz8ZZn0/EKt+Pxnhfj8dvn4/tKd/P3yxfz/Tr38/nNt/P1/8fz/6/38/+/9/P6r/fz+M9H8/8ADiPl7UNj/dVW0/YVBzP3FjfD9G6n8/TUF+P0aFfT9xk38/Cel/P9Y1fj/E2n4/Rwt5P5qxXT/I6ZQ+tkZrP27OfD+r+Hw/Y0d+Pye8fz/uS38/639/Pyfsfz9f9H8/9/9/P/r/fz/F/38/Mv1/P1LDMT+iZhU/BmpdP8BaYz+5JX0/E3p/P0QZfj97rX0/qcR/P07tfz8=\",\"dtype\":\"float32\",\"shape\":[16,14]}]},\"selected\":{\"id\":\"6809\",\"type\":\"Selection\"},\"selection_policy\":{\"id\":\"6810\",\"type\":\"UnionRenderers\"}},\"id\":\"6588\",\"type\":\"ColumnDataSource\"},{\"attributes\":{\"callback\":null,\"end\":14},\"id\":\"6579\",\"type\":\"Range1d\"},{\"attributes\":{\"callback\":null,\"end\":16},\"id\":\"6581\",\"type\":\"Range1d\"},{\"attributes\":{},\"id\":\"6583\",\"type\":\"LinearScale\"},{\"attributes\":{\"source\":{\"id\":\"6588\",\"type\":\"ColumnDataSource\"}},\"id\":\"6594\",\"type\":\"CDSView\"},{\"attributes\":{},\"id\":\"6810\",\"type\":\"UnionRenderers\"},{\"attributes\":{\"ticks\":[0.5,1.5,2.5,3.5,4.5,5.5,6.5,7.5,8.5,9.5,10.5,11.5,12.5,13.5]},\"id\":\"6596\",\"type\":\"FixedTicker\"},{\"attributes\":{\"axis_label\":\"translation tokens\",\"formatter\":{\"id\":\"6807\",\"type\":\"BasicTickFormatter\"},\"major_label_overrides\":{\"0.5\":\"_EOS_\",\"1.5\":\".\",\"10.5\":\"a\",\"11.5\":\"with\",\"12.5\":\"equipped\",\"13.5\":\"are\",\"14.5\":\"rooms\",\"15.5\":\"_BOS_\",\"2.5\":\"bathroom\",\"3.5\":\"private\",\"4.5\":\"a\",\"5.5\":\"and\",\"6.5\":\"tv\",\"7.5\":\"screen\",\"8.5\":\"-\",\"9.5\":\"flat\"},\"ticker\":{\"id\":\"6599\",\"type\":\"FixedTicker\"}},\"id\":\"6598\",\"type\":\"LinearAxis\"},{\"attributes\":{\"text\":\"\"},\"id\":\"6805\",\"type\":\"Title\"},{\"attributes\":{\"color_mapper\":{\"id\":\"6592\",\"type\":\"LinearColorMapper\"},\"dh\":{\"units\":\"data\",\"value\":16},\"dw\":{\"units\":\"data\",\"value\":14},\"image\":{\"field\":\"image\"},\"x\":{\"value\":0},\"y\":{\"value\":0}},\"id\":\"6591\",\"type\":\"Image\"},{\"attributes\":{\"ticks\":[0.5,1.5,2.5,3.5,4.5,5.5,6.5,7.5,8.5,9.5,10.5,11.5,12.5,13.5,14.5,15.5]},\"id\":\"6599\",\"type\":\"FixedTicker\"},{\"attributes\":{},\"id\":\"6807\",\"type\":\"BasicTickFormatter\"},{\"attributes\":{},\"id\":\"6808\",\"type\":\"BasicTickFormatter\"}],\"root_ids\":[\"6578\"]},\"title\":\"Bokeh Application\",\"version\":\"1.2.0\"}};\n",
       "  var render_items = [{\"docid\":\"25dedfcc-6803-4a09-a5bd-fda498f98b4f\",\"roots\":{\"6578\":\"444a6d4f-649f-4bdc-aca3-c65cdd745238\"}}];\n",
       "  root.Bokeh.embed.embed_items_notebook(docs_json, render_items);\n",
       "\n",
       "  }\n",
       "  if (root.Bokeh !== undefined) {\n",
       "    embed_document(root);\n",
       "  } else {\n",
       "    var attempts = 0;\n",
       "    var timer = setInterval(function(root) {\n",
       "      if (root.Bokeh !== undefined) {\n",
       "        embed_document(root);\n",
       "        clearInterval(timer);\n",
       "      }\n",
       "      attempts++;\n",
       "      if (attempts > 100) {\n",
       "        console.log(\"Bokeh: ERROR: Unable to run BokehJS code because BokehJS library is missing\");\n",
       "        clearInterval(timer);\n",
       "      }\n",
       "    }, 10, root)\n",
       "  }\n",
       "})(window);"
      ],
      "application/vnd.bokehjs_exec.v0+json": ""
     },
     "metadata": {
      "application/vnd.bokehjs_exec.v0+json": {
       "id": "6578"
      }
     },
     "output_type": "display_data"
    }
   ],
   "source": [
    "for i in range(5):\n",
    "    draw_attention(inp[i], trans[i], 1- attention_probs[i])\n"
   ]
  },
  {
   "cell_type": "markdown",
   "metadata": {},
   "source": [
    "## Try 1\n",
    "\n",
    "I tried to change GPUCell based model to LSTMCell based model, but the rest of implementation haven't changed.\n",
    "\n",
    "As we can see, unfortunately we don't have any improvements with prediction compare to original attention model\n"
   ]
  }
 ],
 "metadata": {
  "file_extension": ".py",
  "kernelspec": {
   "display_name": "Python 3",
   "language": "python",
   "name": "python3"
  },
  "language_info": {
   "codemirror_mode": {
    "name": "ipython",
    "version": 3
   },
   "file_extension": ".py",
   "mimetype": "text/x-python",
   "name": "python",
   "nbconvert_exporter": "python",
   "pygments_lexer": "ipython3",
   "version": "3.7.3"
  },
  "mimetype": "text/x-python",
  "name": "python",
  "npconvert_exporter": "python",
  "pygments_lexer": "ipython3",
  "version": 3
 },
 "nbformat": 4,
 "nbformat_minor": 4
}
