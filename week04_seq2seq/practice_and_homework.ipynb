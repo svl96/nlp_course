{
 "cells": [
  {
   "cell_type": "markdown",
   "metadata": {
    "colab_type": "text",
    "id": "HmsFABwClrsS"
   },
   "source": [
    "## Seminar and homework (10 points total)\n",
    "\n",
    "Today we shall compose encoder-decoder neural networks and apply them to the task of machine translation.\n",
    "\n",
    "![img](https://esciencegroup.files.wordpress.com/2016/03/seq2seq.jpg)\n",
    "_(img: esciencegroup.files.wordpress.com)_\n",
    "\n",
    "\n",
    "Encoder-decoder architectures are about converting anything to anything, including\n",
    " * Machine translation and spoken dialogue systems\n",
    " * [Image captioning](http://mscoco.org/dataset/#captions-challenge2015) and [image2latex](https://openai.com/requests-for-research/#im2latex) (convolutional encoder, recurrent decoder)\n",
    " * Generating [images by captions](https://arxiv.org/abs/1511.02793) (recurrent encoder, convolutional decoder)\n",
    " * Grapheme2phoneme - convert words to transcripts"
   ]
  },
  {
   "cell_type": "markdown",
   "metadata": {
    "colab_type": "text",
    "id": "R4N9AD2dlrsU"
   },
   "source": [
    "## Our task: machine translation\n",
    "\n",
    "We gonna try our encoder-decoder models on russian to english machine translation problem. More specifically, we'll translate hotel and hostel descriptions. This task shows the scale of machine translation while not requiring you to train your model for weeks if you don't use GPU.\n",
    "\n",
    "Before we get to the architecture, there's some preprocessing to be done. ~~Go tokenize~~ Alright, this time we've done preprocessing for you. As usual, the data will be tokenized with WordPunctTokenizer.\n",
    "\n",
    "However, there's one more thing to do. Our data lines contain unique rare words. If we operate on a word level, we will have to deal with large vocabulary size. If instead we use character-level models, it would take lots of iterations to process a sequence. This time we're gonna pick something inbetween.\n",
    "\n",
    "One popular approach is called [Byte Pair Encoding](https://github.com/rsennrich/subword-nmt) aka __BPE__. The algorithm starts with a character-level tokenization and then iteratively merges most frequent pairs for N iterations. This results in frequent words being merged into a single token and rare words split into syllables or even characters.\n",
    "\n"
   ]
  },
  {
   "cell_type": "code",
   "execution_count": 2,
   "metadata": {},
   "outputs": [],
   "source": [
    "# !pip3 install tensorflow-gpu==2.0.0\n",
    "# !pip3 install subword-nmt\n",
    "# !wget https://www.dropbox.com/s/yy2zqh34dyhv07i/data.txt?dl=1 -O data.txt\n",
    "# !wget https://www.dropbox.com/s/fj9w01embfxvtw1/dummy_checkpoint.npz?dl=1 -O dummy_checkpoint.npz\n",
    "# !wget https://raw.githubusercontent.com/yandexdataschool/nlp_course/2019/week04_seq2seq/utils.py -O utils.py\n",
    "# thanks to tilda and deephack teams for the data, Dmitry Emelyanenko for the code :)"
   ]
  },
  {
   "cell_type": "code",
   "execution_count": 1,
   "metadata": {},
   "outputs": [
    {
     "data": {
      "text/plain": [
       "('2.0.0', '1.16.4')"
      ]
     },
     "execution_count": 1,
     "metadata": {},
     "output_type": "execute_result"
    }
   ],
   "source": [
    "import tensorflow as tf\n",
    "import numpy as np\n",
    "tf.__version__, np.__version__"
   ]
  },
  {
   "cell_type": "code",
   "execution_count": 2,
   "metadata": {},
   "outputs": [],
   "source": [
    "from nltk.tokenize import WordPunctTokenizer\n",
    "from subword_nmt.learn_bpe import learn_bpe\n",
    "from subword_nmt.apply_bpe import BPE\n",
    "\n",
    "tokenizer = WordPunctTokenizer()\n",
    "def tokenize(x):\n",
    "    return ' '.join(tokenizer.tokenize(x.lower()))\n"
   ]
  },
  {
   "cell_type": "code",
   "execution_count": 2,
   "metadata": {
    "colab": {},
    "colab_type": "code",
    "id": "g9kP0SdxlrsY"
   },
   "outputs": [],
   "source": [
    "\n",
    "# split and tokenize the data\n",
    "with open('train.en', 'w', encoding='utf8') as f_src,  open('train.ru', 'w', encoding='utf8') as f_dst:\n",
    "    for line in open('data.txt', encoding='utf8'):\n",
    "        src_line, dst_line = line.strip().split('\\t')\n",
    "        f_src.write(tokenize(src_line) + '\\n')\n",
    "        f_dst.write(tokenize(dst_line) + '\\n')\n",
    "\n",
    "# build and apply bpe vocs\n",
    "bpe = {}\n",
    "for lang in ['en', 'ru']:\n",
    "    learn_bpe(open('./train.' + lang, encoding='utf8'), open('bpe_rules.' + lang, 'w', encoding='utf8'), num_symbols=8000)\n",
    "    bpe[lang] = BPE(open('./bpe_rules.' + lang, encoding='utf8'))\n",
    "    \n",
    "    with open('train.bpe.' + lang, 'w', encoding='utf8') as f_out:\n",
    "        for line in open('train.' + lang, encoding='utf8'):\n",
    "            f_out.write(bpe[lang].process_line(line.strip()) + '\\n')"
   ]
  },
  {
   "cell_type": "markdown",
   "metadata": {
    "colab_type": "text",
    "id": "0UPW3sV8lrsb"
   },
   "source": [
    "### Building vocabularies\n",
    "\n",
    "We now need to build vocabularies that map strings to token ids and vice versa. We're gonna need these fellas when we feed training data into model or convert output matrices into words."
   ]
  },
  {
   "cell_type": "code",
   "execution_count": 3,
   "metadata": {},
   "outputs": [],
   "source": [
    "import numpy as np\n",
    "import matplotlib.pyplot as plt\n",
    "%matplotlib inline"
   ]
  },
  {
   "cell_type": "code",
   "execution_count": 4,
   "metadata": {},
   "outputs": [
    {
     "name": "stdout",
     "output_type": "stream",
     "text": [
      "inp: на территории обустроена бесплатная частная парковка .\n",
      "out: free private parking is available on site .\n",
      "\n",
      "inp: кроме того , в 5 минутах ходьбы работают многочисленные бары и рестораны .\n",
      "out: guests can find many bars and restaurants within a 5 - minute walk .\n",
      "\n",
      "inp: отель san mi@@ gu@@ el расположен в центре мор@@ ели@@ и , в 750 метрах от главной площади города и кафедрального собора .\n",
      "out: hotel san miguel is located in central more@@ lia , 750 metres from the city ’ s main square and cathedral .\n",
      "\n"
     ]
    }
   ],
   "source": [
    "data_inp = np.array(open('./train.bpe.ru', encoding='utf8').read().split('\\n'))\n",
    "data_out = np.array(open('./train.bpe.en', encoding='utf8').read().split('\\n'))\n",
    "\n",
    "from sklearn.model_selection import train_test_split\n",
    "train_inp, dev_inp, train_out, dev_out = train_test_split(data_inp, data_out, test_size=3000,\n",
    "                                                          random_state=42)\n",
    "for i in range(3):\n",
    "    print('inp:', train_inp[i])\n",
    "    print('out:', train_out[i], end='\\n\\n')"
   ]
  },
  {
   "cell_type": "code",
   "execution_count": 5,
   "metadata": {},
   "outputs": [],
   "source": [
    "from utils import Vocab\n",
    "inp_voc = Vocab.from_lines(train_inp)\n",
    "out_voc = Vocab.from_lines(train_out)"
   ]
  },
  {
   "cell_type": "code",
   "execution_count": 6,
   "metadata": {},
   "outputs": [
    {
     "name": "stdout",
     "output_type": "stream",
     "text": [
      "lines\n",
      "['гостевой дом r .', 'до афин — 20 км .', 'работает боулинг .', 'оборудован балкон .', 'подключен wi - fi .']\n",
      "\n",
      "words to ids (0 = bos, 1 = eos):\n",
      "[[   0 2688 2943 1108   29    1    1    1]\n",
      " [   0 2922 1834 8035   59 3800   29    1]\n",
      " [   0 6030 2083   29    1    1    1    1]\n",
      " [   0 4927 1870   29    1    1    1    1]\n",
      " [   0 5549 1453   27  592   29    1    1]]\n",
      "\n",
      "back to words\n",
      "['гостевой дом r .', 'до афин — 20 км .', 'работает боулинг .', 'оборудован балкон .', 'подключен wi - fi .']\n"
     ]
    }
   ],
   "source": [
    "# Here's how you cast lines into ids and backwards.\n",
    "batch_lines = sorted(train_inp, key=len)[5:10]\n",
    "batch_ids = inp_voc.to_matrix(batch_lines)\n",
    "batch_lines_restored = inp_voc.to_lines(batch_ids)\n",
    "\n",
    "print(\"lines\")\n",
    "print(batch_lines)\n",
    "print(\"\\nwords to ids (0 = bos, 1 = eos):\")\n",
    "print(batch_ids)\n",
    "print(\"\\nback to words\")\n",
    "print(batch_lines_restored)"
   ]
  },
  {
   "cell_type": "markdown",
   "metadata": {
    "colab_type": "text",
    "id": "gSYu-MkElrsk"
   },
   "source": [
    "Draw source and translation length distributions to estimate the scope of the task."
   ]
  },
  {
   "cell_type": "code",
   "execution_count": 7,
   "metadata": {},
   "outputs": [
    {
     "data": {
      "image/png": "[encoded data removed]",
      "text/plain": [
       "<Figure size 576x288 with 2 Axes>"
      ]
     },
     "metadata": {
      "needs_background": "light"
     },
     "output_type": "display_data"
    }
   ],
   "source": [
    "plt.figure(figsize=[8, 4])\n",
    "plt.subplot(1, 2, 1)\n",
    "plt.title(\"source length\")\n",
    "plt.hist(list(map(len, map(str.split, train_inp))), bins=20);\n",
    "\n",
    "plt.subplot(1, 2, 2)\n",
    "plt.title(\"translation length\")\n",
    "plt.hist(list(map(len, map(str.split, train_out))), bins=20);"
   ]
  },
  {
   "cell_type": "markdown",
   "metadata": {
    "colab_type": "text",
    "id": "BHWgx34flrsn"
   },
   "source": [
    "### Encoder-decoder model\n",
    "\n",
    "The code below contas a template for a simple encoder-decoder model: single GRU encoder/decoder, no attention or anything. This model is implemented for you as a reference and a baseline for your homework assignment."
   ]
  },
  {
   "cell_type": "code",
   "execution_count": 8,
   "metadata": {},
   "outputs": [],
   "source": [
    "import tensorflow as tf\n",
    "assert tf.__version__.startswith('2'), \"Current tf version: {}; required: 2.0.*\".format(tf.__version__)\n",
    "L = tf.keras.layers\n",
    "keras = tf.keras\n",
    "from utils import infer_length, infer_mask"
   ]
  },
  {
   "cell_type": "code",
   "execution_count": 9,
   "metadata": {},
   "outputs": [],
   "source": [
    "class BasicModel(L.Layer):\n",
    "    def __init__(self, inp_voc, out_voc, emb_size=64, hid_size=128):\n",
    "        \"\"\"\n",
    "        A simple encoder-decoder model\n",
    "        \"\"\"\n",
    "        super().__init__() # initialize base class to track sub-layers, trainable variables, etc.\n",
    "\n",
    "        self.inp_voc, self.out_voc = inp_voc, out_voc # Vocab classes\n",
    "        self.hid_size = hid_size # size of hidden layer\n",
    "\n",
    "        self.emb_inp = L.Embedding(len(inp_voc), emb_size) # embedding for encoder\n",
    "        self.emb_out = L.Embedding(len(out_voc), emb_size) # embeding for decoder\n",
    "        self.enc0 = L.GRUCell(hid_size) # RNN for encoder\n",
    "\n",
    "        self.dec_start = L.Dense(hid_size) # Create decoder start state\n",
    "        self.dec0 = L.GRUCell(hid_size) # RNN for decoder\n",
    "        self.logits = L.Dense(len(out_voc)) # decoder logit result\n",
    "\n",
    "    @tf.function\n",
    "    def encode_step(self, prev_state, embs, mask, **flags):\n",
    "        \"\"\"\n",
    "        :prev_state: list of previous encoder states (save only last state) last state at position [0]\n",
    "        :embs: input token embedding with shape [batch_size, emb_size]\n",
    "        :mask: mask for entire time [batch_size, 1]\n",
    "        \"\"\"\n",
    "        output, next_state = self.enc0(embs, prev_state) # [batch, hid_size], list([batch, hid_size]) \n",
    "        new_state = [\n",
    "                    tf.where(\n",
    "                        tf.tile(mask, [1,next_tensor.shape[1]]),\n",
    "                        next_tensor, tensor\n",
    "                    ) for tensor, next_tensor in zip(prev_state, next_state)\n",
    "        ]\n",
    "        return new_state\n",
    "\n",
    "    def encode(self, inp, **flags):\n",
    "        \"\"\"\n",
    "        Takes symbolic input sequence, computes initial state\n",
    "        :param inp: matrix of input tokens [batch, time]\n",
    "        :returns: initial decoder state tensors, one or many\n",
    "        \"\"\"\n",
    "        inp_emb = self.emb_inp(inp) # [batch, time(n_input), emb_size]\n",
    "        batch_size = inp.shape[0]\n",
    "        \n",
    "        mask = infer_mask(inp, self.inp_voc.eos_ix, dtype=tf.bool) # [batch, time] mask for each time\n",
    "        state = [tf.zeros((batch_size, self.hid_size), tf.float32)] # list([batch, hid_size])\n",
    "        for i in tf.range(inp_emb.shape[1]): # for token in time\n",
    "            state = self.encode_step(state, inp_emb[:, i], mask[:, i, None]) # list([batch, hid_size])\n",
    "        \n",
    "        dec_start = self.dec_start(state[0]) # [batch, hid_size]\n",
    "        return [dec_start]\n",
    "\n",
    "    @tf.function\n",
    "    def decode_step(self, prev_state, prev_tokens, **flags):\n",
    "        \"\"\"\n",
    "        Takes previous decoder state and tokens, returns new state and logits for next tokens\n",
    "        :param prev_state: a list of previous decoder state tensors\n",
    "        :param prev_tokens: previous output tokens, an int vector of [batch_size]\n",
    "        :return: a list of next decoder state tensors, a tensor of logits [batch, n_tokens]\n",
    "        \"\"\"\n",
    "        \n",
    "        out_emb = self.emb_out(prev_tokens) # [batch, emb_size]\n",
    "        output, new_dec_state = self.dec0(out_emb, prev_state) # [batch, hid_size], list([batch, hid_size])\n",
    "        output_logits = self.logits(output) # [batch, voc_size]\n",
    "        \n",
    "        return new_dec_state, output_logits\n",
    "\n",
    "    def decode(self, initial_state, out_tokens, **flags):\n",
    "        \"\"\" Run decoder on reference tokens (out_tokens) \"\"\"\n",
    "        state = initial_state # list([batch, hid_size])\n",
    "        batch_size = out_tokens.shape[0]\n",
    "\n",
    "        # initial logits: always predict BOS\n",
    "        first_logits = tf.math.log(\n",
    "            tf.one_hot(tf.fill([batch_size], self.out_voc.bos_ix), len(self.out_voc)) + 1e-30)\n",
    "        outputs = [first_logits]\n",
    "\n",
    "        for i in tf.range(out_tokens.shape[1] - 1):\n",
    "            state, logits = self.decode_step(state, out_tokens[:, i])\n",
    "            outputs.append(logits)\n",
    "\n",
    "        return tf.stack(outputs, axis=1)\n",
    "\n",
    "    def call(self, inp, out):\n",
    "        \"\"\" Apply model in training mode \"\"\"\n",
    "        initial_state = self.encode(inp) # run encoder to crete decoder init state\n",
    "        return self.decode(initial_state, out) # run decoder\n",
    "\n",
    "    def decode_inference(self, initial_state, max_len=100, **flags):\n",
    "        \"\"\" Generate translations from model (greedy version) \"\"\"\n",
    "        state = initial_state # list([batch_size, hid_size])\n",
    "        outputs = [tf.ones(initial_state[0].shape[0], tf.int32) * self.out_voc.bos_ix]\n",
    "        all_states = [initial_state] # list of lists\n",
    "\n",
    "        for i in tf.range(max_len):\n",
    "            state, logits = self.decode_step(state, outputs[-1])\n",
    "            outputs.append(tf.argmax(logits, axis=-1, output_type=tf.int32))\n",
    "            all_states.append(state)\n",
    "        \n",
    "        return tf.stack(outputs, axis=1), all_states\n",
    "\n",
    "    def translate_lines(self, inp_lines):\n",
    "        inp = tf.convert_to_tensor(inp_voc.to_matrix(inp_lines)) # [batch, times]\n",
    "\n",
    "        initial_state = self.encode(inp) # list([batch, hid_size])\n",
    "        out_ids, states = self.decode_inference(initial_state)\n",
    "        return out_voc.to_lines(out_ids.numpy()), states\n"
   ]
  },
  {
   "cell_type": "code",
   "execution_count": 10,
   "metadata": {},
   "outputs": [],
   "source": [
    "model = BasicModel(inp_voc, out_voc)"
   ]
  },
  {
   "cell_type": "code",
   "execution_count": 11,
   "metadata": {},
   "outputs": [],
   "source": [
    "dummy_inp = tf.convert_to_tensor(inp_voc.to_matrix(train_inp[:3]))\n",
    "dummy_out = tf.convert_to_tensor(out_voc.to_matrix(train_out[:3]))\n",
    "dummy_logits = model(dummy_inp, dummy_out)\n",
    "ref_shape = (dummy_out.shape[0], dummy_out.shape[1], len(out_voc))\n",
    "assert dummy_logits.shape == ref_shape, \"Your logits shape should be {} but got {}\".format(dummy_logits.shape, ref_shape)\n",
    "assert all(dummy_logits[:, 0].numpy().argmax(-1) == out_voc.bos_ix), \"first step must always be BOS\""
   ]
  },
  {
   "cell_type": "markdown",
   "metadata": {
    "colab_type": "text",
    "id": "_wuv1-aVlrs0"
   },
   "source": [
    "### Training loss (2 points)\n",
    "\n",
    "Our training objetive is almost the same as it was for neural language models:\n",
    "$$ L = {\\frac1{|D|}} \\sum_{X, Y \\in D} \\sum_{y_t \\in Y} - \\log p(y_t \\mid y_1, \\dots, y_{t-1}, X, \\theta) $$\n",
    "\n",
    "where $|D|$ is the __total length of all sequences__, including BOS and first EOS, but excluding PAD."
   ]
  },
  {
   "cell_type": "code",
   "execution_count": 12,
   "metadata": {},
   "outputs": [],
   "source": [
    "def compute_loss(model, inp, out, **flags):\n",
    "    \"\"\"\n",
    "    Compute loss (float32 scalar) as in the formula above\n",
    "    :param inp: input tokens matrix, int32[batch, time]\n",
    "    :param out: reference tokens matrix, int32[batch, time]\n",
    "    \n",
    "    In order to pass the tests, your function should\n",
    "    * include loss at first EOS but not the subsequent ones\n",
    "    * divide sum of losses by a sum of input lengths (use infer_length or infer_mask)\n",
    "    \"\"\"\n",
    "    inp, out = map(tf.convert_to_tensor, [inp, out])\n",
    "    targets_1hot = tf.one_hot(out, len(model.out_voc), dtype=tf.float32)\n",
    "    mask = infer_mask(out, out_voc.eos_ix) # [batch_size, out_len]\n",
    "\n",
    "    # outputs of the model, [batch_size, out_len, num_tokens]\n",
    "    logits_seq = model(inp, out) # [batch, time, n_tokens]\n",
    "\n",
    "    # log-probabilities of all tokens at all steps, [batch_size, out_len, num_tokens]\n",
    "    logprobs_seq = tf.nn.log_softmax(logits_seq, axis=-1)\n",
    "   \n",
    "    # log-probabilities of correct outputs, [batch_size, out_len]\n",
    "    logp_out = tf.reduce_sum(logprobs_seq * targets_1hot, axis=-1)\n",
    "\n",
    "    # mean cross-entropy over tokens where mask == 1\n",
    "    return -tf.reduce_sum(logp_out * mask) / tf.reduce_sum(mask)"
   ]
  },
  {
   "cell_type": "code",
   "execution_count": 13,
   "metadata": {},
   "outputs": [
    {
     "name": "stdout",
     "output_type": "stream",
     "text": [
      "Loss: tf.Tensor(8.424069, shape=(), dtype=float32)\n"
     ]
    }
   ],
   "source": [
    "# tf.debugging.set_log_device_placement(True)\n",
    "dummy_loss = compute_loss(model, dummy_inp, dummy_out)\n",
    "print(\"Loss:\", dummy_loss)\n",
    "assert np.allclose(dummy_loss, 8.425, rtol=0.1, atol=0.1), \"We're sorry for your loss\""
   ]
  },
  {
   "cell_type": "markdown",
   "metadata": {
    "colab_type": "text",
    "id": "HpbaBpW7lrs-"
   },
   "source": [
    "### Evaluation: BLEU\n",
    "\n",
    "Machine translation is commonly evaluated with [BLEU](https://en.wikipedia.org/wiki/BLEU) score. This metric simply computes which fraction of predicted n-grams is actually present in the reference translation. It does so for n=1,2,3 and 4 and computes the geometric average with penalty if translation is shorter than reference.\n",
    "\n",
    "While BLEU [has many drawbacks](http://www.cs.jhu.edu/~ccb/publications/re-evaluating-the-role-of-bleu-in-mt-research.pdf), it still remains the most commonly used metric and one of the simplest to compute."
   ]
  },
  {
   "cell_type": "code",
   "execution_count": 14,
   "metadata": {},
   "outputs": [],
   "source": [
    "from nltk.translate.bleu_score import corpus_bleu\n",
    "def compute_bleu(model, inp_lines, out_lines, bpe_sep='@@ ', **flags):\n",
    "    \"\"\"\n",
    "    Estimates corpora-level BLEU score of model's translations given inp and reference out\n",
    "    Note: if you're serious about reporting your results, use https://pypi.org/project/sacrebleu\n",
    "    \"\"\"\n",
    "    translations, _ = model.translate_lines(inp_lines, **flags)\n",
    "    translations = [line.replace(bpe_sep, '') for line in translations] \n",
    "    return corpus_bleu(\n",
    "        [[ref.split()] for ref in out_lines],\n",
    "        [trans.split() for trans in translations],\n",
    "        smoothing_function=lambda precisions, **kw: [p + 1.0 / p.denominator for p in precisions]\n",
    "        ) * 100"
   ]
  },
  {
   "cell_type": "code",
   "execution_count": 15,
   "metadata": {},
   "outputs": [
    {
     "name": "stdout",
     "output_type": "stream",
     "text": [
      "Wall time: 4.07 s\n"
     ]
    },
    {
     "data": {
      "text/plain": [
       "0.002251533716207684"
      ]
     },
     "execution_count": 15,
     "metadata": {},
     "output_type": "execute_result"
    }
   ],
   "source": [
    "%%time\n",
    "compute_bleu(model, dev_inp, dev_out)"
   ]
  },
  {
   "cell_type": "markdown",
   "metadata": {
    "colab_type": "text",
    "id": "nQDhGwg4lrtC"
   },
   "source": [
    "### Training loop\n",
    "\n",
    "Training encoder-decoder models isn't that different from any other models: sample batches, compute loss, backprop and update"
   ]
  },
  {
   "cell_type": "code",
   "execution_count": 16,
   "metadata": {},
   "outputs": [],
   "source": [
    "from IPython.display import clear_output\n",
    "from tqdm import tqdm, trange\n",
    "opt = keras.optimizers.Adam(1e-3)"
   ]
  },
  {
   "cell_type": "code",
   "execution_count": 17,
   "metadata": {},
   "outputs": [],
   "source": [
    "metrics = {'train_loss': [], 'dev_bleu': [] }\n",
    "batch_size = 100\n",
    "iterations = 10000 "
   ]
  },
  {
   "cell_type": "code",
   "execution_count": 18,
   "metadata": {},
   "outputs": [],
   "source": [
    "def train_loop(model, batch_size, iterations, metrics, opt):\n",
    "    for _ in trange(iterations):\n",
    "        step = len(metrics['train_loss']) + 1\n",
    "        batch_ix = np.random.randint(len(train_inp), size=batch_size)\n",
    "        batch_inp = inp_voc.to_matrix(train_inp[batch_ix])\n",
    "        batch_out = out_voc.to_matrix(train_out[batch_ix])\n",
    "\n",
    "        with tf.GradientTape() as tape:\n",
    "             loss_t = compute_loss(model, batch_inp, batch_out)\n",
    "\n",
    "        grads = tape.gradient(loss_t, model.trainable_variables)\n",
    "        opt.apply_gradients(zip(grads, model.trainable_variables))\n",
    "\n",
    "\n",
    "        metrics['train_loss'].append((step, loss_t.numpy()))\n",
    "\n",
    "        if step % 100 == 0:\n",
    "            metrics['dev_bleu'].append((step, compute_bleu(model, dev_inp, dev_out)))\n",
    "\n",
    "            clear_output(True)\n",
    "            plt.figure(figsize=(12,4))\n",
    "            for i, (name, history) in enumerate(sorted(metrics.items())):\n",
    "                plt.subplot(1, len(metrics), i + 1)\n",
    "                plt.title(name)\n",
    "                plt.plot(*zip(*history))\n",
    "                plt.grid()\n",
    "            plt.show()\n",
    "            print(\"Mean loss=%.3f\" % np.mean(metrics['train_loss'][-10:], axis=0)[1], flush=True)\n",
    "    #     clear_output(True)\n",
    "        \n",
    "# Note: it's okay if bleu oscillates up and down as long as it gets better on average over long term (e.g. 5k batches)"
   ]
  },
  {
   "cell_type": "code",
   "execution_count": 19,
   "metadata": {},
   "outputs": [
    {
     "data": {
      "image/png": "[encoded data removed]",
      "text/plain": [
       "<Figure size 864x288 with 2 Axes>"
      ]
     },
     "metadata": {
      "needs_background": "light"
     },
     "output_type": "display_data"
    },
    {
     "name": "stdout",
     "output_type": "stream",
     "text": [
      "Mean loss=1.964\n"
     ]
    },
    {
     "name": "stderr",
     "output_type": "stream",
     "text": [
      "100%|██████████| 10000/10000 [1:18:35<00:00,  1.47s/it]\n"
     ]
    }
   ],
   "source": [
    "train_loop(model, batch_size, iterations, metrics, opt)"
   ]
  },
  {
   "cell_type": "code",
   "execution_count": 20,
   "metadata": {
    "colab": {},
    "colab_type": "code",
    "id": "2ahuhKVhlrtP"
   },
   "outputs": [],
   "source": [
    "assert np.mean(metrics['dev_bleu'][-10:], axis=0)[1] > 15, \"We kind of need a higher bleu BLEU from you. Kind of right now.\""
   ]
  },
  {
   "cell_type": "code",
   "execution_count": 21,
   "metadata": {
    "colab": {},
    "colab_type": "code",
    "id": "KyaHOpealrtS"
   },
   "outputs": [
    {
     "name": "stdout",
     "output_type": "stream",
     "text": [
      "в распоряжении гостей общая кухня и общая гостиная .\n",
      "there is a shared kitchen , and a shared kitchen at the property .\n",
      "\n",
      "кроме того , предоставляется прокат велосипедов , услуги трансфера и бесплатная парковка .\n",
      "car hire is available at the property and free parking is available on site .\n",
      "\n",
      "расстояние до города ки@@ сси@@ м@@ ми составляет 26 км .\n",
      "corri@@ entes town centre is 40 km from the property .\n",
      "\n",
      "апартаменты в пент@@ хаусе с общим открытым бассейном , садом , кондиционером и террасой для загара расположены в 5 минутах ходьбы от пляжа на курорте ка@@ бо - рой .\n",
      "located in the centre of alghero , just a 15 - minute walk from the beach , the property offers a garden with a sun terrace and a sun terrace .\n",
      "\n",
      "апартаменты mo@@ s@@ co@@ w point - loft red square находятся в москве , в 200 метрах от большого театра .\n",
      "apartment in saint - emil@@ skaya - style apartments offers accommodation in tallinn , 1 . 5 km from the centre of the savior on spilled blood .\n",
      "\n",
      "в вашем распоряжении собственная ванная комната с душем и полотенцами .\n",
      "featuring a shower , private bathrooms also come with a hairdryer .\n",
      "\n"
     ]
    }
   ],
   "source": [
    "for inp_line, trans_line in zip(dev_inp[::500], model.translate_lines(dev_inp[::500])[0]):\n",
    "    print(inp_line)\n",
    "    print(trans_line)\n",
    "    print()"
   ]
  },
  {
   "cell_type": "code",
   "execution_count": 22,
   "metadata": {},
   "outputs": [],
   "source": [
    "import pickle"
   ]
  },
  {
   "cell_type": "code",
   "execution_count": 23,
   "metadata": {},
   "outputs": [],
   "source": [
    "with open('simple_weights.pkl', 'wb') as f:\n",
    "    pickle.dump(model.get_weights(), f)"
   ]
  },
  {
   "cell_type": "code",
   "execution_count": 25,
   "metadata": {},
   "outputs": [],
   "source": [
    "with open('simple_history.pkl', 'wb') as f:\n",
    "    pickle.dump(metrics, f)"
   ]
  },
  {
   "cell_type": "markdown",
   "metadata": {
    "colab_type": "text",
    "id": "Tv0s8qxOXp5y"
   },
   "source": [
    "# Homework code templates will appear here soon!"
   ]
  },
  {
   "cell_type": "markdown",
   "metadata": {
    "colab_type": "text",
    "id": "edk_oVg0lrtW"
   },
   "source": [
    "### Your Attention Required\n",
    "\n",
    "In this section we want you to improve over the basic model by implementing a simple attention mechanism.\n",
    "\n",
    "This is gonna be a two-parter: building the __attention layer__ and using it for an __attentive seq2seq model__."
   ]
  },
  {
   "cell_type": "markdown",
   "metadata": {
    "colab_type": "text",
    "id": "Qz9aROAIlrtX"
   },
   "source": [
    "### Attention layer (3 points)\n",
    "\n",
    "Here you will have to implement a layer that computes a simple additive attention:\n",
    "\n",
    "Given encoder sequence $ h^e_0, h^e_1, h^e_2, ..., h^e_T$ and a single decoder state $h^d$,\n",
    "\n",
    "* Compute logits with a 2-layer neural network\n",
    "$$a_t = linear_{out}(tanh(linear_{e}(h^e_t) + linear_{d}(h_d)))$$\n",
    "* Get probabilities from logits, \n",
    "$$ p_t = {{e ^ {a_t}} \\over { \\sum_\\tau e^{a_\\tau} }} $$\n",
    "\n",
    "* Add up encoder states with probabilities to get __attention response__\n",
    "$$ attn = \\sum_t p_t \\cdot h^e_t $$\n",
    "\n",
    "You can learn more about attention layers in the leture slides or [from this post](https://distill.pub/2016/augmented-rnns/)."
   ]
  },
  {
   "cell_type": "code",
   "execution_count": 26,
   "metadata": {},
   "outputs": [],
   "source": [
    "class AttentionLayer(L.Layer):\n",
    "    def __init__(self, name, enc_size, dec_size, hid_size, activ=tf.tanh):\n",
    "        \"\"\" A layer that computes additive attention response and weights \"\"\"\n",
    "        super().__init__()\n",
    "        #         self.name = name\n",
    "        self.enc_size = enc_size # num units in encoder state\n",
    "        self.dec_size = dec_size # num units in decoder state\n",
    "        self.hid_size = hid_size # attention layer hidden units\n",
    "        self.activ = activ       # attention layer hidden nonlinearity\n",
    "\n",
    "    def build(self, input_shape):\n",
    "        # create layer variables\n",
    "\n",
    "        self.linear_enc = L.Dense(self.enc_size) # linaer for encoder states\n",
    "        self.linear_dec = L.Dense(self.dec_size) # linear for decoder state\n",
    "        self.linear_out = L.Dense(1) # linaer for tanh of enc + dec states\n",
    "        self.hidden = L.Dense(self.hid_size)\n",
    "            \n",
    "        # Hint: you can find an example of custom layer here:\n",
    "        # https://www.tensorflow.org/tutorials/customization/custom_layers\n",
    "        super().build(input_shape)\n",
    "\n",
    "    def call(self, enc, dec, inp_mask):\n",
    "        \"\"\"\n",
    "        Computes attention response and weights\n",
    "        :param enc: encoder activation sequence, float32[batch_size, ninp, enc_size]\n",
    "        :param dec: single decoder state used as \"query\", float32[batch_size, dec_size]\n",
    "        :param inp_mask: mask on enc activatons (0 after first eos), float32 [batch_size, ninp]\n",
    "        :returns: attn[batch_size, enc_size], probs[batch_size, ninp]\n",
    "            - attn - attention response vector (weighted sum of enc)\n",
    "            - probs - attention weights after softmax\n",
    "        \"\"\"\n",
    "        # Compute logits\n",
    "        dedd = self.linear_dec(dec[0])\n",
    "        lin_enc = self.linear_enc(enc) # [batch, ninp, enc_size]\n",
    "        lin_dec = tf.expand_dims(dedd, axis=-2) # [batch, 1, enc_size]\n",
    "        scores = tf.reshape(self.linear_out(self.activ(lin_enc + lin_dec)), inp_mask.shape) # [batch, ninp, 1] or [batch, ninp]\n",
    "        # Apply mask - if mask is 0, logits should be -inf or -1e9\n",
    "        # You may need tf.where\n",
    "        masked = tf.where(inp_mask, scores, tf.zeros(inp_mask.shape) + 1e-9) # [batch, ninp]\n",
    "\n",
    "        # Compute attention probabilities (softmax)\n",
    "        probs = tf.nn.softmax(masked, axis=-1) # [batch, ninp]\n",
    "        # Compute attention response using enc and probs\n",
    "        exp = tf.expand_dims(probs, axis=-2)\n",
    "        attn = tf.reshape(tf.matmul(exp, enc), (-1, enc.shape[-1])) # [batch, enc_size]\n",
    "\n",
    "        return attn, probs"
   ]
  },
  {
   "cell_type": "markdown",
   "metadata": {
    "colab_type": "text",
    "id": "IalfpdAelrtb"
   },
   "source": [
    "### Seq2seq model with attention (2 points)\n",
    "\n",
    "You can now use the attention layer to build a network. The simplest way to implement attention is to use it in decoder phase:\n",
    "![img](https://i.imgur.com/6fKHlHb.png)\n",
    "_image from distill.pub [article](https://distill.pub/2016/augmented-rnns/)_\n",
    "\n",
    "On every step, use __previous__ decoder state to obtain attention response. Then feed concat this response to the inputs of next attetion layer.\n",
    "\n",
    "The key implementation detail here is __model state__. Put simply, you can add any tensor into the list of `encode` outputs. You will then have access to them at each `decode` step. This may include:\n",
    "* Last RNN hidden states (as in basic model)\n",
    "* The whole sequence of encoder outputs (to attend to) and mask\n",
    "* Attention probabilities (to visualize)\n",
    "\n",
    "_There are, of course, alternative ways to wire attention into your network and different kinds of attention. Take a look at [this](https://arxiv.org/abs/1609.08144), [this](https://arxiv.org/abs/1706.03762) and [this](https://arxiv.org/abs/1808.03867) for ideas. And for image captioning/im2latex there's [visual attention](https://arxiv.org/abs/1502.03044)_"
   ]
  },
  {
   "cell_type": "code",
   "execution_count": 27,
   "metadata": {
    "colab": {},
    "colab_type": "code",
    "id": "NCKPB5JmcE6j"
   },
   "outputs": [],
   "source": [
    "class AttentiveModel(BasicModel):\n",
    "    def __init__(self, name, inp_voc, out_voc,\n",
    "                 emb_size=64, hid_size=128, attn_size=128):\n",
    "        \"\"\" Translation model that uses attention. See instructions above. \"\"\"\n",
    "        L.Layer.__init__(self) # initialize base class to track sub-layers, trainable variables, etc.\n",
    "\n",
    "        self.inp_voc, self.out_voc = inp_voc, out_voc # Vocab class\n",
    "        self.hid_size = hid_size # hid_size of rnn\n",
    "        \n",
    "        self.emb_inp = L.Embedding(len(self.inp_voc), emb_size) # embedding for encoder\n",
    "        self.emb_out = L.Embedding(len(self.out_voc), emb_size) # embedding fot decoder\n",
    "        self.enc0 = L.GRUCell(hid_size) # rnn cell for encoder\n",
    "        self.dec_start = L.Dense(hid_size) # dense for initial state of decoder\n",
    "        \n",
    "        self.attn = AttentionLayer('attn_layer', hid_size, hid_size, attn_size)\n",
    "        self.dec0 = L.GRUCell(hid_size) # rnn cell for decoder\n",
    "        self.concat = L.Concatenate() # concate context_cell (attn) and decoder rnn output\n",
    "        self.logits = L.Dense(len(out_voc)) # logit for decoder result\n",
    "            \n",
    "    @tf.function\n",
    "    def encode_step(self, prev_state, embs, mask, **flags):\n",
    "        \"\"\" Same as BasicModel -- can delete from here \"\"\"\n",
    "        output, next_state = self.enc0(embs, prev_state)\n",
    "        new_state = [\n",
    "                    tf.where(\n",
    "                        tf.tile(mask, [1,next_tensor.shape[1]]),\n",
    "                        next_tensor, tensor\n",
    "                    ) for tensor, next_tensor in zip(prev_state, next_state)\n",
    "        ]\n",
    "        return new_state\n",
    "\n",
    "    def encode(self, inp, **flags):\n",
    "        \"\"\"\n",
    "        Takes symbolic input sequence, computes initial state\n",
    "        :param inp: matrix of input tokens [batch, time]\n",
    "        :return: a list of initial decoder state tensors\n",
    "        \"\"\"\n",
    "        \n",
    "        # encode input sequence, create initial decoder states\n",
    "        inp_emb = self.emb_inp(inp) # [batch, time, emb_size]\n",
    "        batch_size = inp.shape[0]\n",
    "        mask = infer_mask(inp, self.inp_voc.eos_ix, dtype=tf.bool) # [batch, time]\n",
    "        states = [tf.zeros((batch_size, self.hid_size), tf.float32)]\n",
    "        for i in tf.range(inp_emb.shape[1]):\n",
    "            state = self.encode_step([states[-1]], inp_emb[:, i], mask[:, i, None])\n",
    "            states.append(state[0])\n",
    "        states = states[1:] # remove init state for rnn\n",
    "        dec_start = self.dec_start(states[-1]) # [batch, hid_size]\n",
    "        \n",
    "        # apply attention layer from initial decoder hidden state\n",
    "        states_stacked = tf.stack(states, axis=1)\n",
    "        first_attn_probas = self.attn(states_stacked, [dec_start], mask)[1] # [batch, attn_size]\n",
    "        \n",
    "        # Build first state: include\n",
    "        # * initial states for decoder recurrent layers\n",
    "        # * encoder sequence and encoder attn mask (for attention)\n",
    "        # * make sure that last state item is attention probabilities tensor\n",
    "        \n",
    "        first_state = [[dec_start], states_stacked, mask, first_attn_probas]\n",
    "        return first_state\n",
    "    \n",
    "    @tf.function\n",
    "    def decode_step(self, prev_state, prev_tokens, **flags):\n",
    "        \"\"\"\n",
    "        Takes previous decoder state and tokens, returns new state and logits for next tokens\n",
    "        :param prev_state: a list of previous decoder state tensors\n",
    "        :param prev_tokens: previous output tokens, an int vector of [batch_size]\n",
    "        :return: a list of next decoder state tensors, a tensor of logits [batch, n_tokens]\n",
    "        \"\"\"\n",
    "        dec_state, emb_states, emb_mask, prev_probs = prev_state\n",
    "        out_emb = self.emb_out(prev_tokens) # [batch, emb_size]\n",
    "        output, new_dec_state = self.dec0(out_emb, dec_state) # [batch, hid_size], list([batch, hid_size])\n",
    "        attn, probs = self.attn(emb_states, new_dec_state, emb_mask) # [batch, hid_size], [batch, attn_size]\n",
    "        \n",
    "        \n",
    "        concat = self.concat([output, attn]) # [batch, 2*hid_size]\n",
    "        output_logits = self.logits(concat) # [batch, voc_size]\n",
    "        new_dec_state = [new_dec_state, emb_states, emb_mask, probs]\n",
    "        return new_dec_state, output_logits\n",
    "    \n",
    "    def decode(self, initial_state, out_tokens):\n",
    "        state = initial_state # some state\n",
    "        batch_size = out_tokens.shape[0]\n",
    "        \n",
    "        # initial logits: always predict BOS\n",
    "        first_logits = tf.math.log(\n",
    "            tf.one_hot(tf.fill([batch_size], self.out_voc.bos_ix), len(self.out_voc)) + 1e-30)\n",
    "        outputs = [first_logits]\n",
    "        \n",
    "        for i in tf.range(out_tokens.shape[1] - 1):\n",
    "            state, logits = self.decode_step(state, out_tokens[:, i])\n",
    "            outputs.append(logits)\n",
    "        \n",
    "        return tf.stack(outputs, axis=1)\n",
    "    \n",
    "    def decode_inference(self, initial_state, max_len=100, **flags):\n",
    "        \"\"\" Generate translations from model (greedy version) \"\"\"\n",
    "        state = initial_state # list([batch_size, hid_size])\n",
    "        outputs = [tf.ones(initial_state[0][0].shape[0], tf.int32) * self.out_voc.bos_ix]\n",
    "        all_states = [initial_state[0]] # list of lists\n",
    "\n",
    "        for i in tf.range(max_len):\n",
    "            state, logits = self.decode_step(state, outputs[-1])\n",
    "            outputs.append(tf.argmax(logits, axis=-1, output_type=tf.int32))\n",
    "            all_states.append(state)\n",
    "        \n",
    "        return tf.stack(outputs, axis=1), all_states\n"
   ]
  },
  {
   "cell_type": "markdown",
   "metadata": {
    "colab_type": "text",
    "id": "ryZCOTEslrtf"
   },
   "source": [
    "### Training attentive model\n",
    "\n",
    "Please reuse the infrastructure you've built for the regular model. I hope you didn't hard-code anything :)"
   ]
  },
  {
   "cell_type": "code",
   "execution_count": 28,
   "metadata": {
    "colab": {},
    "colab_type": "code",
    "id": "-YMHPgZxcFaQ"
   },
   "outputs": [],
   "source": [
    "model_attn = AttentiveModel(\"attn_model\", inp_voc, out_voc)"
   ]
  },
  {
   "cell_type": "code",
   "execution_count": 29,
   "metadata": {},
   "outputs": [],
   "source": [
    "dummy_inp = tf.convert_to_tensor(inp_voc.to_matrix(train_inp[:3]))\n",
    "dummy_out = tf.convert_to_tensor(out_voc.to_matrix(train_out[:3]))\n",
    "dummy_logits = model_attn(dummy_inp, dummy_out)\n",
    "ref_shape = (dummy_out.shape[0], dummy_out.shape[1], len(out_voc))\n",
    "assert dummy_logits.shape == ref_shape, \"Your logits shape should be {} but got {}\".format(dummy_logits.shape, ref_shape)\n",
    "assert all(dummy_logits[:, 0].numpy().argmax(-1) == out_voc.bos_ix), \"first step must always be BOS\""
   ]
  },
  {
   "cell_type": "code",
   "execution_count": 30,
   "metadata": {},
   "outputs": [
    {
     "name": "stdout",
     "output_type": "stream",
     "text": [
      "Loss: tf.Tensor(8.424237, shape=(), dtype=float32)\n"
     ]
    }
   ],
   "source": [
    "dummy_loss = compute_loss(model_attn, dummy_inp, dummy_out)\n",
    "print(\"Loss:\", dummy_loss)"
   ]
  },
  {
   "cell_type": "code",
   "execution_count": 31,
   "metadata": {},
   "outputs": [
    {
     "name": "stdout",
     "output_type": "stream",
     "text": [
      "Wall time: 5.5 s\n"
     ]
    },
    {
     "data": {
      "text/plain": [
       "0.0017216252933575633"
      ]
     },
     "execution_count": 31,
     "metadata": {},
     "output_type": "execute_result"
    }
   ],
   "source": [
    "%%time\n",
    "compute_bleu(model_attn, dev_inp, dev_out)"
   ]
  },
  {
   "cell_type": "code",
   "execution_count": 32,
   "metadata": {},
   "outputs": [],
   "source": [
    "from IPython.display import clear_output\n",
    "from tqdm import tqdm, trange\n",
    "opt = keras.optimizers.Adam(1e-3)"
   ]
  },
  {
   "cell_type": "code",
   "execution_count": 34,
   "metadata": {},
   "outputs": [],
   "source": [
    "metrics_attn = {'train_loss': [], 'dev_bleu': [] }\n",
    "batch_size_attn = 64\n",
    "iterations_attn = 10000 "
   ]
  },
  {
   "cell_type": "code",
   "execution_count": 35,
   "metadata": {},
   "outputs": [
    {
     "data": {
      "image/png": "[encoded data removed]",
      "text/plain": [
       "<Figure size 864x288 with 2 Axes>"
      ]
     },
     "metadata": {
      "needs_background": "light"
     },
     "output_type": "display_data"
    },
    {
     "name": "stdout",
     "output_type": "stream",
     "text": [
      "Mean loss=1.400\n"
     ]
    },
    {
     "name": "stderr",
     "output_type": "stream",
     "text": [
      "100%|██████████| 10000/10000 [1:23:32<00:00,  2.01s/it]\n"
     ]
    }
   ],
   "source": [
    "train_loop(model_attn, batch_size_attn, iterations_attn, metrics_attn, opt)"
   ]
  },
  {
   "cell_type": "code",
   "execution_count": 36,
   "metadata": {},
   "outputs": [
    {
     "data": {
      "text/plain": [
       "24.208194590905485"
      ]
     },
     "execution_count": 36,
     "metadata": {},
     "output_type": "execute_result"
    }
   ],
   "source": [
    "np.mean(metrics_attn['dev_bleu'][-10:], axis=0)[1]"
   ]
  },
  {
   "cell_type": "code",
   "execution_count": 37,
   "metadata": {},
   "outputs": [],
   "source": [
    "with open('attn_weights.pkl', 'wb') as f:\n",
    "    pickle.dump(model_attn.get_weights(), f)"
   ]
  },
  {
   "cell_type": "code",
   "execution_count": 41,
   "metadata": {},
   "outputs": [],
   "source": [
    "with open('attn_model.pkl', 'wb') as f:\n",
    "    pickle.dump(metrics_attn, f)"
   ]
  },
  {
   "cell_type": "code",
   "execution_count": 39,
   "metadata": {},
   "outputs": [
    {
     "name": "stdout",
     "output_type": "stream",
     "text": [
      "в распоряжении гостей общая кухня и общая гостиная .\n",
      "there is a shared kitchen , and a shared kitchen at the property .\n",
      "\n",
      "кроме того , предоставляется прокат велосипедов , услуги трансфера и бесплатная парковка .\n",
      "car hire is available at the property and free parking is available on site .\n",
      "\n",
      "расстояние до города ки@@ сси@@ м@@ ми составляет 26 км .\n",
      "corri@@ entes town centre is 40 km from the property .\n",
      "\n",
      "апартаменты в пент@@ хаусе с общим открытым бассейном , садом , кондиционером и террасой для загара расположены в 5 минутах ходьбы от пляжа на курорте ка@@ бо - рой .\n",
      "located in the centre of alghero , just a 15 - minute walk from the beach , the property offers a garden with a sun terrace and a sun terrace .\n",
      "\n",
      "апартаменты mo@@ s@@ co@@ w point - loft red square находятся в москве , в 200 метрах от большого театра .\n",
      "apartment in saint - emil@@ skaya - style apartments offers accommodation in tallinn , 1 . 5 km from the centre of the savior on spilled blood .\n",
      "\n",
      "в вашем распоряжении собственная ванная комната с душем и полотенцами .\n",
      "featuring a shower , private bathrooms also come with a hairdryer .\n",
      "\n"
     ]
    }
   ],
   "source": [
    "for inp_line, trans_line in zip(dev_inp[::500], model.translate_lines(dev_inp[::500])[0]):\n",
    "    print(inp_line)\n",
    "    print(trans_line)\n",
    "    print()"
   ]
  },
  {
   "cell_type": "code",
   "execution_count": null,
   "metadata": {},
   "outputs": [],
   "source": []
  },
  {
   "cell_type": "markdown",
   "metadata": {},
   "source": [
    "### Visualizing model attention (1 point)\n",
    "\n",
    "After training the attentive translation model, you can check it's sanity by visualizing its attention weights.\n",
    "\n",
    "We provided you with a function that draws attention maps using [`Bokeh`](https://bokeh.pydata.org/en/latest/index.html). Once you managed to produce something better than random noise, please save at least 3 attention maps and __submit them to anytask__ alongside this notebook to get the max grade. Saving bokeh figures as __cell outputs is not enough!__ (TAs can't see saved bokeh figures in anytask). You can save bokeh images as screenshots or using this button:\n",
    "\n",
    "![bokeh_panel](https://github.com/yandexdataschool/nlp_course/raw/2019/resources/bokeh_panel.png)\n",
    "\n",
    "__Note:__ you're not locked into using bokeh. If you prefer a different visualization method, feel free to use that instead of bokeh."
   ]
  },
  {
   "cell_type": "code",
   "execution_count": 50,
   "metadata": {},
   "outputs": [
    {
     "data": {
      "text/html": [
       "\n",
       "    <div class=\"bk-root\">\n",
       "        <a href=\"https://bokeh.pydata.org\" target=\"_blank\" class=\"bk-logo bk-logo-small bk-logo-notebook\"></a>\n",
       "        <span id=\"1001\">Loading BokehJS ...</span>\n",
       "    </div>"
      ]
     },
     "metadata": {},
     "output_type": "display_data"
    },
    {
     "data": {
      "application/javascript": [
       "\n",
       "(function(root) {\n",
       "  function now() {\n",
       "    return new Date();\n",
       "  }\n",
       "\n",
       "  var force = true;\n",
       "\n",
       "  if (typeof root._bokeh_onload_callbacks === \"undefined\" || force === true) {\n",
       "    root._bokeh_onload_callbacks = [];\n",
       "    root._bokeh_is_loading = undefined;\n",
       "  }\n",
       "\n",
       "  var JS_MIME_TYPE = 'application/javascript';\n",
       "  var HTML_MIME_TYPE = 'text/html';\n",
       "  var EXEC_MIME_TYPE = 'application/vnd.bokehjs_exec.v0+json';\n",
       "  var CLASS_NAME = 'output_bokeh rendered_html';\n",
       "\n",
       "  /**\n",
       "   * Render data to the DOM node\n",
       "   */\n",
       "  function render(props, node) {\n",
       "    var script = document.createElement(\"script\");\n",
       "    node.appendChild(script);\n",
       "  }\n",
       "\n",
       "  /**\n",
       "   * Handle when an output is cleared or removed\n",
       "   */\n",
       "  function handleClearOutput(event, handle) {\n",
       "    var cell = handle.cell;\n",
       "\n",
       "    var id = cell.output_area._bokeh_element_id;\n",
       "    var server_id = cell.output_area._bokeh_server_id;\n",
       "    // Clean up Bokeh references\n",
       "    if (id != null && id in Bokeh.index) {\n",
       "      Bokeh.index[id].model.document.clear();\n",
       "      delete Bokeh.index[id];\n",
       "    }\n",
       "\n",
       "    if (server_id !== undefined) {\n",
       "      // Clean up Bokeh references\n",
       "      var cmd = \"from bokeh.io.state import curstate; print(curstate().uuid_to_server['\" + server_id + \"'].get_sessions()[0].document.roots[0]._id)\";\n",
       "      cell.notebook.kernel.execute(cmd, {\n",
       "        iopub: {\n",
       "          output: function(msg) {\n",
       "            var id = msg.content.text.trim();\n",
       "            if (id in Bokeh.index) {\n",
       "              Bokeh.index[id].model.document.clear();\n",
       "              delete Bokeh.index[id];\n",
       "            }\n",
       "          }\n",
       "        }\n",
       "      });\n",
       "      // Destroy server and session\n",
       "      var cmd = \"import bokeh.io.notebook as ion; ion.destroy_server('\" + server_id + \"')\";\n",
       "      cell.notebook.kernel.execute(cmd);\n",
       "    }\n",
       "  }\n",
       "\n",
       "  /**\n",
       "   * Handle when a new output is added\n",
       "   */\n",
       "  function handleAddOutput(event, handle) {\n",
       "    var output_area = handle.output_area;\n",
       "    var output = handle.output;\n",
       "\n",
       "    // limit handleAddOutput to display_data with EXEC_MIME_TYPE content only\n",
       "    if ((output.output_type != \"display_data\") || (!output.data.hasOwnProperty(EXEC_MIME_TYPE))) {\n",
       "      return\n",
       "    }\n",
       "\n",
       "    var toinsert = output_area.element.find(\".\" + CLASS_NAME.split(' ')[0]);\n",
       "\n",
       "    if (output.metadata[EXEC_MIME_TYPE][\"id\"] !== undefined) {\n",
       "      toinsert[toinsert.length - 1].firstChild.textContent = output.data[JS_MIME_TYPE];\n",
       "      // store reference to embed id on output_area\n",
       "      output_area._bokeh_element_id = output.metadata[EXEC_MIME_TYPE][\"id\"];\n",
       "    }\n",
       "    if (output.metadata[EXEC_MIME_TYPE][\"server_id\"] !== undefined) {\n",
       "      var bk_div = document.createElement(\"div\");\n",
       "      bk_div.innerHTML = output.data[HTML_MIME_TYPE];\n",
       "      var script_attrs = bk_div.children[0].attributes;\n",
       "      for (var i = 0; i < script_attrs.length; i++) {\n",
       "        toinsert[toinsert.length - 1].firstChild.setAttribute(script_attrs[i].name, script_attrs[i].value);\n",
       "      }\n",
       "      // store reference to server id on output_area\n",
       "      output_area._bokeh_server_id = output.metadata[EXEC_MIME_TYPE][\"server_id\"];\n",
       "    }\n",
       "  }\n",
       "\n",
       "  function register_renderer(events, OutputArea) {\n",
       "\n",
       "    function append_mime(data, metadata, element) {\n",
       "      // create a DOM node to render to\n",
       "      var toinsert = this.create_output_subarea(\n",
       "        metadata,\n",
       "        CLASS_NAME,\n",
       "        EXEC_MIME_TYPE\n",
       "      );\n",
       "      this.keyboard_manager.register_events(toinsert);\n",
       "      // Render to node\n",
       "      var props = {data: data, metadata: metadata[EXEC_MIME_TYPE]};\n",
       "      render(props, toinsert[toinsert.length - 1]);\n",
       "      element.append(toinsert);\n",
       "      return toinsert\n",
       "    }\n",
       "\n",
       "    /* Handle when an output is cleared or removed */\n",
       "    events.on('clear_output.CodeCell', handleClearOutput);\n",
       "    events.on('delete.Cell', handleClearOutput);\n",
       "\n",
       "    /* Handle when a new output is added */\n",
       "    events.on('output_added.OutputArea', handleAddOutput);\n",
       "\n",
       "    /**\n",
       "     * Register the mime type and append_mime function with output_area\n",
       "     */\n",
       "    OutputArea.prototype.register_mime_type(EXEC_MIME_TYPE, append_mime, {\n",
       "      /* Is output safe? */\n",
       "      safe: true,\n",
       "      /* Index of renderer in `output_area.display_order` */\n",
       "      index: 0\n",
       "    });\n",
       "  }\n",
       "\n",
       "  // register the mime type if in Jupyter Notebook environment and previously unregistered\n",
       "  if (root.Jupyter !== undefined) {\n",
       "    var events = require('base/js/events');\n",
       "    var OutputArea = require('notebook/js/outputarea').OutputArea;\n",
       "\n",
       "    if (OutputArea.prototype.mime_types().indexOf(EXEC_MIME_TYPE) == -1) {\n",
       "      register_renderer(events, OutputArea);\n",
       "    }\n",
       "  }\n",
       "\n",
       "  \n",
       "  if (typeof (root._bokeh_timeout) === \"undefined\" || force === true) {\n",
       "    root._bokeh_timeout = Date.now() + 5000;\n",
       "    root._bokeh_failed_load = false;\n",
       "  }\n",
       "\n",
       "  var NB_LOAD_WARNING = {'data': {'text/html':\n",
       "     \"<div style='background-color: #fdd'>\\n\"+\n",
       "     \"<p>\\n\"+\n",
       "     \"BokehJS does not appear to have successfully loaded. If loading BokehJS from CDN, this \\n\"+\n",
       "     \"may be due to a slow or bad network connection. Possible fixes:\\n\"+\n",
       "     \"</p>\\n\"+\n",
       "     \"<ul>\\n\"+\n",
       "     \"<li>re-rerun `output_notebook()` to attempt to load from CDN again, or</li>\\n\"+\n",
       "     \"<li>use INLINE resources instead, as so:</li>\\n\"+\n",
       "     \"</ul>\\n\"+\n",
       "     \"<code>\\n\"+\n",
       "     \"from bokeh.resources import INLINE\\n\"+\n",
       "     \"output_notebook(resources=INLINE)\\n\"+\n",
       "     \"</code>\\n\"+\n",
       "     \"</div>\"}};\n",
       "\n",
       "  function display_loaded() {\n",
       "    var el = document.getElementById(\"1001\");\n",
       "    if (el != null) {\n",
       "      el.textContent = \"BokehJS is loading...\";\n",
       "    }\n",
       "    if (root.Bokeh !== undefined) {\n",
       "      if (el != null) {\n",
       "        el.textContent = \"BokehJS \" + root.Bokeh.version + \" successfully loaded.\";\n",
       "      }\n",
       "    } else if (Date.now() < root._bokeh_timeout) {\n",
       "      setTimeout(display_loaded, 100)\n",
       "    }\n",
       "  }\n",
       "\n",
       "\n",
       "  function run_callbacks() {\n",
       "    try {\n",
       "      root._bokeh_onload_callbacks.forEach(function(callback) {\n",
       "        if (callback != null)\n",
       "          callback();\n",
       "      });\n",
       "    } finally {\n",
       "      delete root._bokeh_onload_callbacks\n",
       "    }\n",
       "    console.debug(\"Bokeh: all callbacks have finished\");\n",
       "  }\n",
       "\n",
       "  function load_libs(css_urls, js_urls, callback) {\n",
       "    if (css_urls == null) css_urls = [];\n",
       "    if (js_urls == null) js_urls = [];\n",
       "\n",
       "    root._bokeh_onload_callbacks.push(callback);\n",
       "    if (root._bokeh_is_loading > 0) {\n",
       "      console.debug(\"Bokeh: BokehJS is being loaded, scheduling callback at\", now());\n",
       "      return null;\n",
       "    }\n",
       "    if (js_urls == null || js_urls.length === 0) {\n",
       "      run_callbacks();\n",
       "      return null;\n",
       "    }\n",
       "    console.debug(\"Bokeh: BokehJS not loaded, scheduling load and callback at\", now());\n",
       "    root._bokeh_is_loading = css_urls.length + js_urls.length;\n",
       "\n",
       "    function on_load() {\n",
       "      root._bokeh_is_loading--;\n",
       "      if (root._bokeh_is_loading === 0) {\n",
       "        console.debug(\"Bokeh: all BokehJS libraries/stylesheets loaded\");\n",
       "        run_callbacks()\n",
       "      }\n",
       "    }\n",
       "\n",
       "    function on_error() {\n",
       "      console.error(\"failed to load \" + url);\n",
       "    }\n",
       "\n",
       "    for (var i = 0; i < css_urls.length; i++) {\n",
       "      var url = css_urls[i];\n",
       "      const element = document.createElement(\"link\");\n",
       "      element.onload = on_load;\n",
       "      element.onerror = on_error;\n",
       "      element.rel = \"stylesheet\";\n",
       "      element.type = \"text/css\";\n",
       "      element.href = url;\n",
       "      console.debug(\"Bokeh: injecting link tag for BokehJS stylesheet: \", url);\n",
       "      document.body.appendChild(element);\n",
       "    }\n",
       "\n",
       "    for (var i = 0; i < js_urls.length; i++) {\n",
       "      var url = js_urls[i];\n",
       "      var element = document.createElement('script');\n",
       "      element.onload = on_load;\n",
       "      element.onerror = on_error;\n",
       "      element.async = false;\n",
       "      element.src = url;\n",
       "      console.debug(\"Bokeh: injecting script tag for BokehJS library: \", url);\n",
       "      document.head.appendChild(element);\n",
       "    }\n",
       "  };var element = document.getElementById(\"1001\");\n",
       "  if (element == null) {\n",
       "    console.error(\"Bokeh: ERROR: autoload.js configured with elementid '1001' but no matching script tag was found. \")\n",
       "    return false;\n",
       "  }\n",
       "\n",
       "  function inject_raw_css(css) {\n",
       "    const element = document.createElement(\"style\");\n",
       "    element.appendChild(document.createTextNode(css));\n",
       "    document.body.appendChild(element);\n",
       "  }\n",
       "\n",
       "  var js_urls = [\"https://cdn.pydata.org/bokeh/release/bokeh-1.2.0.min.js\", \"https://cdn.pydata.org/bokeh/release/bokeh-widgets-1.2.0.min.js\", \"https://cdn.pydata.org/bokeh/release/bokeh-tables-1.2.0.min.js\", \"https://cdn.pydata.org/bokeh/release/bokeh-gl-1.2.0.min.js\"];\n",
       "  var css_urls = [\"https://cdn.pydata.org/bokeh/release/bokeh-1.2.0.min.css\", \"https://cdn.pydata.org/bokeh/release/bokeh-widgets-1.2.0.min.css\", \"https://cdn.pydata.org/bokeh/release/bokeh-tables-1.2.0.min.css\"];\n",
       "\n",
       "  var inline_js = [\n",
       "    function(Bokeh) {\n",
       "      Bokeh.set_log_level(\"info\");\n",
       "    },\n",
       "    \n",
       "    function(Bokeh) {\n",
       "      \n",
       "    },\n",
       "    function(Bokeh) {} // ensure no trailing comma for IE\n",
       "  ];\n",
       "\n",
       "  function run_inline_js() {\n",
       "    \n",
       "    if ((root.Bokeh !== undefined) || (force === true)) {\n",
       "      for (var i = 0; i < inline_js.length; i++) {\n",
       "        inline_js[i].call(root, root.Bokeh);\n",
       "      }if (force === true) {\n",
       "        display_loaded();\n",
       "      }} else if (Date.now() < root._bokeh_timeout) {\n",
       "      setTimeout(run_inline_js, 100);\n",
       "    } else if (!root._bokeh_failed_load) {\n",
       "      console.log(\"Bokeh: BokehJS failed to load within specified timeout.\");\n",
       "      root._bokeh_failed_load = true;\n",
       "    } else if (force !== true) {\n",
       "      var cell = $(document.getElementById(\"1001\")).parents('.cell').data().cell;\n",
       "      cell.output_area.append_execute_result(NB_LOAD_WARNING)\n",
       "    }\n",
       "\n",
       "  }\n",
       "\n",
       "  if (root._bokeh_is_loading === 0) {\n",
       "    console.debug(\"Bokeh: BokehJS loaded, going straight to plotting\");\n",
       "    run_inline_js();\n",
       "  } else {\n",
       "    load_libs(css_urls, js_urls, function() {\n",
       "      console.debug(\"Bokeh: BokehJS plotting callback run at\", now());\n",
       "      run_inline_js();\n",
       "    });\n",
       "  }\n",
       "}(window));"
      ],
      "application/vnd.bokehjs_load.v0+json": "\n(function(root) {\n  function now() {\n    return new Date();\n  }\n\n  var force = true;\n\n  if (typeof root._bokeh_onload_callbacks === \"undefined\" || force === true) {\n    root._bokeh_onload_callbacks = [];\n    root._bokeh_is_loading = undefined;\n  }\n\n  \n\n  \n  if (typeof (root._bokeh_timeout) === \"undefined\" || force === true) {\n    root._bokeh_timeout = Date.now() + 5000;\n    root._bokeh_failed_load = false;\n  }\n\n  var NB_LOAD_WARNING = {'data': {'text/html':\n     \"<div style='background-color: #fdd'>\\n\"+\n     \"<p>\\n\"+\n     \"BokehJS does not appear to have successfully loaded. If loading BokehJS from CDN, this \\n\"+\n     \"may be due to a slow or bad network connection. Possible fixes:\\n\"+\n     \"</p>\\n\"+\n     \"<ul>\\n\"+\n     \"<li>re-rerun `output_notebook()` to attempt to load from CDN again, or</li>\\n\"+\n     \"<li>use INLINE resources instead, as so:</li>\\n\"+\n     \"</ul>\\n\"+\n     \"<code>\\n\"+\n     \"from bokeh.resources import INLINE\\n\"+\n     \"output_notebook(resources=INLINE)\\n\"+\n     \"</code>\\n\"+\n     \"</div>\"}};\n\n  function display_loaded() {\n    var el = document.getElementById(\"1001\");\n    if (el != null) {\n      el.textContent = \"BokehJS is loading...\";\n    }\n    if (root.Bokeh !== undefined) {\n      if (el != null) {\n        el.textContent = \"BokehJS \" + root.Bokeh.version + \" successfully loaded.\";\n      }\n    } else if (Date.now() < root._bokeh_timeout) {\n      setTimeout(display_loaded, 100)\n    }\n  }\n\n\n  function run_callbacks() {\n    try {\n      root._bokeh_onload_callbacks.forEach(function(callback) {\n        if (callback != null)\n          callback();\n      });\n    } finally {\n      delete root._bokeh_onload_callbacks\n    }\n    console.debug(\"Bokeh: all callbacks have finished\");\n  }\n\n  function load_libs(css_urls, js_urls, callback) {\n    if (css_urls == null) css_urls = [];\n    if (js_urls == null) js_urls = [];\n\n    root._bokeh_onload_callbacks.push(callback);\n    if (root._bokeh_is_loading > 0) {\n      console.debug(\"Bokeh: BokehJS is being loaded, scheduling callback at\", now());\n      return null;\n    }\n    if (js_urls == null || js_urls.length === 0) {\n      run_callbacks();\n      return null;\n    }\n    console.debug(\"Bokeh: BokehJS not loaded, scheduling load and callback at\", now());\n    root._bokeh_is_loading = css_urls.length + js_urls.length;\n\n    function on_load() {\n      root._bokeh_is_loading--;\n      if (root._bokeh_is_loading === 0) {\n        console.debug(\"Bokeh: all BokehJS libraries/stylesheets loaded\");\n        run_callbacks()\n      }\n    }\n\n    function on_error() {\n      console.error(\"failed to load \" + url);\n    }\n\n    for (var i = 0; i < css_urls.length; i++) {\n      var url = css_urls[i];\n      const element = document.createElement(\"link\");\n      element.onload = on_load;\n      element.onerror = on_error;\n      element.rel = \"stylesheet\";\n      element.type = \"text/css\";\n      element.href = url;\n      console.debug(\"Bokeh: injecting link tag for BokehJS stylesheet: \", url);\n      document.body.appendChild(element);\n    }\n\n    for (var i = 0; i < js_urls.length; i++) {\n      var url = js_urls[i];\n      var element = document.createElement('script');\n      element.onload = on_load;\n      element.onerror = on_error;\n      element.async = false;\n      element.src = url;\n      console.debug(\"Bokeh: injecting script tag for BokehJS library: \", url);\n      document.head.appendChild(element);\n    }\n  };var element = document.getElementById(\"1001\");\n  if (element == null) {\n    console.error(\"Bokeh: ERROR: autoload.js configured with elementid '1001' but no matching script tag was found. \")\n    return false;\n  }\n\n  function inject_raw_css(css) {\n    const element = document.createElement(\"style\");\n    element.appendChild(document.createTextNode(css));\n    document.body.appendChild(element);\n  }\n\n  var js_urls = [\"https://cdn.pydata.org/bokeh/release/bokeh-1.2.0.min.js\", \"https://cdn.pydata.org/bokeh/release/bokeh-widgets-1.2.0.min.js\", \"https://cdn.pydata.org/bokeh/release/bokeh-tables-1.2.0.min.js\", \"https://cdn.pydata.org/bokeh/release/bokeh-gl-1.2.0.min.js\"];\n  var css_urls = [\"https://cdn.pydata.org/bokeh/release/bokeh-1.2.0.min.css\", \"https://cdn.pydata.org/bokeh/release/bokeh-widgets-1.2.0.min.css\", \"https://cdn.pydata.org/bokeh/release/bokeh-tables-1.2.0.min.css\"];\n\n  var inline_js = [\n    function(Bokeh) {\n      Bokeh.set_log_level(\"info\");\n    },\n    \n    function(Bokeh) {\n      \n    },\n    function(Bokeh) {} // ensure no trailing comma for IE\n  ];\n\n  function run_inline_js() {\n    \n    if ((root.Bokeh !== undefined) || (force === true)) {\n      for (var i = 0; i < inline_js.length; i++) {\n        inline_js[i].call(root, root.Bokeh);\n      }if (force === true) {\n        display_loaded();\n      }} else if (Date.now() < root._bokeh_timeout) {\n      setTimeout(run_inline_js, 100);\n    } else if (!root._bokeh_failed_load) {\n      console.log(\"Bokeh: BokehJS failed to load within specified timeout.\");\n      root._bokeh_failed_load = true;\n    } else if (force !== true) {\n      var cell = $(document.getElementById(\"1001\")).parents('.cell').data().cell;\n      cell.output_area.append_execute_result(NB_LOAD_WARNING)\n    }\n\n  }\n\n  if (root._bokeh_is_loading === 0) {\n    console.debug(\"Bokeh: BokehJS loaded, going straight to plotting\");\n    run_inline_js();\n  } else {\n    load_libs(css_urls, js_urls, function() {\n      console.debug(\"Bokeh: BokehJS plotting callback run at\", now());\n      run_inline_js();\n    });\n  }\n}(window));"
     },
     "metadata": {},
     "output_type": "display_data"
    }
   ],
   "source": [
    "import bokeh.plotting as pl\n",
    "import bokeh.models as bm\n",
    "from bokeh.io import output_notebook, show\n",
    "output_notebook()\n",
    "\n",
    "def draw_attention(inp_line, translation, probs):\n",
    "    \"\"\" An intentionally ambiguous function to visualize attention weights \"\"\"\n",
    "    inp_tokens = inp_voc.tokenize(inp_line)\n",
    "    trans_tokens = out_voc.tokenize(translation)\n",
    "    probs = probs[:len(trans_tokens), :len(inp_tokens)]\n",
    "    \n",
    "    fig = pl.figure(x_range=(0, len(inp_tokens)), y_range=(0, len(trans_tokens)),\n",
    "                    x_axis_type=None, y_axis_type=None, tools=[])\n",
    "    fig.image([probs[::-1]], 0, 0, len(inp_tokens), len(trans_tokens))\n",
    "\n",
    "    fig.add_layout(bm.LinearAxis(axis_label='source tokens'), 'above')\n",
    "    fig.xaxis.ticker = np.arange(len(inp_tokens)) + 0.5\n",
    "    fig.xaxis.major_label_overrides = dict(zip(np.arange(len(inp_tokens)) + 0.5, inp_tokens))\n",
    "    fig.xaxis.major_label_orientation = 45\n",
    "\n",
    "    fig.add_layout(bm.LinearAxis(axis_label='translation tokens'), 'left')\n",
    "    fig.yaxis.ticker = np.arange(len(trans_tokens)) + 0.5\n",
    "    fig.yaxis.major_label_overrides = dict(zip(np.arange(len(trans_tokens)) + 0.5, trans_tokens[::-1]))\n",
    "\n",
    "    show(fig)"
   ]
  },
  {
   "cell_type": "code",
   "execution_count": 68,
   "metadata": {},
   "outputs": [],
   "source": [
    "inp = dev_inp[::500]\n",
    "trans, states = model.translate_lines(inp)\n",
    "# select attention probs from model state (you may need to change this for your custom model)\n",
    "# attention_probs below must have shape [batch_size, translation_length, input_length], extracted from states\n",
    "# e.g. if attention probs are at the end of each state, use np.stack([state[-1] for state in states], axis=1)\n"
   ]
  },
  {
   "cell_type": "code",
   "execution_count": 69,
   "metadata": {},
   "outputs": [],
   "source": [
    "stacked = np.stack([state[-1] for state in states], axis=1)"
   ]
  },
  {
   "cell_type": "code",
   "execution_count": 70,
   "metadata": {},
   "outputs": [],
   "source": [
    "attention_probs = np.stack([state[-1] for state in states], axis=1)"
   ]
  },
  {
   "cell_type": "code",
   "execution_count": 71,
   "metadata": {},
   "outputs": [
    {
     "data": {
      "text/html": [
       "\n",
       "\n",
       "\n",
       "\n",
       "\n",
       "\n",
       "  <div class=\"bk-root\" id=\"019ec0e3-bf68-425e-b00e-05ad04b524d5\" data-root-id=\"4218\"></div>\n"
      ]
     },
     "metadata": {},
     "output_type": "display_data"
    },
    {
     "data": {
      "application/javascript": [
       "(function(root) {\n",
       "  function embed_document(root) {\n",
       "    \n",
       "  var docs_json = {\"893e70d3-8b06-4b58-a18d-7fe403addfa6\":{\"roots\":{\"references\":[{\"attributes\":{\"above\":[{\"id\":\"4235\",\"type\":\"LinearAxis\"}],\"left\":[{\"id\":\"4238\",\"type\":\"LinearAxis\"}],\"renderers\":[{\"id\":\"4233\",\"type\":\"GlyphRenderer\"}],\"title\":{\"id\":\"4386\",\"type\":\"Title\"},\"toolbar\":{\"id\":\"4227\",\"type\":\"Toolbar\"},\"x_range\":{\"id\":\"4219\",\"type\":\"Range1d\"},\"x_scale\":{\"id\":\"4223\",\"type\":\"LinearScale\"},\"y_range\":{\"id\":\"4221\",\"type\":\"Range1d\"},\"y_scale\":{\"id\":\"4225\",\"type\":\"LinearScale\"}},\"id\":\"4218\",\"subtype\":\"Figure\",\"type\":\"Plot\"},{\"attributes\":{\"color_mapper\":{\"id\":\"4232\",\"type\":\"LinearColorMapper\"},\"dh\":{\"units\":\"data\",\"value\":16},\"dw\":{\"units\":\"data\",\"value\":11},\"image\":{\"field\":\"image\"},\"x\":{\"value\":0},\"y\":{\"value\":0}},\"id\":\"4231\",\"type\":\"Image\"},{\"attributes\":{},\"id\":\"4389\",\"type\":\"Selection\"},{\"attributes\":{},\"id\":\"4390\",\"type\":\"UnionRenderers\"},{\"attributes\":{\"palette\":[\"#000000\",\"#252525\",\"#525252\",\"#737373\",\"#969696\",\"#bdbdbd\",\"#d9d9d9\",\"#f0f0f0\",\"#ffffff\"]},\"id\":\"4230\",\"type\":\"LinearColorMapper\"},{\"attributes\":{\"text\":\"\"},\"id\":\"4386\",\"type\":\"Title\"},{\"attributes\":{\"axis_label\":\"source tokens\",\"formatter\":{\"id\":\"4388\",\"type\":\"BasicTickFormatter\"},\"major_label_orientation\":45,\"major_label_overrides\":{\"0.5\":\"_BOS_\",\"1.5\":\"\\u0432\",\"10.5\":\"_EOS_\",\"2.5\":\"\\u0440\\u0430\\u0441\\u043f\\u043e\\u0440\\u044f\\u0436\\u0435\\u043d\\u0438\\u0438\",\"3.5\":\"\\u0433\\u043e\\u0441\\u0442\\u0435\\u0439\",\"4.5\":\"\\u043e\\u0431\\u0449\\u0430\\u044f\",\"5.5\":\"\\u043a\\u0443\\u0445\\u043d\\u044f\",\"6.5\":\"\\u0438\",\"7.5\":\"\\u043e\\u0431\\u0449\\u0430\\u044f\",\"8.5\":\"\\u0433\\u043e\\u0441\\u0442\\u0438\\u043d\\u0430\\u044f\",\"9.5\":\".\"},\"ticker\":{\"id\":\"4236\",\"type\":\"FixedTicker\"}},\"id\":\"4235\",\"type\":\"LinearAxis\"},{\"attributes\":{\"ticks\":[0.5,1.5,2.5,3.5,4.5,5.5,6.5,7.5,8.5,9.5,10.5]},\"id\":\"4236\",\"type\":\"FixedTicker\"},{\"attributes\":{\"data_source\":{\"id\":\"4228\",\"type\":\"ColumnDataSource\"},\"glyph\":{\"id\":\"4229\",\"type\":\"Image\"},\"hover_glyph\":null,\"muted_glyph\":null,\"nonselection_glyph\":{\"id\":\"4231\",\"type\":\"Image\"},\"selection_glyph\":null,\"view\":{\"id\":\"4234\",\"type\":\"CDSView\"}},\"id\":\"4233\",\"type\":\"GlyphRenderer\"},{\"attributes\":{\"callback\":null,\"data\":{\"image\":[{\"__ndarray__\":\"A+wpP4MUf7/kMn0/znlrP+L0f7/A8X2/4Wl+v8GB5r4UJK2+bP1/P/ocfL/j1y0/xNm/vXx7wj5kzGa/Bqp9v7FBjL8axH+/InLivvrKsT52Wn0/hnSPPs56QT+W/38/PuJ/v9wdfz9aMjO/acWPvwwSRr9aWdW+lMRtP0iWf7/w/X4/rkhRP5f/fz/+/3+/afV/P2PkBj9x1KO/IvA+vzu30r6OM3I/Rl99vzpifj/wm0O/S/9/P9jHfz9cz2g/BddjP+xspL+kcX+/qFPRvrGUf7/1/38/0VZ1PzTHN7/a/X8/I9l7v8Q0Yj8++X+/035MwBJvGD8+J56+2i9/v6Abfz/lz3+/RV02v4T9fz9wQnY/+iV7P1HXqr5jmWfAI3NvP/W3kL7X+H+/Rj1hv2fqcr9u2DO/cP1/P1SEYT8S9Xw/ed17v1HrfsDXWXs/VnuQvvKXbb8Psn8/FItaP0UGQz9W/X8/g/9/P5QrfT/ACTQ9oHiNwM+rkb0Y2I6+OJfAvkbTeD+M/38/vPB/v1D5fz9D9X8/ABzePdRwZD80Z5LAm7x+vxrei74Kz3u///9/P5Qefj9613+/dud/P+cKf78CGTg/8/9/v8rjosAkJ/m+kgsQvuH9eb+3+n8/WRJ3v2Ozf7/Q5H8/h9h7P2FgYD+Bk2i/KZ2kwMH6Zj//M/O9mv9/v+bQf7+TYX+/XcBGv2vkfz/e/n8/jdEsv/71f7/qsKXAAACAP9Ky7r0vQH+/R0NZv3nmf78Z6H8///9/P5n/fz8alHY/7f5/P0PppcDPeX+/NfHsvbr/f78o7X8/dah+P6rIN7/7/38/AACAPzH6fz/NfGA+u627wDIBgL/4JNa9AACAv0ZLFD688jg/31HBPlxGWz9xuDNAvUFDwARI4z8ssLvAENjqvwMeGkDysJM/NQ8/wBD1sr8=\",\"dtype\":\"float32\",\"shape\":[16,11]}]},\"selected\":{\"id\":\"4389\",\"type\":\"Selection\"},\"selection_policy\":{\"id\":\"4390\",\"type\":\"UnionRenderers\"}},\"id\":\"4228\",\"type\":\"ColumnDataSource\"},{\"attributes\":{\"callback\":null,\"end\":11},\"id\":\"4219\",\"type\":\"Range1d\"},{\"attributes\":{\"source\":{\"id\":\"4228\",\"type\":\"ColumnDataSource\"}},\"id\":\"4234\",\"type\":\"CDSView\"},{\"attributes\":{\"callback\":null,\"end\":16},\"id\":\"4221\",\"type\":\"Range1d\"},{\"attributes\":{\"color_mapper\":{\"id\":\"4230\",\"type\":\"LinearColorMapper\"},\"dh\":{\"units\":\"data\",\"value\":16},\"dw\":{\"units\":\"data\",\"value\":11},\"image\":{\"field\":\"image\"},\"x\":{\"value\":0},\"y\":{\"value\":0}},\"id\":\"4229\",\"type\":\"Image\"},{\"attributes\":{\"axis_label\":\"translation tokens\",\"formatter\":{\"id\":\"4387\",\"type\":\"BasicTickFormatter\"},\"major_label_overrides\":{\"0.5\":\"_EOS_\",\"1.5\":\".\",\"10.5\":\"kitchen\",\"11.5\":\"shared\",\"12.5\":\"a\",\"13.5\":\"is\",\"14.5\":\"there\",\"15.5\":\"_BOS_\",\"2.5\":\"property\",\"3.5\":\"the\",\"4.5\":\"at\",\"5.5\":\"kitchen\",\"6.5\":\"shared\",\"7.5\":\"a\",\"8.5\":\"and\",\"9.5\":\",\"},\"ticker\":{\"id\":\"4239\",\"type\":\"FixedTicker\"}},\"id\":\"4238\",\"type\":\"LinearAxis\"},{\"attributes\":{\"palette\":[\"#000000\",\"#252525\",\"#525252\",\"#737373\",\"#969696\",\"#bdbdbd\",\"#d9d9d9\",\"#f0f0f0\",\"#ffffff\"]},\"id\":\"4232\",\"type\":\"LinearColorMapper\"},{\"attributes\":{},\"id\":\"4225\",\"type\":\"LinearScale\"},{\"attributes\":{},\"id\":\"4387\",\"type\":\"BasicTickFormatter\"},{\"attributes\":{\"active_drag\":\"auto\",\"active_inspect\":\"auto\",\"active_multi\":null,\"active_scroll\":\"auto\",\"active_tap\":\"auto\"},\"id\":\"4227\",\"type\":\"Toolbar\"},{\"attributes\":{\"ticks\":[0.5,1.5,2.5,3.5,4.5,5.5,6.5,7.5,8.5,9.5,10.5,11.5,12.5,13.5,14.5,15.5]},\"id\":\"4239\",\"type\":\"FixedTicker\"},{\"attributes\":{},\"id\":\"4223\",\"type\":\"LinearScale\"},{\"attributes\":{},\"id\":\"4388\",\"type\":\"BasicTickFormatter\"}],\"root_ids\":[\"4218\"]},\"title\":\"Bokeh Application\",\"version\":\"1.2.0\"}};\n",
       "  var render_items = [{\"docid\":\"893e70d3-8b06-4b58-a18d-7fe403addfa6\",\"roots\":{\"4218\":\"019ec0e3-bf68-425e-b00e-05ad04b524d5\"}}];\n",
       "  root.Bokeh.embed.embed_items_notebook(docs_json, render_items);\n",
       "\n",
       "  }\n",
       "  if (root.Bokeh !== undefined) {\n",
       "    embed_document(root);\n",
       "  } else {\n",
       "    var attempts = 0;\n",
       "    var timer = setInterval(function(root) {\n",
       "      if (root.Bokeh !== undefined) {\n",
       "        embed_document(root);\n",
       "        clearInterval(timer);\n",
       "      }\n",
       "      attempts++;\n",
       "      if (attempts > 100) {\n",
       "        console.log(\"Bokeh: ERROR: Unable to run BokehJS code because BokehJS library is missing\");\n",
       "        clearInterval(timer);\n",
       "      }\n",
       "    }, 10, root)\n",
       "  }\n",
       "})(window);"
      ],
      "application/vnd.bokehjs_exec.v0+json": ""
     },
     "metadata": {
      "application/vnd.bokehjs_exec.v0+json": {
       "id": "4218"
      }
     },
     "output_type": "display_data"
    },
    {
     "data": {
      "text/html": [
       "\n",
       "\n",
       "\n",
       "\n",
       "\n",
       "\n",
       "  <div class=\"bk-root\" id=\"270fce0a-67e7-4837-9a43-e592005b6589\" data-root-id=\"4427\"></div>\n"
      ]
     },
     "metadata": {},
     "output_type": "display_data"
    },
    {
     "data": {
      "application/javascript": [
       "(function(root) {\n",
       "  function embed_document(root) {\n",
       "    \n",
       "  var docs_json = {\"31d04eb7-ad99-442a-af67-548c10552523\":{\"roots\":{\"references\":[{\"attributes\":{\"above\":[{\"id\":\"4444\",\"type\":\"LinearAxis\"}],\"left\":[{\"id\":\"4447\",\"type\":\"LinearAxis\"}],\"renderers\":[{\"id\":\"4442\",\"type\":\"GlyphRenderer\"}],\"title\":{\"id\":\"4601\",\"type\":\"Title\"},\"toolbar\":{\"id\":\"4436\",\"type\":\"Toolbar\"},\"x_range\":{\"id\":\"4428\",\"type\":\"Range1d\"},\"x_scale\":{\"id\":\"4432\",\"type\":\"LinearScale\"},\"y_range\":{\"id\":\"4430\",\"type\":\"Range1d\"},\"y_scale\":{\"id\":\"4434\",\"type\":\"LinearScale\"}},\"id\":\"4427\",\"subtype\":\"Figure\",\"type\":\"Plot\"},{\"attributes\":{\"axis_label\":\"translation tokens\",\"formatter\":{\"id\":\"4602\",\"type\":\"BasicTickFormatter\"},\"major_label_overrides\":{\"0.5\":\"_EOS_\",\"1.5\":\".\",\"10.5\":\"the\",\"11.5\":\"at\",\"12.5\":\"available\",\"13.5\":\"is\",\"14.5\":\"hire\",\"15.5\":\"car\",\"16.5\":\"_BOS_\",\"2.5\":\"site\",\"3.5\":\"on\",\"4.5\":\"available\",\"5.5\":\"is\",\"6.5\":\"parking\",\"7.5\":\"free\",\"8.5\":\"and\",\"9.5\":\"property\"},\"ticker\":{\"id\":\"4448\",\"type\":\"FixedTicker\"}},\"id\":\"4447\",\"type\":\"LinearAxis\"},{\"attributes\":{\"source\":{\"id\":\"4437\",\"type\":\"ColumnDataSource\"}},\"id\":\"4443\",\"type\":\"CDSView\"},{\"attributes\":{\"callback\":null,\"data\":{\"image\":[{\"__ndarray__\":\"RuR/v7/mcr8AAIA/UmtmPwAAgL+POpe/D6Nsv7iHPj8o+n+/AACAP/jJf78AAIC/ueR/v0n/f7+X4X8/jKF+vwFIbD/Ex38/mSZ/v/3/f7/nGpu/nNh/v2YJPD+x93+/Vop/Px+uVz9Nq3y/BxpvvzD/f7+G7F4/XpN+v8g+bD9Cv3+/ZfV/P2+Hfb9E16C/9sB3v9DSOj+a93+/Bpl/v7Vner9hyH4//+J+vyX/f7/9d38/2h1wv6AebD+R/X8/bys2v27/f78r/KG/rrhmPxkmPT8U6X+/zP9/Pw5SZz/4/3+/4ZJLv8P+f78QYny//uXwPvrKaD9DLnU/LQt6v105eL8VM6O/Pf9/P3yUND+q4n+/CRW1PiD4Z78AAIC/6/p/P6Hif7+3NX2/iqAQP13FZj/0/38/oKSivoz7fz8/uai/NO9yv35SND+meX+/1f9/P1CLfz9CpX6/jc1/P73cf7+e536/DtcuP2AFHD81zn4/PHh/P/b/f7+ffMe/9bJ+P8IDCj8LR3y/e5R0v83/f7+N/3+/qvl/v929f78nE3O/nvJjP9JKGj+fNIG+lhE9v5L1f7/TiBbAxv1/P6a3HT+IgH2/btV/P4FNXD93JG2/yfR/P7aYf7+qOGO/qC8Ev4KDGT9C3Vc/fbRgv2L4fL8xKxjAhPd/v/Y0HT8AfH2/efN/P++4AT8a8Ga/eEN6P6SXf79+BGI//tEUPxf1fz/6yn6/Vq15PwAAgL8uPhnAbyB+vxBFBj/fWX2/Efl/vyEtfz/K5HE/WJN/vwmTf78b/tu+VAB6Pxr1fz/+/3+/Pj5+P7H/f78mcRrAWtt9vyV6Bj8wWX2/SKF/v1/tfj8FRyM/YVt/v6qSf79WKPs+7nh/vw71fz87Qn8/LT1Jv4H2f781dBrA2CzfvthBCD/8b3m/ift/P5XUVj/4+n+/FF1Iv5OQf7+d/H2/YBX8PWr9fz8RPH0/dLRKv0z1K79faRvA5P9/P/9jgT6y+3+/piFOv7/2f7/s6n+/Wvl/P8tRfL+Mpni/nKpeP1r7fz9u/X8/EK1FP8T+fz8xnRvAiFv3PirEfj4Bw3+/uf9/P8S4dj/+/3+/nLV+vy/Ie7+0+lA/SRd/PzDyfz9cBQy/ivlPv/4efz/slIfAn9l/v7AtHz67xn2/nPd9P6bV+D6iOlu/fIJ+P45/a79ZimS/0qp+v+Hffz9/ln8/CLRYPwyfp77NDY3AxFt/v44SID6ETzC+Z90TPuWNCD8mAIC/dAfuPWGywb4gIwO8DjgmPt5pOD4WQ98//STcv0UFF0DmFY3AQDmdv6x7or+9YrNAWg4cwDI2Xb5xtgjAFpUYvs/XtD+w4mU/\",\"dtype\":\"float32\",\"shape\":[17,15]}]},\"selected\":{\"id\":\"4604\",\"type\":\"Selection\"},\"selection_policy\":{\"id\":\"4605\",\"type\":\"UnionRenderers\"}},\"id\":\"4437\",\"type\":\"ColumnDataSource\"},{\"attributes\":{\"callback\":null,\"end\":17},\"id\":\"4430\",\"type\":\"Range1d\"},{\"attributes\":{\"callback\":null,\"end\":15},\"id\":\"4428\",\"type\":\"Range1d\"},{\"attributes\":{\"ticks\":[0.5,1.5,2.5,3.5,4.5,5.5,6.5,7.5,8.5,9.5,10.5,11.5,12.5,13.5,14.5,15.5,16.5]},\"id\":\"4448\",\"type\":\"FixedTicker\"},{\"attributes\":{\"active_drag\":\"auto\",\"active_inspect\":\"auto\",\"active_multi\":null,\"active_scroll\":\"auto\",\"active_tap\":\"auto\"},\"id\":\"4436\",\"type\":\"Toolbar\"},{\"attributes\":{},\"id\":\"4434\",\"type\":\"LinearScale\"},{\"attributes\":{\"text\":\"\"},\"id\":\"4601\",\"type\":\"Title\"},{\"attributes\":{\"ticks\":[0.5,1.5,2.5,3.5,4.5,5.5,6.5,7.5,8.5,9.5,10.5,11.5,12.5,13.5,14.5]},\"id\":\"4445\",\"type\":\"FixedTicker\"},{\"attributes\":{},\"id\":\"4605\",\"type\":\"UnionRenderers\"},{\"attributes\":{},\"id\":\"4432\",\"type\":\"LinearScale\"},{\"attributes\":{\"palette\":[\"#000000\",\"#252525\",\"#525252\",\"#737373\",\"#969696\",\"#bdbdbd\",\"#d9d9d9\",\"#f0f0f0\",\"#ffffff\"]},\"id\":\"4439\",\"type\":\"LinearColorMapper\"},{\"attributes\":{\"color_mapper\":{\"id\":\"4439\",\"type\":\"LinearColorMapper\"},\"dh\":{\"units\":\"data\",\"value\":17},\"dw\":{\"units\":\"data\",\"value\":15},\"image\":{\"field\":\"image\"},\"x\":{\"value\":0},\"y\":{\"value\":0}},\"id\":\"4438\",\"type\":\"Image\"},{\"attributes\":{},\"id\":\"4602\",\"type\":\"BasicTickFormatter\"},{\"attributes\":{\"palette\":[\"#000000\",\"#252525\",\"#525252\",\"#737373\",\"#969696\",\"#bdbdbd\",\"#d9d9d9\",\"#f0f0f0\",\"#ffffff\"]},\"id\":\"4441\",\"type\":\"LinearColorMapper\"},{\"attributes\":{\"color_mapper\":{\"id\":\"4441\",\"type\":\"LinearColorMapper\"},\"dh\":{\"units\":\"data\",\"value\":17},\"dw\":{\"units\":\"data\",\"value\":15},\"image\":{\"field\":\"image\"},\"x\":{\"value\":0},\"y\":{\"value\":0}},\"id\":\"4440\",\"type\":\"Image\"},{\"attributes\":{},\"id\":\"4604\",\"type\":\"Selection\"},{\"attributes\":{},\"id\":\"4603\",\"type\":\"BasicTickFormatter\"},{\"attributes\":{\"axis_label\":\"source tokens\",\"formatter\":{\"id\":\"4603\",\"type\":\"BasicTickFormatter\"},\"major_label_orientation\":45,\"major_label_overrides\":{\"0.5\":\"_BOS_\",\"1.5\":\"\\u043a\\u0440\\u043e\\u043c\\u0435\",\"10.5\":\"\\u0438\",\"11.5\":\"\\u0431\\u0435\\u0441\\u043f\\u043b\\u0430\\u0442\\u043d\\u0430\\u044f\",\"12.5\":\"\\u043f\\u0430\\u0440\\u043a\\u043e\\u0432\\u043a\\u0430\",\"13.5\":\".\",\"14.5\":\"_EOS_\",\"2.5\":\"\\u0442\\u043e\\u0433\\u043e\",\"3.5\":\",\",\"4.5\":\"\\u043f\\u0440\\u0435\\u0434\\u043e\\u0441\\u0442\\u0430\\u0432\\u043b\\u044f\\u0435\\u0442\\u0441\\u044f\",\"5.5\":\"\\u043f\\u0440\\u043e\\u043a\\u0430\\u0442\",\"6.5\":\"\\u0432\\u0435\\u043b\\u043e\\u0441\\u0438\\u043f\\u0435\\u0434\\u043e\\u0432\",\"7.5\":\",\",\"8.5\":\"\\u0443\\u0441\\u043b\\u0443\\u0433\\u0438\",\"9.5\":\"\\u0442\\u0440\\u0430\\u043d\\u0441\\u0444\\u0435\\u0440\\u0430\"},\"ticker\":{\"id\":\"4445\",\"type\":\"FixedTicker\"}},\"id\":\"4444\",\"type\":\"LinearAxis\"},{\"attributes\":{\"data_source\":{\"id\":\"4437\",\"type\":\"ColumnDataSource\"},\"glyph\":{\"id\":\"4438\",\"type\":\"Image\"},\"hover_glyph\":null,\"muted_glyph\":null,\"nonselection_glyph\":{\"id\":\"4440\",\"type\":\"Image\"},\"selection_glyph\":null,\"view\":{\"id\":\"4443\",\"type\":\"CDSView\"}},\"id\":\"4442\",\"type\":\"GlyphRenderer\"}],\"root_ids\":[\"4427\"]},\"title\":\"Bokeh Application\",\"version\":\"1.2.0\"}};\n",
       "  var render_items = [{\"docid\":\"31d04eb7-ad99-442a-af67-548c10552523\",\"roots\":{\"4427\":\"270fce0a-67e7-4837-9a43-e592005b6589\"}}];\n",
       "  root.Bokeh.embed.embed_items_notebook(docs_json, render_items);\n",
       "\n",
       "  }\n",
       "  if (root.Bokeh !== undefined) {\n",
       "    embed_document(root);\n",
       "  } else {\n",
       "    var attempts = 0;\n",
       "    var timer = setInterval(function(root) {\n",
       "      if (root.Bokeh !== undefined) {\n",
       "        embed_document(root);\n",
       "        clearInterval(timer);\n",
       "      }\n",
       "      attempts++;\n",
       "      if (attempts > 100) {\n",
       "        console.log(\"Bokeh: ERROR: Unable to run BokehJS code because BokehJS library is missing\");\n",
       "        clearInterval(timer);\n",
       "      }\n",
       "    }, 10, root)\n",
       "  }\n",
       "})(window);"
      ],
      "application/vnd.bokehjs_exec.v0+json": ""
     },
     "metadata": {
      "application/vnd.bokehjs_exec.v0+json": {
       "id": "4427"
      }
     },
     "output_type": "display_data"
    },
    {
     "data": {
      "text/html": [
       "\n",
       "\n",
       "\n",
       "\n",
       "\n",
       "\n",
       "  <div class=\"bk-root\" id=\"8a272685-d986-4c10-9dc6-71aca20222b5\" data-root-id=\"4642\"></div>\n"
      ]
     },
     "metadata": {},
     "output_type": "display_data"
    },
    {
     "data": {
      "application/javascript": [
       "(function(root) {\n",
       "  function embed_document(root) {\n",
       "    \n",
       "  var docs_json = {\"f8cb11d9-eb60-40bf-a05b-552bf50fb94d\":{\"roots\":{\"references\":[{\"attributes\":{\"above\":[{\"id\":\"4659\",\"type\":\"LinearAxis\"}],\"left\":[{\"id\":\"4662\",\"type\":\"LinearAxis\"}],\"renderers\":[{\"id\":\"4657\",\"type\":\"GlyphRenderer\"}],\"title\":{\"id\":\"4822\",\"type\":\"Title\"},\"toolbar\":{\"id\":\"4651\",\"type\":\"Toolbar\"},\"x_range\":{\"id\":\"4643\",\"type\":\"Range1d\"},\"x_scale\":{\"id\":\"4647\",\"type\":\"LinearScale\"},\"y_range\":{\"id\":\"4645\",\"type\":\"Range1d\"},\"y_scale\":{\"id\":\"4649\",\"type\":\"LinearScale\"}},\"id\":\"4642\",\"subtype\":\"Figure\",\"type\":\"Plot\"},{\"attributes\":{\"callback\":null,\"end\":13},\"id\":\"4643\",\"type\":\"Range1d\"},{\"attributes\":{},\"id\":\"4824\",\"type\":\"BasicTickFormatter\"},{\"attributes\":{},\"id\":\"4647\",\"type\":\"LinearScale\"},{\"attributes\":{},\"id\":\"4649\",\"type\":\"LinearScale\"},{\"attributes\":{},\"id\":\"4826\",\"type\":\"UnionRenderers\"},{\"attributes\":{\"active_drag\":\"auto\",\"active_inspect\":\"auto\",\"active_multi\":null,\"active_scroll\":\"auto\",\"active_tap\":\"auto\"},\"id\":\"4651\",\"type\":\"Toolbar\"},{\"attributes\":{\"color_mapper\":{\"id\":\"4654\",\"type\":\"LinearColorMapper\"},\"dh\":{\"units\":\"data\",\"value\":13},\"dw\":{\"units\":\"data\",\"value\":13},\"image\":{\"field\":\"image\"},\"x\":{\"value\":0},\"y\":{\"value\":0}},\"id\":\"4653\",\"type\":\"Image\"},{\"attributes\":{\"palette\":[\"#000000\",\"#252525\",\"#525252\",\"#737373\",\"#969696\",\"#bdbdbd\",\"#d9d9d9\",\"#f0f0f0\",\"#ffffff\"]},\"id\":\"4654\",\"type\":\"LinearColorMapper\"},{\"attributes\":{\"color_mapper\":{\"id\":\"4656\",\"type\":\"LinearColorMapper\"},\"dh\":{\"units\":\"data\",\"value\":13},\"dw\":{\"units\":\"data\",\"value\":13},\"image\":{\"field\":\"image\"},\"x\":{\"value\":0},\"y\":{\"value\":0}},\"id\":\"4655\",\"type\":\"Image\"},{\"attributes\":{\"ticks\":[0.5,1.5,2.5,3.5,4.5,5.5,6.5,7.5,8.5,9.5,10.5,11.5,12.5]},\"id\":\"4660\",\"type\":\"FixedTicker\"},{\"attributes\":{\"palette\":[\"#000000\",\"#252525\",\"#525252\",\"#737373\",\"#969696\",\"#bdbdbd\",\"#d9d9d9\",\"#f0f0f0\",\"#ffffff\"]},\"id\":\"4656\",\"type\":\"LinearColorMapper\"},{\"attributes\":{\"data_source\":{\"id\":\"4652\",\"type\":\"ColumnDataSource\"},\"glyph\":{\"id\":\"4653\",\"type\":\"Image\"},\"hover_glyph\":null,\"muted_glyph\":null,\"nonselection_glyph\":{\"id\":\"4655\",\"type\":\"Image\"},\"selection_glyph\":null,\"view\":{\"id\":\"4658\",\"type\":\"CDSView\"}},\"id\":\"4657\",\"type\":\"GlyphRenderer\"},{\"attributes\":{\"ticks\":[0.5,1.5,2.5,3.5,4.5,5.5,6.5,7.5,8.5,9.5,10.5,11.5,12.5]},\"id\":\"4663\",\"type\":\"FixedTicker\"},{\"attributes\":{\"callback\":null,\"data\":{\"image\":[{\"__ndarray__\":\"Qodzvt8/fr8q5F4/afV6P3q0f7/yIuK/dMZ6v2FcukC1ZIBAmfp/P001f7///3+/Q6IJv+BJEj8CRmq+1R1LPzJonT3eUnS/I66TwBzLf7+s1rpAeRCBQNeWdj+0x/a+GaZ9v5Vw/r4czn8/nANvPwoqfb+27H8/iNh/vx6UocC1Omq/SLi7QFaJgUAWhH6/BOV9P29qbj/Ljn+/R+R/P8YBbz+s6X+/ux5/PyJaf7+wLwHBM9Rgv9UgvECei4FAOrd9vxlGUT9/hn4/2Sxyv8lef7/5624/8/9/P4vueT+nH3+/hFgTwafmf79FvbxANqiBQPz/fz+f13+/AACAv8hYlz7x/3+/U7d3P+l4fz8CRn8/P8t/PxqVFsHaXXg/WGrWQGB4BEE5/38/MshQv2L/f7+9mX8/9P9/v6G/bT+3ZGQ/7Pl5Pwyf1L5ptRbBAACAPxeV10DmGCNBpB0MPwAAgL8LcXm/OPl/P7X8f79MXH0/YhW2Pezazb1jUOC88rsWwZb7fz9op9dACCIjQQAAgD8AAIC/KY07v816jb4cc3y/ndKKvmMuW7+GiDm/l6hlPzLBFsHt738/SwTcQAMnI0E8/38/9f9/vx7bZr///3+/iJruPd0drb44onq/VdU5v1HleL+WyRbB8LN+P71T5UASJyNBrnFvP9r/f7/r6y4/yf9/vy3DWD8ykpy+Bt93v1LeOb+SzH8/X9IWwQ+naj+2COhAVicjQe32Q79NWfy+Fk5/PzBVHT8iIwM/Arszv8jRXL+7VZO+GIyOPu0AGMG4pXw/1MfuQGguI0Gpkxo+ir95vzqBSz/6mwG+ZV26vhuC6j8JDlDAb3+CP6DOer8IBxjBYBHnv9rm/0DxYCVBSQaFQD5KQj90kdi/Mdtyvw==\",\"dtype\":\"float32\",\"shape\":[13,13]}]},\"selected\":{\"id\":\"4825\",\"type\":\"Selection\"},\"selection_policy\":{\"id\":\"4826\",\"type\":\"UnionRenderers\"}},\"id\":\"4652\",\"type\":\"ColumnDataSource\"},{\"attributes\":{},\"id\":\"4823\",\"type\":\"BasicTickFormatter\"},{\"attributes\":{\"axis_label\":\"translation tokens\",\"formatter\":{\"id\":\"4823\",\"type\":\"BasicTickFormatter\"},\"major_label_overrides\":{\"0.5\":\"_EOS_\",\"1.5\":\".\",\"10.5\":\"entes\",\"11.5\":\"corri@@\",\"12.5\":\"_BOS_\",\"2.5\":\"property\",\"3.5\":\"the\",\"4.5\":\"from\",\"5.5\":\"km\",\"6.5\":\"40\",\"7.5\":\"is\",\"8.5\":\"centre\",\"9.5\":\"town\"},\"ticker\":{\"id\":\"4663\",\"type\":\"FixedTicker\"}},\"id\":\"4662\",\"type\":\"LinearAxis\"},{\"attributes\":{},\"id\":\"4825\",\"type\":\"Selection\"},{\"attributes\":{\"text\":\"\"},\"id\":\"4822\",\"type\":\"Title\"},{\"attributes\":{\"axis_label\":\"source tokens\",\"formatter\":{\"id\":\"4824\",\"type\":\"BasicTickFormatter\"},\"major_label_orientation\":45,\"major_label_overrides\":{\"0.5\":\"_BOS_\",\"1.5\":\"\\u0440\\u0430\\u0441\\u0441\\u0442\\u043e\\u044f\\u043d\\u0438\\u0435\",\"10.5\":\"\\u043a\\u043c\",\"11.5\":\".\",\"12.5\":\"_EOS_\",\"2.5\":\"\\u0434\\u043e\",\"3.5\":\"\\u0433\\u043e\\u0440\\u043e\\u0434\\u0430\",\"4.5\":\"\\u043a\\u0438@@\",\"5.5\":\"\\u0441\\u0441\\u0438@@\",\"6.5\":\"\\u043c@@\",\"7.5\":\"\\u043c\\u0438\",\"8.5\":\"\\u0441\\u043e\\u0441\\u0442\\u0430\\u0432\\u043b\\u044f\\u0435\\u0442\",\"9.5\":\"26\"},\"ticker\":{\"id\":\"4660\",\"type\":\"FixedTicker\"}},\"id\":\"4659\",\"type\":\"LinearAxis\"},{\"attributes\":{\"callback\":null,\"end\":13},\"id\":\"4645\",\"type\":\"Range1d\"},{\"attributes\":{\"source\":{\"id\":\"4652\",\"type\":\"ColumnDataSource\"}},\"id\":\"4658\",\"type\":\"CDSView\"}],\"root_ids\":[\"4642\"]},\"title\":\"Bokeh Application\",\"version\":\"1.2.0\"}};\n",
       "  var render_items = [{\"docid\":\"f8cb11d9-eb60-40bf-a05b-552bf50fb94d\",\"roots\":{\"4642\":\"8a272685-d986-4c10-9dc6-71aca20222b5\"}}];\n",
       "  root.Bokeh.embed.embed_items_notebook(docs_json, render_items);\n",
       "\n",
       "  }\n",
       "  if (root.Bokeh !== undefined) {\n",
       "    embed_document(root);\n",
       "  } else {\n",
       "    var attempts = 0;\n",
       "    var timer = setInterval(function(root) {\n",
       "      if (root.Bokeh !== undefined) {\n",
       "        embed_document(root);\n",
       "        clearInterval(timer);\n",
       "      }\n",
       "      attempts++;\n",
       "      if (attempts > 100) {\n",
       "        console.log(\"Bokeh: ERROR: Unable to run BokehJS code because BokehJS library is missing\");\n",
       "        clearInterval(timer);\n",
       "      }\n",
       "    }, 10, root)\n",
       "  }\n",
       "})(window);"
      ],
      "application/vnd.bokehjs_exec.v0+json": ""
     },
     "metadata": {
      "application/vnd.bokehjs_exec.v0+json": {
       "id": "4642"
      }
     },
     "output_type": "display_data"
    },
    {
     "data": {
      "text/html": [
       "\n",
       "\n",
       "\n",
       "\n",
       "\n",
       "\n",
       "  <div class=\"bk-root\" id=\"9e571ff2-9e4b-4d05-a044-d573a3bd7a5c\" data-root-id=\"4863\"></div>\n"
      ]
     },
     "metadata": {},
     "output_type": "display_data"
    },
    {
     "data": {
      "application/javascript": [
       "(function(root) {\n",
       "  function embed_document(root) {\n",
       "    \n",
       "  var docs_json = {\"a39c2945-1ac8-472d-8803-06310d67be14\":{\"roots\":{\"references\":[{\"attributes\":{\"above\":[{\"id\":\"4880\",\"type\":\"LinearAxis\"}],\"left\":[{\"id\":\"4883\",\"type\":\"LinearAxis\"}],\"renderers\":[{\"id\":\"4878\",\"type\":\"GlyphRenderer\"}],\"title\":{\"id\":\"5049\",\"type\":\"Title\"},\"toolbar\":{\"id\":\"4872\",\"type\":\"Toolbar\"},\"x_range\":{\"id\":\"4864\",\"type\":\"Range1d\"},\"x_scale\":{\"id\":\"4868\",\"type\":\"LinearScale\"},\"y_range\":{\"id\":\"4866\",\"type\":\"Range1d\"},\"y_scale\":{\"id\":\"4870\",\"type\":\"LinearScale\"}},\"id\":\"4863\",\"subtype\":\"Figure\",\"type\":\"Plot\"},{\"attributes\":{},\"id\":\"5053\",\"type\":\"UnionRenderers\"},{\"attributes\":{\"text\":\"\"},\"id\":\"5049\",\"type\":\"Title\"},{\"attributes\":{\"color_mapper\":{\"id\":\"4877\",\"type\":\"LinearColorMapper\"},\"dh\":{\"units\":\"data\",\"value\":33},\"dw\":{\"units\":\"data\",\"value\":32},\"image\":{\"field\":\"image\"},\"x\":{\"value\":0},\"y\":{\"value\":0}},\"id\":\"4876\",\"type\":\"Image\"},{\"attributes\":{\"axis_label\":\"source tokens\",\"formatter\":{\"id\":\"5051\",\"type\":\"BasicTickFormatter\"},\"major_label_orientation\":45,\"major_label_overrides\":{\"0.5\":\"_BOS_\",\"1.5\":\"\\u0430\\u043f\\u0430\\u0440\\u0442\\u0430\\u043c\\u0435\\u043d\\u0442\\u044b\",\"10.5\":\"\\u0441\\u0430\\u0434\\u043e\\u043c\",\"11.5\":\",\",\"12.5\":\"\\u043a\\u043e\\u043d\\u0434\\u0438\\u0446\\u0438\\u043e\\u043d\\u0435\\u0440\\u043e\\u043c\",\"13.5\":\"\\u0438\",\"14.5\":\"\\u0442\\u0435\\u0440\\u0440\\u0430\\u0441\\u043e\\u0439\",\"15.5\":\"\\u0434\\u043b\\u044f\",\"16.5\":\"\\u0437\\u0430\\u0433\\u0430\\u0440\\u0430\",\"17.5\":\"\\u0440\\u0430\\u0441\\u043f\\u043e\\u043b\\u043e\\u0436\\u0435\\u043d\\u044b\",\"18.5\":\"\\u0432\",\"19.5\":\"5\",\"2.5\":\"\\u0432\",\"20.5\":\"\\u043c\\u0438\\u043d\\u0443\\u0442\\u0430\\u0445\",\"21.5\":\"\\u0445\\u043e\\u0434\\u044c\\u0431\\u044b\",\"22.5\":\"\\u043e\\u0442\",\"23.5\":\"\\u043f\\u043b\\u044f\\u0436\\u0430\",\"24.5\":\"\\u043d\\u0430\",\"25.5\":\"\\u043a\\u0443\\u0440\\u043e\\u0440\\u0442\\u0435\",\"26.5\":\"\\u043a\\u0430@@\",\"27.5\":\"\\u0431\\u043e\",\"28.5\":\"-\",\"29.5\":\"\\u0440\\u043e\\u0439\",\"3.5\":\"\\u043f\\u0435\\u043d\\u0442@@\",\"30.5\":\".\",\"31.5\":\"_EOS_\",\"4.5\":\"\\u0445\\u0430\\u0443\\u0441\\u0435\",\"5.5\":\"\\u0441\",\"6.5\":\"\\u043e\\u0431\\u0449\\u0438\\u043c\",\"7.5\":\"\\u043e\\u0442\\u043a\\u0440\\u044b\\u0442\\u044b\\u043c\",\"8.5\":\"\\u0431\\u0430\\u0441\\u0441\\u0435\\u0439\\u043d\\u043e\\u043c\",\"9.5\":\",\"},\"ticker\":{\"id\":\"4881\",\"type\":\"FixedTicker\"}},\"id\":\"4880\",\"type\":\"LinearAxis\"},{\"attributes\":{\"palette\":[\"#000000\",\"#252525\",\"#525252\",\"#737373\",\"#969696\",\"#bdbdbd\",\"#d9d9d9\",\"#f0f0f0\",\"#ffffff\"]},\"id\":\"4875\",\"type\":\"LinearColorMapper\"},{\"attributes\":{},\"id\":\"4868\",\"type\":\"LinearScale\"},{\"attributes\":{},\"id\":\"4870\",\"type\":\"LinearScale\"},{\"attributes\":{\"palette\":[\"#000000\",\"#252525\",\"#525252\",\"#737373\",\"#969696\",\"#bdbdbd\",\"#d9d9d9\",\"#f0f0f0\",\"#ffffff\"]},\"id\":\"4877\",\"type\":\"LinearColorMapper\"},{\"attributes\":{\"callback\":null,\"end\":32},\"id\":\"4864\",\"type\":\"Range1d\"},{\"attributes\":{\"color_mapper\":{\"id\":\"4875\",\"type\":\"LinearColorMapper\"},\"dh\":{\"units\":\"data\",\"value\":33},\"dw\":{\"units\":\"data\",\"value\":32},\"image\":{\"field\":\"image\"},\"x\":{\"value\":0},\"y\":{\"value\":0}},\"id\":\"4874\",\"type\":\"Image\"},{\"attributes\":{\"callback\":null,\"data\":{\"image\":[{\"__ndarray__\":\"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\",\"dtype\":\"float32\",\"shape\":[33,32]}]},\"selected\":{\"id\":\"5052\",\"type\":\"Selection\"},\"selection_policy\":{\"id\":\"5053\",\"type\":\"UnionRenderers\"}},\"id\":\"4873\",\"type\":\"ColumnDataSource\"},{\"attributes\":{\"ticks\":[0.5,1.5,2.5,3.5,4.5,5.5,6.5,7.5,8.5,9.5,10.5,11.5,12.5,13.5,14.5,15.5,16.5,17.5,18.5,19.5,20.5,21.5,22.5,23.5,24.5,25.5,26.5,27.5,28.5,29.5,30.5,31.5]},\"id\":\"4881\",\"type\":\"FixedTicker\"},{\"attributes\":{\"callback\":null,\"end\":33},\"id\":\"4866\",\"type\":\"Range1d\"},{\"attributes\":{},\"id\":\"5052\",\"type\":\"Selection\"},{\"attributes\":{},\"id\":\"5051\",\"type\":\"BasicTickFormatter\"},{\"attributes\":{},\"id\":\"5050\",\"type\":\"BasicTickFormatter\"},{\"attributes\":{\"axis_label\":\"translation tokens\",\"formatter\":{\"id\":\"5050\",\"type\":\"BasicTickFormatter\"},\"major_label_overrides\":{\"0.5\":\"_EOS_\",\"1.5\":\".\",\"10.5\":\"garden\",\"11.5\":\"a\",\"12.5\":\"offers\",\"13.5\":\"property\",\"14.5\":\"the\",\"15.5\":\",\",\"16.5\":\"beach\",\"17.5\":\"the\",\"18.5\":\"from\",\"19.5\":\"walk\",\"2.5\":\"terrace\",\"20.5\":\"minute\",\"21.5\":\"-\",\"22.5\":\"15\",\"23.5\":\"a\",\"24.5\":\"just\",\"25.5\":\",\",\"26.5\":\"alghero\",\"27.5\":\"of\",\"28.5\":\"centre\",\"29.5\":\"the\",\"3.5\":\"sun\",\"30.5\":\"in\",\"31.5\":\"located\",\"32.5\":\"_BOS_\",\"4.5\":\"a\",\"5.5\":\"and\",\"6.5\":\"terrace\",\"7.5\":\"sun\",\"8.5\":\"a\",\"9.5\":\"with\"},\"ticker\":{\"id\":\"4884\",\"type\":\"FixedTicker\"}},\"id\":\"4883\",\"type\":\"LinearAxis\"},{\"attributes\":{\"ticks\":[0.5,1.5,2.5,3.5,4.5,5.5,6.5,7.5,8.5,9.5,10.5,11.5,12.5,13.5,14.5,15.5,16.5,17.5,18.5,19.5,20.5,21.5,22.5,23.5,24.5,25.5,26.5,27.5,28.5,29.5,30.5,31.5,32.5]},\"id\":\"4884\",\"type\":\"FixedTicker\"},{\"attributes\":{\"data_source\":{\"id\":\"4873\",\"type\":\"ColumnDataSource\"},\"glyph\":{\"id\":\"4874\",\"type\":\"Image\"},\"hover_glyph\":null,\"muted_glyph\":null,\"nonselection_glyph\":{\"id\":\"4876\",\"type\":\"Image\"},\"selection_glyph\":null,\"view\":{\"id\":\"4879\",\"type\":\"CDSView\"}},\"id\":\"4878\",\"type\":\"GlyphRenderer\"},{\"attributes\":{\"active_drag\":\"auto\",\"active_inspect\":\"auto\",\"active_multi\":null,\"active_scroll\":\"auto\",\"active_tap\":\"auto\"},\"id\":\"4872\",\"type\":\"Toolbar\"},{\"attributes\":{\"source\":{\"id\":\"4873\",\"type\":\"ColumnDataSource\"}},\"id\":\"4879\",\"type\":\"CDSView\"}],\"root_ids\":[\"4863\"]},\"title\":\"Bokeh Application\",\"version\":\"1.2.0\"}};\n",
       "  var render_items = [{\"docid\":\"a39c2945-1ac8-472d-8803-06310d67be14\",\"roots\":{\"4863\":\"9e571ff2-9e4b-4d05-a044-d573a3bd7a5c\"}}];\n",
       "  root.Bokeh.embed.embed_items_notebook(docs_json, render_items);\n",
       "\n",
       "  }\n",
       "  if (root.Bokeh !== undefined) {\n",
       "    embed_document(root);\n",
       "  } else {\n",
       "    var attempts = 0;\n",
       "    var timer = setInterval(function(root) {\n",
       "      if (root.Bokeh !== undefined) {\n",
       "        embed_document(root);\n",
       "        clearInterval(timer);\n",
       "      }\n",
       "      attempts++;\n",
       "      if (attempts > 100) {\n",
       "        console.log(\"Bokeh: ERROR: Unable to run BokehJS code because BokehJS library is missing\");\n",
       "        clearInterval(timer);\n",
       "      }\n",
       "    }, 10, root)\n",
       "  }\n",
       "})(window);"
      ],
      "application/vnd.bokehjs_exec.v0+json": ""
     },
     "metadata": {
      "application/vnd.bokehjs_exec.v0+json": {
       "id": "4863"
      }
     },
     "output_type": "display_data"
    },
    {
     "data": {
      "text/html": [
       "\n",
       "\n",
       "\n",
       "\n",
       "\n",
       "\n",
       "  <div class=\"bk-root\" id=\"7bfc76d1-385a-4ae9-9d98-39a6c00c5c0e\" data-root-id=\"5090\"></div>\n"
      ]
     },
     "metadata": {},
     "output_type": "display_data"
    },
    {
     "data": {
      "application/javascript": [
       "(function(root) {\n",
       "  function embed_document(root) {\n",
       "    \n",
       "  var docs_json = {\"67a19ea7-640d-4696-88fd-48fd4851a626\":{\"roots\":{\"references\":[{\"attributes\":{\"above\":[{\"id\":\"5107\",\"type\":\"LinearAxis\"}],\"left\":[{\"id\":\"5110\",\"type\":\"LinearAxis\"}],\"renderers\":[{\"id\":\"5105\",\"type\":\"GlyphRenderer\"}],\"title\":{\"id\":\"5282\",\"type\":\"Title\"},\"toolbar\":{\"id\":\"5099\",\"type\":\"Toolbar\"},\"x_range\":{\"id\":\"5091\",\"type\":\"Range1d\"},\"x_scale\":{\"id\":\"5095\",\"type\":\"LinearScale\"},\"y_range\":{\"id\":\"5093\",\"type\":\"Range1d\"},\"y_scale\":{\"id\":\"5097\",\"type\":\"LinearScale\"}},\"id\":\"5090\",\"subtype\":\"Figure\",\"type\":\"Plot\"},{\"attributes\":{},\"id\":\"5286\",\"type\":\"UnionRenderers\"},{\"attributes\":{\"callback\":null,\"data\":{\"image\":[{\"__ndarray__\":\"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\",\"dtype\":\"float32\",\"shape\":[30,23]}]},\"selected\":{\"id\":\"5285\",\"type\":\"Selection\"},\"selection_policy\":{\"id\":\"5286\",\"type\":\"UnionRenderers\"}},\"id\":\"5100\",\"type\":\"ColumnDataSource\"},{\"attributes\":{\"callback\":null,\"end\":23},\"id\":\"5091\",\"type\":\"Range1d\"},{\"attributes\":{\"ticks\":[0.5,1.5,2.5,3.5,4.5,5.5,6.5,7.5,8.5,9.5,10.5,11.5,12.5,13.5,14.5,15.5,16.5,17.5,18.5,19.5,20.5,21.5,22.5]},\"id\":\"5108\",\"type\":\"FixedTicker\"},{\"attributes\":{\"callback\":null,\"end\":30},\"id\":\"5093\",\"type\":\"Range1d\"},{\"attributes\":{\"ticks\":[0.5,1.5,2.5,3.5,4.5,5.5,6.5,7.5,8.5,9.5,10.5,11.5,12.5,13.5,14.5,15.5,16.5,17.5,18.5,19.5,20.5,21.5,22.5,23.5,24.5,25.5,26.5,27.5,28.5,29.5]},\"id\":\"5111\",\"type\":\"FixedTicker\"},{\"attributes\":{},\"id\":\"5095\",\"type\":\"LinearScale\"},{\"attributes\":{\"color_mapper\":{\"id\":\"5102\",\"type\":\"LinearColorMapper\"},\"dh\":{\"units\":\"data\",\"value\":30},\"dw\":{\"units\":\"data\",\"value\":23},\"image\":{\"field\":\"image\"},\"x\":{\"value\":0},\"y\":{\"value\":0}},\"id\":\"5101\",\"type\":\"Image\"},{\"attributes\":{},\"id\":\"5285\",\"type\":\"Selection\"},{\"attributes\":{},\"id\":\"5097\",\"type\":\"LinearScale\"},{\"attributes\":{\"data_source\":{\"id\":\"5100\",\"type\":\"ColumnDataSource\"},\"glyph\":{\"id\":\"5101\",\"type\":\"Image\"},\"hover_glyph\":null,\"muted_glyph\":null,\"nonselection_glyph\":{\"id\":\"5103\",\"type\":\"Image\"},\"selection_glyph\":null,\"view\":{\"id\":\"5106\",\"type\":\"CDSView\"}},\"id\":\"5105\",\"type\":\"GlyphRenderer\"},{\"attributes\":{\"text\":\"\"},\"id\":\"5282\",\"type\":\"Title\"},{\"attributes\":{\"active_drag\":\"auto\",\"active_inspect\":\"auto\",\"active_multi\":null,\"active_scroll\":\"auto\",\"active_tap\":\"auto\"},\"id\":\"5099\",\"type\":\"Toolbar\"},{\"attributes\":{\"palette\":[\"#000000\",\"#252525\",\"#525252\",\"#737373\",\"#969696\",\"#bdbdbd\",\"#d9d9d9\",\"#f0f0f0\",\"#ffffff\"]},\"id\":\"5104\",\"type\":\"LinearColorMapper\"},{\"attributes\":{\"source\":{\"id\":\"5100\",\"type\":\"ColumnDataSource\"}},\"id\":\"5106\",\"type\":\"CDSView\"},{\"attributes\":{\"color_mapper\":{\"id\":\"5104\",\"type\":\"LinearColorMapper\"},\"dh\":{\"units\":\"data\",\"value\":30},\"dw\":{\"units\":\"data\",\"value\":23},\"image\":{\"field\":\"image\"},\"x\":{\"value\":0},\"y\":{\"value\":0}},\"id\":\"5103\",\"type\":\"Image\"},{\"attributes\":{\"palette\":[\"#000000\",\"#252525\",\"#525252\",\"#737373\",\"#969696\",\"#bdbdbd\",\"#d9d9d9\",\"#f0f0f0\",\"#ffffff\"]},\"id\":\"5102\",\"type\":\"LinearColorMapper\"},{\"attributes\":{\"axis_label\":\"source tokens\",\"formatter\":{\"id\":\"5284\",\"type\":\"BasicTickFormatter\"},\"major_label_orientation\":45,\"major_label_overrides\":{\"0.5\":\"_BOS_\",\"1.5\":\"\\u0430\\u043f\\u0430\\u0440\\u0442\\u0430\\u043c\\u0435\\u043d\\u0442\\u044b\",\"10.5\":\"square\",\"11.5\":\"\\u043d\\u0430\\u0445\\u043e\\u0434\\u044f\\u0442\\u0441\\u044f\",\"12.5\":\"\\u0432\",\"13.5\":\"\\u043c\\u043e\\u0441\\u043a\\u0432\\u0435\",\"14.5\":\",\",\"15.5\":\"\\u0432\",\"16.5\":\"200\",\"17.5\":\"\\u043c\\u0435\\u0442\\u0440\\u0430\\u0445\",\"18.5\":\"\\u043e\\u0442\",\"19.5\":\"\\u0431\\u043e\\u043b\\u044c\\u0448\\u043e\\u0433\\u043e\",\"2.5\":\"mo@@\",\"20.5\":\"\\u0442\\u0435\\u0430\\u0442\\u0440\\u0430\",\"21.5\":\".\",\"22.5\":\"_EOS_\",\"3.5\":\"s@@\",\"4.5\":\"co@@\",\"5.5\":\"w\",\"6.5\":\"point\",\"7.5\":\"-\",\"8.5\":\"loft\",\"9.5\":\"red\"},\"ticker\":{\"id\":\"5108\",\"type\":\"FixedTicker\"}},\"id\":\"5107\",\"type\":\"LinearAxis\"},{\"attributes\":{\"axis_label\":\"translation tokens\",\"formatter\":{\"id\":\"5283\",\"type\":\"BasicTickFormatter\"},\"major_label_overrides\":{\"0.5\":\"_EOS_\",\"1.5\":\".\",\"10.5\":\"from\",\"11.5\":\"km\",\"12.5\":\"5\",\"13.5\":\".\",\"14.5\":\"1\",\"15.5\":\",\",\"16.5\":\"tallinn\",\"17.5\":\"in\",\"18.5\":\"accommodation\",\"19.5\":\"offers\",\"2.5\":\"blood\",\"20.5\":\"apartments\",\"21.5\":\"style\",\"22.5\":\"-\",\"23.5\":\"skaya\",\"24.5\":\"emil@@\",\"25.5\":\"-\",\"26.5\":\"saint\",\"27.5\":\"in\",\"28.5\":\"apartment\",\"29.5\":\"_BOS_\",\"3.5\":\"spilled\",\"4.5\":\"on\",\"5.5\":\"savior\",\"6.5\":\"the\",\"7.5\":\"of\",\"8.5\":\"centre\",\"9.5\":\"the\"},\"ticker\":{\"id\":\"5111\",\"type\":\"FixedTicker\"}},\"id\":\"5110\",\"type\":\"LinearAxis\"},{\"attributes\":{},\"id\":\"5283\",\"type\":\"BasicTickFormatter\"},{\"attributes\":{},\"id\":\"5284\",\"type\":\"BasicTickFormatter\"}],\"root_ids\":[\"5090\"]},\"title\":\"Bokeh Application\",\"version\":\"1.2.0\"}};\n",
       "  var render_items = [{\"docid\":\"67a19ea7-640d-4696-88fd-48fd4851a626\",\"roots\":{\"5090\":\"7bfc76d1-385a-4ae9-9d98-39a6c00c5c0e\"}}];\n",
       "  root.Bokeh.embed.embed_items_notebook(docs_json, render_items);\n",
       "\n",
       "  }\n",
       "  if (root.Bokeh !== undefined) {\n",
       "    embed_document(root);\n",
       "  } else {\n",
       "    var attempts = 0;\n",
       "    var timer = setInterval(function(root) {\n",
       "      if (root.Bokeh !== undefined) {\n",
       "        embed_document(root);\n",
       "        clearInterval(timer);\n",
       "      }\n",
       "      attempts++;\n",
       "      if (attempts > 100) {\n",
       "        console.log(\"Bokeh: ERROR: Unable to run BokehJS code because BokehJS library is missing\");\n",
       "        clearInterval(timer);\n",
       "      }\n",
       "    }, 10, root)\n",
       "  }\n",
       "})(window);"
      ],
      "application/vnd.bokehjs_exec.v0+json": ""
     },
     "metadata": {
      "application/vnd.bokehjs_exec.v0+json": {
       "id": "5090"
      }
     },
     "output_type": "display_data"
    }
   ],
   "source": [
    "for i in range(5):\n",
    "    draw_attention(inp[i], trans[i], attention_probs[i])\n",
    "    \n",
    "# Does it look fine already? don't forget to save images for anytask!"
   ]
  },
  {
   "cell_type": "markdown",
   "metadata": {
    "colab_type": "text",
    "id": "pbIIngNVlrtt"
   },
   "source": [
    "## Grand Finale (2+ points each)\n",
    "\n",
    "We want you to find the best model for the task. Use everything you know.\n",
    "\n",
    "* different recurrent units: rnn/gru/lstm; deeper architectures\n",
    "* bidirectional encoder, different attention methods for decoder\n",
    "* word dropout, training schedules, anything you can imagine\n",
    "\n",
    "For a full grade we want you to conduct at least one experiment from one of the bullet-points or your alternative ideas. Extra work will be rewarded with bonus points :)\n",
    "\n",
    "As usual, we want you to describe what you tried and what results you obtained."
   ]
  },
  {
   "cell_type": "markdown",
   "metadata": {
    "colab_type": "text",
    "id": "2rzAj_xtlrtt"
   },
   "source": [
    "`[your report/log here or anywhere you please]`"
   ]
  }
 ],
 "metadata": {
  "file_extension": ".py",
  "kernelspec": {
   "display_name": "Python 3",
   "language": "python",
   "name": "python3"
  },
  "language_info": {
   "codemirror_mode": {
    "name": "ipython",
    "version": 3
   },
   "file_extension": ".py",
   "mimetype": "text/x-python",
   "name": "python",
   "nbconvert_exporter": "python",
   "pygments_lexer": "ipython3",
   "version": "3.7.3"
  },
  "mimetype": "text/x-python",
  "name": "python",
  "npconvert_exporter": "python",
  "pygments_lexer": "ipython3",
  "version": 3
 },
 "nbformat": 4,
 "nbformat_minor": 4
}
